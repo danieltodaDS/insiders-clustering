{
 "cells": [
  {
   "cell_type": "markdown",
   "id": "1e0d345c",
   "metadata": {
    "papermill": {
     "duration": 0.055902,
     "end_time": "2023-03-01T23:22:47.512405",
     "exception": false,
     "start_time": "2023-03-01T23:22:47.456503",
     "status": "completed"
    },
    "tags": []
   },
   "source": [
    " **PA005: High Value Customers Identification (Insiders)**"
   ]
  },
  {
   "cell_type": "markdown",
   "id": "b56ba9f9",
   "metadata": {
    "papermill": {
     "duration": 0.025548,
     "end_time": "2023-03-01T23:22:47.560147",
     "exception": false,
     "start_time": "2023-03-01T23:22:47.534599",
     "status": "completed"
    },
    "tags": []
   },
   "source": [
    "# IMPORTS"
   ]
  },
  {
   "cell_type": "code",
   "execution_count": 1,
   "id": "2d234e41",
   "metadata": {
    "ExecuteTime": {
     "end_time": "2023-03-01T20:37:09.974045Z",
     "start_time": "2023-03-01T20:37:00.747060Z"
    },
    "execution": {
     "iopub.execute_input": "2023-03-01T23:22:47.609418Z",
     "iopub.status.busy": "2023-03-01T23:22:47.609115Z",
     "iopub.status.idle": "2023-03-01T23:22:55.785240Z",
     "shell.execute_reply": "2023-03-01T23:22:55.784378Z"
    },
    "papermill": {
     "duration": 8.198906,
     "end_time": "2023-03-01T23:22:55.787658",
     "exception": false,
     "start_time": "2023-03-01T23:22:47.588752",
     "status": "completed"
    },
    "tags": []
   },
   "outputs": [
    {
     "name": "stderr",
     "output_type": "stream",
     "text": [
      "/home/daniel/miniconda3/envs/ds_em_clusterizacao/lib/python3.10/site-packages/tqdm/auto.py:22: TqdmWarning: IProgress not found. Please update jupyter and ipywidgets. See https://ipywidgets.readthedocs.io/en/stable/user_install.html\n",
      "  from .autonotebook import tqdm as notebook_tqdm\n"
     ]
    }
   ],
   "source": [
    "import re\n",
    "\n",
    "import pandas as pd\n",
    "import seaborn as sns\n",
    "import numpy as np\n",
    "import umap.umap_ as umap\n",
    "\n",
    "from plotly              import express       as px \n",
    "from sklearn             import cluster       as c \n",
    "from sklearn             import metrics       as m\n",
    "from sklearn             import preprocessing as pp\n",
    "from sklearn             import decomposition as dd\n",
    "from sklearn             import ensemble      as en\n",
    "from matplotlib          import pyplot        as plt \n",
    "from sklearn.manifold    import TSNE\n",
    "from sklearn             import manifold      as mn\n",
    "from sklearn             import mixture       as mx\n",
    "from sklearn.neighbors   import NearestNeighbors\n",
    "from scipy.cluster       import hierarchy     as hc\n",
    "        "
   ]
  },
  {
   "cell_type": "markdown",
   "id": "f412a646",
   "metadata": {
    "ExecuteTime": {
     "end_time": "2023-02-02T21:25:42.928537Z",
     "start_time": "2023-02-02T21:25:42.926142Z"
    },
    "papermill": {
     "duration": 0.024342,
     "end_time": "2023-03-01T23:22:55.841229",
     "exception": false,
     "start_time": "2023-03-01T23:22:55.816887",
     "status": "completed"
    },
    "tags": []
   },
   "source": [
    "## Load data"
   ]
  },
  {
   "cell_type": "code",
   "execution_count": 2,
   "id": "bad0a99e",
   "metadata": {
    "ExecuteTime": {
     "end_time": "2023-03-01T20:37:16.302505Z",
     "start_time": "2023-03-01T20:37:14.214674Z"
    },
    "execution": {
     "iopub.execute_input": "2023-03-01T23:22:55.885950Z",
     "iopub.status.busy": "2023-03-01T23:22:55.885425Z",
     "iopub.status.idle": "2023-03-01T23:22:56.758388Z",
     "shell.execute_reply": "2023-03-01T23:22:56.757645Z"
    },
    "papermill": {
     "duration": 0.899231,
     "end_time": "2023-03-01T23:22:56.760469",
     "exception": false,
     "start_time": "2023-03-01T23:22:55.861238",
     "status": "completed"
    },
    "tags": []
   },
   "outputs": [],
   "source": [
    "path = '/home/daniel/repos/ds_em_clusterizacao/pa005_insiders_clustering/data/raw/ecommerce.csv'\n",
    "\n",
    "df_raw = pd.read_csv (path)"
   ]
  },
  {
   "cell_type": "markdown",
   "id": "a92da99c",
   "metadata": {
    "papermill": {
     "duration": 0.127729,
     "end_time": "2023-03-01T23:22:57.230326",
     "exception": false,
     "start_time": "2023-03-01T23:22:57.102597",
     "status": "completed"
    },
    "tags": []
   },
   "source": [
    "## Data Cleaning"
   ]
  },
  {
   "cell_type": "code",
   "execution_count": 3,
   "id": "ad46ba28",
   "metadata": {
    "ExecuteTime": {
     "end_time": "2023-03-01T20:37:17.493652Z",
     "start_time": "2023-03-01T20:37:17.424251Z"
    },
    "execution": {
     "iopub.execute_input": "2023-03-01T23:22:57.507963Z",
     "iopub.status.busy": "2023-03-01T23:22:57.506988Z",
     "iopub.status.idle": "2023-03-01T23:22:57.595940Z",
     "shell.execute_reply": "2023-03-01T23:22:57.594886Z"
    },
    "papermill": {
     "duration": 0.231165,
     "end_time": "2023-03-01T23:22:57.598606",
     "exception": false,
     "start_time": "2023-03-01T23:22:57.367441",
     "status": "completed"
    },
    "tags": []
   },
   "outputs": [],
   "source": [
    "df = df_raw.copy()\n",
    "\n",
    "df = df.drop(columns=['Unnamed: 8'], axis=1)"
   ]
  },
  {
   "cell_type": "code",
   "execution_count": 4,
   "id": "697863ba",
   "metadata": {
    "ExecuteTime": {
     "end_time": "2023-03-01T20:37:18.150238Z",
     "start_time": "2023-03-01T20:37:18.131218Z"
    },
    "execution": {
     "iopub.execute_input": "2023-03-01T23:22:58.016508Z",
     "iopub.status.busy": "2023-03-01T23:22:58.016112Z",
     "iopub.status.idle": "2023-03-01T23:22:58.043968Z",
     "shell.execute_reply": "2023-03-01T23:22:58.043199Z"
    },
    "papermill": {
     "duration": 0.160909,
     "end_time": "2023-03-01T23:22:58.046037",
     "exception": false,
     "start_time": "2023-03-01T23:22:57.885128",
     "status": "completed"
    },
    "tags": []
   },
   "outputs": [
    {
     "data": {
      "text/html": [
       "<div>\n",
       "<style scoped>\n",
       "    .dataframe tbody tr th:only-of-type {\n",
       "        vertical-align: middle;\n",
       "    }\n",
       "\n",
       "    .dataframe tbody tr th {\n",
       "        vertical-align: top;\n",
       "    }\n",
       "\n",
       "    .dataframe thead th {\n",
       "        text-align: right;\n",
       "    }\n",
       "</style>\n",
       "<table border=\"1\" class=\"dataframe\">\n",
       "  <thead>\n",
       "    <tr style=\"text-align: right;\">\n",
       "      <th></th>\n",
       "      <th>InvoiceNo</th>\n",
       "      <th>StockCode</th>\n",
       "      <th>Description</th>\n",
       "      <th>Quantity</th>\n",
       "      <th>InvoiceDate</th>\n",
       "      <th>UnitPrice</th>\n",
       "      <th>CustomerID</th>\n",
       "      <th>Country</th>\n",
       "    </tr>\n",
       "  </thead>\n",
       "  <tbody>\n",
       "    <tr>\n",
       "      <th>0</th>\n",
       "      <td>536365</td>\n",
       "      <td>85123A</td>\n",
       "      <td>WHITE HANGING HEART T-LIGHT HOLDER</td>\n",
       "      <td>6</td>\n",
       "      <td>29-Nov-16</td>\n",
       "      <td>2.55</td>\n",
       "      <td>17850.0</td>\n",
       "      <td>United Kingdom</td>\n",
       "    </tr>\n",
       "    <tr>\n",
       "      <th>1</th>\n",
       "      <td>536365</td>\n",
       "      <td>71053</td>\n",
       "      <td>WHITE METAL LANTERN</td>\n",
       "      <td>6</td>\n",
       "      <td>29-Nov-16</td>\n",
       "      <td>3.39</td>\n",
       "      <td>17850.0</td>\n",
       "      <td>United Kingdom</td>\n",
       "    </tr>\n",
       "    <tr>\n",
       "      <th>2</th>\n",
       "      <td>536365</td>\n",
       "      <td>84406B</td>\n",
       "      <td>CREAM CUPID HEARTS COAT HANGER</td>\n",
       "      <td>8</td>\n",
       "      <td>29-Nov-16</td>\n",
       "      <td>2.75</td>\n",
       "      <td>17850.0</td>\n",
       "      <td>United Kingdom</td>\n",
       "    </tr>\n",
       "    <tr>\n",
       "      <th>3</th>\n",
       "      <td>536365</td>\n",
       "      <td>84029G</td>\n",
       "      <td>KNITTED UNION FLAG HOT WATER BOTTLE</td>\n",
       "      <td>6</td>\n",
       "      <td>29-Nov-16</td>\n",
       "      <td>3.39</td>\n",
       "      <td>17850.0</td>\n",
       "      <td>United Kingdom</td>\n",
       "    </tr>\n",
       "    <tr>\n",
       "      <th>4</th>\n",
       "      <td>536365</td>\n",
       "      <td>84029E</td>\n",
       "      <td>RED WOOLLY HOTTIE WHITE HEART.</td>\n",
       "      <td>6</td>\n",
       "      <td>29-Nov-16</td>\n",
       "      <td>3.39</td>\n",
       "      <td>17850.0</td>\n",
       "      <td>United Kingdom</td>\n",
       "    </tr>\n",
       "  </tbody>\n",
       "</table>\n",
       "</div>"
      ],
      "text/plain": [
       "  InvoiceNo StockCode                          Description  Quantity  \\\n",
       "0    536365    85123A   WHITE HANGING HEART T-LIGHT HOLDER         6   \n",
       "1    536365     71053                  WHITE METAL LANTERN         6   \n",
       "2    536365    84406B       CREAM CUPID HEARTS COAT HANGER         8   \n",
       "3    536365    84029G  KNITTED UNION FLAG HOT WATER BOTTLE         6   \n",
       "4    536365    84029E       RED WOOLLY HOTTIE WHITE HEART.         6   \n",
       "\n",
       "  InvoiceDate  UnitPrice  CustomerID         Country  \n",
       "0   29-Nov-16       2.55     17850.0  United Kingdom  \n",
       "1   29-Nov-16       3.39     17850.0  United Kingdom  \n",
       "2   29-Nov-16       2.75     17850.0  United Kingdom  \n",
       "3   29-Nov-16       3.39     17850.0  United Kingdom  \n",
       "4   29-Nov-16       3.39     17850.0  United Kingdom  "
      ]
     },
     "execution_count": 4,
     "metadata": {},
     "output_type": "execute_result"
    }
   ],
   "source": [
    "\n",
    "df.head()"
   ]
  },
  {
   "cell_type": "markdown",
   "id": "7cadc5a3",
   "metadata": {
    "ExecuteTime": {
     "end_time": "2023-02-02T17:44:43.119903Z",
     "start_time": "2023-02-02T17:44:43.116700Z"
    },
    "papermill": {
     "duration": 0.100866,
     "end_time": "2023-03-01T23:22:58.228984",
     "exception": false,
     "start_time": "2023-03-01T23:22:58.128118",
     "status": "completed"
    },
    "tags": []
   },
   "source": [
    "# <span style=\"color: OrangeRed;\">DATA DESCRIPTION</span>\n",
    "<span style=\"color: OrangeRed;\">***PASSO 1***</span>"
   ]
  },
  {
   "cell_type": "code",
   "execution_count": 5,
   "id": "baa48595",
   "metadata": {
    "ExecuteTime": {
     "end_time": "2023-03-01T20:37:19.407423Z",
     "start_time": "2023-03-01T20:37:19.389955Z"
    },
    "execution": {
     "iopub.execute_input": "2023-03-01T23:22:58.380371Z",
     "iopub.status.busy": "2023-03-01T23:22:58.379845Z",
     "iopub.status.idle": "2023-03-01T23:22:58.398934Z",
     "shell.execute_reply": "2023-03-01T23:22:58.398110Z"
    },
    "papermill": {
     "duration": 0.116001,
     "end_time": "2023-03-01T23:22:58.400696",
     "exception": false,
     "start_time": "2023-03-01T23:22:58.284695",
     "status": "completed"
    },
    "tags": []
   },
   "outputs": [],
   "source": [
    "df1 = df.copy()"
   ]
  },
  {
   "cell_type": "markdown",
   "id": "661b98a9",
   "metadata": {
    "papermill": {
     "duration": 0.270661,
     "end_time": "2023-03-01T23:22:58.732192",
     "exception": false,
     "start_time": "2023-03-01T23:22:58.461531",
     "status": "completed"
    },
    "tags": []
   },
   "source": [
    "## Columns Description"
   ]
  },
  {
   "cell_type": "markdown",
   "id": "3e8c7231",
   "metadata": {
    "papermill": {
     "duration": 0.04508,
     "end_time": "2023-03-01T23:22:58.830585",
     "exception": false,
     "start_time": "2023-03-01T23:22:58.785505",
     "status": "completed"
    },
    "tags": []
   },
   "source": [
    "|column|description|\n",
    "|:-----|:---------|\n",
    "|invoice_no|identificador de uma compra realizada no ecommerce|\n",
    "|stock_code|identificador unico do produto comprado|\n",
    "|description|descricao do produto|\n",
    "|quantity|quantidade|\n",
    "|invoice_date|data da compra|\n",
    "|unit_price|preço unitario do produto|\n",
    "|customer_id|identificador do comprador|\n",
    "|country|pais do comprador|"
   ]
  },
  {
   "cell_type": "markdown",
   "id": "f731ec13",
   "metadata": {
    "code_folding": [],
    "papermill": {
     "duration": 0.083598,
     "end_time": "2023-03-01T23:22:58.969747",
     "exception": false,
     "start_time": "2023-03-01T23:22:58.886149",
     "status": "completed"
    },
    "tags": []
   },
   "source": [
    "## Rename Columns"
   ]
  },
  {
   "cell_type": "code",
   "execution_count": 6,
   "id": "b2d3c697",
   "metadata": {
    "ExecuteTime": {
     "end_time": "2023-03-01T20:37:21.301721Z",
     "start_time": "2023-03-01T20:37:21.296724Z"
    },
    "execution": {
     "iopub.execute_input": "2023-03-01T23:22:59.092077Z",
     "iopub.status.busy": "2023-03-01T23:22:59.091669Z",
     "iopub.status.idle": "2023-03-01T23:22:59.096222Z",
     "shell.execute_reply": "2023-03-01T23:22:59.095471Z"
    },
    "papermill": {
     "duration": 0.067951,
     "end_time": "2023-03-01T23:22:59.098457",
     "exception": false,
     "start_time": "2023-03-01T23:22:59.030506",
     "status": "completed"
    },
    "tags": []
   },
   "outputs": [],
   "source": [
    "new_columns = ['invoice_no', 'stock_code', 'description', 'quantity', 'invoice_date',\n",
    "       'unit_price', 'customer_id', 'country']\n",
    "\n",
    "df1.columns = new_columns"
   ]
  },
  {
   "cell_type": "markdown",
   "id": "f46c758a",
   "metadata": {
    "papermill": {
     "duration": 0.046229,
     "end_time": "2023-03-01T23:22:59.382837",
     "exception": false,
     "start_time": "2023-03-01T23:22:59.336608",
     "status": "completed"
    },
    "tags": []
   },
   "source": [
    "## Data Dimensions"
   ]
  },
  {
   "cell_type": "code",
   "execution_count": 7,
   "id": "f6e074ea",
   "metadata": {
    "ExecuteTime": {
     "end_time": "2023-03-01T20:37:22.335785Z",
     "start_time": "2023-03-01T20:37:22.332215Z"
    },
    "execution": {
     "iopub.execute_input": "2023-03-01T23:22:59.470860Z",
     "iopub.status.busy": "2023-03-01T23:22:59.470160Z",
     "iopub.status.idle": "2023-03-01T23:22:59.476823Z",
     "shell.execute_reply": "2023-03-01T23:22:59.475910Z"
    },
    "papermill": {
     "duration": 0.034874,
     "end_time": "2023-03-01T23:22:59.478913",
     "exception": false,
     "start_time": "2023-03-01T23:22:59.444039",
     "status": "completed"
    },
    "scrolled": true,
    "tags": []
   },
   "outputs": [
    {
     "name": "stdout",
     "output_type": "stream",
     "text": [
      "Number of rows:541909\n",
      "Number of rows:8\n"
     ]
    }
   ],
   "source": [
    "print('Number of rows:{}'.format(df1.shape[0]))\n",
    "print('Number of rows:{}'.format(df1.shape[1]))"
   ]
  },
  {
   "cell_type": "markdown",
   "id": "d4d7f3b2",
   "metadata": {
    "papermill": {
     "duration": 0.025509,
     "end_time": "2023-03-01T23:22:59.550069",
     "exception": false,
     "start_time": "2023-03-01T23:22:59.524560",
     "status": "completed"
    },
    "tags": []
   },
   "source": [
    "## Data Types"
   ]
  },
  {
   "cell_type": "code",
   "execution_count": 8,
   "id": "7ea62ba5",
   "metadata": {
    "ExecuteTime": {
     "end_time": "2023-03-01T20:37:23.495694Z",
     "start_time": "2023-03-01T20:37:23.486645Z"
    },
    "execution": {
     "iopub.execute_input": "2023-03-01T23:22:59.603264Z",
     "iopub.status.busy": "2023-03-01T23:22:59.602806Z",
     "iopub.status.idle": "2023-03-01T23:22:59.611296Z",
     "shell.execute_reply": "2023-03-01T23:22:59.609605Z"
    },
    "papermill": {
     "duration": 0.041727,
     "end_time": "2023-03-01T23:22:59.614869",
     "exception": false,
     "start_time": "2023-03-01T23:22:59.573142",
     "status": "completed"
    },
    "tags": []
   },
   "outputs": [
    {
     "data": {
      "text/plain": [
       "invoice_no       object\n",
       "stock_code       object\n",
       "description      object\n",
       "quantity          int64\n",
       "invoice_date     object\n",
       "unit_price      float64\n",
       "customer_id     float64\n",
       "country          object\n",
       "dtype: object"
      ]
     },
     "execution_count": 8,
     "metadata": {},
     "output_type": "execute_result"
    }
   ],
   "source": [
    "df1.dtypes"
   ]
  },
  {
   "cell_type": "markdown",
   "id": "5b526249",
   "metadata": {
    "papermill": {
     "duration": 0.085564,
     "end_time": "2023-03-01T23:22:59.729521",
     "exception": false,
     "start_time": "2023-03-01T23:22:59.643957",
     "status": "completed"
    },
    "tags": []
   },
   "source": [
    "## Check NA"
   ]
  },
  {
   "cell_type": "code",
   "execution_count": 9,
   "id": "e72715a0",
   "metadata": {
    "ExecuteTime": {
     "end_time": "2023-03-01T20:37:25.011074Z",
     "start_time": "2023-03-01T20:37:24.695727Z"
    },
    "execution": {
     "iopub.execute_input": "2023-03-01T23:22:59.949614Z",
     "iopub.status.busy": "2023-03-01T23:22:59.949040Z",
     "iopub.status.idle": "2023-03-01T23:23:00.388545Z",
     "shell.execute_reply": "2023-03-01T23:23:00.387845Z"
    },
    "papermill": {
     "duration": 0.491549,
     "end_time": "2023-03-01T23:23:00.390690",
     "exception": false,
     "start_time": "2023-03-01T23:22:59.899141",
     "status": "completed"
    },
    "scrolled": true,
    "tags": []
   },
   "outputs": [
    {
     "data": {
      "text/plain": [
       "invoice_no           0\n",
       "stock_code           0\n",
       "description       1454\n",
       "quantity             0\n",
       "invoice_date         0\n",
       "unit_price           0\n",
       "customer_id     135080\n",
       "country              0\n",
       "dtype: int64"
      ]
     },
     "execution_count": 9,
     "metadata": {},
     "output_type": "execute_result"
    }
   ],
   "source": [
    "df1.isna().sum()"
   ]
  },
  {
   "cell_type": "markdown",
   "id": "94813b3e",
   "metadata": {
    "papermill": {
     "duration": 0.020859,
     "end_time": "2023-03-01T23:23:00.439724",
     "exception": false,
     "start_time": "2023-03-01T23:23:00.418865",
     "status": "completed"
    },
    "tags": []
   },
   "source": [
    "## Replace NA"
   ]
  },
  {
   "cell_type": "code",
   "execution_count": 10,
   "id": "7dd99f06",
   "metadata": {
    "ExecuteTime": {
     "end_time": "2023-03-01T20:37:26.629257Z",
     "start_time": "2023-03-01T20:37:26.052106Z"
    },
    "execution": {
     "iopub.execute_input": "2023-03-01T23:23:00.487910Z",
     "iopub.status.busy": "2023-03-01T23:23:00.487510Z",
     "iopub.status.idle": "2023-03-01T23:23:01.300092Z",
     "shell.execute_reply": "2023-03-01T23:23:01.298822Z"
    },
    "papermill": {
     "duration": 0.838693,
     "end_time": "2023-03-01T23:23:01.301708",
     "exception": false,
     "start_time": "2023-03-01T23:23:00.463015",
     "status": "completed"
    },
    "scrolled": true,
    "tags": []
   },
   "outputs": [
    {
     "name": "stdout",
     "output_type": "stream",
     "text": [
      "\u001b[1mMissing values:\u001b[0m \n",
      "\n",
      "invoice_no      0\n",
      "stock_code      0\n",
      "description     0\n",
      "quantity        0\n",
      "invoice_date    0\n",
      "unit_price      0\n",
      "country         0\n",
      "customer_id     0\n",
      "dtype: int64\n"
     ]
    }
   ],
   "source": [
    "# === customer_id ===\n",
    "# df1 = df1.dropna(subset=['customer_id'],axis=0)\n",
    "# print('Removed data from subset customer_id: {:.2f}%'.format(100*(1-(df1.shape[0]/df_raw.shape[0]))))\n",
    "\n",
    "# df separando missing e nao-missing\n",
    "df_missing = df1.loc[df1['customer_id'].isna(), :]\n",
    "df_not_missing = df1.loc[~df1['customer_id'].isna(), :]\n",
    " \n",
    "# selecionando invoice do missing no nao-missing, para encontrar correspondencia de customer_id\n",
    "# df_not_missing.loc[df_not_missing['invoice_no'].isin(df_missing['invoice_no']), :] #Out: []\n",
    "\n",
    "# Ultimo valor de de customer_id\n",
    "# df1['customer_id'].max() #Out: 18287\n",
    "\n",
    "# table of unique invoice that has customer_id missing\n",
    "invoice_missing = pd.DataFrame(df_missing['invoice_no'].drop_duplicates()).reset_index(drop=True)\n",
    "\n",
    "# Vector of values to assume sintetic 'customer_id' values\n",
    "invoice_missing['customer_id'] = np.arange(19000, (19000 + len(invoice_missing)), 1)\n",
    "\n",
    "# Merge to add sintetic values to orginal dataframe\n",
    "df1 = pd.merge(df1, invoice_missing, on='invoice_no', how='left')\n",
    "\n",
    "# Combine to aggregate into unique customer_id column\n",
    "df1['customer_id'] = df1['customer_id_x'].combine_first(df1['customer_id_y'])\n",
    "\n",
    "# Drop extra columns\n",
    "df1 = df1.drop(columns=['customer_id_x','customer_id_y'], axis=1)\n",
    "\n",
    "# ===description=== \n",
    "df1['description'] = df1['description'].fillna(0)\n",
    "\n",
    "#Print missings \n",
    "df1.head()\n",
    "print('\\033[1mMissing values:\\033[0m \\n\\n{}'.format(df1.isna().sum()))\n"
   ]
  },
  {
   "cell_type": "markdown",
   "id": "fc56ee11",
   "metadata": {
    "papermill": {
     "duration": 0.022814,
     "end_time": "2023-03-01T23:23:01.349401",
     "exception": false,
     "start_time": "2023-03-01T23:23:01.326587",
     "status": "completed"
    },
    "tags": []
   },
   "source": [
    "## Change Dtypes"
   ]
  },
  {
   "cell_type": "code",
   "execution_count": 11,
   "id": "ef3c9f55",
   "metadata": {
    "ExecuteTime": {
     "end_time": "2023-03-01T20:37:27.786837Z",
     "start_time": "2023-03-01T20:37:27.780900Z"
    },
    "execution": {
     "iopub.execute_input": "2023-03-01T23:23:01.400329Z",
     "iopub.status.busy": "2023-03-01T23:23:01.399691Z",
     "iopub.status.idle": "2023-03-01T23:23:01.406287Z",
     "shell.execute_reply": "2023-03-01T23:23:01.405512Z"
    },
    "papermill": {
     "duration": 0.031715,
     "end_time": "2023-03-01T23:23:01.408268",
     "exception": false,
     "start_time": "2023-03-01T23:23:01.376553",
     "status": "completed"
    },
    "scrolled": true,
    "tags": []
   },
   "outputs": [
    {
     "data": {
      "text/plain": [
       "invoice_no       object\n",
       "stock_code       object\n",
       "description      object\n",
       "quantity          int64\n",
       "invoice_date     object\n",
       "unit_price      float64\n",
       "country          object\n",
       "customer_id     float64\n",
       "dtype: object"
      ]
     },
     "execution_count": 11,
     "metadata": {},
     "output_type": "execute_result"
    }
   ],
   "source": [
    "df1.dtypes"
   ]
  },
  {
   "cell_type": "code",
   "execution_count": 12,
   "id": "a990fd3a",
   "metadata": {
    "ExecuteTime": {
     "end_time": "2023-03-01T20:37:29.370984Z",
     "start_time": "2023-03-01T20:37:28.455676Z"
    },
    "execution": {
     "iopub.execute_input": "2023-03-01T23:23:01.473134Z",
     "iopub.status.busy": "2023-03-01T23:23:01.472775Z",
     "iopub.status.idle": "2023-03-01T23:23:02.177121Z",
     "shell.execute_reply": "2023-03-01T23:23:02.176438Z"
    },
    "papermill": {
     "duration": 0.737953,
     "end_time": "2023-03-01T23:23:02.178632",
     "exception": false,
     "start_time": "2023-03-01T23:23:01.440679",
     "status": "completed"
    },
    "tags": []
   },
   "outputs": [],
   "source": [
    "# invoice_date     \n",
    "df1['invoice_date'] = pd.to_datetime(df1['invoice_date']).dt.strftime('%Y-%m-%d')\n",
    "df1['invoice_date'] = pd.to_datetime(df1['invoice_date'])\n",
    "\n",
    "# customer_id     \n",
    "df1['customer_id'] = df1['customer_id'].astype(int)"
   ]
  },
  {
   "cell_type": "code",
   "execution_count": 13,
   "id": "0246d631",
   "metadata": {
    "ExecuteTime": {
     "end_time": "2023-03-01T20:37:29.921333Z",
     "start_time": "2023-03-01T20:37:29.915130Z"
    },
    "execution": {
     "iopub.execute_input": "2023-03-01T23:23:02.245385Z",
     "iopub.status.busy": "2023-03-01T23:23:02.244879Z",
     "iopub.status.idle": "2023-03-01T23:23:02.254715Z",
     "shell.execute_reply": "2023-03-01T23:23:02.252772Z"
    },
    "papermill": {
     "duration": 0.045929,
     "end_time": "2023-03-01T23:23:02.259118",
     "exception": false,
     "start_time": "2023-03-01T23:23:02.213189",
     "status": "completed"
    },
    "scrolled": true,
    "tags": []
   },
   "outputs": [
    {
     "data": {
      "text/plain": [
       "invoice_no              object\n",
       "stock_code              object\n",
       "description             object\n",
       "quantity                 int64\n",
       "invoice_date    datetime64[ns]\n",
       "unit_price             float64\n",
       "country                 object\n",
       "customer_id              int64\n",
       "dtype: object"
      ]
     },
     "execution_count": 13,
     "metadata": {},
     "output_type": "execute_result"
    }
   ],
   "source": [
    "df1.dtypes"
   ]
  },
  {
   "cell_type": "markdown",
   "id": "6ce1b683",
   "metadata": {
    "papermill": {
     "duration": 0.026629,
     "end_time": "2023-03-01T23:23:02.313802",
     "exception": false,
     "start_time": "2023-03-01T23:23:02.287173",
     "status": "completed"
    },
    "tags": []
   },
   "source": [
    "## Descriptive Statistics"
   ]
  },
  {
   "cell_type": "code",
   "execution_count": 14,
   "id": "4364d478",
   "metadata": {
    "ExecuteTime": {
     "end_time": "2023-03-01T20:37:31.241841Z",
     "start_time": "2023-03-01T20:37:31.172703Z"
    },
    "execution": {
     "iopub.execute_input": "2023-03-01T23:23:02.365864Z",
     "iopub.status.busy": "2023-03-01T23:23:02.365404Z",
     "iopub.status.idle": "2023-03-01T23:23:02.451289Z",
     "shell.execute_reply": "2023-03-01T23:23:02.450406Z"
    },
    "papermill": {
     "duration": 0.113425,
     "end_time": "2023-03-01T23:23:02.454076",
     "exception": false,
     "start_time": "2023-03-01T23:23:02.340651",
     "status": "completed"
    },
    "tags": []
   },
   "outputs": [],
   "source": [
    "num_attributes = df1.select_dtypes(include=['int64','float64'])\n",
    "cat_attributes = df1.select_dtypes(exclude=['int64','float64','datetime64[ns]'])"
   ]
  },
  {
   "cell_type": "markdown",
   "id": "e3f89305",
   "metadata": {
    "ExecuteTime": {
     "end_time": "2023-02-07T18:31:47.521692Z",
     "start_time": "2023-02-07T18:31:47.519278Z"
    },
    "papermill": {
     "duration": 0.026611,
     "end_time": "2023-03-01T23:23:02.509764",
     "exception": false,
     "start_time": "2023-03-01T23:23:02.483153",
     "status": "completed"
    },
    "tags": []
   },
   "source": [
    "### Numerical Attributes"
   ]
  },
  {
   "cell_type": "code",
   "execution_count": 15,
   "id": "e0f2c3f7",
   "metadata": {
    "ExecuteTime": {
     "end_time": "2023-03-01T20:37:32.537045Z",
     "start_time": "2023-03-01T20:37:32.425847Z"
    },
    "execution": {
     "iopub.execute_input": "2023-03-01T23:23:02.560601Z",
     "iopub.status.busy": "2023-03-01T23:23:02.560124Z",
     "iopub.status.idle": "2023-03-01T23:23:02.700111Z",
     "shell.execute_reply": "2023-03-01T23:23:02.698832Z"
    },
    "papermill": {
     "duration": 0.169504,
     "end_time": "2023-03-01T23:23:02.703668",
     "exception": false,
     "start_time": "2023-03-01T23:23:02.534164",
     "status": "completed"
    },
    "scrolled": true,
    "tags": []
   },
   "outputs": [
    {
     "data": {
      "text/html": [
       "<div>\n",
       "<style scoped>\n",
       "    .dataframe tbody tr th:only-of-type {\n",
       "        vertical-align: middle;\n",
       "    }\n",
       "\n",
       "    .dataframe tbody tr th {\n",
       "        vertical-align: top;\n",
       "    }\n",
       "\n",
       "    .dataframe thead th {\n",
       "        text-align: right;\n",
       "    }\n",
       "</style>\n",
       "<table border=\"1\" class=\"dataframe\">\n",
       "  <thead>\n",
       "    <tr style=\"text-align: right;\">\n",
       "      <th></th>\n",
       "      <th>attributes</th>\n",
       "      <th>min</th>\n",
       "      <th>max</th>\n",
       "      <th>range</th>\n",
       "      <th>mean</th>\n",
       "      <th>std</th>\n",
       "      <th>median</th>\n",
       "      <th>skew</th>\n",
       "      <th>kurtosis</th>\n",
       "    </tr>\n",
       "  </thead>\n",
       "  <tbody>\n",
       "    <tr>\n",
       "      <th>0</th>\n",
       "      <td>quantity</td>\n",
       "      <td>-80995.00</td>\n",
       "      <td>80995.0</td>\n",
       "      <td>161990.00</td>\n",
       "      <td>9.552250</td>\n",
       "      <td>218.081158</td>\n",
       "      <td>3.00</td>\n",
       "      <td>-0.264076</td>\n",
       "      <td>119769.160031</td>\n",
       "    </tr>\n",
       "    <tr>\n",
       "      <th>1</th>\n",
       "      <td>unit_price</td>\n",
       "      <td>-11062.06</td>\n",
       "      <td>38970.0</td>\n",
       "      <td>50032.06</td>\n",
       "      <td>4.611114</td>\n",
       "      <td>96.759853</td>\n",
       "      <td>2.08</td>\n",
       "      <td>186.506972</td>\n",
       "      <td>59005.719097</td>\n",
       "    </tr>\n",
       "    <tr>\n",
       "      <th>2</th>\n",
       "      <td>customer_id</td>\n",
       "      <td>12346.00</td>\n",
       "      <td>22709.0</td>\n",
       "      <td>10363.00</td>\n",
       "      <td>16688.840453</td>\n",
       "      <td>2911.411352</td>\n",
       "      <td>16249.00</td>\n",
       "      <td>0.487449</td>\n",
       "      <td>-0.804287</td>\n",
       "    </tr>\n",
       "  </tbody>\n",
       "</table>\n",
       "</div>"
      ],
      "text/plain": [
       "    attributes       min      max      range          mean          std  \\\n",
       "0     quantity -80995.00  80995.0  161990.00      9.552250   218.081158   \n",
       "1   unit_price -11062.06  38970.0   50032.06      4.611114    96.759853   \n",
       "2  customer_id  12346.00  22709.0   10363.00  16688.840453  2911.411352   \n",
       "\n",
       "     median        skew       kurtosis  \n",
       "0      3.00   -0.264076  119769.160031  \n",
       "1      2.08  186.506972   59005.719097  \n",
       "2  16249.00    0.487449      -0.804287  "
      ]
     },
     "execution_count": 15,
     "metadata": {},
     "output_type": "execute_result"
    }
   ],
   "source": [
    "# Central Tendency - mean, median\n",
    "c1 = pd.DataFrame(num_attributes.mean()).T\n",
    "c2 = pd.DataFrame(num_attributes.median()).T\n",
    "\n",
    "# Dispersion - min, max, range, std, skew, kurtosis\n",
    "d1 = pd.DataFrame(num_attributes.min()).T\n",
    "d2 = pd.DataFrame(num_attributes.max()).T\n",
    "d3 = pd.DataFrame(num_attributes.apply(lambda x: x.max()-x.min())).T\n",
    "d4 = pd.DataFrame(num_attributes.apply(lambda x: x.std())).T\n",
    "d5 = pd.DataFrame(num_attributes.apply(lambda x: x.skew())).T\n",
    "d6 = pd.DataFrame(num_attributes.apply(lambda x: x.kurtosis())).T\n",
    "\n",
    "descriptive_analysis = pd.concat([ d1, d2, d3, c1, d4, c2, d5, d6], axis= 0).T.reset_index()\n",
    "descriptive_analysis.columns = ['attributes','min','max', 'range','mean','std', 'median', 'skew', 'kurtosis']\n",
    "descriptive_analysis"
   ]
  },
  {
   "cell_type": "code",
   "execution_count": 16,
   "id": "90ef6a3a",
   "metadata": {
    "ExecuteTime": {
     "end_time": "2023-03-01T20:37:33.313854Z",
     "start_time": "2023-03-01T20:37:33.228784Z"
    },
    "execution": {
     "iopub.execute_input": "2023-03-01T23:23:03.677636Z",
     "iopub.status.busy": "2023-03-01T23:23:03.677092Z",
     "iopub.status.idle": "2023-03-01T23:23:03.743047Z",
     "shell.execute_reply": "2023-03-01T23:23:03.742202Z"
    },
    "papermill": {
     "duration": 1.007634,
     "end_time": "2023-03-01T23:23:03.744664",
     "exception": false,
     "start_time": "2023-03-01T23:23:02.737030",
     "status": "completed"
    },
    "tags": []
   },
   "outputs": [
    {
     "name": "stdout",
     "output_type": "stream",
     "text": [
      "(2522, 8)\n"
     ]
    },
    {
     "data": {
      "text/html": [
       "<div>\n",
       "<style scoped>\n",
       "    .dataframe tbody tr th:only-of-type {\n",
       "        vertical-align: middle;\n",
       "    }\n",
       "\n",
       "    .dataframe tbody tr th {\n",
       "        vertical-align: top;\n",
       "    }\n",
       "\n",
       "    .dataframe thead th {\n",
       "        text-align: right;\n",
       "    }\n",
       "</style>\n",
       "<table border=\"1\" class=\"dataframe\">\n",
       "  <thead>\n",
       "    <tr style=\"text-align: right;\">\n",
       "      <th></th>\n",
       "      <th>invoice_no</th>\n",
       "      <th>stock_code</th>\n",
       "      <th>description</th>\n",
       "      <th>quantity</th>\n",
       "      <th>invoice_date</th>\n",
       "      <th>unit_price</th>\n",
       "      <th>country</th>\n",
       "      <th>customer_id</th>\n",
       "    </tr>\n",
       "  </thead>\n",
       "  <tbody>\n",
       "    <tr>\n",
       "      <th>299983</th>\n",
       "      <td>A563186</td>\n",
       "      <td>B</td>\n",
       "      <td>Adjust bad debt</td>\n",
       "      <td>1</td>\n",
       "      <td>2017-08-10</td>\n",
       "      <td>-11062.06</td>\n",
       "      <td>United Kingdom</td>\n",
       "      <td>21498</td>\n",
       "    </tr>\n",
       "    <tr>\n",
       "      <th>299984</th>\n",
       "      <td>A563187</td>\n",
       "      <td>B</td>\n",
       "      <td>Adjust bad debt</td>\n",
       "      <td>1</td>\n",
       "      <td>2017-08-10</td>\n",
       "      <td>-11062.06</td>\n",
       "      <td>United Kingdom</td>\n",
       "      <td>21499</td>\n",
       "    </tr>\n",
       "    <tr>\n",
       "      <th>290583</th>\n",
       "      <td>562386</td>\n",
       "      <td>84596L</td>\n",
       "      <td>0</td>\n",
       "      <td>-21</td>\n",
       "      <td>2017-08-02</td>\n",
       "      <td>0.00</td>\n",
       "      <td>United Kingdom</td>\n",
       "      <td>21453</td>\n",
       "    </tr>\n",
       "    <tr>\n",
       "      <th>285790</th>\n",
       "      <td>561924</td>\n",
       "      <td>22042</td>\n",
       "      <td>0</td>\n",
       "      <td>-197</td>\n",
       "      <td>2017-07-30</td>\n",
       "      <td>0.00</td>\n",
       "      <td>United Kingdom</td>\n",
       "      <td>21428</td>\n",
       "    </tr>\n",
       "    <tr>\n",
       "      <th>285886</th>\n",
       "      <td>561927</td>\n",
       "      <td>22740</td>\n",
       "      <td>?</td>\n",
       "      <td>-1060</td>\n",
       "      <td>2017-07-30</td>\n",
       "      <td>0.00</td>\n",
       "      <td>United Kingdom</td>\n",
       "      <td>21429</td>\n",
       "    </tr>\n",
       "    <tr>\n",
       "      <th>288156</th>\n",
       "      <td>562134</td>\n",
       "      <td>22722</td>\n",
       "      <td>0</td>\n",
       "      <td>1</td>\n",
       "      <td>2017-08-01</td>\n",
       "      <td>0.00</td>\n",
       "      <td>United Kingdom</td>\n",
       "      <td>21438</td>\n",
       "    </tr>\n",
       "    <tr>\n",
       "      <th>288157</th>\n",
       "      <td>562135</td>\n",
       "      <td>84847</td>\n",
       "      <td>0</td>\n",
       "      <td>1</td>\n",
       "      <td>2017-08-01</td>\n",
       "      <td>0.00</td>\n",
       "      <td>United Kingdom</td>\n",
       "      <td>21439</td>\n",
       "    </tr>\n",
       "    <tr>\n",
       "      <th>288519</th>\n",
       "      <td>562164</td>\n",
       "      <td>21257</td>\n",
       "      <td>?</td>\n",
       "      <td>-94</td>\n",
       "      <td>2017-08-01</td>\n",
       "      <td>0.00</td>\n",
       "      <td>United Kingdom</td>\n",
       "      <td>21440</td>\n",
       "    </tr>\n",
       "    <tr>\n",
       "      <th>288872</th>\n",
       "      <td>562212</td>\n",
       "      <td>21187</td>\n",
       "      <td>0</td>\n",
       "      <td>-97</td>\n",
       "      <td>2017-08-01</td>\n",
       "      <td>0.00</td>\n",
       "      <td>United Kingdom</td>\n",
       "      <td>21441</td>\n",
       "    </tr>\n",
       "    <tr>\n",
       "      <th>290639</th>\n",
       "      <td>562390</td>\n",
       "      <td>21246</td>\n",
       "      <td>0</td>\n",
       "      <td>-92</td>\n",
       "      <td>2017-08-02</td>\n",
       "      <td>0.00</td>\n",
       "      <td>United Kingdom</td>\n",
       "      <td>21454</td>\n",
       "    </tr>\n",
       "  </tbody>\n",
       "</table>\n",
       "</div>"
      ],
      "text/plain": [
       "       invoice_no stock_code      description  quantity invoice_date  \\\n",
       "299983    A563186          B  Adjust bad debt         1   2017-08-10   \n",
       "299984    A563187          B  Adjust bad debt         1   2017-08-10   \n",
       "290583     562386     84596L                0       -21   2017-08-02   \n",
       "285790     561924      22042                0      -197   2017-07-30   \n",
       "285886     561927      22740                ?     -1060   2017-07-30   \n",
       "288156     562134      22722                0         1   2017-08-01   \n",
       "288157     562135      84847                0         1   2017-08-01   \n",
       "288519     562164      21257                ?       -94   2017-08-01   \n",
       "288872     562212      21187                0       -97   2017-08-01   \n",
       "290639     562390      21246                0       -92   2017-08-02   \n",
       "\n",
       "        unit_price         country  customer_id  \n",
       "299983   -11062.06  United Kingdom        21498  \n",
       "299984   -11062.06  United Kingdom        21499  \n",
       "290583        0.00  United Kingdom        21453  \n",
       "285790        0.00  United Kingdom        21428  \n",
       "285886        0.00  United Kingdom        21429  \n",
       "288156        0.00  United Kingdom        21438  \n",
       "288157        0.00  United Kingdom        21439  \n",
       "288519        0.00  United Kingdom        21440  \n",
       "288872        0.00  United Kingdom        21441  \n",
       "290639        0.00  United Kingdom        21454  "
      ]
     },
     "execution_count": 16,
     "metadata": {},
     "output_type": "execute_result"
    }
   ],
   "source": [
    "# unit_price with anomalous values \n",
    "print(df1.loc[df1['unit_price']<0.02].shape)\n",
    "\n",
    "df1.loc[df1['unit_price']<0.02].sort_values('unit_price', ascending = True).head(10)"
   ]
  },
  {
   "cell_type": "markdown",
   "id": "50ba3c8f",
   "metadata": {
    "ExecuteTime": {
     "end_time": "2023-02-07T18:31:48.996714Z",
     "start_time": "2023-02-07T18:31:47.968060Z"
    },
    "papermill": {
     "duration": 0.024131,
     "end_time": "2023-03-01T23:23:03.860591",
     "exception": false,
     "start_time": "2023-03-01T23:23:03.836460",
     "status": "completed"
    },
    "tags": []
   },
   "source": [
    "### Categorical Attributes"
   ]
  },
  {
   "cell_type": "code",
   "execution_count": 17,
   "id": "80d710be",
   "metadata": {
    "ExecuteTime": {
     "end_time": "2023-03-01T20:37:34.744725Z",
     "start_time": "2023-03-01T20:37:34.734809Z"
    },
    "execution": {
     "iopub.execute_input": "2023-03-01T23:23:04.080734Z",
     "iopub.status.busy": "2023-03-01T23:23:04.080256Z",
     "iopub.status.idle": "2023-03-01T23:23:04.089127Z",
     "shell.execute_reply": "2023-03-01T23:23:04.087824Z"
    },
    "papermill": {
     "duration": 0.115504,
     "end_time": "2023-03-01T23:23:04.091573",
     "exception": false,
     "start_time": "2023-03-01T23:23:03.976069",
     "status": "completed"
    },
    "scrolled": true,
    "tags": []
   },
   "outputs": [
    {
     "data": {
      "text/html": [
       "<div>\n",
       "<style scoped>\n",
       "    .dataframe tbody tr th:only-of-type {\n",
       "        vertical-align: middle;\n",
       "    }\n",
       "\n",
       "    .dataframe tbody tr th {\n",
       "        vertical-align: top;\n",
       "    }\n",
       "\n",
       "    .dataframe thead th {\n",
       "        text-align: right;\n",
       "    }\n",
       "</style>\n",
       "<table border=\"1\" class=\"dataframe\">\n",
       "  <thead>\n",
       "    <tr style=\"text-align: right;\">\n",
       "      <th></th>\n",
       "      <th>invoice_no</th>\n",
       "      <th>stock_code</th>\n",
       "      <th>description</th>\n",
       "      <th>country</th>\n",
       "    </tr>\n",
       "  </thead>\n",
       "  <tbody>\n",
       "    <tr>\n",
       "      <th>0</th>\n",
       "      <td>536365</td>\n",
       "      <td>85123A</td>\n",
       "      <td>WHITE HANGING HEART T-LIGHT HOLDER</td>\n",
       "      <td>United Kingdom</td>\n",
       "    </tr>\n",
       "    <tr>\n",
       "      <th>1</th>\n",
       "      <td>536365</td>\n",
       "      <td>71053</td>\n",
       "      <td>WHITE METAL LANTERN</td>\n",
       "      <td>United Kingdom</td>\n",
       "    </tr>\n",
       "    <tr>\n",
       "      <th>2</th>\n",
       "      <td>536365</td>\n",
       "      <td>84406B</td>\n",
       "      <td>CREAM CUPID HEARTS COAT HANGER</td>\n",
       "      <td>United Kingdom</td>\n",
       "    </tr>\n",
       "    <tr>\n",
       "      <th>3</th>\n",
       "      <td>536365</td>\n",
       "      <td>84029G</td>\n",
       "      <td>KNITTED UNION FLAG HOT WATER BOTTLE</td>\n",
       "      <td>United Kingdom</td>\n",
       "    </tr>\n",
       "    <tr>\n",
       "      <th>4</th>\n",
       "      <td>536365</td>\n",
       "      <td>84029E</td>\n",
       "      <td>RED WOOLLY HOTTIE WHITE HEART.</td>\n",
       "      <td>United Kingdom</td>\n",
       "    </tr>\n",
       "  </tbody>\n",
       "</table>\n",
       "</div>"
      ],
      "text/plain": [
       "  invoice_no stock_code                          description         country\n",
       "0     536365     85123A   WHITE HANGING HEART T-LIGHT HOLDER  United Kingdom\n",
       "1     536365      71053                  WHITE METAL LANTERN  United Kingdom\n",
       "2     536365     84406B       CREAM CUPID HEARTS COAT HANGER  United Kingdom\n",
       "3     536365     84029G  KNITTED UNION FLAG HOT WATER BOTTLE  United Kingdom\n",
       "4     536365     84029E       RED WOOLLY HOTTIE WHITE HEART.  United Kingdom"
      ]
     },
     "execution_count": 17,
     "metadata": {},
     "output_type": "execute_result"
    }
   ],
   "source": [
    "cat_attributes.head()\n"
   ]
  },
  {
   "cell_type": "markdown",
   "id": "2e8a27b8",
   "metadata": {
    "papermill": {
     "duration": 0.029501,
     "end_time": "2023-03-01T23:23:04.152355",
     "exception": false,
     "start_time": "2023-03-01T23:23:04.122854",
     "status": "completed"
    },
    "tags": []
   },
   "source": [
    "#### Categorical attributes - Investigating"
   ]
  },
  {
   "cell_type": "markdown",
   "id": "620de64a",
   "metadata": {
    "ExecuteTime": {
     "end_time": "2023-02-08T17:39:33.096852Z",
     "start_time": "2023-02-08T17:39:33.092543Z"
    },
    "heading_collapsed": true,
    "papermill": {
     "duration": 0.025684,
     "end_time": "2023-03-01T23:23:04.205574",
     "exception": false,
     "start_time": "2023-03-01T23:23:04.179890",
     "status": "completed"
    },
    "tags": []
   },
   "source": [
    "##### Invoice no"
   ]
  },
  {
   "cell_type": "code",
   "execution_count": 18,
   "id": "597cbfe2",
   "metadata": {
    "ExecuteTime": {
     "end_time": "2023-02-14T12:01:23.367245Z",
     "start_time": "2023-02-14T12:01:22.873622Z"
    },
    "code_folding": [],
    "execution": {
     "iopub.execute_input": "2023-03-01T23:23:04.266950Z",
     "iopub.status.busy": "2023-03-01T23:23:04.266608Z",
     "iopub.status.idle": "2023-03-01T23:23:04.954753Z",
     "shell.execute_reply": "2023-03-01T23:23:04.953750Z"
    },
    "hidden": true,
    "papermill": {
     "duration": 0.721103,
     "end_time": "2023-03-01T23:23:04.957080",
     "exception": false,
     "start_time": "2023-03-01T23:23:04.235977",
     "status": "completed"
    },
    "scrolled": false,
    "tags": []
   },
   "outputs": [
    {
     "name": "stdout",
     "output_type": "stream",
     "text": [
      "invoice_no unicos que contem letras: 3839\n",
      "invoice_no unicos: 25900\n",
      "Linhas com invoices com letra no inicio: 9291\n",
      "Linhas com quantidades < 0: 10624\n"
     ]
    }
   ],
   "source": [
    "# problema: invoices com letras e numeros\n",
    "# df1['invoice_no'].astype(int)\n",
    "\n",
    "# identificacao:  counting anomalous invoice_no with a letter at beginning\n",
    "contain_letter = df1['invoice_no'].apply(lambda x: bool(re.search('[^0-9]+',x)))\n",
    "unique_invoice_letter = df1.loc[contain_letter,'invoice_no']\n",
    "print('invoice_no unicos que contem letras: {}'.format(unique_invoice_letter.drop_duplicates().count()))\n",
    "print('invoice_no unicos: {}'.format(df1['invoice_no'].unique().shape[0]))\n",
    "print('Linhas com invoices com letra no inicio: {}'.format(unique_invoice_letter.count()))\n",
    "print('Linhas com quantidades < 0: {}'.format(df1.loc[df1['quantity']<0,'invoice_no'].count()))"
   ]
  },
  {
   "cell_type": "code",
   "execution_count": 19,
   "id": "983b3139",
   "metadata": {
    "ExecuteTime": {
     "end_time": "2023-02-14T12:02:21.145315Z",
     "start_time": "2023-02-14T12:02:21.064618Z"
    },
    "execution": {
     "iopub.execute_input": "2023-03-01T23:23:05.005766Z",
     "iopub.status.busy": "2023-03-01T23:23:05.005221Z",
     "iopub.status.idle": "2023-03-01T23:23:05.013861Z",
     "shell.execute_reply": "2023-03-01T23:23:05.012940Z"
    },
    "hidden": true,
    "papermill": {
     "duration": 0.037953,
     "end_time": "2023-03-01T23:23:05.016598",
     "exception": false,
     "start_time": "2023-03-01T23:23:04.978645",
     "status": "completed"
    },
    "tags": []
   },
   "outputs": [
    {
     "data": {
      "text/plain": [
       "141       C536379\n",
       "154       C536383\n",
       "235       C536391\n",
       "236       C536391\n",
       "237       C536391\n",
       "           ...   \n",
       "540449    C581490\n",
       "541541    C581499\n",
       "541715    C581568\n",
       "541716    C581569\n",
       "541717    C581569\n",
       "Name: invoice_no, Length: 9291, dtype: object"
      ]
     },
     "execution_count": 19,
     "metadata": {},
     "output_type": "execute_result"
    }
   ],
   "source": [
    "unique_invoice_letter\n"
   ]
  },
  {
   "cell_type": "markdown",
   "id": "9d807369",
   "metadata": {
    "heading_collapsed": true,
    "papermill": {
     "duration": 0.020029,
     "end_time": "2023-03-01T23:23:05.062428",
     "exception": false,
     "start_time": "2023-03-01T23:23:05.042399",
     "status": "completed"
    },
    "tags": []
   },
   "source": [
    "##### Stock code"
   ]
  },
  {
   "cell_type": "code",
   "execution_count": 20,
   "id": "5a57ca28",
   "metadata": {
    "ExecuteTime": {
     "end_time": "2023-02-09T00:23:00.246689Z",
     "start_time": "2023-02-09T00:22:58.655607Z"
    },
    "execution": {
     "iopub.execute_input": "2023-03-01T23:23:05.107525Z",
     "iopub.status.busy": "2023-03-01T23:23:05.107053Z",
     "iopub.status.idle": "2023-03-01T23:23:06.486623Z",
     "shell.execute_reply": "2023-03-01T23:23:06.485887Z"
    },
    "hidden": true,
    "papermill": {
     "duration": 1.404874,
     "end_time": "2023-03-01T23:23:06.488618",
     "exception": false,
     "start_time": "2023-03-01T23:23:05.083744",
     "status": "completed"
    },
    "scrolled": false,
    "tags": []
   },
   "outputs": [
    {
     "name": "stdout",
     "output_type": "stream",
     "text": [
      "stock_code unicos com alguma letra: 1124\n"
     ]
    },
    {
     "name": "stdout",
     "output_type": "stream",
     "text": [
      "stock_code que contem apenas letras: 12\n",
      "stock code all letters: ['POST' 'D' 'DOT' 'M' 'S' 'AMAZONFEE' 'm' 'DCGSSBOY' 'DCGSSGIRL' 'PADS'\n",
      " 'B' 'CRUK']\n"
     ]
    },
    {
     "data": {
      "text/html": [
       "<div>\n",
       "<style scoped>\n",
       "    .dataframe tbody tr th:only-of-type {\n",
       "        vertical-align: middle;\n",
       "    }\n",
       "\n",
       "    .dataframe tbody tr th {\n",
       "        vertical-align: top;\n",
       "    }\n",
       "\n",
       "    .dataframe thead th {\n",
       "        text-align: right;\n",
       "    }\n",
       "</style>\n",
       "<table border=\"1\" class=\"dataframe\">\n",
       "  <thead>\n",
       "    <tr style=\"text-align: right;\">\n",
       "      <th></th>\n",
       "      <th>invoice_no</th>\n",
       "      <th>stock_code</th>\n",
       "      <th>description</th>\n",
       "      <th>quantity</th>\n",
       "      <th>invoice_date</th>\n",
       "      <th>unit_price</th>\n",
       "      <th>country</th>\n",
       "      <th>customer_id</th>\n",
       "    </tr>\n",
       "  </thead>\n",
       "  <tbody>\n",
       "    <tr>\n",
       "      <th>45</th>\n",
       "      <td>536370</td>\n",
       "      <td>POST</td>\n",
       "      <td>POSTAGE</td>\n",
       "      <td>3</td>\n",
       "      <td>2016-11-29</td>\n",
       "      <td>18.00</td>\n",
       "      <td>France</td>\n",
       "      <td>12583</td>\n",
       "    </tr>\n",
       "    <tr>\n",
       "      <th>141</th>\n",
       "      <td>C536379</td>\n",
       "      <td>D</td>\n",
       "      <td>Discount</td>\n",
       "      <td>-1</td>\n",
       "      <td>2016-11-29</td>\n",
       "      <td>27.50</td>\n",
       "      <td>United Kingdom</td>\n",
       "      <td>14527</td>\n",
       "    </tr>\n",
       "    <tr>\n",
       "      <th>386</th>\n",
       "      <td>536403</td>\n",
       "      <td>POST</td>\n",
       "      <td>POSTAGE</td>\n",
       "      <td>1</td>\n",
       "      <td>2016-11-29</td>\n",
       "      <td>15.00</td>\n",
       "      <td>Netherlands</td>\n",
       "      <td>12791</td>\n",
       "    </tr>\n",
       "    <tr>\n",
       "      <th>1123</th>\n",
       "      <td>536527</td>\n",
       "      <td>POST</td>\n",
       "      <td>POSTAGE</td>\n",
       "      <td>1</td>\n",
       "      <td>2016-11-29</td>\n",
       "      <td>18.00</td>\n",
       "      <td>Germany</td>\n",
       "      <td>12662</td>\n",
       "    </tr>\n",
       "    <tr>\n",
       "      <th>1814</th>\n",
       "      <td>536544</td>\n",
       "      <td>DOT</td>\n",
       "      <td>DOTCOM POSTAGE</td>\n",
       "      <td>1</td>\n",
       "      <td>2016-11-29</td>\n",
       "      <td>569.77</td>\n",
       "      <td>United Kingdom</td>\n",
       "      <td>19001</td>\n",
       "    </tr>\n",
       "    <tr>\n",
       "      <th>...</th>\n",
       "      <td>...</td>\n",
       "      <td>...</td>\n",
       "      <td>...</td>\n",
       "      <td>...</td>\n",
       "      <td>...</td>\n",
       "      <td>...</td>\n",
       "      <td>...</td>\n",
       "      <td>...</td>\n",
       "    </tr>\n",
       "    <tr>\n",
       "      <th>541540</th>\n",
       "      <td>581498</td>\n",
       "      <td>DOT</td>\n",
       "      <td>DOTCOM POSTAGE</td>\n",
       "      <td>1</td>\n",
       "      <td>2017-12-07</td>\n",
       "      <td>1714.17</td>\n",
       "      <td>United Kingdom</td>\n",
       "      <td>22709</td>\n",
       "    </tr>\n",
       "    <tr>\n",
       "      <th>541541</th>\n",
       "      <td>C581499</td>\n",
       "      <td>M</td>\n",
       "      <td>Manual</td>\n",
       "      <td>-1</td>\n",
       "      <td>2017-12-07</td>\n",
       "      <td>224.69</td>\n",
       "      <td>United Kingdom</td>\n",
       "      <td>15498</td>\n",
       "    </tr>\n",
       "    <tr>\n",
       "      <th>541730</th>\n",
       "      <td>581570</td>\n",
       "      <td>POST</td>\n",
       "      <td>POSTAGE</td>\n",
       "      <td>1</td>\n",
       "      <td>2017-12-07</td>\n",
       "      <td>18.00</td>\n",
       "      <td>Germany</td>\n",
       "      <td>12662</td>\n",
       "    </tr>\n",
       "    <tr>\n",
       "      <th>541767</th>\n",
       "      <td>581574</td>\n",
       "      <td>POST</td>\n",
       "      <td>POSTAGE</td>\n",
       "      <td>2</td>\n",
       "      <td>2017-12-07</td>\n",
       "      <td>18.00</td>\n",
       "      <td>Germany</td>\n",
       "      <td>12526</td>\n",
       "    </tr>\n",
       "    <tr>\n",
       "      <th>541768</th>\n",
       "      <td>581578</td>\n",
       "      <td>POST</td>\n",
       "      <td>POSTAGE</td>\n",
       "      <td>3</td>\n",
       "      <td>2017-12-07</td>\n",
       "      <td>18.00</td>\n",
       "      <td>Germany</td>\n",
       "      <td>12713</td>\n",
       "    </tr>\n",
       "  </tbody>\n",
       "</table>\n",
       "<p>2759 rows × 8 columns</p>\n",
       "</div>"
      ],
      "text/plain": [
       "       invoice_no stock_code     description  quantity invoice_date  \\\n",
       "45         536370       POST         POSTAGE         3   2016-11-29   \n",
       "141       C536379          D        Discount        -1   2016-11-29   \n",
       "386        536403       POST         POSTAGE         1   2016-11-29   \n",
       "1123       536527       POST         POSTAGE         1   2016-11-29   \n",
       "1814       536544        DOT  DOTCOM POSTAGE         1   2016-11-29   \n",
       "...           ...        ...             ...       ...          ...   \n",
       "541540     581498        DOT  DOTCOM POSTAGE         1   2017-12-07   \n",
       "541541    C581499          M          Manual        -1   2017-12-07   \n",
       "541730     581570       POST         POSTAGE         1   2017-12-07   \n",
       "541767     581574       POST         POSTAGE         2   2017-12-07   \n",
       "541768     581578       POST         POSTAGE         3   2017-12-07   \n",
       "\n",
       "        unit_price         country  customer_id  \n",
       "45           18.00          France        12583  \n",
       "141          27.50  United Kingdom        14527  \n",
       "386          15.00     Netherlands        12791  \n",
       "1123         18.00         Germany        12662  \n",
       "1814        569.77  United Kingdom        19001  \n",
       "...            ...             ...          ...  \n",
       "541540     1714.17  United Kingdom        22709  \n",
       "541541      224.69  United Kingdom        15498  \n",
       "541730       18.00         Germany        12662  \n",
       "541767       18.00         Germany        12526  \n",
       "541768       18.00         Germany        12713  \n",
       "\n",
       "[2759 rows x 8 columns]"
      ]
     },
     "execution_count": 20,
     "metadata": {},
     "output_type": "execute_result"
    }
   ],
   "source": [
    "# stock_code that contain letter\n",
    "contain_letter = df1['stock_code'].apply(lambda x: bool(re.search('[^0-9]+',x)))\n",
    "unique_stock_letter = df1.loc[contain_letter,'stock_code'].drop_duplicates()\n",
    "print('stock_code unicos com alguma letra: {}'.format(unique_stock_letter.count()))\n",
    "\n",
    "# unique stock_code all letter\n",
    "all_letters = df1['stock_code'].apply(lambda x: bool(re.search('^[a-zA-Z]+$', x)))\n",
    "unique_stock_all_letter = df1.loc[all_letters,'stock_code'].drop_duplicates()\n",
    "print('stock_code que contem apenas letras: {}'.format(unique_stock_all_letter.count()))\n",
    "print('stock code all letters: {}'.format(unique_stock_all_letter.unique()))\n",
    "\n",
    "# identificação: linhas com stock_code somente letras \n",
    "df1.loc[df1['stock_code'].isin(unique_stock_all_letter)]"
   ]
  },
  {
   "cell_type": "markdown",
   "id": "2839bbe5",
   "metadata": {
    "hidden": true,
    "papermill": {
     "duration": 0.021157,
     "end_time": "2023-03-01T23:23:06.532496",
     "exception": false,
     "start_time": "2023-03-01T23:23:06.511339",
     "status": "completed"
    },
    "tags": []
   },
   "source": [
    "**Ação de limpeza:** dado que nao tenho conhecimento sobre esses valores com apenas letras, vou excluir nessa iteração"
   ]
  },
  {
   "cell_type": "markdown",
   "id": "50ed8c0b",
   "metadata": {
    "ExecuteTime": {
     "end_time": "2023-02-08T17:40:27.469700Z",
     "start_time": "2023-02-08T17:40:27.466978Z"
    },
    "heading_collapsed": true,
    "papermill": {
     "duration": 0.021411,
     "end_time": "2023-03-01T23:23:06.577586",
     "exception": false,
     "start_time": "2023-03-01T23:23:06.556175",
     "status": "completed"
    },
    "tags": []
   },
   "source": [
    "##### Description"
   ]
  },
  {
   "cell_type": "code",
   "execution_count": 21,
   "id": "a42ec1b1",
   "metadata": {
    "ExecuteTime": {
     "end_time": "2023-02-08T18:01:31.692618Z",
     "start_time": "2023-02-08T18:01:31.681009Z"
    },
    "execution": {
     "iopub.execute_input": "2023-03-01T23:23:07.079813Z",
     "iopub.status.busy": "2023-03-01T23:23:07.079285Z",
     "iopub.status.idle": "2023-03-01T23:23:07.095112Z",
     "shell.execute_reply": "2023-03-01T23:23:07.094307Z"
    },
    "hidden": true,
    "papermill": {
     "duration": 0.493899,
     "end_time": "2023-03-01T23:23:07.097778",
     "exception": false,
     "start_time": "2023-03-01T23:23:06.603879",
     "status": "completed"
    },
    "scrolled": true,
    "tags": []
   },
   "outputs": [
    {
     "data": {
      "text/html": [
       "<div>\n",
       "<style scoped>\n",
       "    .dataframe tbody tr th:only-of-type {\n",
       "        vertical-align: middle;\n",
       "    }\n",
       "\n",
       "    .dataframe tbody tr th {\n",
       "        vertical-align: top;\n",
       "    }\n",
       "\n",
       "    .dataframe thead th {\n",
       "        text-align: right;\n",
       "    }\n",
       "</style>\n",
       "<table border=\"1\" class=\"dataframe\">\n",
       "  <thead>\n",
       "    <tr style=\"text-align: right;\">\n",
       "      <th></th>\n",
       "      <th>invoice_no</th>\n",
       "      <th>stock_code</th>\n",
       "      <th>description</th>\n",
       "      <th>quantity</th>\n",
       "      <th>invoice_date</th>\n",
       "      <th>unit_price</th>\n",
       "      <th>country</th>\n",
       "      <th>customer_id</th>\n",
       "    </tr>\n",
       "  </thead>\n",
       "  <tbody>\n",
       "    <tr>\n",
       "      <th>0</th>\n",
       "      <td>536365</td>\n",
       "      <td>85123A</td>\n",
       "      <td>WHITE HANGING HEART T-LIGHT HOLDER</td>\n",
       "      <td>6</td>\n",
       "      <td>2016-11-29</td>\n",
       "      <td>2.55</td>\n",
       "      <td>United Kingdom</td>\n",
       "      <td>17850</td>\n",
       "    </tr>\n",
       "    <tr>\n",
       "      <th>1</th>\n",
       "      <td>536365</td>\n",
       "      <td>71053</td>\n",
       "      <td>WHITE METAL LANTERN</td>\n",
       "      <td>6</td>\n",
       "      <td>2016-11-29</td>\n",
       "      <td>3.39</td>\n",
       "      <td>United Kingdom</td>\n",
       "      <td>17850</td>\n",
       "    </tr>\n",
       "    <tr>\n",
       "      <th>2</th>\n",
       "      <td>536365</td>\n",
       "      <td>84406B</td>\n",
       "      <td>CREAM CUPID HEARTS COAT HANGER</td>\n",
       "      <td>8</td>\n",
       "      <td>2016-11-29</td>\n",
       "      <td>2.75</td>\n",
       "      <td>United Kingdom</td>\n",
       "      <td>17850</td>\n",
       "    </tr>\n",
       "    <tr>\n",
       "      <th>3</th>\n",
       "      <td>536365</td>\n",
       "      <td>84029G</td>\n",
       "      <td>KNITTED UNION FLAG HOT WATER BOTTLE</td>\n",
       "      <td>6</td>\n",
       "      <td>2016-11-29</td>\n",
       "      <td>3.39</td>\n",
       "      <td>United Kingdom</td>\n",
       "      <td>17850</td>\n",
       "    </tr>\n",
       "    <tr>\n",
       "      <th>4</th>\n",
       "      <td>536365</td>\n",
       "      <td>84029E</td>\n",
       "      <td>RED WOOLLY HOTTIE WHITE HEART.</td>\n",
       "      <td>6</td>\n",
       "      <td>2016-11-29</td>\n",
       "      <td>3.39</td>\n",
       "      <td>United Kingdom</td>\n",
       "      <td>17850</td>\n",
       "    </tr>\n",
       "  </tbody>\n",
       "</table>\n",
       "</div>"
      ],
      "text/plain": [
       "  invoice_no stock_code                          description  quantity  \\\n",
       "0     536365     85123A   WHITE HANGING HEART T-LIGHT HOLDER         6   \n",
       "1     536365      71053                  WHITE METAL LANTERN         6   \n",
       "2     536365     84406B       CREAM CUPID HEARTS COAT HANGER         8   \n",
       "3     536365     84029G  KNITTED UNION FLAG HOT WATER BOTTLE         6   \n",
       "4     536365     84029E       RED WOOLLY HOTTIE WHITE HEART.         6   \n",
       "\n",
       "  invoice_date  unit_price         country  customer_id  \n",
       "0   2016-11-29        2.55  United Kingdom        17850  \n",
       "1   2016-11-29        3.39  United Kingdom        17850  \n",
       "2   2016-11-29        2.75  United Kingdom        17850  \n",
       "3   2016-11-29        3.39  United Kingdom        17850  \n",
       "4   2016-11-29        3.39  United Kingdom        17850  "
      ]
     },
     "execution_count": 21,
     "metadata": {},
     "output_type": "execute_result"
    }
   ],
   "source": [
    "df1.head()"
   ]
  },
  {
   "cell_type": "markdown",
   "id": "11d40d49",
   "metadata": {
    "hidden": true,
    "papermill": {
     "duration": 1.119118,
     "end_time": "2023-03-01T23:23:08.243517",
     "exception": false,
     "start_time": "2023-03-01T23:23:07.124399",
     "status": "completed"
    },
    "tags": []
   },
   "source": [
    "**Ação:** enquanto nao sei como usar essa coluna para gerar alguma informação, vou exclui-la "
   ]
  },
  {
   "cell_type": "markdown",
   "id": "ecc2ef62",
   "metadata": {
    "ExecuteTime": {
     "end_time": "2023-02-08T17:40:38.015007Z",
     "start_time": "2023-02-08T17:40:38.012120Z"
    },
    "heading_collapsed": true,
    "papermill": {
     "duration": 0.024828,
     "end_time": "2023-03-01T23:23:08.406591",
     "exception": false,
     "start_time": "2023-03-01T23:23:08.381763",
     "status": "completed"
    },
    "tags": []
   },
   "source": [
    "##### Country"
   ]
  },
  {
   "cell_type": "code",
   "execution_count": 22,
   "id": "94fb0885",
   "metadata": {
    "ExecuteTime": {
     "end_time": "2023-02-09T00:24:08.730013Z",
     "start_time": "2023-02-09T00:24:08.700014Z"
    },
    "execution": {
     "iopub.execute_input": "2023-03-01T23:23:08.463130Z",
     "iopub.status.busy": "2023-03-01T23:23:08.462437Z",
     "iopub.status.idle": "2023-03-01T23:23:08.500849Z",
     "shell.execute_reply": "2023-03-01T23:23:08.500035Z"
    },
    "hidden": true,
    "papermill": {
     "duration": 0.070506,
     "end_time": "2023-03-01T23:23:08.503595",
     "exception": false,
     "start_time": "2023-03-01T23:23:08.433089",
     "status": "completed"
    },
    "tags": []
   },
   "outputs": [
    {
     "data": {
      "text/plain": [
       "array(['United Kingdom', 'France', 'Australia', 'Netherlands', 'Germany',\n",
       "       'Norway', 'EIRE', 'Switzerland', 'Spain', 'Poland', 'Portugal',\n",
       "       'Italy', 'Belgium', 'Lithuania', 'Japan', 'Iceland',\n",
       "       'Channel Islands', 'Denmark', 'Cyprus', 'Sweden', 'Austria',\n",
       "       'Israel', 'Finland', 'Bahrain', 'Greece', 'Hong Kong', 'Singapore',\n",
       "       'Lebanon', 'United Arab Emirates', 'Saudi Arabia',\n",
       "       'Czech Republic', 'Canada', 'Unspecified', 'Brazil', 'USA',\n",
       "       'European Community', 'Malta', 'RSA'], dtype=object)"
      ]
     },
     "execution_count": 22,
     "metadata": {},
     "output_type": "execute_result"
    }
   ],
   "source": [
    "df1['country'].unique()"
   ]
  },
  {
   "cell_type": "markdown",
   "id": "42e55827",
   "metadata": {
    "hidden": true,
    "papermill": {
     "duration": 0.02801,
     "end_time": "2023-03-01T23:23:08.562677",
     "exception": false,
     "start_time": "2023-03-01T23:23:08.534667",
     "status": "completed"
    },
    "tags": []
   },
   "source": [
    "Pontos que merecem atencao:<br>\n",
    "\n",
    "- United Kingdom corresponde a quase todo dataset\n",
    "- European Community aparece mesmo que os paises que se incluem nela aparecem separados \n",
    "- Unspecified"
   ]
  },
  {
   "cell_type": "code",
   "execution_count": 23,
   "id": "9c6a7f25",
   "metadata": {
    "ExecuteTime": {
     "end_time": "2023-02-09T00:24:15.629900Z",
     "start_time": "2023-02-09T00:24:15.530872Z"
    },
    "execution": {
     "iopub.execute_input": "2023-03-01T23:23:08.622331Z",
     "iopub.status.busy": "2023-03-01T23:23:08.621081Z",
     "iopub.status.idle": "2023-03-01T23:23:08.675763Z",
     "shell.execute_reply": "2023-03-01T23:23:08.675024Z"
    },
    "hidden": true,
    "papermill": {
     "duration": 0.083503,
     "end_time": "2023-03-01T23:23:08.677923",
     "exception": false,
     "start_time": "2023-03-01T23:23:08.594420",
     "status": "completed"
    },
    "tags": []
   },
   "outputs": [
    {
     "data": {
      "text/plain": [
       "United Kingdom          0.914320\n",
       "Germany                 0.017521\n",
       "France                  0.015790\n",
       "EIRE                    0.015124\n",
       "Spain                   0.004674\n",
       "Netherlands             0.004375\n",
       "Belgium                 0.003818\n",
       "Switzerland             0.003694\n",
       "Portugal                0.002803\n",
       "Australia               0.002323\n",
       "Norway                  0.002004\n",
       "Italy                   0.001482\n",
       "Channel Islands         0.001399\n",
       "Finland                 0.001283\n",
       "Cyprus                  0.001148\n",
       "Sweden                  0.000853\n",
       "Unspecified             0.000823\n",
       "Austria                 0.000740\n",
       "Denmark                 0.000718\n",
       "Japan                   0.000661\n",
       "Poland                  0.000629\n",
       "Israel                  0.000548\n",
       "USA                     0.000537\n",
       "Hong Kong               0.000531\n",
       "Singapore               0.000423\n",
       "Iceland                 0.000336\n",
       "Canada                  0.000279\n",
       "Greece                  0.000269\n",
       "Malta                   0.000234\n",
       "United Arab Emirates    0.000125\n",
       "European Community      0.000113\n",
       "RSA                     0.000107\n",
       "Lebanon                 0.000083\n",
       "Lithuania               0.000065\n",
       "Brazil                  0.000059\n",
       "Czech Republic          0.000055\n",
       "Bahrain                 0.000035\n",
       "Saudi Arabia            0.000018\n",
       "Name: country, dtype: float64"
      ]
     },
     "execution_count": 23,
     "metadata": {},
     "output_type": "execute_result"
    }
   ],
   "source": [
    "df1['country'].value_counts(normalize=True)"
   ]
  },
  {
   "cell_type": "code",
   "execution_count": 24,
   "id": "197265a0",
   "metadata": {
    "ExecuteTime": {
     "end_time": "2023-02-08T18:10:21.178690Z",
     "start_time": "2023-02-08T18:10:21.129830Z"
    },
    "execution": {
     "iopub.execute_input": "2023-03-01T23:23:08.733187Z",
     "iopub.status.busy": "2023-03-01T23:23:08.732526Z",
     "iopub.status.idle": "2023-03-01T23:23:08.813554Z",
     "shell.execute_reply": "2023-03-01T23:23:08.812613Z"
    },
    "hidden": true,
    "papermill": {
     "duration": 0.114268,
     "end_time": "2023-03-01T23:23:08.816200",
     "exception": false,
     "start_time": "2023-03-01T23:23:08.701932",
     "status": "completed"
    },
    "tags": []
   },
   "outputs": [
    {
     "data": {
      "text/html": [
       "<div>\n",
       "<style scoped>\n",
       "    .dataframe tbody tr th:only-of-type {\n",
       "        vertical-align: middle;\n",
       "    }\n",
       "\n",
       "    .dataframe tbody tr th {\n",
       "        vertical-align: top;\n",
       "    }\n",
       "\n",
       "    .dataframe thead th {\n",
       "        text-align: right;\n",
       "    }\n",
       "</style>\n",
       "<table border=\"1\" class=\"dataframe\">\n",
       "  <thead>\n",
       "    <tr style=\"text-align: right;\">\n",
       "      <th></th>\n",
       "      <th>country</th>\n",
       "      <th>customer_id</th>\n",
       "    </tr>\n",
       "  </thead>\n",
       "  <tbody>\n",
       "    <tr>\n",
       "      <th>36</th>\n",
       "      <td>United Kingdom</td>\n",
       "      <td>7587</td>\n",
       "    </tr>\n",
       "    <tr>\n",
       "      <th>14</th>\n",
       "      <td>Germany</td>\n",
       "      <td>95</td>\n",
       "    </tr>\n",
       "    <tr>\n",
       "      <th>13</th>\n",
       "      <td>France</td>\n",
       "      <td>90</td>\n",
       "    </tr>\n",
       "    <tr>\n",
       "      <th>10</th>\n",
       "      <td>EIRE</td>\n",
       "      <td>44</td>\n",
       "    </tr>\n",
       "    <tr>\n",
       "      <th>31</th>\n",
       "      <td>Spain</td>\n",
       "      <td>31</td>\n",
       "    </tr>\n",
       "    <tr>\n",
       "      <th>3</th>\n",
       "      <td>Belgium</td>\n",
       "      <td>25</td>\n",
       "    </tr>\n",
       "    <tr>\n",
       "      <th>33</th>\n",
       "      <td>Switzerland</td>\n",
       "      <td>24</td>\n",
       "    </tr>\n",
       "    <tr>\n",
       "      <th>27</th>\n",
       "      <td>Portugal</td>\n",
       "      <td>20</td>\n",
       "    </tr>\n",
       "    <tr>\n",
       "      <th>19</th>\n",
       "      <td>Italy</td>\n",
       "      <td>15</td>\n",
       "    </tr>\n",
       "    <tr>\n",
       "      <th>16</th>\n",
       "      <td>Hong Kong</td>\n",
       "      <td>15</td>\n",
       "    </tr>\n",
       "    <tr>\n",
       "      <th>12</th>\n",
       "      <td>Finland</td>\n",
       "      <td>12</td>\n",
       "    </tr>\n",
       "    <tr>\n",
       "      <th>1</th>\n",
       "      <td>Austria</td>\n",
       "      <td>11</td>\n",
       "    </tr>\n",
       "    <tr>\n",
       "      <th>25</th>\n",
       "      <td>Norway</td>\n",
       "      <td>10</td>\n",
       "    </tr>\n",
       "    <tr>\n",
       "      <th>24</th>\n",
       "      <td>Netherlands</td>\n",
       "      <td>9</td>\n",
       "    </tr>\n",
       "    <tr>\n",
       "      <th>0</th>\n",
       "      <td>Australia</td>\n",
       "      <td>9</td>\n",
       "    </tr>\n",
       "    <tr>\n",
       "      <th>37</th>\n",
       "      <td>Unspecified</td>\n",
       "      <td>9</td>\n",
       "    </tr>\n",
       "    <tr>\n",
       "      <th>9</th>\n",
       "      <td>Denmark</td>\n",
       "      <td>9</td>\n",
       "    </tr>\n",
       "    <tr>\n",
       "      <th>6</th>\n",
       "      <td>Channel Islands</td>\n",
       "      <td>9</td>\n",
       "    </tr>\n",
       "    <tr>\n",
       "      <th>7</th>\n",
       "      <td>Cyprus</td>\n",
       "      <td>8</td>\n",
       "    </tr>\n",
       "    <tr>\n",
       "      <th>32</th>\n",
       "      <td>Sweden</td>\n",
       "      <td>8</td>\n",
       "    </tr>\n",
       "    <tr>\n",
       "      <th>20</th>\n",
       "      <td>Japan</td>\n",
       "      <td>8</td>\n",
       "    </tr>\n",
       "    <tr>\n",
       "      <th>18</th>\n",
       "      <td>Israel</td>\n",
       "      <td>7</td>\n",
       "    </tr>\n",
       "    <tr>\n",
       "      <th>26</th>\n",
       "      <td>Poland</td>\n",
       "      <td>6</td>\n",
       "    </tr>\n",
       "    <tr>\n",
       "      <th>5</th>\n",
       "      <td>Canada</td>\n",
       "      <td>4</td>\n",
       "    </tr>\n",
       "    <tr>\n",
       "      <th>34</th>\n",
       "      <td>USA</td>\n",
       "      <td>4</td>\n",
       "    </tr>\n",
       "    <tr>\n",
       "      <th>2</th>\n",
       "      <td>Bahrain</td>\n",
       "      <td>4</td>\n",
       "    </tr>\n",
       "    <tr>\n",
       "      <th>15</th>\n",
       "      <td>Greece</td>\n",
       "      <td>4</td>\n",
       "    </tr>\n",
       "    <tr>\n",
       "      <th>23</th>\n",
       "      <td>Malta</td>\n",
       "      <td>2</td>\n",
       "    </tr>\n",
       "    <tr>\n",
       "      <th>35</th>\n",
       "      <td>United Arab Emirates</td>\n",
       "      <td>2</td>\n",
       "    </tr>\n",
       "    <tr>\n",
       "      <th>8</th>\n",
       "      <td>Czech Republic</td>\n",
       "      <td>1</td>\n",
       "    </tr>\n",
       "    <tr>\n",
       "      <th>22</th>\n",
       "      <td>Lithuania</td>\n",
       "      <td>1</td>\n",
       "    </tr>\n",
       "    <tr>\n",
       "      <th>11</th>\n",
       "      <td>European Community</td>\n",
       "      <td>1</td>\n",
       "    </tr>\n",
       "    <tr>\n",
       "      <th>21</th>\n",
       "      <td>Lebanon</td>\n",
       "      <td>1</td>\n",
       "    </tr>\n",
       "    <tr>\n",
       "      <th>28</th>\n",
       "      <td>RSA</td>\n",
       "      <td>1</td>\n",
       "    </tr>\n",
       "    <tr>\n",
       "      <th>29</th>\n",
       "      <td>Saudi Arabia</td>\n",
       "      <td>1</td>\n",
       "    </tr>\n",
       "    <tr>\n",
       "      <th>30</th>\n",
       "      <td>Singapore</td>\n",
       "      <td>1</td>\n",
       "    </tr>\n",
       "    <tr>\n",
       "      <th>17</th>\n",
       "      <td>Iceland</td>\n",
       "      <td>1</td>\n",
       "    </tr>\n",
       "    <tr>\n",
       "      <th>4</th>\n",
       "      <td>Brazil</td>\n",
       "      <td>1</td>\n",
       "    </tr>\n",
       "  </tbody>\n",
       "</table>\n",
       "</div>"
      ],
      "text/plain": [
       "                 country  customer_id\n",
       "36        United Kingdom         7587\n",
       "14               Germany           95\n",
       "13                France           90\n",
       "10                  EIRE           44\n",
       "31                 Spain           31\n",
       "3                Belgium           25\n",
       "33           Switzerland           24\n",
       "27              Portugal           20\n",
       "19                 Italy           15\n",
       "16             Hong Kong           15\n",
       "12               Finland           12\n",
       "1                Austria           11\n",
       "25                Norway           10\n",
       "24           Netherlands            9\n",
       "0              Australia            9\n",
       "37           Unspecified            9\n",
       "9                Denmark            9\n",
       "6        Channel Islands            9\n",
       "7                 Cyprus            8\n",
       "32                Sweden            8\n",
       "20                 Japan            8\n",
       "18                Israel            7\n",
       "26                Poland            6\n",
       "5                 Canada            4\n",
       "34                   USA            4\n",
       "2                Bahrain            4\n",
       "15                Greece            4\n",
       "23                 Malta            2\n",
       "35  United Arab Emirates            2\n",
       "8         Czech Republic            1\n",
       "22             Lithuania            1\n",
       "11    European Community            1\n",
       "21               Lebanon            1\n",
       "28                   RSA            1\n",
       "29          Saudi Arabia            1\n",
       "30             Singapore            1\n",
       "17               Iceland            1\n",
       "4                 Brazil            1"
      ]
     },
     "execution_count": 24,
     "metadata": {},
     "output_type": "execute_result"
    }
   ],
   "source": [
    "# customers per country\n",
    "df1[['customer_id','country']].drop_duplicates().groupby('country').count().reset_index().sort_values('customer_id',ascending=False)"
   ]
  },
  {
   "cell_type": "markdown",
   "id": "15b5853c",
   "metadata": {
    "ExecuteTime": {
     "end_time": "2023-02-02T17:44:43.119903Z",
     "start_time": "2023-02-02T17:44:43.116700Z"
    },
    "papermill": {
     "duration": 0.034398,
     "end_time": "2023-03-01T23:23:08.881702",
     "exception": false,
     "start_time": "2023-03-01T23:23:08.847304",
     "status": "completed"
    },
    "tags": []
   },
   "source": [
    "# <span style=\"color: OrangeRed;\">DATA FILTERING</span>\n",
    "<span style=\"color: OrangeRed;\">***PASSO 2*** </span>"
   ]
  },
  {
   "cell_type": "code",
   "execution_count": 25,
   "id": "709c7bee",
   "metadata": {
    "ExecuteTime": {
     "end_time": "2023-03-01T20:37:39.984571Z",
     "start_time": "2023-03-01T20:37:39.967808Z"
    },
    "execution": {
     "iopub.execute_input": "2023-03-01T23:23:08.941612Z",
     "iopub.status.busy": "2023-03-01T23:23:08.940973Z",
     "iopub.status.idle": "2023-03-01T23:23:08.956951Z",
     "shell.execute_reply": "2023-03-01T23:23:08.955643Z"
    },
    "papermill": {
     "duration": 0.04818,
     "end_time": "2023-03-01T23:23:08.960153",
     "exception": false,
     "start_time": "2023-03-01T23:23:08.911973",
     "status": "completed"
    },
    "tags": []
   },
   "outputs": [],
   "source": [
    "df2 = df1.copy()"
   ]
  },
  {
   "cell_type": "code",
   "execution_count": 26,
   "id": "367a981b",
   "metadata": {
    "ExecuteTime": {
     "end_time": "2023-03-01T20:37:40.918908Z",
     "start_time": "2023-03-01T20:37:40.715920Z"
    },
    "code_folding": [],
    "execution": {
     "iopub.execute_input": "2023-03-01T23:23:09.026728Z",
     "iopub.status.busy": "2023-03-01T23:23:09.026094Z",
     "iopub.status.idle": "2023-03-01T23:23:09.329986Z",
     "shell.execute_reply": "2023-03-01T23:23:09.328888Z"
    },
    "papermill": {
     "duration": 0.345174,
     "end_time": "2023-03-01T23:23:09.333524",
     "exception": false,
     "start_time": "2023-03-01T23:23:08.988350",
     "status": "completed"
    },
    "tags": []
   },
   "outputs": [],
   "source": [
    "# === Categorical attributes === \n",
    "# stock_code\n",
    "df2 = df2.loc[~df2['stock_code'].isin(['POST', 'D', 'DOT', 'M', 'S', 'AMAZONFEE', 'm', 'DCGSSBOY', 'DCGSSGIRL', 'PADS','B', 'CRUK'])]\n",
    "\n",
    "# description\n",
    "df2 = df2.drop(columns = ['description'], axis=1)\n",
    "\n",
    "#country\n",
    "df2 = df2.loc[~df2['country'].isin(['Unspecified','European Community']), :]\n",
    "\n",
    "# bad customers\n",
    "df2 = df2[~df2['customer_id'].isin([16446]) ]\n",
    "\n",
    "\n",
    "# === Numerical attributes === \n",
    "# unit_price above 0.01\n",
    "df2 = df2.loc[df2['unit_price']>0.01]\n",
    "\n",
    "# quantity\n",
    "df_returns = df2.loc[df2['quantity']<0]\n",
    "df_purchase = df2.loc[df2['quantity']>0]\n",
    "\n",
    "\n",
    "\n"
   ]
  },
  {
   "cell_type": "markdown",
   "id": "b1171c0f",
   "metadata": {
    "ExecuteTime": {
     "end_time": "2023-02-02T17:44:43.119903Z",
     "start_time": "2023-02-02T17:44:43.116700Z"
    },
    "papermill": {
     "duration": 0.023216,
     "end_time": "2023-03-01T23:23:09.384430",
     "exception": false,
     "start_time": "2023-03-01T23:23:09.361214",
     "status": "completed"
    },
    "tags": []
   },
   "source": [
    "# <span style=\"color: OrangeRed;\">FEATURE ENGINEERING</span>\n",
    "<span style=\"color: OrangeRed;\">***PASSO 3***</span>"
   ]
  },
  {
   "cell_type": "code",
   "execution_count": 27,
   "id": "e8da8f7f",
   "metadata": {
    "ExecuteTime": {
     "end_time": "2023-03-01T20:37:45.925852Z",
     "start_time": "2023-03-01T20:37:45.910372Z"
    },
    "execution": {
     "iopub.execute_input": "2023-03-01T23:23:09.450416Z",
     "iopub.status.busy": "2023-03-01T23:23:09.449835Z",
     "iopub.status.idle": "2023-03-01T23:23:09.477787Z",
     "shell.execute_reply": "2023-03-01T23:23:09.476453Z"
    },
    "papermill": {
     "duration": 0.068139,
     "end_time": "2023-03-01T23:23:09.480217",
     "exception": false,
     "start_time": "2023-03-01T23:23:09.412078",
     "status": "completed"
    },
    "tags": []
   },
   "outputs": [],
   "source": [
    "df3 = df2.copy()"
   ]
  },
  {
   "cell_type": "markdown",
   "id": "ce3acfc3",
   "metadata": {
    "papermill": {
     "duration": 0.026994,
     "end_time": "2023-03-01T23:23:09.531694",
     "exception": false,
     "start_time": "2023-03-01T23:23:09.504700",
     "status": "completed"
    },
    "tags": []
   },
   "source": [
    "## Feature Creation"
   ]
  },
  {
   "cell_type": "code",
   "execution_count": 28,
   "id": "c7b4a285",
   "metadata": {
    "ExecuteTime": {
     "end_time": "2023-03-01T20:37:47.160634Z",
     "start_time": "2023-03-01T20:37:47.140919Z"
    },
    "execution": {
     "iopub.execute_input": "2023-03-01T23:23:09.582455Z",
     "iopub.status.busy": "2023-03-01T23:23:09.582214Z",
     "iopub.status.idle": "2023-03-01T23:23:09.603174Z",
     "shell.execute_reply": "2023-03-01T23:23:09.602475Z"
    },
    "papermill": {
     "duration": 0.051173,
     "end_time": "2023-03-01T23:23:09.604901",
     "exception": false,
     "start_time": "2023-03-01T23:23:09.553728",
     "status": "completed"
    },
    "tags": []
   },
   "outputs": [],
   "source": [
    "# dataframe of unique 'customer_id' to be merged with\n",
    "df_customers = df2.drop(columns= ['invoice_no', 'stock_code', 'quantity', 'invoice_date',\n",
    "                                  'unit_price', 'country'],axis=1).drop_duplicates(ignore_index=True)"
   ]
  },
  {
   "cell_type": "markdown",
   "id": "d8fcec61",
   "metadata": {
    "ExecuteTime": {
     "end_time": "2023-02-09T00:50:52.058492Z",
     "start_time": "2023-02-09T00:50:52.053044Z"
    },
    "papermill": {
     "duration": 0.024059,
     "end_time": "2023-03-01T23:23:09.660721",
     "exception": false,
     "start_time": "2023-03-01T23:23:09.636662",
     "status": "completed"
    },
    "tags": []
   },
   "source": [
    "### Monetary - gross revenue by customers"
   ]
  },
  {
   "cell_type": "code",
   "execution_count": 29,
   "id": "b7afb5b4",
   "metadata": {
    "ExecuteTime": {
     "end_time": "2023-03-01T20:37:48.402332Z",
     "start_time": "2023-03-01T20:37:48.370870Z"
    },
    "execution": {
     "iopub.execute_input": "2023-03-01T23:23:09.723992Z",
     "iopub.status.busy": "2023-03-01T23:23:09.723252Z",
     "iopub.status.idle": "2023-03-01T23:23:09.772261Z",
     "shell.execute_reply": "2023-03-01T23:23:09.771023Z"
    },
    "papermill": {
     "duration": 0.083956,
     "end_time": "2023-03-01T23:23:09.775661",
     "exception": false,
     "start_time": "2023-03-01T23:23:09.691705",
     "status": "completed"
    },
    "scrolled": true,
    "tags": []
   },
   "outputs": [
    {
     "name": "stderr",
     "output_type": "stream",
     "text": [
      "/tmp/ipykernel_31530/3064971249.py:2: SettingWithCopyWarning: \n",
      "A value is trying to be set on a copy of a slice from a DataFrame.\n",
      "Try using .loc[row_indexer,col_indexer] = value instead\n",
      "\n",
      "See the caveats in the documentation: https://pandas.pydata.org/pandas-docs/stable/user_guide/indexing.html#returning-a-view-versus-a-copy\n",
      "  df_purchase['gross_revenue'] = df_purchase['unit_price']*df_purchase['quantity']\n"
     ]
    },
    {
     "data": {
      "text/plain": [
       "customer_id     0\n",
       "monetary       91\n",
       "dtype: int64"
      ]
     },
     "execution_count": 29,
     "metadata": {},
     "output_type": "execute_result"
    }
   ],
   "source": [
    "# monetary or LTV - gross revenue/customer\n",
    "df_purchase['gross_revenue'] = df_purchase['unit_price']*df_purchase['quantity']\n",
    "df_monetary = df_purchase.groupby('customer_id')['gross_revenue'].sum().reset_index()\n",
    "df_monetary = df_monetary.rename(columns = {'gross_revenue':'monetary'})\n",
    "\n",
    "df_customers = pd.merge(df_customers,df_monetary, on='customer_id', how='left')\n",
    "df_customers.isna().sum() # 91 linhas com quantity negativo "
   ]
  },
  {
   "cell_type": "markdown",
   "id": "186b506c",
   "metadata": {
    "papermill": {
     "duration": 0.027226,
     "end_time": "2023-03-01T23:23:09.838459",
     "exception": false,
     "start_time": "2023-03-01T23:23:09.811233",
     "status": "completed"
    },
    "tags": []
   },
   "source": [
    "### Recency - days since last purchase"
   ]
  },
  {
   "cell_type": "code",
   "execution_count": 30,
   "id": "0f4c6442",
   "metadata": {
    "ExecuteTime": {
     "end_time": "2023-03-01T20:37:49.994219Z",
     "start_time": "2023-03-01T20:37:49.963438Z"
    },
    "execution": {
     "iopub.execute_input": "2023-03-01T23:23:09.903286Z",
     "iopub.status.busy": "2023-03-01T23:23:09.902801Z",
     "iopub.status.idle": "2023-03-01T23:23:09.935869Z",
     "shell.execute_reply": "2023-03-01T23:23:09.935007Z"
    },
    "papermill": {
     "duration": 0.068801,
     "end_time": "2023-03-01T23:23:09.938184",
     "exception": false,
     "start_time": "2023-03-01T23:23:09.869383",
     "status": "completed"
    },
    "tags": []
   },
   "outputs": [
    {
     "data": {
      "text/plain": [
       "customer_id     0\n",
       "monetary       91\n",
       "recency        91\n",
       "dtype: int64"
      ]
     },
     "execution_count": 30,
     "metadata": {},
     "output_type": "execute_result"
    }
   ],
   "source": [
    "# recency - days since last purchase\n",
    "df_recency = df_purchase.groupby('customer_id')['invoice_date'].max().reset_index()\n",
    "df_recency['recency'] = (df_recency['invoice_date'].max() - df_recency['invoice_date']).dt.days\n",
    "df_recency = df_recency[['customer_id','recency']]\n",
    "df_recency.head()\n",
    "\n",
    "df_customers = pd.merge(df_customers,df_recency, on='customer_id', how='left')\n",
    "df_customers.head()\n",
    "df_customers.isna().sum()"
   ]
  },
  {
   "cell_type": "markdown",
   "id": "abeb566a",
   "metadata": {
    "papermill": {
     "duration": 0.022695,
     "end_time": "2023-03-01T23:23:10.018929",
     "exception": false,
     "start_time": "2023-03-01T23:23:09.996234",
     "status": "completed"
    },
    "tags": []
   },
   "source": [
    "### Frequency - purchases/day"
   ]
  },
  {
   "cell_type": "code",
   "execution_count": 31,
   "id": "1348285f",
   "metadata": {
    "ExecuteTime": {
     "end_time": "2023-03-01T20:37:51.428673Z",
     "start_time": "2023-03-01T20:37:51.424382Z"
    },
    "execution": {
     "iopub.execute_input": "2023-03-01T23:23:10.071677Z",
     "iopub.status.busy": "2023-03-01T23:23:10.071333Z",
     "iopub.status.idle": "2023-03-01T23:23:10.078377Z",
     "shell.execute_reply": "2023-03-01T23:23:10.076906Z"
    },
    "papermill": {
     "duration": 0.03895,
     "end_time": "2023-03-01T23:23:10.082382",
     "exception": false,
     "start_time": "2023-03-01T23:23:10.043432",
     "status": "completed"
    },
    "tags": []
   },
   "outputs": [],
   "source": [
    "# # frequency - purchases/month\n",
    "# df_purchase['year_month'] = df_purchase['invoice_date'].dt.strftime('%Y-%m')\n",
    "# df_frequency = df_purchase[['customer_id','year_month','invoice_no']].groupby(['customer_id','year_month']).nunique().reset_index()\n",
    "# df_frequency = df_frequency.groupby('customer_id')['invoice_no'].mean().reset_index()\n",
    "# df_frequency = df_frequency.rename (columns = {'invoice_no':'frequency'})\n",
    "# df_frequency.head()\n",
    "\n",
    "# df_customers = pd.merge(df_customers,df_frequency, on='customer_id', how='left')\n",
    "# df_customers.head()\n",
    "# df_customers.isna().sum()"
   ]
  },
  {
   "cell_type": "code",
   "execution_count": 32,
   "id": "2e5c06fe",
   "metadata": {
    "ExecuteTime": {
     "end_time": "2023-03-01T20:37:54.175930Z",
     "start_time": "2023-03-01T20:37:52.486148Z"
    },
    "execution": {
     "iopub.execute_input": "2023-03-01T23:23:10.134463Z",
     "iopub.status.busy": "2023-03-01T23:23:10.134126Z",
     "iopub.status.idle": "2023-03-01T23:23:11.843136Z",
     "shell.execute_reply": "2023-03-01T23:23:11.842360Z"
    },
    "papermill": {
     "duration": 1.736966,
     "end_time": "2023-03-01T23:23:11.845282",
     "exception": false,
     "start_time": "2023-03-01T23:23:10.108316",
     "status": "completed"
    },
    "tags": []
   },
   "outputs": [
    {
     "data": {
      "text/plain": [
       "customer_id     0\n",
       "monetary       91\n",
       "recency        91\n",
       "frequency      91\n",
       "dtype: int64"
      ]
     },
     "execution_count": 32,
     "metadata": {},
     "output_type": "execute_result"
    }
   ],
   "source": [
    "# frequency - purchases/day\n",
    "df_aux = (df_purchase[['invoice_no','customer_id','invoice_date']].drop_duplicates().groupby('customer_id')\n",
    "                                                                           .aggregate (max_   = ('invoice_date','max'),\n",
    "                                                                                       min_   = ('invoice_date','min'), \n",
    "                                                                                       period = ('invoice_date', lambda x: (x.max()-x.min()).days + 1),\n",
    "                                                                                       invoice_no = ('invoice_no','count'))).reset_index()\n",
    "\n",
    "df_aux['frequency'] = df_aux.apply(lambda x: x['invoice_no']/x['period'] if x['period']!=0 else 0, axis=1)\n",
    "\n",
    "df_customers = pd.merge(df_customers, df_aux[['customer_id','frequency']], on='customer_id', how='left')\n",
    "df_customers.isna().sum()"
   ]
  },
  {
   "cell_type": "markdown",
   "id": "ebc66afe",
   "metadata": {
    "papermill": {
     "duration": 0.029329,
     "end_time": "2023-03-01T23:23:11.899585",
     "exception": false,
     "start_time": "2023-03-01T23:23:11.870256",
     "status": "completed"
    },
    "tags": []
   },
   "source": [
    "### Quantity products - different stock_code by customer"
   ]
  },
  {
   "cell_type": "code",
   "execution_count": 33,
   "id": "67d540db",
   "metadata": {
    "ExecuteTime": {
     "end_time": "2023-03-01T20:37:56.006652Z",
     "start_time": "2023-03-01T20:37:55.904039Z"
    },
    "execution": {
     "iopub.execute_input": "2023-03-01T23:23:11.954740Z",
     "iopub.status.busy": "2023-03-01T23:23:11.954397Z",
     "iopub.status.idle": "2023-03-01T23:23:12.074161Z",
     "shell.execute_reply": "2023-03-01T23:23:12.073416Z"
    },
    "papermill": {
     "duration": 0.151812,
     "end_time": "2023-03-01T23:23:12.076069",
     "exception": false,
     "start_time": "2023-03-01T23:23:11.924257",
     "status": "completed"
    },
    "tags": []
   },
   "outputs": [
    {
     "data": {
      "text/plain": [
       "customer_id           0\n",
       "monetary             91\n",
       "recency              91\n",
       "frequency            91\n",
       "quantity_products    91\n",
       "dtype: int64"
      ]
     },
     "execution_count": 33,
     "metadata": {},
     "output_type": "execute_result"
    }
   ],
   "source": [
    "df_products_purchased = df_purchase[['customer_id','stock_code']].groupby('customer_id').count().reset_index().rename(columns={'stock_code':'quantity_products'})\n",
    "df_customers = pd.merge(df_customers,df_products_purchased, on='customer_id', how='left')\n",
    "df_customers.isna().sum()"
   ]
  },
  {
   "cell_type": "markdown",
   "id": "ea5d4171",
   "metadata": {
    "papermill": {
     "duration": 0.464187,
     "end_time": "2023-03-01T23:23:12.576401",
     "exception": false,
     "start_time": "2023-03-01T23:23:12.112214",
     "status": "completed"
    },
    "tags": []
   },
   "source": [
    "### Returns - number of returns"
   ]
  },
  {
   "cell_type": "code",
   "execution_count": 34,
   "id": "279c00e3",
   "metadata": {
    "ExecuteTime": {
     "end_time": "2023-03-01T20:37:59.647248Z",
     "start_time": "2023-03-01T20:37:59.634982Z"
    },
    "execution": {
     "iopub.execute_input": "2023-03-01T23:23:12.665258Z",
     "iopub.status.busy": "2023-03-01T23:23:12.664644Z",
     "iopub.status.idle": "2023-03-01T23:23:12.683689Z",
     "shell.execute_reply": "2023-03-01T23:23:12.681421Z"
    },
    "papermill": {
     "duration": 0.061002,
     "end_time": "2023-03-01T23:23:12.687065",
     "exception": false,
     "start_time": "2023-03-01T23:23:12.626063",
     "status": "completed"
    },
    "tags": []
   },
   "outputs": [
    {
     "data": {
      "text/html": [
       "<div>\n",
       "<style scoped>\n",
       "    .dataframe tbody tr th:only-of-type {\n",
       "        vertical-align: middle;\n",
       "    }\n",
       "\n",
       "    .dataframe tbody tr th {\n",
       "        vertical-align: top;\n",
       "    }\n",
       "\n",
       "    .dataframe thead th {\n",
       "        text-align: right;\n",
       "    }\n",
       "</style>\n",
       "<table border=\"1\" class=\"dataframe\">\n",
       "  <thead>\n",
       "    <tr style=\"text-align: right;\">\n",
       "      <th></th>\n",
       "      <th>customer_id</th>\n",
       "      <th>quantity</th>\n",
       "    </tr>\n",
       "  </thead>\n",
       "  <tbody>\n",
       "    <tr>\n",
       "      <th>154</th>\n",
       "      <td>15311</td>\n",
       "      <td>-1</td>\n",
       "    </tr>\n",
       "    <tr>\n",
       "      <th>235</th>\n",
       "      <td>17548</td>\n",
       "      <td>-12</td>\n",
       "    </tr>\n",
       "    <tr>\n",
       "      <th>236</th>\n",
       "      <td>17548</td>\n",
       "      <td>-24</td>\n",
       "    </tr>\n",
       "    <tr>\n",
       "      <th>939</th>\n",
       "      <td>17897</td>\n",
       "      <td>-6</td>\n",
       "    </tr>\n",
       "    <tr>\n",
       "      <th>1441</th>\n",
       "      <td>17841</td>\n",
       "      <td>-1</td>\n",
       "    </tr>\n",
       "    <tr>\n",
       "      <th>...</th>\n",
       "      <td>...</td>\n",
       "      <td>...</td>\n",
       "    </tr>\n",
       "    <tr>\n",
       "      <th>540141</th>\n",
       "      <td>13599</td>\n",
       "      <td>-10</td>\n",
       "    </tr>\n",
       "    <tr>\n",
       "      <th>540176</th>\n",
       "      <td>17924</td>\n",
       "      <td>-4</td>\n",
       "    </tr>\n",
       "    <tr>\n",
       "      <th>540448</th>\n",
       "      <td>14397</td>\n",
       "      <td>-12</td>\n",
       "    </tr>\n",
       "    <tr>\n",
       "      <th>540449</th>\n",
       "      <td>14397</td>\n",
       "      <td>-11</td>\n",
       "    </tr>\n",
       "    <tr>\n",
       "      <th>541717</th>\n",
       "      <td>17315</td>\n",
       "      <td>-5</td>\n",
       "    </tr>\n",
       "  </tbody>\n",
       "</table>\n",
       "<p>3999 rows × 2 columns</p>\n",
       "</div>"
      ],
      "text/plain": [
       "        customer_id  quantity\n",
       "154           15311        -1\n",
       "235           17548       -12\n",
       "236           17548       -24\n",
       "939           17897        -6\n",
       "1441          17841        -1\n",
       "...             ...       ...\n",
       "540141        13599       -10\n",
       "540176        17924        -4\n",
       "540448        14397       -12\n",
       "540449        14397       -11\n",
       "541717        17315        -5\n",
       "\n",
       "[3999 rows x 2 columns]"
      ]
     },
     "execution_count": 34,
     "metadata": {},
     "output_type": "execute_result"
    }
   ],
   "source": [
    "df_returns[['customer_id','quantity']].drop_duplicates()"
   ]
  },
  {
   "cell_type": "code",
   "execution_count": 35,
   "id": "2833282d",
   "metadata": {
    "ExecuteTime": {
     "end_time": "2023-03-01T20:38:00.619000Z",
     "start_time": "2023-03-01T20:38:00.594886Z"
    },
    "execution": {
     "iopub.execute_input": "2023-03-01T23:23:12.764789Z",
     "iopub.status.busy": "2023-03-01T23:23:12.764280Z",
     "iopub.status.idle": "2023-03-01T23:23:12.792162Z",
     "shell.execute_reply": "2023-03-01T23:23:12.791304Z"
    },
    "papermill": {
     "duration": 0.067419,
     "end_time": "2023-03-01T23:23:12.794180",
     "exception": false,
     "start_time": "2023-03-01T23:23:12.726761",
     "status": "completed"
    },
    "scrolled": true,
    "tags": []
   },
   "outputs": [
    {
     "data": {
      "text/plain": [
       "customer_id           0\n",
       "monetary             91\n",
       "recency              91\n",
       "frequency            91\n",
       "quantity_products    91\n",
       "returns               0\n",
       "dtype: int64"
      ]
     },
     "execution_count": 35,
     "metadata": {},
     "output_type": "execute_result"
    }
   ],
   "source": [
    "# Number of returns \n",
    "df_returns = df_returns[['customer_id','quantity']].drop_duplicates().groupby('customer_id').sum().reset_index().rename(columns={'quantity':'returns'})\n",
    "df_returns['returns'] = df_returns['returns']*(-1)\n",
    "df_customers = pd.merge(df_customers, df_returns,how='left',on='customer_id')\n",
    "df_customers.loc[df_customers['returns'].isna(),'returns'] = 0\n",
    "df_customers.isna().sum()\n",
    "\n",
    "# first_purchase_at - min invoice_date"
   ]
  },
  {
   "cell_type": "code",
   "execution_count": 36,
   "id": "6c87014e",
   "metadata": {
    "ExecuteTime": {
     "end_time": "2023-03-01T20:38:02.092203Z",
     "start_time": "2023-03-01T20:38:02.089485Z"
    },
    "execution": {
     "iopub.execute_input": "2023-03-01T23:23:12.869750Z",
     "iopub.status.busy": "2023-03-01T23:23:12.869204Z",
     "iopub.status.idle": "2023-03-01T23:23:12.874687Z",
     "shell.execute_reply": "2023-03-01T23:23:12.873851Z"
    },
    "papermill": {
     "duration": 0.043826,
     "end_time": "2023-03-01T23:23:12.876854",
     "exception": false,
     "start_time": "2023-03-01T23:23:12.833028",
     "status": "completed"
    },
    "tags": []
   },
   "outputs": [],
   "source": [
    "# path = '/home/daniel/repos/ds_em_clusterizacao/pa005_insiders_clustering/data/processed/'\n",
    "\n",
    "# df_customers.to_csv(path+'feature_engineering.csv', index=False)"
   ]
  },
  {
   "cell_type": "code",
   "execution_count": 37,
   "id": "8ce3c09f",
   "metadata": {
    "ExecuteTime": {
     "end_time": "2023-03-01T20:38:02.567955Z",
     "start_time": "2023-03-01T20:38:02.563112Z"
    },
    "execution": {
     "iopub.execute_input": "2023-03-01T23:23:12.944796Z",
     "iopub.status.busy": "2023-03-01T23:23:12.944157Z",
     "iopub.status.idle": "2023-03-01T23:23:12.950257Z",
     "shell.execute_reply": "2023-03-01T23:23:12.949069Z"
    },
    "papermill": {
     "duration": 0.042696,
     "end_time": "2023-03-01T23:23:12.953182",
     "exception": false,
     "start_time": "2023-03-01T23:23:12.910486",
     "status": "completed"
    },
    "tags": []
   },
   "outputs": [
    {
     "data": {
      "text/plain": [
       "(5786, 6)"
      ]
     },
     "execution_count": 37,
     "metadata": {},
     "output_type": "execute_result"
    }
   ],
   "source": [
    "df_customers.shape"
   ]
  },
  {
   "cell_type": "markdown",
   "id": "dfb985e3",
   "metadata": {
    "ExecuteTime": {
     "end_time": "2023-02-02T17:44:43.119903Z",
     "start_time": "2023-02-02T17:44:43.116700Z"
    },
    "papermill": {
     "duration": 0.031703,
     "end_time": "2023-03-01T23:23:13.016109",
     "exception": false,
     "start_time": "2023-03-01T23:23:12.984406",
     "status": "completed"
    },
    "tags": []
   },
   "source": [
    "#  <span style=\"color: OrangeRed;\">EXPLORATORY DATA ANALYSIS (EDA) PT1</span>\n",
    "<span style=\"color: OrangeRed;\">***PASSO 4*** </span>"
   ]
  },
  {
   "cell_type": "code",
   "execution_count": 38,
   "id": "45d15171",
   "metadata": {
    "ExecuteTime": {
     "end_time": "2023-03-01T20:38:04.956289Z",
     "start_time": "2023-03-01T20:38:04.953533Z"
    },
    "execution": {
     "iopub.execute_input": "2023-03-01T23:23:13.088092Z",
     "iopub.status.busy": "2023-03-01T23:23:13.087536Z",
     "iopub.status.idle": "2023-03-01T23:23:13.091458Z",
     "shell.execute_reply": "2023-03-01T23:23:13.090253Z"
    },
    "papermill": {
     "duration": 0.038949,
     "end_time": "2023-03-01T23:23:13.095345",
     "exception": false,
     "start_time": "2023-03-01T23:23:13.056396",
     "status": "completed"
    },
    "tags": []
   },
   "outputs": [],
   "source": [
    "#leitura do csv após feature engineering\n",
    "# path = '/home/daniel/repos/ds_em_clusterizacao/pa005_insiders_clustering/data/processed/'\n",
    "# df4 = pd.read_csv(path+'feature_engineering.csv')"
   ]
  },
  {
   "cell_type": "code",
   "execution_count": 39,
   "id": "e1f334c7",
   "metadata": {
    "ExecuteTime": {
     "end_time": "2023-03-01T20:38:06.224165Z",
     "start_time": "2023-03-01T20:38:06.208810Z"
    },
    "execution": {
     "iopub.execute_input": "2023-03-01T23:23:13.156498Z",
     "iopub.status.busy": "2023-03-01T23:23:13.155854Z",
     "iopub.status.idle": "2023-03-01T23:23:13.172999Z",
     "shell.execute_reply": "2023-03-01T23:23:13.170443Z"
    },
    "papermill": {
     "duration": 0.050328,
     "end_time": "2023-03-01T23:23:13.175395",
     "exception": false,
     "start_time": "2023-03-01T23:23:13.125067",
     "status": "completed"
    },
    "tags": []
   },
   "outputs": [
    {
     "data": {
      "text/html": [
       "<div>\n",
       "<style scoped>\n",
       "    .dataframe tbody tr th:only-of-type {\n",
       "        vertical-align: middle;\n",
       "    }\n",
       "\n",
       "    .dataframe tbody tr th {\n",
       "        vertical-align: top;\n",
       "    }\n",
       "\n",
       "    .dataframe thead th {\n",
       "        text-align: right;\n",
       "    }\n",
       "</style>\n",
       "<table border=\"1\" class=\"dataframe\">\n",
       "  <thead>\n",
       "    <tr style=\"text-align: right;\">\n",
       "      <th></th>\n",
       "      <th>customer_id</th>\n",
       "      <th>monetary</th>\n",
       "      <th>recency</th>\n",
       "      <th>frequency</th>\n",
       "      <th>quantity_products</th>\n",
       "      <th>returns</th>\n",
       "    </tr>\n",
       "  </thead>\n",
       "  <tbody>\n",
       "    <tr>\n",
       "      <th>0</th>\n",
       "      <td>17850</td>\n",
       "      <td>5391.21</td>\n",
       "      <td>372.0</td>\n",
       "      <td>17.000000</td>\n",
       "      <td>297.0</td>\n",
       "      <td>21.0</td>\n",
       "    </tr>\n",
       "    <tr>\n",
       "      <th>1</th>\n",
       "      <td>13047</td>\n",
       "      <td>3232.59</td>\n",
       "      <td>56.0</td>\n",
       "      <td>0.028302</td>\n",
       "      <td>171.0</td>\n",
       "      <td>6.0</td>\n",
       "    </tr>\n",
       "    <tr>\n",
       "      <th>2</th>\n",
       "      <td>12583</td>\n",
       "      <td>6705.38</td>\n",
       "      <td>2.0</td>\n",
       "      <td>0.040323</td>\n",
       "      <td>232.0</td>\n",
       "      <td>50.0</td>\n",
       "    </tr>\n",
       "    <tr>\n",
       "      <th>3</th>\n",
       "      <td>13748</td>\n",
       "      <td>948.25</td>\n",
       "      <td>95.0</td>\n",
       "      <td>0.017921</td>\n",
       "      <td>28.0</td>\n",
       "      <td>0.0</td>\n",
       "    </tr>\n",
       "    <tr>\n",
       "      <th>4</th>\n",
       "      <td>15100</td>\n",
       "      <td>876.00</td>\n",
       "      <td>333.0</td>\n",
       "      <td>0.073171</td>\n",
       "      <td>3.0</td>\n",
       "      <td>22.0</td>\n",
       "    </tr>\n",
       "  </tbody>\n",
       "</table>\n",
       "</div>"
      ],
      "text/plain": [
       "   customer_id  monetary  recency  frequency  quantity_products  returns\n",
       "0        17850   5391.21    372.0  17.000000              297.0     21.0\n",
       "1        13047   3232.59     56.0   0.028302              171.0      6.0\n",
       "2        12583   6705.38      2.0   0.040323              232.0     50.0\n",
       "3        13748    948.25     95.0   0.017921               28.0      0.0\n",
       "4        15100    876.00    333.0   0.073171                3.0     22.0"
      ]
     },
     "execution_count": 39,
     "metadata": {},
     "output_type": "execute_result"
    }
   ],
   "source": [
    "# copy\n",
    "df4 = df_customers.copy()\n",
    "df4.head()"
   ]
  },
  {
   "cell_type": "code",
   "execution_count": 40,
   "id": "ef35089f",
   "metadata": {
    "ExecuteTime": {
     "end_time": "2023-03-01T20:38:07.024619Z",
     "start_time": "2023-03-01T20:38:07.018032Z"
    },
    "execution": {
     "iopub.execute_input": "2023-03-01T23:23:13.254329Z",
     "iopub.status.busy": "2023-03-01T23:23:13.253896Z",
     "iopub.status.idle": "2023-03-01T23:23:13.260139Z",
     "shell.execute_reply": "2023-03-01T23:23:13.259067Z"
    },
    "papermill": {
     "duration": 0.059071,
     "end_time": "2023-03-01T23:23:13.264494",
     "exception": false,
     "start_time": "2023-03-01T23:23:13.205423",
     "status": "completed"
    },
    "tags": []
   },
   "outputs": [],
   "source": [
    "# df4 = df_customers.dropna().copy() \n",
    "df4 = df4.dropna().copy() \n",
    "# exclusao dos 91 clientes que nao possuem nenhuma compra, e 3013 que só fizeram uma compra e, por isso, nao tem media de recencia\n"
   ]
  },
  {
   "cell_type": "code",
   "execution_count": 41,
   "id": "af09ced1",
   "metadata": {
    "ExecuteTime": {
     "end_time": "2023-03-01T20:38:08.072604Z",
     "start_time": "2023-03-01T20:38:08.067633Z"
    },
    "execution": {
     "iopub.execute_input": "2023-03-01T23:23:13.333971Z",
     "iopub.status.busy": "2023-03-01T23:23:13.333212Z",
     "iopub.status.idle": "2023-03-01T23:23:13.339393Z",
     "shell.execute_reply": "2023-03-01T23:23:13.338329Z"
    },
    "papermill": {
     "duration": 0.042474,
     "end_time": "2023-03-01T23:23:13.342199",
     "exception": false,
     "start_time": "2023-03-01T23:23:13.299725",
     "status": "completed"
    },
    "scrolled": true,
    "tags": []
   },
   "outputs": [
    {
     "data": {
      "text/plain": [
       "(5695, 6)"
      ]
     },
     "execution_count": 41,
     "metadata": {},
     "output_type": "execute_result"
    }
   ],
   "source": [
    "df4.shape"
   ]
  },
  {
   "cell_type": "markdown",
   "id": "dd5a9708",
   "metadata": {
    "papermill": {
     "duration": 0.027611,
     "end_time": "2023-03-01T23:23:13.403830",
     "exception": false,
     "start_time": "2023-03-01T23:23:13.376219",
     "status": "completed"
    },
    "tags": []
   },
   "source": [
    "## Estudo do espaço "
   ]
  },
  {
   "cell_type": "code",
   "execution_count": 42,
   "id": "acef0de4",
   "metadata": {
    "ExecuteTime": {
     "end_time": "2023-03-01T20:38:09.876076Z",
     "start_time": "2023-03-01T20:38:09.870890Z"
    },
    "execution": {
     "iopub.execute_input": "2023-03-01T23:23:13.464508Z",
     "iopub.status.busy": "2023-03-01T23:23:13.463857Z",
     "iopub.status.idle": "2023-03-01T23:23:13.469459Z",
     "shell.execute_reply": "2023-03-01T23:23:13.468349Z"
    },
    "papermill": {
     "duration": 0.041469,
     "end_time": "2023-03-01T23:23:13.472515",
     "exception": false,
     "start_time": "2023-03-01T23:23:13.431046",
     "status": "completed"
    },
    "tags": []
   },
   "outputs": [],
   "source": [
    "# selected dataset without avg features\n",
    "cols_selected = ['customer_id','monetary', 'recency', 'frequency', 'quantity_products', 'returns']\n",
    "df43 = df4[cols_selected].drop(columns=['customer_id'], axis=1)"
   ]
  },
  {
   "cell_type": "code",
   "execution_count": 43,
   "id": "901ec51b",
   "metadata": {
    "ExecuteTime": {
     "end_time": "2023-03-01T20:38:10.827297Z",
     "start_time": "2023-03-01T20:38:10.800556Z"
    },
    "execution": {
     "iopub.execute_input": "2023-03-01T23:23:13.537868Z",
     "iopub.status.busy": "2023-03-01T23:23:13.537283Z",
     "iopub.status.idle": "2023-03-01T23:23:13.573543Z",
     "shell.execute_reply": "2023-03-01T23:23:13.572239Z"
    },
    "papermill": {
     "duration": 0.071522,
     "end_time": "2023-03-01T23:23:13.578999",
     "exception": false,
     "start_time": "2023-03-01T23:23:13.507477",
     "status": "completed"
    },
    "tags": []
   },
   "outputs": [],
   "source": [
    "# MinMax Scaler\n",
    "mm = pp.MinMaxScaler()\n",
    "\n",
    "# Apply scalers\n",
    "df43[['monetary' ]]              = mm.fit_transform(df43[['monetary' ]])\n",
    "df43[['recency']]                = mm.fit_transform(df43[['recency']]) \n",
    "df43[['frequency']]              = mm.fit_transform(df43[['frequency']]) \n",
    "df43[['quantity_products']]      = mm.fit_transform(df43[['quantity_products']])\n",
    "df43[['returns']]                = mm.fit_transform(df43[['returns']]) \n",
    "\n",
    "X = df43.copy()"
   ]
  },
  {
   "cell_type": "code",
   "execution_count": 44,
   "id": "e582b7a6",
   "metadata": {
    "ExecuteTime": {
     "end_time": "2023-03-01T20:38:11.697594Z",
     "start_time": "2023-03-01T20:38:11.689379Z"
    },
    "execution": {
     "iopub.execute_input": "2023-03-01T23:23:13.645732Z",
     "iopub.status.busy": "2023-03-01T23:23:13.644775Z",
     "iopub.status.idle": "2023-03-01T23:23:13.660550Z",
     "shell.execute_reply": "2023-03-01T23:23:13.659686Z"
    },
    "papermill": {
     "duration": 0.047115,
     "end_time": "2023-03-01T23:23:13.662237",
     "exception": false,
     "start_time": "2023-03-01T23:23:13.615122",
     "status": "completed"
    },
    "tags": []
   },
   "outputs": [
    {
     "data": {
      "text/html": [
       "<div>\n",
       "<style scoped>\n",
       "    .dataframe tbody tr th:only-of-type {\n",
       "        vertical-align: middle;\n",
       "    }\n",
       "\n",
       "    .dataframe tbody tr th {\n",
       "        vertical-align: top;\n",
       "    }\n",
       "\n",
       "    .dataframe thead th {\n",
       "        text-align: right;\n",
       "    }\n",
       "</style>\n",
       "<table border=\"1\" class=\"dataframe\">\n",
       "  <thead>\n",
       "    <tr style=\"text-align: right;\">\n",
       "      <th></th>\n",
       "      <th>monetary</th>\n",
       "      <th>recency</th>\n",
       "      <th>frequency</th>\n",
       "      <th>quantity_products</th>\n",
       "      <th>returns</th>\n",
       "    </tr>\n",
       "  </thead>\n",
       "  <tbody>\n",
       "    <tr>\n",
       "      <th>0</th>\n",
       "      <td>0.019312</td>\n",
       "      <td>0.997319</td>\n",
       "      <td>1.000000</td>\n",
       "      <td>0.037770</td>\n",
       "      <td>0.000283</td>\n",
       "    </tr>\n",
       "    <tr>\n",
       "      <th>1</th>\n",
       "      <td>0.011579</td>\n",
       "      <td>0.150134</td>\n",
       "      <td>0.001345</td>\n",
       "      <td>0.021692</td>\n",
       "      <td>0.000081</td>\n",
       "    </tr>\n",
       "    <tr>\n",
       "      <th>2</th>\n",
       "      <td>0.024020</td>\n",
       "      <td>0.005362</td>\n",
       "      <td>0.002052</td>\n",
       "      <td>0.029476</td>\n",
       "      <td>0.000674</td>\n",
       "    </tr>\n",
       "    <tr>\n",
       "      <th>3</th>\n",
       "      <td>0.003396</td>\n",
       "      <td>0.254692</td>\n",
       "      <td>0.000734</td>\n",
       "      <td>0.003445</td>\n",
       "      <td>0.000000</td>\n",
       "    </tr>\n",
       "    <tr>\n",
       "      <th>4</th>\n",
       "      <td>0.003137</td>\n",
       "      <td>0.892761</td>\n",
       "      <td>0.003985</td>\n",
       "      <td>0.000255</td>\n",
       "      <td>0.000296</td>\n",
       "    </tr>\n",
       "  </tbody>\n",
       "</table>\n",
       "</div>"
      ],
      "text/plain": [
       "   monetary   recency  frequency  quantity_products   returns\n",
       "0  0.019312  0.997319   1.000000           0.037770  0.000283\n",
       "1  0.011579  0.150134   0.001345           0.021692  0.000081\n",
       "2  0.024020  0.005362   0.002052           0.029476  0.000674\n",
       "3  0.003396  0.254692   0.000734           0.003445  0.000000\n",
       "4  0.003137  0.892761   0.003985           0.000255  0.000296"
      ]
     },
     "execution_count": 44,
     "metadata": {},
     "output_type": "execute_result"
    }
   ],
   "source": [
    "df43.head()"
   ]
  },
  {
   "cell_type": "markdown",
   "id": "04584307",
   "metadata": {
    "papermill": {
     "duration": 0.037261,
     "end_time": "2023-03-01T23:23:13.733327",
     "exception": false,
     "start_time": "2023-03-01T23:23:13.696066",
     "status": "completed"
    },
    "tags": []
   },
   "source": [
    "### PCA\n"
   ]
  },
  {
   "cell_type": "code",
   "execution_count": 45,
   "id": "78fcc44e",
   "metadata": {
    "ExecuteTime": {
     "end_time": "2023-03-01T20:41:15.819066Z",
     "start_time": "2023-03-01T20:41:15.165602Z"
    },
    "execution": {
     "iopub.execute_input": "2023-03-01T23:23:13.798567Z",
     "iopub.status.busy": "2023-03-01T23:23:13.797959Z",
     "iopub.status.idle": "2023-03-01T23:23:14.020447Z",
     "shell.execute_reply": "2023-03-01T23:23:14.019165Z"
    },
    "papermill": {
     "duration": 0.256213,
     "end_time": "2023-03-01T23:23:14.022950",
     "exception": false,
     "start_time": "2023-03-01T23:23:13.766737",
     "status": "completed"
    },
    "tags": []
   },
   "outputs": [
    {
     "data": {
      "image/png": "[encoded data removed]",
      "text/plain": [
       "<Figure size 640x480 with 1 Axes>"
      ]
     },
     "metadata": {},
     "output_type": "display_data"
    }
   ],
   "source": [
    "pca = dd.PCA(n_components = X.shape[1])\n",
    "\n",
    "principal_components = pca.fit_transform(X)\n",
    "\n",
    "# plot\n",
    "features = range(pca.n_components_)\n",
    "\n",
    "plt.bar(features, pca.explained_variance_ratio_, color = 'black')\n",
    "\n",
    "# to dataframe\n",
    "df_pca = pd.DataFrame(principal_components)"
   ]
  },
  {
   "cell_type": "code",
   "execution_count": 46,
   "id": "26e2995c",
   "metadata": {
    "ExecuteTime": {
     "end_time": "2023-03-01T20:41:16.509745Z",
     "start_time": "2023-03-01T20:41:16.506994Z"
    },
    "execution": {
     "iopub.execute_input": "2023-03-01T23:23:14.093371Z",
     "iopub.status.busy": "2023-03-01T23:23:14.092319Z",
     "iopub.status.idle": "2023-03-01T23:23:14.096920Z",
     "shell.execute_reply": "2023-03-01T23:23:14.096078Z"
    },
    "papermill": {
     "duration": 0.041553,
     "end_time": "2023-03-01T23:23:14.098884",
     "exception": false,
     "start_time": "2023-03-01T23:23:14.057331",
     "status": "completed"
    },
    "scrolled": true,
    "tags": []
   },
   "outputs": [],
   "source": [
    "# df_pca.shape"
   ]
  },
  {
   "cell_type": "code",
   "execution_count": 47,
   "id": "225ddc35",
   "metadata": {
    "ExecuteTime": {
     "end_time": "2023-03-01T20:41:18.864933Z",
     "start_time": "2023-03-01T20:41:18.859733Z"
    },
    "execution": {
     "iopub.execute_input": "2023-03-01T23:23:14.167938Z",
     "iopub.status.busy": "2023-03-01T23:23:14.167512Z",
     "iopub.status.idle": "2023-03-01T23:23:14.171161Z",
     "shell.execute_reply": "2023-03-01T23:23:14.170380Z"
    },
    "papermill": {
     "duration": 0.040814,
     "end_time": "2023-03-01T23:23:14.174062",
     "exception": false,
     "start_time": "2023-03-01T23:23:14.133248",
     "status": "completed"
    },
    "tags": []
   },
   "outputs": [],
   "source": [
    "# plt.figure(figsize=(15,8))\n",
    "# sns.scatterplot(x=0, y=1, data= df_pca)"
   ]
  },
  {
   "cell_type": "markdown",
   "id": "973faad7",
   "metadata": {
    "papermill": {
     "duration": 0.031788,
     "end_time": "2023-03-01T23:23:14.234699",
     "exception": false,
     "start_time": "2023-03-01T23:23:14.202911",
     "status": "completed"
    },
    "tags": []
   },
   "source": [
    "### UMAP"
   ]
  },
  {
   "cell_type": "code",
   "execution_count": 48,
   "id": "85c1ecfb",
   "metadata": {
    "ExecuteTime": {
     "end_time": "2023-03-01T20:41:46.809059Z",
     "start_time": "2023-03-01T20:41:20.827661Z"
    },
    "execution": {
     "iopub.execute_input": "2023-03-01T23:23:14.294021Z",
     "iopub.status.busy": "2023-03-01T23:23:14.293789Z",
     "iopub.status.idle": "2023-03-01T23:23:50.509710Z",
     "shell.execute_reply": "2023-03-01T23:23:50.508727Z"
    },
    "papermill": {
     "duration": 36.247527,
     "end_time": "2023-03-01T23:23:50.512657",
     "exception": false,
     "start_time": "2023-03-01T23:23:14.265130",
     "status": "completed"
    },
    "tags": []
   },
   "outputs": [
    {
     "data": {
      "text/plain": [
       "<AxesSubplot: xlabel='embedding_x', ylabel='embedding_y'>"
      ]
     },
     "execution_count": 48,
     "metadata": {},
     "output_type": "execute_result"
    },
    {
     "data": {
      "image/png": "[encoded data removed]",
      "text/plain": [
       "<Figure size 640x480 with 1 Axes>"
      ]
     },
     "metadata": {},
     "output_type": "display_data"
    }
   ],
   "source": [
    "reducer = umap.UMAP (random_state=42) #n_neighbors quanto menor, ele foca mais nas estruturas locais em vez das globais\n",
    "embedding = reducer.fit_transform (X) #espaço projetado após reducao de dimensionalidade\n",
    "\n",
    "#embedding\n",
    "df_umap = pd.DataFrame()\n",
    "df_umap ['embedding_x'] = embedding[:, 0]\n",
    "df_umap ['embedding_y'] = embedding[:,1]\n",
    "\n",
    "# plot embeding\n",
    "sns.scatterplot(x='embedding_x', \n",
    "                y='embedding_y',\n",
    "                data = df_umap)\n",
    "\n"
   ]
  },
  {
   "cell_type": "markdown",
   "id": "c8427bba",
   "metadata": {
    "papermill": {
     "duration": 0.028443,
     "end_time": "2023-03-01T23:23:50.569930",
     "exception": false,
     "start_time": "2023-03-01T23:23:50.541487",
     "status": "completed"
    },
    "tags": []
   },
   "source": [
    "### t-SNE\n"
   ]
  },
  {
   "cell_type": "code",
   "execution_count": 49,
   "id": "18c65170",
   "metadata": {
    "ExecuteTime": {
     "end_time": "2023-03-01T20:42:16.673494Z",
     "start_time": "2023-03-01T20:41:52.208919Z"
    },
    "execution": {
     "iopub.execute_input": "2023-03-01T23:23:50.622773Z",
     "iopub.status.busy": "2023-03-01T23:23:50.622539Z",
     "iopub.status.idle": "2023-03-01T23:24:23.051354Z",
     "shell.execute_reply": "2023-03-01T23:24:23.048690Z"
    },
    "papermill": {
     "duration": 32.459205,
     "end_time": "2023-03-01T23:24:23.055353",
     "exception": false,
     "start_time": "2023-03-01T23:23:50.596148",
     "status": "completed"
    },
    "tags": []
   },
   "outputs": [
    {
     "data": {
      "text/plain": [
       "<AxesSubplot: xlabel='embedding_x', ylabel='embedding_y'>"
      ]
     },
     "execution_count": 49,
     "metadata": {},
     "output_type": "execute_result"
    },
    {
     "data": {
      "image/png": "[encoded data removed]",
      "text/plain": [
       "<Figure size 640x480 with 1 Axes>"
      ]
     },
     "metadata": {},
     "output_type": "display_data"
    }
   ],
   "source": [
    "reducer = TSNE (n_components =2, \n",
    "                     n_jobs=-1,\n",
    "                     random_state=42) #n_neighbors quanto menor, ele foca mais nas estruturas locais em vez das globais\n",
    "embedding = reducer.fit_transform (X) #espaço projetado após reducao de dimensionalidade\n",
    "\n",
    "#embedding\n",
    "df_tsne = pd.DataFrame()\n",
    "df_tsne ['embedding_x'] = embedding[:, 0]\n",
    "df_tsne ['embedding_y'] = embedding[:,1]\n",
    "\n",
    "# plot embeding\n",
    "sns.scatterplot(x='embedding_x', \n",
    "                y='embedding_y',\n",
    "                data = df_tsne)\n"
   ]
  },
  {
   "cell_type": "markdown",
   "id": "a5246f61",
   "metadata": {
    "papermill": {
     "duration": 0.038574,
     "end_time": "2023-03-01T23:24:23.137300",
     "exception": false,
     "start_time": "2023-03-01T23:24:23.098726",
     "status": "completed"
    },
    "tags": []
   },
   "source": [
    "### Tree Based Embedding\n"
   ]
  },
  {
   "cell_type": "code",
   "execution_count": 50,
   "id": "514032d1",
   "metadata": {
    "ExecuteTime": {
     "end_time": "2023-03-01T20:42:51.061440Z",
     "start_time": "2023-03-01T20:42:28.571188Z"
    },
    "execution": {
     "iopub.execute_input": "2023-03-01T23:24:23.226886Z",
     "iopub.status.busy": "2023-03-01T23:24:23.226566Z",
     "iopub.status.idle": "2023-03-01T23:24:42.627890Z",
     "shell.execute_reply": "2023-03-01T23:24:42.626954Z"
    },
    "papermill": {
     "duration": 19.452202,
     "end_time": "2023-03-01T23:24:42.630359",
     "exception": false,
     "start_time": "2023-03-01T23:24:23.178157",
     "status": "completed"
    },
    "tags": []
   },
   "outputs": [],
   "source": [
    "# Training dataset\n",
    "X = df43.drop(columns=['monetary'], axis=1)\n",
    "y = df43['monetary']\n",
    "\n",
    "\n",
    "# Model definition\n",
    "rf_model = en.RandomForestRegressor(n_estimators = 1000, random_state=42)\n",
    "\n",
    "# Model training\n",
    "rf_model.fit (X, y)\n",
    "\n",
    "# dataframe Leaf\n",
    "df_leaf = pd.DataFrame(rf_model.apply(X))\n",
    "\n"
   ]
  },
  {
   "cell_type": "code",
   "execution_count": 51,
   "id": "9758247c",
   "metadata": {
    "ExecuteTime": {
     "end_time": "2023-03-01T12:04:29.847999Z",
     "start_time": "2023-03-01T12:04:29.843162Z"
    },
    "execution": {
     "iopub.execute_input": "2023-03-01T23:24:42.712876Z",
     "iopub.status.busy": "2023-03-01T23:24:42.712558Z",
     "iopub.status.idle": "2023-03-01T23:24:42.716266Z",
     "shell.execute_reply": "2023-03-01T23:24:42.715400Z"
    },
    "papermill": {
     "duration": 0.053107,
     "end_time": "2023-03-01T23:24:42.718869",
     "exception": false,
     "start_time": "2023-03-01T23:24:42.665762",
     "status": "completed"
    },
    "tags": []
   },
   "outputs": [],
   "source": [
    "# X.shape #Out: (2774, 100)\n",
    "# df_leaf.shape. #Out:(2774, 10) "
   ]
  },
  {
   "cell_type": "code",
   "execution_count": 52,
   "id": "a13a7af8",
   "metadata": {
    "ExecuteTime": {
     "end_time": "2023-03-01T20:44:20.905515Z",
     "start_time": "2023-03-01T20:44:07.723225Z"
    },
    "execution": {
     "iopub.execute_input": "2023-03-01T23:24:42.816476Z",
     "iopub.status.busy": "2023-03-01T23:24:42.815985Z",
     "iopub.status.idle": "2023-03-01T23:24:58.452535Z",
     "shell.execute_reply": "2023-03-01T23:24:58.450971Z"
    },
    "papermill": {
     "duration": 15.695566,
     "end_time": "2023-03-01T23:24:58.455164",
     "exception": false,
     "start_time": "2023-03-01T23:24:42.759598",
     "status": "completed"
    },
    "scrolled": false,
    "tags": []
   },
   "outputs": [
    {
     "name": "stderr",
     "output_type": "stream",
     "text": [
      "/home/daniel/miniconda3/envs/ds_em_clusterizacao/lib/python3.10/site-packages/sklearn/manifold/_spectral_embedding.py:274: UserWarning: Graph is not fully connected, spectral embedding may not work as expected.\n",
      "  warnings.warn(\n"
     ]
    },
    {
     "data": {
      "text/plain": [
       "<AxesSubplot: xlabel='embedding_x', ylabel='embedding_y'>"
      ]
     },
     "execution_count": 52,
     "metadata": {},
     "output_type": "execute_result"
    },
    {
     "data": {
      "image/png": "[encoded data removed]",
      "text/plain": [
       "<Figure size 640x480 with 1 Axes>"
      ]
     },
     "metadata": {},
     "output_type": "display_data"
    }
   ],
   "source": [
    "reducer = umap.UMAP (random_state=42) #n_neighbors quanto menor, ele foca mais nas estruturas locais em vez das globais\n",
    "embedding = reducer.fit_transform (df_leaf) #espaço projetado após reducao de dimensionalidade\n",
    "\n",
    "#embedding\n",
    "df_tree = pd.DataFrame()\n",
    "df_tree ['embedding_x'] = embedding[:, 0]\n",
    "df_tree ['embedding_y'] = embedding[:,1]\n",
    "\n",
    "# plot embeding\n",
    "sns.scatterplot(x='embedding_x', \n",
    "                y='embedding_y',\n",
    "                data = df_tree)\n"
   ]
  },
  {
   "cell_type": "markdown",
   "id": "d4d0aedc",
   "metadata": {
    "ExecuteTime": {
     "end_time": "2023-02-02T17:44:43.119903Z",
     "start_time": "2023-02-02T17:44:43.116700Z"
    },
    "papermill": {
     "duration": 0.049147,
     "end_time": "2023-03-01T23:24:58.539006",
     "exception": false,
     "start_time": "2023-03-01T23:24:58.489859",
     "status": "completed"
    },
    "tags": []
   },
   "source": [
    "# <span style=\"color: OrangeRed;\">DATA PREPARATION</span>\n",
    "<span style=\"color: OrangeRed;\">***PASSO 5*** </span>"
   ]
  },
  {
   "cell_type": "code",
   "execution_count": 53,
   "id": "46562246",
   "metadata": {
    "ExecuteTime": {
     "end_time": "2023-03-01T20:52:05.079780Z",
     "start_time": "2023-03-01T20:52:04.932326Z"
    },
    "execution": {
     "iopub.execute_input": "2023-03-01T23:24:58.613003Z",
     "iopub.status.busy": "2023-03-01T23:24:58.612602Z",
     "iopub.status.idle": "2023-03-01T23:24:58.617813Z",
     "shell.execute_reply": "2023-03-01T23:24:58.616884Z"
    },
    "papermill": {
     "duration": 0.036879,
     "end_time": "2023-03-01T23:24:58.621032",
     "exception": false,
     "start_time": "2023-03-01T23:24:58.584153",
     "status": "completed"
    },
    "tags": []
   },
   "outputs": [],
   "source": [
    "# Espaço de embedding - Tree Based\n",
    "# df5 = df_tree.copy()\n",
    "\n",
    "# UMAP embedding\n",
    "df5 = df_umap.copy()\n",
    "# df5.to_csv('../data/processed/umap_embedding.csv', index=False)\n",
    "\n",
    "# # t-sne embedding\n",
    "# df5 = df_tsne.copy() \n"
   ]
  },
  {
   "cell_type": "markdown",
   "id": "e1fd47bf",
   "metadata": {
    "ExecuteTime": {
     "end_time": "2023-02-02T21:11:55.910187Z",
     "start_time": "2023-02-02T21:11:55.907974Z"
    },
    "papermill": {
     "duration": 0.030832,
     "end_time": "2023-03-01T23:24:58.689928",
     "exception": false,
     "start_time": "2023-03-01T23:24:58.659096",
     "status": "completed"
    },
    "tags": []
   },
   "source": [
    "# <span style=\"color: OrangeRed;\">HYPERPARAMETER FINE-TUNNING </span>\n",
    "<span style=\"color: OrangeRed;\">***PASSO 7***</span>"
   ]
  },
  {
   "cell_type": "code",
   "execution_count": 54,
   "id": "69c2a2c4",
   "metadata": {
    "ExecuteTime": {
     "end_time": "2023-03-01T20:52:09.070254Z",
     "start_time": "2023-03-01T20:52:09.067089Z"
    },
    "execution": {
     "iopub.execute_input": "2023-03-01T23:24:58.764680Z",
     "iopub.status.busy": "2023-03-01T23:24:58.764374Z",
     "iopub.status.idle": "2023-03-01T23:24:58.768764Z",
     "shell.execute_reply": "2023-03-01T23:24:58.767304Z"
    },
    "papermill": {
     "duration": 0.047368,
     "end_time": "2023-03-01T23:24:58.770983",
     "exception": false,
     "start_time": "2023-03-01T23:24:58.723615",
     "status": "completed"
    },
    "scrolled": true,
    "tags": []
   },
   "outputs": [],
   "source": [
    "# Eapaço de embeding - Tree Based\n",
    "X = df5.copy()"
   ]
  },
  {
   "cell_type": "code",
   "execution_count": 55,
   "id": "a99bc160",
   "metadata": {
    "ExecuteTime": {
     "end_time": "2023-03-01T20:52:12.110060Z",
     "start_time": "2023-03-01T20:52:12.104820Z"
    },
    "execution": {
     "iopub.execute_input": "2023-03-01T23:24:58.857457Z",
     "iopub.status.busy": "2023-03-01T23:24:58.857081Z",
     "iopub.status.idle": "2023-03-01T23:24:58.860886Z",
     "shell.execute_reply": "2023-03-01T23:24:58.860085Z"
    },
    "papermill": {
     "duration": 0.053558,
     "end_time": "2023-03-01T23:24:58.863306",
     "exception": false,
     "start_time": "2023-03-01T23:24:58.809748",
     "status": "completed"
    },
    "tags": []
   },
   "outputs": [],
   "source": [
    "# clusters = [2, 3, 4, 5, 6, 7]\n",
    "# List of clusters for embeding space \n",
    "clusters = np.arange(2, 26, 1)"
   ]
  },
  {
   "cell_type": "markdown",
   "id": "39ea096d",
   "metadata": {
    "papermill": {
     "duration": 0.030845,
     "end_time": "2023-03-01T23:24:58.932165",
     "exception": false,
     "start_time": "2023-03-01T23:24:58.901320",
     "status": "completed"
    },
    "tags": []
   },
   "source": [
    "## K-Means"
   ]
  },
  {
   "cell_type": "code",
   "execution_count": 56,
   "id": "e0ba8329",
   "metadata": {
    "ExecuteTime": {
     "end_time": "2023-03-01T20:53:08.620571Z",
     "start_time": "2023-03-01T20:52:18.859290Z"
    },
    "code_folding": [],
    "execution": {
     "iopub.execute_input": "2023-03-01T23:24:58.996026Z",
     "iopub.status.busy": "2023-03-01T23:24:58.995547Z",
     "iopub.status.idle": "2023-03-01T23:26:02.600972Z",
     "shell.execute_reply": "2023-03-01T23:26:02.600241Z"
    },
    "papermill": {
     "duration": 63.641634,
     "end_time": "2023-03-01T23:26:02.603741",
     "exception": false,
     "start_time": "2023-03-01T23:24:58.962107",
     "status": "completed"
    },
    "tags": []
   },
   "outputs": [],
   "source": [
    "kmeans_list = []\n",
    "for k in  clusters:\n",
    "    # model name\n",
    "    kmeans_model = c.KMeans(n_init = 100,random_state=42, n_clusters = k )\n",
    "\n",
    "    # model training\n",
    "    kmeans_model.fit (X)\n",
    "\n",
    "    # model predict\n",
    "    labels = kmeans_model.predict(X)\n",
    "\n",
    "    # perfomance\n",
    "    sil_score = m.silhouette_score(X, labels, metric = 'euclidean')\n",
    "    \n",
    "    kmeans_list.append (sil_score)"
   ]
  },
  {
   "cell_type": "code",
   "execution_count": 57,
   "id": "f094d4d4",
   "metadata": {
    "ExecuteTime": {
     "end_time": "2023-03-01T20:53:20.059063Z",
     "start_time": "2023-03-01T20:53:18.309486Z"
    },
    "execution": {
     "iopub.execute_input": "2023-03-01T23:26:02.676396Z",
     "iopub.status.busy": "2023-03-01T23:26:02.675872Z",
     "iopub.status.idle": "2023-03-01T23:26:02.950708Z",
     "shell.execute_reply": "2023-03-01T23:26:02.949653Z"
    },
    "papermill": {
     "duration": 0.310009,
     "end_time": "2023-03-01T23:26:02.952798",
     "exception": false,
     "start_time": "2023-03-01T23:26:02.642789",
     "status": "completed"
    },
    "tags": []
   },
   "outputs": [
    {
     "data": {
      "text/plain": [
       "Text(0, 0.5, 'Silhoette Score')"
      ]
     },
     "execution_count": 57,
     "metadata": {},
     "output_type": "execute_result"
    },
    {
     "data": {
      "image/png": "[encoded data removed]",
      "text/plain": [
       "<Figure size 640x480 with 1 Axes>"
      ]
     },
     "metadata": {},
     "output_type": "display_data"
    }
   ],
   "source": [
    "sns.lineplot(x = clusters, y = kmeans_list, markers='o', linestyle = '--', color = 'b' )\n",
    "plt.title('Silhouette Score x K')\n",
    "plt.xlabel ('K')\n",
    "plt.ylabel ('Silhoette Score')"
   ]
  },
  {
   "cell_type": "markdown",
   "id": "558836d9",
   "metadata": {
    "papermill": {
     "duration": 0.039961,
     "end_time": "2023-03-01T23:26:03.030682",
     "exception": false,
     "start_time": "2023-03-01T23:26:02.990721",
     "status": "completed"
    },
    "tags": []
   },
   "source": [
    "## Gaussian Mixture Models"
   ]
  },
  {
   "cell_type": "code",
   "execution_count": 58,
   "id": "54f71408",
   "metadata": {
    "ExecuteTime": {
     "end_time": "2023-03-01T20:54:49.891104Z",
     "start_time": "2023-03-01T20:53:24.238750Z"
    },
    "execution": {
     "iopub.execute_input": "2023-03-01T23:26:03.108341Z",
     "iopub.status.busy": "2023-03-01T23:26:03.108009Z",
     "iopub.status.idle": "2023-03-01T23:27:29.042297Z",
     "shell.execute_reply": "2023-03-01T23:27:29.041505Z"
    },
    "papermill": {
     "duration": 85.977874,
     "end_time": "2023-03-01T23:27:29.044580",
     "exception": false,
     "start_time": "2023-03-01T23:26:03.066706",
     "status": "completed"
    },
    "tags": []
   },
   "outputs": [],
   "source": [
    "gmm_list = []\n",
    "for k in clusters:\n",
    "    # model name\n",
    "    gmm_model = mx.GaussianMixture (n_init = 10, random_state=42, n_components = k)\n",
    "# \n",
    "    # model training\n",
    "    gmm_model.fit(X)\n",
    "\n",
    "    # predict\n",
    "    labels_gmm = gmm_model.predict (X)\n",
    "\n",
    "    # performance\n",
    "    sil_score = m.silhouette_score(X, labels_gmm, metric='euclidean')\n",
    "    \n",
    "    gmm_list.append(sil_score)\n",
    "    \n",
    "    "
   ]
  },
  {
   "cell_type": "code",
   "execution_count": 59,
   "id": "3aaa3a22",
   "metadata": {
    "ExecuteTime": {
     "end_time": "2023-03-01T20:55:34.497878Z",
     "start_time": "2023-03-01T20:55:34.219534Z"
    },
    "execution": {
     "iopub.execute_input": "2023-03-01T23:27:29.147086Z",
     "iopub.status.busy": "2023-03-01T23:27:29.146699Z",
     "iopub.status.idle": "2023-03-01T23:27:29.458503Z",
     "shell.execute_reply": "2023-03-01T23:27:29.457476Z"
    },
    "papermill": {
     "duration": 0.350867,
     "end_time": "2023-03-01T23:27:29.460882",
     "exception": false,
     "start_time": "2023-03-01T23:27:29.110015",
     "status": "completed"
    },
    "tags": []
   },
   "outputs": [
    {
     "data": {
      "text/plain": [
       "Text(0, 0.5, 'Silhoette Score')"
      ]
     },
     "execution_count": 59,
     "metadata": {},
     "output_type": "execute_result"
    },
    {
     "data": {
      "image/png": "[encoded data removed]",
      "text/plain": [
       "<Figure size 640x480 with 1 Axes>"
      ]
     },
     "metadata": {},
     "output_type": "display_data"
    }
   ],
   "source": [
    "sns.lineplot(x= clusters, y = gmm_list, markers='o', linestyle = '--', color = 'b' )\n",
    "plt.title('Silhouette Score x K')\n",
    "plt.xlabel ('K')\n",
    "plt.ylabel ('Silhoette Score')"
   ]
  },
  {
   "cell_type": "markdown",
   "id": "c31c5d91",
   "metadata": {
    "papermill": {
     "duration": 0.22552,
     "end_time": "2023-03-01T23:27:29.731290",
     "exception": false,
     "start_time": "2023-03-01T23:27:29.505770",
     "status": "completed"
    },
    "tags": []
   },
   "source": [
    "## Hierarchical Clustering"
   ]
  },
  {
   "cell_type": "code",
   "execution_count": 60,
   "id": "3c3ebe40",
   "metadata": {
    "ExecuteTime": {
     "end_time": "2023-03-01T20:56:09.725185Z",
     "start_time": "2023-03-01T20:55:36.840055Z"
    },
    "code_folding": [],
    "execution": {
     "iopub.execute_input": "2023-03-01T23:27:29.809528Z",
     "iopub.status.busy": "2023-03-01T23:27:29.808869Z",
     "iopub.status.idle": "2023-03-01T23:28:10.090349Z",
     "shell.execute_reply": "2023-03-01T23:28:10.089579Z"
    },
    "papermill": {
     "duration": 40.320367,
     "end_time": "2023-03-01T23:28:10.092751",
     "exception": false,
     "start_time": "2023-03-01T23:27:29.772384",
     "status": "completed"
    },
    "tags": []
   },
   "outputs": [],
   "source": [
    "hc_list =[]\n",
    "for k in clusters:\n",
    "    # model definition and training\n",
    "    hc_model = hc.linkage(X, 'ward')\n",
    "\n",
    "    # model predict\n",
    "    labels = hc.fcluster (hc_model, k, criterion= 'maxclust') #se k é declarado, é necessario informar o criterio\n",
    "\n",
    "    # metrics\n",
    "    sil = m.silhouette_score(X, labels, metric='euclidean') # após a definicao dos labels é feito o calculo da soma das silhuetas\n",
    "    hc_list.append(sil)"
   ]
  },
  {
   "cell_type": "code",
   "execution_count": 61,
   "id": "d222f216",
   "metadata": {
    "ExecuteTime": {
     "end_time": "2023-03-01T13:14:32.012639Z",
     "start_time": "2023-03-01T13:14:31.816934Z"
    },
    "execution": {
     "iopub.execute_input": "2023-03-01T23:28:10.163638Z",
     "iopub.status.busy": "2023-03-01T23:28:10.163237Z",
     "iopub.status.idle": "2023-03-01T23:28:10.342614Z",
     "shell.execute_reply": "2023-03-01T23:28:10.341659Z"
    },
    "papermill": {
     "duration": 0.218,
     "end_time": "2023-03-01T23:28:10.344771",
     "exception": false,
     "start_time": "2023-03-01T23:28:10.126771",
     "status": "completed"
    },
    "tags": []
   },
   "outputs": [
    {
     "data": {
      "text/plain": [
       "[<matplotlib.lines.Line2D at 0x7f1de843bf70>]"
      ]
     },
     "execution_count": 61,
     "metadata": {},
     "output_type": "execute_result"
    },
    {
     "data": {
      "image/png": "[encoded data removed]",
      "text/plain": [
       "<Figure size 640x480 with 1 Axes>"
      ]
     },
     "metadata": {},
     "output_type": "display_data"
    }
   ],
   "source": [
    "plt.plot(clusters, hc_list, marker='o', linestyle='--', color = 'b')"
   ]
  },
  {
   "cell_type": "code",
   "execution_count": 62,
   "id": "a1e8a36b",
   "metadata": {
    "ExecuteTime": {
     "end_time": "2023-03-01T12:18:31.353502Z",
     "start_time": "2023-03-01T12:18:30.562132Z"
    },
    "cell_style": "split",
    "execution": {
     "iopub.execute_input": "2023-03-01T23:28:10.413467Z",
     "iopub.status.busy": "2023-03-01T23:28:10.412569Z",
     "iopub.status.idle": "2023-03-01T23:28:10.417244Z",
     "shell.execute_reply": "2023-03-01T23:28:10.416214Z"
    },
    "papermill": {
     "duration": 0.039183,
     "end_time": "2023-03-01T23:28:10.419350",
     "exception": false,
     "start_time": "2023-03-01T23:28:10.380167",
     "status": "completed"
    },
    "tags": []
   },
   "outputs": [],
   "source": [
    "## Tree-based embedding - Results\n",
    "\n",
    "# results = pd.DataFrame(\n",
    "#     {'k-means': kmeans_list, \n",
    "#      'gmm'    : gmm_list, \n",
    "#      'hc'     : hc_list, \n",
    "#     }\n",
    "# ).T\n",
    "\n",
    "# results.columns = clusters\n",
    "# results.style.highlight_max(color = 'lightgreen', axis=1)"
   ]
  },
  {
   "cell_type": "code",
   "execution_count": 63,
   "id": "0fbf73cf",
   "metadata": {
    "ExecuteTime": {
     "end_time": "2023-03-01T13:14:35.596601Z",
     "start_time": "2023-03-01T13:14:35.577033Z"
    },
    "cell_style": "split",
    "execution": {
     "iopub.execute_input": "2023-03-01T23:28:10.497134Z",
     "iopub.status.busy": "2023-03-01T23:28:10.496523Z",
     "iopub.status.idle": "2023-03-01T23:28:10.501852Z",
     "shell.execute_reply": "2023-03-01T23:28:10.500843Z"
    },
    "papermill": {
     "duration": 0.04938,
     "end_time": "2023-03-01T23:28:10.504162",
     "exception": false,
     "start_time": "2023-03-01T23:28:10.454782",
     "status": "completed"
    },
    "tags": []
   },
   "outputs": [],
   "source": [
    "## UMAP embedding - Results\n",
    "\n",
    "# results = pd.DataFrame(\n",
    "#     {'k-means': kmeans_list, \n",
    "#      'gmm'    : gmm_list, \n",
    "#      'hc'     : hc_list, \n",
    "#     }\n",
    "# ).T\n",
    "\n",
    "# results.columns = clusters\n",
    "# results.style.highlight_max(color = 'lightgreen', axis=1)"
   ]
  },
  {
   "cell_type": "code",
   "execution_count": 64,
   "id": "12b6d4ba",
   "metadata": {
    "ExecuteTime": {
     "end_time": "2023-03-01T20:56:39.532731Z",
     "start_time": "2023-03-01T20:56:38.616969Z"
    },
    "cell_style": "split",
    "execution": {
     "iopub.execute_input": "2023-03-01T23:28:10.569163Z",
     "iopub.status.busy": "2023-03-01T23:28:10.568927Z",
     "iopub.status.idle": "2023-03-01T23:28:10.863721Z",
     "shell.execute_reply": "2023-03-01T23:28:10.862568Z"
    },
    "papermill": {
     "duration": 0.331039,
     "end_time": "2023-03-01T23:28:10.866871",
     "exception": false,
     "start_time": "2023-03-01T23:28:10.535832",
     "status": "completed"
    },
    "tags": []
   },
   "outputs": [
    {
     "data": {
      "text/html": [
       "<style type=\"text/css\">\n",
       "#T_18229_row0_col22, #T_18229_row1_col21, #T_18229_row2_col23 {\n",
       "  background-color: lightgreen;\n",
       "}\n",
       "</style>\n",
       "<table id=\"T_18229\">\n",
       "  <thead>\n",
       "    <tr>\n",
       "      <th class=\"blank level0\" >&nbsp;</th>\n",
       "      <th id=\"T_18229_level0_col0\" class=\"col_heading level0 col0\" >2</th>\n",
       "      <th id=\"T_18229_level0_col1\" class=\"col_heading level0 col1\" >3</th>\n",
       "      <th id=\"T_18229_level0_col2\" class=\"col_heading level0 col2\" >4</th>\n",
       "      <th id=\"T_18229_level0_col3\" class=\"col_heading level0 col3\" >5</th>\n",
       "      <th id=\"T_18229_level0_col4\" class=\"col_heading level0 col4\" >6</th>\n",
       "      <th id=\"T_18229_level0_col5\" class=\"col_heading level0 col5\" >7</th>\n",
       "      <th id=\"T_18229_level0_col6\" class=\"col_heading level0 col6\" >8</th>\n",
       "      <th id=\"T_18229_level0_col7\" class=\"col_heading level0 col7\" >9</th>\n",
       "      <th id=\"T_18229_level0_col8\" class=\"col_heading level0 col8\" >10</th>\n",
       "      <th id=\"T_18229_level0_col9\" class=\"col_heading level0 col9\" >11</th>\n",
       "      <th id=\"T_18229_level0_col10\" class=\"col_heading level0 col10\" >12</th>\n",
       "      <th id=\"T_18229_level0_col11\" class=\"col_heading level0 col11\" >13</th>\n",
       "      <th id=\"T_18229_level0_col12\" class=\"col_heading level0 col12\" >14</th>\n",
       "      <th id=\"T_18229_level0_col13\" class=\"col_heading level0 col13\" >15</th>\n",
       "      <th id=\"T_18229_level0_col14\" class=\"col_heading level0 col14\" >16</th>\n",
       "      <th id=\"T_18229_level0_col15\" class=\"col_heading level0 col15\" >17</th>\n",
       "      <th id=\"T_18229_level0_col16\" class=\"col_heading level0 col16\" >18</th>\n",
       "      <th id=\"T_18229_level0_col17\" class=\"col_heading level0 col17\" >19</th>\n",
       "      <th id=\"T_18229_level0_col18\" class=\"col_heading level0 col18\" >20</th>\n",
       "      <th id=\"T_18229_level0_col19\" class=\"col_heading level0 col19\" >21</th>\n",
       "      <th id=\"T_18229_level0_col20\" class=\"col_heading level0 col20\" >22</th>\n",
       "      <th id=\"T_18229_level0_col21\" class=\"col_heading level0 col21\" >23</th>\n",
       "      <th id=\"T_18229_level0_col22\" class=\"col_heading level0 col22\" >24</th>\n",
       "      <th id=\"T_18229_level0_col23\" class=\"col_heading level0 col23\" >25</th>\n",
       "    </tr>\n",
       "  </thead>\n",
       "  <tbody>\n",
       "    <tr>\n",
       "      <th id=\"T_18229_level0_row0\" class=\"row_heading level0 row0\" >k-means</th>\n",
       "      <td id=\"T_18229_row0_col0\" class=\"data row0 col0\" >0.417751</td>\n",
       "      <td id=\"T_18229_row0_col1\" class=\"data row0 col1\" >0.477959</td>\n",
       "      <td id=\"T_18229_row0_col2\" class=\"data row0 col2\" >0.489001</td>\n",
       "      <td id=\"T_18229_row0_col3\" class=\"data row0 col3\" >0.482013</td>\n",
       "      <td id=\"T_18229_row0_col4\" class=\"data row0 col4\" >0.467325</td>\n",
       "      <td id=\"T_18229_row0_col5\" class=\"data row0 col5\" >0.504576</td>\n",
       "      <td id=\"T_18229_row0_col6\" class=\"data row0 col6\" >0.505436</td>\n",
       "      <td id=\"T_18229_row0_col7\" class=\"data row0 col7\" >0.505834</td>\n",
       "      <td id=\"T_18229_row0_col8\" class=\"data row0 col8\" >0.520913</td>\n",
       "      <td id=\"T_18229_row0_col9\" class=\"data row0 col9\" >0.522606</td>\n",
       "      <td id=\"T_18229_row0_col10\" class=\"data row0 col10\" >0.533840</td>\n",
       "      <td id=\"T_18229_row0_col11\" class=\"data row0 col11\" >0.520998</td>\n",
       "      <td id=\"T_18229_row0_col12\" class=\"data row0 col12\" >0.527801</td>\n",
       "      <td id=\"T_18229_row0_col13\" class=\"data row0 col13\" >0.536965</td>\n",
       "      <td id=\"T_18229_row0_col14\" class=\"data row0 col14\" >0.554534</td>\n",
       "      <td id=\"T_18229_row0_col15\" class=\"data row0 col15\" >0.563773</td>\n",
       "      <td id=\"T_18229_row0_col16\" class=\"data row0 col16\" >0.559062</td>\n",
       "      <td id=\"T_18229_row0_col17\" class=\"data row0 col17\" >0.564324</td>\n",
       "      <td id=\"T_18229_row0_col18\" class=\"data row0 col18\" >0.559812</td>\n",
       "      <td id=\"T_18229_row0_col19\" class=\"data row0 col19\" >0.560965</td>\n",
       "      <td id=\"T_18229_row0_col20\" class=\"data row0 col20\" >0.570991</td>\n",
       "      <td id=\"T_18229_row0_col21\" class=\"data row0 col21\" >0.593129</td>\n",
       "      <td id=\"T_18229_row0_col22\" class=\"data row0 col22\" >0.601063</td>\n",
       "      <td id=\"T_18229_row0_col23\" class=\"data row0 col23\" >0.597145</td>\n",
       "    </tr>\n",
       "    <tr>\n",
       "      <th id=\"T_18229_level0_row1\" class=\"row_heading level0 row1\" >gmm</th>\n",
       "      <td id=\"T_18229_row1_col0\" class=\"data row1 col0\" >0.412219</td>\n",
       "      <td id=\"T_18229_row1_col1\" class=\"data row1 col1\" >0.471080</td>\n",
       "      <td id=\"T_18229_row1_col2\" class=\"data row1 col2\" >0.450786</td>\n",
       "      <td id=\"T_18229_row1_col3\" class=\"data row1 col3\" >0.404616</td>\n",
       "      <td id=\"T_18229_row1_col4\" class=\"data row1 col4\" >0.472414</td>\n",
       "      <td id=\"T_18229_row1_col5\" class=\"data row1 col5\" >0.403499</td>\n",
       "      <td id=\"T_18229_row1_col6\" class=\"data row1 col6\" >0.451315</td>\n",
       "      <td id=\"T_18229_row1_col7\" class=\"data row1 col7\" >0.437601</td>\n",
       "      <td id=\"T_18229_row1_col8\" class=\"data row1 col8\" >0.440592</td>\n",
       "      <td id=\"T_18229_row1_col9\" class=\"data row1 col9\" >0.446663</td>\n",
       "      <td id=\"T_18229_row1_col10\" class=\"data row1 col10\" >0.499917</td>\n",
       "      <td id=\"T_18229_row1_col11\" class=\"data row1 col11\" >0.507704</td>\n",
       "      <td id=\"T_18229_row1_col12\" class=\"data row1 col12\" >0.498199</td>\n",
       "      <td id=\"T_18229_row1_col13\" class=\"data row1 col13\" >0.480058</td>\n",
       "      <td id=\"T_18229_row1_col14\" class=\"data row1 col14\" >0.500801</td>\n",
       "      <td id=\"T_18229_row1_col15\" class=\"data row1 col15\" >0.521731</td>\n",
       "      <td id=\"T_18229_row1_col16\" class=\"data row1 col16\" >0.503752</td>\n",
       "      <td id=\"T_18229_row1_col17\" class=\"data row1 col17\" >0.466997</td>\n",
       "      <td id=\"T_18229_row1_col18\" class=\"data row1 col18\" >0.516419</td>\n",
       "      <td id=\"T_18229_row1_col19\" class=\"data row1 col19\" >0.541618</td>\n",
       "      <td id=\"T_18229_row1_col20\" class=\"data row1 col20\" >0.532697</td>\n",
       "      <td id=\"T_18229_row1_col21\" class=\"data row1 col21\" >0.566630</td>\n",
       "      <td id=\"T_18229_row1_col22\" class=\"data row1 col22\" >0.563385</td>\n",
       "      <td id=\"T_18229_row1_col23\" class=\"data row1 col23\" >0.508955</td>\n",
       "    </tr>\n",
       "    <tr>\n",
       "      <th id=\"T_18229_level0_row2\" class=\"row_heading level0 row2\" >hc</th>\n",
       "      <td id=\"T_18229_row2_col0\" class=\"data row2 col0\" >0.354396</td>\n",
       "      <td id=\"T_18229_row2_col1\" class=\"data row2 col1\" >0.473584</td>\n",
       "      <td id=\"T_18229_row2_col2\" class=\"data row2 col2\" >0.466133</td>\n",
       "      <td id=\"T_18229_row2_col3\" class=\"data row2 col3\" >0.466146</td>\n",
       "      <td id=\"T_18229_row2_col4\" class=\"data row2 col4\" >0.447782</td>\n",
       "      <td id=\"T_18229_row2_col5\" class=\"data row2 col5\" >0.463224</td>\n",
       "      <td id=\"T_18229_row2_col6\" class=\"data row2 col6\" >0.499471</td>\n",
       "      <td id=\"T_18229_row2_col7\" class=\"data row2 col7\" >0.512096</td>\n",
       "      <td id=\"T_18229_row2_col8\" class=\"data row2 col8\" >0.519100</td>\n",
       "      <td id=\"T_18229_row2_col9\" class=\"data row2 col9\" >0.526672</td>\n",
       "      <td id=\"T_18229_row2_col10\" class=\"data row2 col10\" >0.514613</td>\n",
       "      <td id=\"T_18229_row2_col11\" class=\"data row2 col11\" >0.514309</td>\n",
       "      <td id=\"T_18229_row2_col12\" class=\"data row2 col12\" >0.524532</td>\n",
       "      <td id=\"T_18229_row2_col13\" class=\"data row2 col13\" >0.534485</td>\n",
       "      <td id=\"T_18229_row2_col14\" class=\"data row2 col14\" >0.543872</td>\n",
       "      <td id=\"T_18229_row2_col15\" class=\"data row2 col15\" >0.561505</td>\n",
       "      <td id=\"T_18229_row2_col16\" class=\"data row2 col16\" >0.555517</td>\n",
       "      <td id=\"T_18229_row2_col17\" class=\"data row2 col17\" >0.549056</td>\n",
       "      <td id=\"T_18229_row2_col18\" class=\"data row2 col18\" >0.544567</td>\n",
       "      <td id=\"T_18229_row2_col19\" class=\"data row2 col19\" >0.548052</td>\n",
       "      <td id=\"T_18229_row2_col20\" class=\"data row2 col20\" >0.559047</td>\n",
       "      <td id=\"T_18229_row2_col21\" class=\"data row2 col21\" >0.569136</td>\n",
       "      <td id=\"T_18229_row2_col22\" class=\"data row2 col22\" >0.591128</td>\n",
       "      <td id=\"T_18229_row2_col23\" class=\"data row2 col23\" >0.599324</td>\n",
       "    </tr>\n",
       "  </tbody>\n",
       "</table>\n"
      ],
      "text/plain": [
       "<pandas.io.formats.style.Styler at 0x7f1de847beb0>"
      ]
     },
     "execution_count": 64,
     "metadata": {},
     "output_type": "execute_result"
    }
   ],
   "source": [
    "## t-sne embedding - Results\n",
    "\n",
    "results = pd.DataFrame(\n",
    "    {'k-means': kmeans_list, \n",
    "     'gmm'    : gmm_list, \n",
    "     'hc'     : hc_list, \n",
    "    }\n",
    ").T\n",
    "\n",
    "results.columns = clusters\n",
    "results.style.highlight_max(color = 'lightgreen', axis=1)"
   ]
  },
  {
   "cell_type": "markdown",
   "id": "103865d1",
   "metadata": {
    "ExecuteTime": {
     "end_time": "2023-02-02T21:12:14.716990Z",
     "start_time": "2023-02-02T21:12:14.713314Z"
    },
    "papermill": {
     "duration": 0.043081,
     "end_time": "2023-03-01T23:28:10.951914",
     "exception": false,
     "start_time": "2023-03-01T23:28:10.908833",
     "status": "completed"
    },
    "tags": []
   },
   "source": [
    "# <span style=\"color: OrangeRed;\">MODEL TRAINING</span>\n",
    "<span style=\"color: OrangeRed;\">***PASSO 8***</span>"
   ]
  },
  {
   "cell_type": "code",
   "execution_count": 65,
   "id": "588c5e7b",
   "metadata": {
    "ExecuteTime": {
     "end_time": "2023-03-01T20:56:47.910432Z",
     "start_time": "2023-03-01T20:56:47.903869Z"
    },
    "execution": {
     "iopub.execute_input": "2023-03-01T23:28:11.024808Z",
     "iopub.status.busy": "2023-03-01T23:28:11.024384Z",
     "iopub.status.idle": "2023-03-01T23:28:11.034461Z",
     "shell.execute_reply": "2023-03-01T23:28:11.033304Z"
    },
    "papermill": {
     "duration": 0.045903,
     "end_time": "2023-03-01T23:28:11.037138",
     "exception": false,
     "start_time": "2023-03-01T23:28:10.991235",
     "status": "completed"
    },
    "scrolled": true,
    "tags": []
   },
   "outputs": [
    {
     "data": {
      "text/html": [
       "<div>\n",
       "<style scoped>\n",
       "    .dataframe tbody tr th:only-of-type {\n",
       "        vertical-align: middle;\n",
       "    }\n",
       "\n",
       "    .dataframe tbody tr th {\n",
       "        vertical-align: top;\n",
       "    }\n",
       "\n",
       "    .dataframe thead th {\n",
       "        text-align: right;\n",
       "    }\n",
       "</style>\n",
       "<table border=\"1\" class=\"dataframe\">\n",
       "  <thead>\n",
       "    <tr style=\"text-align: right;\">\n",
       "      <th></th>\n",
       "      <th>embedding_x</th>\n",
       "      <th>embedding_y</th>\n",
       "    </tr>\n",
       "  </thead>\n",
       "  <tbody>\n",
       "    <tr>\n",
       "      <th>0</th>\n",
       "      <td>-0.339995</td>\n",
       "      <td>18.054976</td>\n",
       "    </tr>\n",
       "    <tr>\n",
       "      <th>1</th>\n",
       "      <td>4.394973</td>\n",
       "      <td>9.980254</td>\n",
       "    </tr>\n",
       "    <tr>\n",
       "      <th>2</th>\n",
       "      <td>18.354630</td>\n",
       "      <td>11.104085</td>\n",
       "    </tr>\n",
       "    <tr>\n",
       "      <th>3</th>\n",
       "      <td>2.711783</td>\n",
       "      <td>4.441715</td>\n",
       "    </tr>\n",
       "    <tr>\n",
       "      <th>4</th>\n",
       "      <td>-5.267880</td>\n",
       "      <td>11.119250</td>\n",
       "    </tr>\n",
       "  </tbody>\n",
       "</table>\n",
       "</div>"
      ],
      "text/plain": [
       "   embedding_x  embedding_y\n",
       "0    -0.339995    18.054976\n",
       "1     4.394973     9.980254\n",
       "2    18.354630    11.104085\n",
       "3     2.711783     4.441715\n",
       "4    -5.267880    11.119250"
      ]
     },
     "execution_count": 65,
     "metadata": {},
     "output_type": "execute_result"
    }
   ],
   "source": [
    "# Espaço de embedding RandomForest reduzida pelo UMAP\n",
    "X.head()"
   ]
  },
  {
   "cell_type": "markdown",
   "id": "2dd509d0",
   "metadata": {
    "ExecuteTime": {
     "end_time": "2023-02-06T17:20:04.434150Z",
     "start_time": "2023-02-06T17:20:04.430564Z"
    },
    "papermill": {
     "duration": 0.032322,
     "end_time": "2023-03-01T23:28:11.123415",
     "exception": false,
     "start_time": "2023-03-01T23:28:11.091093",
     "status": "completed"
    },
    "tags": []
   },
   "source": [
    "## K-Means"
   ]
  },
  {
   "cell_type": "code",
   "execution_count": 66,
   "id": "749aa4b7",
   "metadata": {
    "ExecuteTime": {
     "end_time": "2023-03-01T20:57:04.852466Z",
     "start_time": "2023-03-01T20:57:04.057067Z"
    },
    "execution": {
     "iopub.execute_input": "2023-03-01T23:28:11.187638Z",
     "iopub.status.busy": "2023-03-01T23:28:11.187402Z",
     "iopub.status.idle": "2023-03-01T23:28:11.672425Z",
     "shell.execute_reply": "2023-03-01T23:28:11.671676Z"
    },
    "papermill": {
     "duration": 0.520546,
     "end_time": "2023-03-01T23:28:11.674101",
     "exception": false,
     "start_time": "2023-03-01T23:28:11.153555",
     "status": "completed"
    },
    "tags": []
   },
   "outputs": [],
   "source": [
    "k = 8 \n",
    "# Instancing the model \n",
    "kmeans = c.KMeans(init = 'random', n_clusters=k, n_init = 100, max_iter=300, random_state=42)\n",
    "\n",
    "# Model Training\n",
    "kmeans.fit(X)\n",
    "\n",
    "# Labels\n",
    "labels = kmeans.labels_"
   ]
  },
  {
   "cell_type": "markdown",
   "id": "4aa8d129",
   "metadata": {
    "papermill": {
     "duration": 0.032715,
     "end_time": "2023-03-01T23:28:11.745131",
     "exception": false,
     "start_time": "2023-03-01T23:28:11.712416",
     "status": "completed"
    },
    "tags": []
   },
   "source": [
    "## Gaussian Mixture Model "
   ]
  },
  {
   "cell_type": "code",
   "execution_count": 67,
   "id": "56e934fc",
   "metadata": {
    "ExecuteTime": {
     "end_time": "2023-03-01T20:57:06.279968Z",
     "start_time": "2023-03-01T20:57:06.274020Z"
    },
    "execution": {
     "iopub.execute_input": "2023-03-01T23:28:11.811921Z",
     "iopub.status.busy": "2023-03-01T23:28:11.811458Z",
     "iopub.status.idle": "2023-03-01T23:28:11.815805Z",
     "shell.execute_reply": "2023-03-01T23:28:11.814737Z"
    },
    "papermill": {
     "duration": 0.041849,
     "end_time": "2023-03-01T23:28:11.817991",
     "exception": false,
     "start_time": "2023-03-01T23:28:11.776142",
     "status": "completed"
    },
    "tags": []
   },
   "outputs": [],
   "source": [
    "# # model name\n",
    "# gmm_model = mx.GaussianMixture (n_components = k, random_state =10)\n",
    "\n",
    "# # model training\n",
    "# gmm_model.fit(X)\n",
    "\n",
    "# # predict\n",
    "# labels = gmm_model.predict (X)  \n",
    "    "
   ]
  },
  {
   "cell_type": "markdown",
   "id": "348bb868",
   "metadata": {
    "ExecuteTime": {
     "end_time": "2023-02-06T17:20:20.962014Z",
     "start_time": "2023-02-06T17:20:20.959846Z"
    },
    "papermill": {
     "duration": 0.037935,
     "end_time": "2023-03-01T23:28:11.896194",
     "exception": false,
     "start_time": "2023-03-01T23:28:11.858259",
     "status": "completed"
    },
    "tags": []
   },
   "source": [
    "## Cluster validation"
   ]
  },
  {
   "cell_type": "code",
   "execution_count": 68,
   "id": "b86094ce",
   "metadata": {
    "ExecuteTime": {
     "end_time": "2023-03-01T20:57:10.907249Z",
     "start_time": "2023-03-01T20:57:07.436215Z"
    },
    "execution": {
     "iopub.execute_input": "2023-03-01T23:28:11.981817Z",
     "iopub.status.busy": "2023-03-01T23:28:11.981037Z",
     "iopub.status.idle": "2023-03-01T23:28:12.733935Z",
     "shell.execute_reply": "2023-03-01T23:28:12.731970Z"
    },
    "papermill": {
     "duration": 0.79982,
     "end_time": "2023-03-01T23:28:12.736188",
     "exception": false,
     "start_time": "2023-03-01T23:28:11.936368",
     "status": "completed"
    },
    "tags": []
   },
   "outputs": [
    {
     "name": "stdout",
     "output_type": "stream",
     "text": [
      "WSS value: 74951.96875\n"
     ]
    },
    {
     "name": "stdout",
     "output_type": "stream",
     "text": [
      "Silhouette Score: 0.5053269267082214\n"
     ]
    }
   ],
   "source": [
    "# WSS (Within-cluester Sum of Square)\n",
    "print('WSS value: {}'.format(kmeans.inertia_))\n",
    "\n",
    "# Silhoute Score\n",
    "print('Silhouette Score: {}'.format (m.silhouette_score (X, labels, metric = 'euclidean')))"
   ]
  },
  {
   "cell_type": "markdown",
   "id": "33bf9314",
   "metadata": {
    "ExecuteTime": {
     "end_time": "2023-02-02T21:16:40.487919Z",
     "start_time": "2023-02-02T21:16:40.485800Z"
    },
    "papermill": {
     "duration": 0.037252,
     "end_time": "2023-03-01T23:28:12.817919",
     "exception": false,
     "start_time": "2023-03-01T23:28:12.780667",
     "status": "completed"
    },
    "tags": []
   },
   "source": [
    "# <span style=\"color: OrangeRed;\">CLUSTER ANALYSIS</span>\n",
    "<span style=\"color: OrangeRed;\">***PASSO 9***</span>"
   ]
  },
  {
   "cell_type": "code",
   "execution_count": 69,
   "id": "db97d9e0",
   "metadata": {
    "ExecuteTime": {
     "end_time": "2023-03-01T20:57:22.201582Z",
     "start_time": "2023-03-01T20:57:22.189984Z"
    },
    "execution": {
     "iopub.execute_input": "2023-03-01T23:28:12.897455Z",
     "iopub.status.busy": "2023-03-01T23:28:12.896803Z",
     "iopub.status.idle": "2023-03-01T23:28:12.905517Z",
     "shell.execute_reply": "2023-03-01T23:28:12.904641Z"
    },
    "papermill": {
     "duration": 0.050866,
     "end_time": "2023-03-01T23:28:12.907208",
     "exception": false,
     "start_time": "2023-03-01T23:28:12.856342",
     "status": "completed"
    },
    "tags": []
   },
   "outputs": [],
   "source": [
    "# df9 = df6.drop(columns = ['customer_id']).copy()\n",
    "\n",
    "# tabela de customers_ com label do cluster\n",
    "df92 = df4.copy()\n",
    "df92['labels'] = labels.tolist()\n",
    "# df9 = df4.copy()\n",
    "# df9['labels'] = labels.tolist()\n",
    "\n",
    "# embedding com label do cluster\n",
    "df9 = X.copy()\n",
    "df9['labels'] = labels.tolist()\n"
   ]
  },
  {
   "cell_type": "markdown",
   "id": "4d4d1ecb",
   "metadata": {
    "papermill": {
     "duration": 0.04175,
     "end_time": "2023-03-01T23:28:12.987089",
     "exception": false,
     "start_time": "2023-03-01T23:28:12.945339",
     "status": "completed"
    },
    "tags": []
   },
   "source": [
    "## Visualization Inspection"
   ]
  },
  {
   "cell_type": "code",
   "execution_count": 70,
   "id": "d54acc4a",
   "metadata": {
    "ExecuteTime": {
     "end_time": "2023-03-01T20:57:23.202730Z",
     "start_time": "2023-03-01T20:57:23.198451Z"
    },
    "execution": {
     "iopub.execute_input": "2023-03-01T23:28:13.073300Z",
     "iopub.status.busy": "2023-03-01T23:28:13.072879Z",
     "iopub.status.idle": "2023-03-01T23:28:13.078238Z",
     "shell.execute_reply": "2023-03-01T23:28:13.077303Z"
    },
    "papermill": {
     "duration": 0.048548,
     "end_time": "2023-03-01T23:28:13.080505",
     "exception": false,
     "start_time": "2023-03-01T23:28:13.031957",
     "status": "completed"
    },
    "tags": []
   },
   "outputs": [],
   "source": [
    "# fig = px.scatter_3d(df9, x='recency',y='frequency', z= 'monetary', color = 'labels')\n",
    "# fig.show()\n",
    "# Como a dimensionalidade esta >3 nao é possivel plotar os labels em torno dos eixos. "
   ]
  },
  {
   "cell_type": "code",
   "execution_count": 71,
   "id": "35a7b1b9",
   "metadata": {
    "ExecuteTime": {
     "end_time": "2023-03-01T20:57:25.242782Z",
     "start_time": "2023-03-01T20:57:23.889460Z"
    },
    "execution": {
     "iopub.execute_input": "2023-03-01T23:28:13.157532Z",
     "iopub.status.busy": "2023-03-01T23:28:13.156566Z",
     "iopub.status.idle": "2023-03-01T23:28:14.329691Z",
     "shell.execute_reply": "2023-03-01T23:28:14.328704Z"
    },
    "papermill": {
     "duration": 1.212389,
     "end_time": "2023-03-01T23:28:14.331969",
     "exception": false,
     "start_time": "2023-03-01T23:28:13.119580",
     "status": "completed"
    },
    "tags": []
   },
   "outputs": [
    {
     "data": {
      "text/plain": [
       "<AxesSubplot: xlabel='embedding_x', ylabel='embedding_y'>"
      ]
     },
     "execution_count": 71,
     "metadata": {},
     "output_type": "execute_result"
    },
    {
     "data": {
      "image/png": "[encoded data removed]",
      "text/plain": [
       "<Figure size 640x480 with 1 Axes>"
      ]
     },
     "metadata": {},
     "output_type": "display_data"
    }
   ],
   "source": [
    "#ploting the embedding space + labels\n",
    "sns.scatterplot (x = 'embedding_x', y = 'embedding_y', data = df9, hue = 'labels', palette = 'deep')"
   ]
  },
  {
   "cell_type": "markdown",
   "id": "7c753ab2",
   "metadata": {
    "papermill": {
     "duration": 0.036292,
     "end_time": "2023-03-01T23:28:14.404773",
     "exception": false,
     "start_time": "2023-03-01T23:28:14.368481",
     "status": "completed"
    },
    "tags": []
   },
   "source": [
    "## Cluster Profile"
   ]
  },
  {
   "cell_type": "code",
   "execution_count": 72,
   "id": "84d57100",
   "metadata": {
    "ExecuteTime": {
     "end_time": "2023-03-01T20:57:26.882231Z",
     "start_time": "2023-03-01T20:57:26.877009Z"
    },
    "execution": {
     "iopub.execute_input": "2023-03-01T23:28:14.489679Z",
     "iopub.status.busy": "2023-03-01T23:28:14.489434Z",
     "iopub.status.idle": "2023-03-01T23:28:14.494340Z",
     "shell.execute_reply": "2023-03-01T23:28:14.493179Z"
    },
    "papermill": {
     "duration": 0.051326,
     "end_time": "2023-03-01T23:28:14.496467",
     "exception": false,
     "start_time": "2023-03-01T23:28:14.445141",
     "status": "completed"
    },
    "tags": []
   },
   "outputs": [],
   "source": [
    "# df_aux with the added labels to df6\n",
    "# df_aux = df6.copy()\n",
    "# df_aux['labels'] = labels.tolist()\n",
    "\n",
    "df_aux = df92.copy()"
   ]
  },
  {
   "cell_type": "code",
   "execution_count": 73,
   "id": "55756b7c",
   "metadata": {
    "ExecuteTime": {
     "end_time": "2023-03-01T20:57:27.747768Z",
     "start_time": "2023-03-01T20:57:27.602633Z"
    },
    "code_folding": [],
    "execution": {
     "iopub.execute_input": "2023-03-01T23:28:14.581744Z",
     "iopub.status.busy": "2023-03-01T23:28:14.581021Z",
     "iopub.status.idle": "2023-03-01T23:28:14.642272Z",
     "shell.execute_reply": "2023-03-01T23:28:14.641531Z"
    },
    "papermill": {
     "duration": 0.107945,
     "end_time": "2023-03-01T23:28:14.643957",
     "exception": false,
     "start_time": "2023-03-01T23:28:14.536012",
     "status": "completed"
    },
    "scrolled": false,
    "tags": []
   },
   "outputs": [
    {
     "data": {
      "text/html": [
       "<div>\n",
       "<style scoped>\n",
       "    .dataframe tbody tr th:only-of-type {\n",
       "        vertical-align: middle;\n",
       "    }\n",
       "\n",
       "    .dataframe tbody tr th {\n",
       "        vertical-align: top;\n",
       "    }\n",
       "\n",
       "    .dataframe thead th {\n",
       "        text-align: right;\n",
       "    }\n",
       "</style>\n",
       "<table border=\"1\" class=\"dataframe\">\n",
       "  <thead>\n",
       "    <tr style=\"text-align: right;\">\n",
       "      <th></th>\n",
       "      <th>labels</th>\n",
       "      <th>customer_id</th>\n",
       "      <th>perc_customer</th>\n",
       "      <th>monetary</th>\n",
       "      <th>recency</th>\n",
       "      <th>frequency</th>\n",
       "      <th>quantity_products</th>\n",
       "      <th>returns</th>\n",
       "    </tr>\n",
       "  </thead>\n",
       "  <tbody>\n",
       "    <tr>\n",
       "      <th>0</th>\n",
       "      <td>0</td>\n",
       "      <td>621</td>\n",
       "      <td>10.904302</td>\n",
       "      <td>942.354235</td>\n",
       "      <td>261.793881</td>\n",
       "      <td>0.514264</td>\n",
       "      <td>57.592593</td>\n",
       "      <td>139.618357</td>\n",
       "    </tr>\n",
       "    <tr>\n",
       "      <th>1</th>\n",
       "      <td>1</td>\n",
       "      <td>607</td>\n",
       "      <td>10.658472</td>\n",
       "      <td>548.943789</td>\n",
       "      <td>252.369028</td>\n",
       "      <td>1.016474</td>\n",
       "      <td>44.573311</td>\n",
       "      <td>1.380560</td>\n",
       "    </tr>\n",
       "    <tr>\n",
       "      <th>2</th>\n",
       "      <td>2</td>\n",
       "      <td>885</td>\n",
       "      <td>15.539947</td>\n",
       "      <td>613.597864</td>\n",
       "      <td>41.358192</td>\n",
       "      <td>1.032647</td>\n",
       "      <td>41.232768</td>\n",
       "      <td>1.996610</td>\n",
       "    </tr>\n",
       "    <tr>\n",
       "      <th>3</th>\n",
       "      <td>3</td>\n",
       "      <td>598</td>\n",
       "      <td>10.500439</td>\n",
       "      <td>1360.935569</td>\n",
       "      <td>86.677258</td>\n",
       "      <td>0.028224</td>\n",
       "      <td>69.387960</td>\n",
       "      <td>7.132107</td>\n",
       "    </tr>\n",
       "    <tr>\n",
       "      <th>4</th>\n",
       "      <td>4</td>\n",
       "      <td>1099</td>\n",
       "      <td>19.297629</td>\n",
       "      <td>5053.862693</td>\n",
       "      <td>8.824386</td>\n",
       "      <td>0.045180</td>\n",
       "      <td>207.199272</td>\n",
       "      <td>49.464968</td>\n",
       "    </tr>\n",
       "    <tr>\n",
       "      <th>5</th>\n",
       "      <td>5</td>\n",
       "      <td>277</td>\n",
       "      <td>4.863916</td>\n",
       "      <td>906.624801</td>\n",
       "      <td>362.581227</td>\n",
       "      <td>1.051473</td>\n",
       "      <td>65.126354</td>\n",
       "      <td>1.649819</td>\n",
       "    </tr>\n",
       "    <tr>\n",
       "      <th>6</th>\n",
       "      <td>6</td>\n",
       "      <td>830</td>\n",
       "      <td>14.574188</td>\n",
       "      <td>667.164458</td>\n",
       "      <td>151.673494</td>\n",
       "      <td>1.019277</td>\n",
       "      <td>54.732530</td>\n",
       "      <td>0.780723</td>\n",
       "    </tr>\n",
       "    <tr>\n",
       "      <th>7</th>\n",
       "      <td>7</td>\n",
       "      <td>778</td>\n",
       "      <td>13.661106</td>\n",
       "      <td>1889.842211</td>\n",
       "      <td>33.012853</td>\n",
       "      <td>0.080740</td>\n",
       "      <td>122.654242</td>\n",
       "      <td>11.517995</td>\n",
       "    </tr>\n",
       "  </tbody>\n",
       "</table>\n",
       "</div>"
      ],
      "text/plain": [
       "   labels  customer_id  perc_customer     monetary     recency  frequency  \\\n",
       "0       0          621      10.904302   942.354235  261.793881   0.514264   \n",
       "1       1          607      10.658472   548.943789  252.369028   1.016474   \n",
       "2       2          885      15.539947   613.597864   41.358192   1.032647   \n",
       "3       3          598      10.500439  1360.935569   86.677258   0.028224   \n",
       "4       4         1099      19.297629  5053.862693    8.824386   0.045180   \n",
       "5       5          277       4.863916   906.624801  362.581227   1.051473   \n",
       "6       6          830      14.574188   667.164458  151.673494   1.019277   \n",
       "7       7          778      13.661106  1889.842211   33.012853   0.080740   \n",
       "\n",
       "   quantity_products     returns  \n",
       "0          57.592593  139.618357  \n",
       "1          44.573311    1.380560  \n",
       "2          41.232768    1.996610  \n",
       "3          69.387960    7.132107  \n",
       "4         207.199272   49.464968  \n",
       "5          65.126354    1.649819  \n",
       "6          54.732530    0.780723  \n",
       "7         122.654242   11.517995  "
      ]
     },
     "execution_count": 73,
     "metadata": {},
     "output_type": "execute_result"
    }
   ],
   "source": [
    "# Number of customers\n",
    "df_cluster = df_aux[['customer_id', 'labels']].groupby('labels').count().reset_index()\n",
    "df_cluster['perc_customer'] = (df_cluster['customer_id']/df_cluster['customer_id'].sum())*100\n",
    "\n",
    "\n",
    "# Avg Monetary\n",
    "df_avg_monetary = df_aux[['monetary','labels']].groupby('labels').mean().reset_index()\n",
    "df_cluster = pd.merge(df_cluster, df_avg_monetary, how='inner', on = 'labels')\n",
    "\n",
    "\n",
    "# Avg  Recency \n",
    "df_avg_recency = df_aux[['recency','labels']].groupby('labels').mean().reset_index()\n",
    "df_cluster = pd.merge(df_cluster, df_avg_recency, how='inner', on = 'labels')\n",
    "\n",
    "\n",
    "# Avg Frequency\n",
    "df_avg_frequency = df_aux[['frequency','labels']].groupby('labels').mean().reset_index()\n",
    "df_cluster = pd.merge(df_cluster, df_avg_frequency, how='inner', on = 'labels')\n",
    "\n",
    "\n",
    "# Quantity products\n",
    "df_quantity_products = df_aux[['quantity_products','labels']].groupby('labels').mean().reset_index()\n",
    "df_cluster = pd.merge(df_cluster, df_quantity_products, how='inner', on = 'labels')\n",
    "\n",
    "\n",
    "# Returns\n",
    "df_returns = df_aux[['returns','labels']].groupby('labels').mean().reset_index()\n",
    "df_cluster = pd.merge(df_cluster, df_returns, how='inner', on = 'labels')\n",
    "\n",
    "# Avg Ticket\n",
    "# df_avg_ticket = df_aux[['labels','avg_ticket']].groupby('labels').mean().reset_index()\n",
    "# df_cluster = pd.merge(df_cluster,df_avg_ticket,how ='inner', on='labels')\n",
    "\n",
    "# Avg Basket\n",
    "# df_avg_basket = df_aux[['labels','avg_basket']].groupby('labels').mean().reset_index()\n",
    "# df_cluster = pd.merge(df_cluster,df_avg_basket,how ='inner', on='labels')\n",
    "\n",
    "df_cluster"
   ]
  },
  {
   "cell_type": "markdown",
   "id": "6b7d1dfb",
   "metadata": {
    "papermill": {
     "duration": 0.048954,
     "end_time": "2023-03-01T23:28:14.733553",
     "exception": false,
     "start_time": "2023-03-01T23:28:14.684599",
     "status": "completed"
    },
    "tags": []
   },
   "source": [
    "### Cluster Profile "
   ]
  },
  {
   "cell_type": "code",
   "execution_count": 74,
   "id": "d7af7b20",
   "metadata": {
    "ExecuteTime": {
     "end_time": "2023-03-01T20:57:29.268127Z",
     "start_time": "2023-03-01T20:57:29.251934Z"
    },
    "execution": {
     "iopub.execute_input": "2023-03-01T23:28:14.818671Z",
     "iopub.status.busy": "2023-03-01T23:28:14.816823Z",
     "iopub.status.idle": "2023-03-01T23:28:14.832166Z",
     "shell.execute_reply": "2023-03-01T23:28:14.831349Z"
    },
    "papermill": {
     "duration": 0.058327,
     "end_time": "2023-03-01T23:28:14.833705",
     "exception": false,
     "start_time": "2023-03-01T23:28:14.775378",
     "status": "completed"
    },
    "tags": []
   },
   "outputs": [
    {
     "data": {
      "text/html": [
       "<div>\n",
       "<style scoped>\n",
       "    .dataframe tbody tr th:only-of-type {\n",
       "        vertical-align: middle;\n",
       "    }\n",
       "\n",
       "    .dataframe tbody tr th {\n",
       "        vertical-align: top;\n",
       "    }\n",
       "\n",
       "    .dataframe thead th {\n",
       "        text-align: right;\n",
       "    }\n",
       "</style>\n",
       "<table border=\"1\" class=\"dataframe\">\n",
       "  <thead>\n",
       "    <tr style=\"text-align: right;\">\n",
       "      <th></th>\n",
       "      <th>labels</th>\n",
       "      <th>customer_id</th>\n",
       "      <th>perc_customer</th>\n",
       "      <th>monetary</th>\n",
       "      <th>recency</th>\n",
       "      <th>frequency</th>\n",
       "      <th>quantity_products</th>\n",
       "      <th>returns</th>\n",
       "    </tr>\n",
       "  </thead>\n",
       "  <tbody>\n",
       "    <tr>\n",
       "      <th>0</th>\n",
       "      <td>0</td>\n",
       "      <td>621</td>\n",
       "      <td>10.904302</td>\n",
       "      <td>942.354235</td>\n",
       "      <td>261.793881</td>\n",
       "      <td>0.514264</td>\n",
       "      <td>57.592593</td>\n",
       "      <td>139.618357</td>\n",
       "    </tr>\n",
       "    <tr>\n",
       "      <th>1</th>\n",
       "      <td>1</td>\n",
       "      <td>607</td>\n",
       "      <td>10.658472</td>\n",
       "      <td>548.943789</td>\n",
       "      <td>252.369028</td>\n",
       "      <td>1.016474</td>\n",
       "      <td>44.573311</td>\n",
       "      <td>1.380560</td>\n",
       "    </tr>\n",
       "    <tr>\n",
       "      <th>2</th>\n",
       "      <td>2</td>\n",
       "      <td>885</td>\n",
       "      <td>15.539947</td>\n",
       "      <td>613.597864</td>\n",
       "      <td>41.358192</td>\n",
       "      <td>1.032647</td>\n",
       "      <td>41.232768</td>\n",
       "      <td>1.996610</td>\n",
       "    </tr>\n",
       "    <tr>\n",
       "      <th>3</th>\n",
       "      <td>3</td>\n",
       "      <td>598</td>\n",
       "      <td>10.500439</td>\n",
       "      <td>1360.935569</td>\n",
       "      <td>86.677258</td>\n",
       "      <td>0.028224</td>\n",
       "      <td>69.387960</td>\n",
       "      <td>7.132107</td>\n",
       "    </tr>\n",
       "    <tr>\n",
       "      <th>4</th>\n",
       "      <td>4</td>\n",
       "      <td>1099</td>\n",
       "      <td>19.297629</td>\n",
       "      <td>5053.862693</td>\n",
       "      <td>8.824386</td>\n",
       "      <td>0.045180</td>\n",
       "      <td>207.199272</td>\n",
       "      <td>49.464968</td>\n",
       "    </tr>\n",
       "    <tr>\n",
       "      <th>5</th>\n",
       "      <td>5</td>\n",
       "      <td>277</td>\n",
       "      <td>4.863916</td>\n",
       "      <td>906.624801</td>\n",
       "      <td>362.581227</td>\n",
       "      <td>1.051473</td>\n",
       "      <td>65.126354</td>\n",
       "      <td>1.649819</td>\n",
       "    </tr>\n",
       "    <tr>\n",
       "      <th>6</th>\n",
       "      <td>6</td>\n",
       "      <td>830</td>\n",
       "      <td>14.574188</td>\n",
       "      <td>667.164458</td>\n",
       "      <td>151.673494</td>\n",
       "      <td>1.019277</td>\n",
       "      <td>54.732530</td>\n",
       "      <td>0.780723</td>\n",
       "    </tr>\n",
       "    <tr>\n",
       "      <th>7</th>\n",
       "      <td>7</td>\n",
       "      <td>778</td>\n",
       "      <td>13.661106</td>\n",
       "      <td>1889.842211</td>\n",
       "      <td>33.012853</td>\n",
       "      <td>0.080740</td>\n",
       "      <td>122.654242</td>\n",
       "      <td>11.517995</td>\n",
       "    </tr>\n",
       "  </tbody>\n",
       "</table>\n",
       "</div>"
      ],
      "text/plain": [
       "   labels  customer_id  perc_customer     monetary     recency  frequency  \\\n",
       "0       0          621      10.904302   942.354235  261.793881   0.514264   \n",
       "1       1          607      10.658472   548.943789  252.369028   1.016474   \n",
       "2       2          885      15.539947   613.597864   41.358192   1.032647   \n",
       "3       3          598      10.500439  1360.935569   86.677258   0.028224   \n",
       "4       4         1099      19.297629  5053.862693    8.824386   0.045180   \n",
       "5       5          277       4.863916   906.624801  362.581227   1.051473   \n",
       "6       6          830      14.574188   667.164458  151.673494   1.019277   \n",
       "7       7          778      13.661106  1889.842211   33.012853   0.080740   \n",
       "\n",
       "   quantity_products     returns  \n",
       "0          57.592593  139.618357  \n",
       "1          44.573311    1.380560  \n",
       "2          41.232768    1.996610  \n",
       "3          69.387960    7.132107  \n",
       "4         207.199272   49.464968  \n",
       "5          65.126354    1.649819  \n",
       "6          54.732530    0.780723  \n",
       "7         122.654242   11.517995  "
      ]
     },
     "execution_count": 74,
     "metadata": {},
     "output_type": "execute_result"
    }
   ],
   "source": [
    "df_cluster"
   ]
  },
  {
   "cell_type": "markdown",
   "id": "5fa1372a",
   "metadata": {
    "papermill": {
     "duration": 0.04965,
     "end_time": "2023-03-01T23:28:14.924018",
     "exception": false,
     "start_time": "2023-03-01T23:28:14.874368",
     "status": "completed"
    },
    "tags": []
   },
   "source": [
    "**Cluster 5 - Candidato a INSIDERS**\n",
    "- Numero de customers: 355 (12.80%)\n",
    "- Faturamento medio: $ 11,098\n",
    "- Recencia media: 18 dias\n",
    "- Media de produto: 485 produtos por compra\n",
    "- Frequencia de compras por mes: 0.11 compras/dia\n",
    "    \n",
    "**Cluster 1 - ...**"
   ]
  },
  {
   "cell_type": "markdown",
   "id": "cdbab2ae",
   "metadata": {
    "ExecuteTime": {
     "end_time": "2023-02-02T17:44:43.119903Z",
     "start_time": "2023-02-02T17:44:43.116700Z"
    },
    "papermill": {
     "duration": 0.036972,
     "end_time": "2023-03-01T23:28:15.004110",
     "exception": false,
     "start_time": "2023-03-01T23:28:14.967138",
     "status": "completed"
    },
    "tags": []
   },
   "source": [
    "#  <span style=\"color: OrangeRed;\">EXPLORATORY DATA ANALYSIS (EDA) PT2</span>\n",
    "<span style=\"color: OrangeRed;\">***PASSO 10*** </span>"
   ]
  },
  {
   "cell_type": "code",
   "execution_count": 75,
   "id": "4a0f8850",
   "metadata": {
    "ExecuteTime": {
     "end_time": "2023-03-01T20:57:30.950693Z",
     "start_time": "2023-03-01T20:57:30.946935Z"
    },
    "execution": {
     "iopub.execute_input": "2023-03-01T23:28:15.096017Z",
     "iopub.status.busy": "2023-03-01T23:28:15.095189Z",
     "iopub.status.idle": "2023-03-01T23:28:15.102323Z",
     "shell.execute_reply": "2023-03-01T23:28:15.100457Z"
    },
    "papermill": {
     "duration": 0.061195,
     "end_time": "2023-03-01T23:28:15.104944",
     "exception": false,
     "start_time": "2023-03-01T23:28:15.043749",
     "status": "completed"
    },
    "tags": []
   },
   "outputs": [],
   "source": [
    "df10 = df92.copy()"
   ]
  },
  {
   "cell_type": "code",
   "execution_count": 76,
   "id": "106bad46",
   "metadata": {
    "ExecuteTime": {
     "end_time": "2023-03-01T20:57:32.022784Z",
     "start_time": "2023-03-01T20:57:31.598636Z"
    },
    "execution": {
     "iopub.execute_input": "2023-03-01T23:28:15.187890Z",
     "iopub.status.busy": "2023-03-01T23:28:15.187423Z",
     "iopub.status.idle": "2023-03-01T23:28:15.204153Z",
     "shell.execute_reply": "2023-03-01T23:28:15.202400Z"
    },
    "papermill": {
     "duration": 0.075306,
     "end_time": "2023-03-01T23:28:15.216905",
     "exception": false,
     "start_time": "2023-03-01T23:28:15.141599",
     "status": "completed"
    },
    "tags": []
   },
   "outputs": [
    {
     "data": {
      "text/html": [
       "<div>\n",
       "<style scoped>\n",
       "    .dataframe tbody tr th:only-of-type {\n",
       "        vertical-align: middle;\n",
       "    }\n",
       "\n",
       "    .dataframe tbody tr th {\n",
       "        vertical-align: top;\n",
       "    }\n",
       "\n",
       "    .dataframe thead th {\n",
       "        text-align: right;\n",
       "    }\n",
       "</style>\n",
       "<table border=\"1\" class=\"dataframe\">\n",
       "  <thead>\n",
       "    <tr style=\"text-align: right;\">\n",
       "      <th></th>\n",
       "      <th>customer_id</th>\n",
       "      <th>monetary</th>\n",
       "      <th>recency</th>\n",
       "      <th>frequency</th>\n",
       "      <th>quantity_products</th>\n",
       "      <th>returns</th>\n",
       "      <th>labels</th>\n",
       "    </tr>\n",
       "  </thead>\n",
       "  <tbody>\n",
       "    <tr>\n",
       "      <th>0</th>\n",
       "      <td>17850</td>\n",
       "      <td>5391.21</td>\n",
       "      <td>372.0</td>\n",
       "      <td>17.000000</td>\n",
       "      <td>297.0</td>\n",
       "      <td>21.0</td>\n",
       "      <td>5</td>\n",
       "    </tr>\n",
       "    <tr>\n",
       "      <th>1</th>\n",
       "      <td>13047</td>\n",
       "      <td>3232.59</td>\n",
       "      <td>56.0</td>\n",
       "      <td>0.028302</td>\n",
       "      <td>171.0</td>\n",
       "      <td>6.0</td>\n",
       "      <td>3</td>\n",
       "    </tr>\n",
       "    <tr>\n",
       "      <th>2</th>\n",
       "      <td>12583</td>\n",
       "      <td>6705.38</td>\n",
       "      <td>2.0</td>\n",
       "      <td>0.040323</td>\n",
       "      <td>232.0</td>\n",
       "      <td>50.0</td>\n",
       "      <td>4</td>\n",
       "    </tr>\n",
       "    <tr>\n",
       "      <th>3</th>\n",
       "      <td>13748</td>\n",
       "      <td>948.25</td>\n",
       "      <td>95.0</td>\n",
       "      <td>0.017921</td>\n",
       "      <td>28.0</td>\n",
       "      <td>0.0</td>\n",
       "      <td>3</td>\n",
       "    </tr>\n",
       "    <tr>\n",
       "      <th>4</th>\n",
       "      <td>15100</td>\n",
       "      <td>876.00</td>\n",
       "      <td>333.0</td>\n",
       "      <td>0.073171</td>\n",
       "      <td>3.0</td>\n",
       "      <td>22.0</td>\n",
       "      <td>0</td>\n",
       "    </tr>\n",
       "  </tbody>\n",
       "</table>\n",
       "</div>"
      ],
      "text/plain": [
       "   customer_id  monetary  recency  frequency  quantity_products  returns  \\\n",
       "0        17850   5391.21    372.0  17.000000              297.0     21.0   \n",
       "1        13047   3232.59     56.0   0.028302              171.0      6.0   \n",
       "2        12583   6705.38      2.0   0.040323              232.0     50.0   \n",
       "3        13748    948.25     95.0   0.017921               28.0      0.0   \n",
       "4        15100    876.00    333.0   0.073171                3.0     22.0   \n",
       "\n",
       "   labels  \n",
       "0       5  \n",
       "1       3  \n",
       "2       4  \n",
       "3       3  \n",
       "4       0  "
      ]
     },
     "execution_count": 76,
     "metadata": {},
     "output_type": "execute_result"
    }
   ],
   "source": [
    "df10.head()"
   ]
  },
  {
   "cell_type": "markdown",
   "id": "2c38a877",
   "metadata": {
    "papermill": {
     "duration": 0.046719,
     "end_time": "2023-03-01T23:28:15.315637",
     "exception": false,
     "start_time": "2023-03-01T23:28:15.268918",
     "status": "completed"
    },
    "tags": []
   },
   "source": [
    "# <span style=\"color: OrangeRed;\">DEPLOY TO PRODUCTION </span>\n",
    "<span style=\"color: OrangeRed;\">***PASSO 11***</span>"
   ]
  },
  {
   "cell_type": "code",
   "execution_count": 77,
   "id": "9114c4b8",
   "metadata": {
    "ExecuteTime": {
     "end_time": "2023-03-01T20:57:33.390423Z",
     "start_time": "2023-03-01T20:57:33.383956Z"
    },
    "execution": {
     "iopub.execute_input": "2023-03-01T23:28:15.405351Z",
     "iopub.status.busy": "2023-03-01T23:28:15.405014Z",
     "iopub.status.idle": "2023-03-01T23:28:15.411739Z",
     "shell.execute_reply": "2023-03-01T23:28:15.410820Z"
    },
    "papermill": {
     "duration": 0.054641,
     "end_time": "2023-03-01T23:28:15.414096",
     "exception": false,
     "start_time": "2023-03-01T23:28:15.359455",
     "status": "completed"
    },
    "tags": []
   },
   "outputs": [],
   "source": [
    "#change dtypes\n",
    "df10['recency'] = df10['recency'].astype(int)\n",
    "df10['quantity_products'] = df10['quantity_products'].astype(int)\n",
    "df10['returns'] = df10['returns'].astype(int)"
   ]
  },
  {
   "cell_type": "code",
   "execution_count": 78,
   "id": "590b6141",
   "metadata": {
    "ExecuteTime": {
     "end_time": "2023-03-01T23:09:17.279576Z",
     "start_time": "2023-03-01T23:09:17.100964Z"
    },
    "execution": {
     "iopub.execute_input": "2023-03-01T23:28:15.510517Z",
     "iopub.status.busy": "2023-03-01T23:28:15.510271Z",
     "iopub.status.idle": "2023-03-01T23:28:15.666315Z",
     "shell.execute_reply": "2023-03-01T23:28:15.665116Z"
    },
    "papermill": {
     "duration": 0.201474,
     "end_time": "2023-03-01T23:28:15.668036",
     "exception": false,
     "start_time": "2023-03-01T23:28:15.466562",
     "status": "completed"
    },
    "tags": []
   },
   "outputs": [],
   "source": [
    "import sqlalchemy \n",
    "import sqlite3\n",
    "from sqlalchemy import text"
   ]
  },
  {
   "cell_type": "code",
   "execution_count": 79,
   "id": "c42d50bd",
   "metadata": {
    "ExecuteTime": {
     "end_time": "2023-03-01T22:58:40.578776Z",
     "start_time": "2023-03-01T22:58:40.118292Z"
    },
    "execution": {
     "iopub.execute_input": "2023-03-01T23:28:15.755939Z",
     "iopub.status.busy": "2023-03-01T23:28:15.755646Z",
     "iopub.status.idle": "2023-03-01T23:28:16.020962Z",
     "shell.execute_reply": "2023-03-01T23:28:16.019080Z"
    },
    "papermill": {
     "duration": 0.311443,
     "end_time": "2023-03-01T23:28:16.023406",
     "exception": false,
     "start_time": "2023-03-01T23:28:15.711963",
     "status": "completed"
    },
    "tags": []
   },
   "outputs": [],
   "source": [
    "# Drop table\n",
    "# query_drop_table = \"\"\"\n",
    "#     drop table insiders \n",
    "# \"\"\"\n",
    "# conn = sqlite3.connect ('../data/insiders_db.sqlite')\n",
    "# conn.execute(query_drop_table)\n",
    "\n",
    "# database connection\n",
    "# conn = sqlite3.connect ('../data/insiders_db.sqlite')\n",
    "# conn = sqlalchemy.create_engine('sqlite:///../data/insiders_db.sqlite')\n",
    "\n",
    "engine = sqlalchemy.create_engine('sqlite:///src/data/insiders_db.sqlite')\n",
    "\n",
    "# create table \n",
    "query_create_table_insiders = \"\"\"\n",
    "    CREATE TABLE insiders (\n",
    "       customer_id            INTEGER,\n",
    "       monetary               REAL,\n",
    "       recency                INTEGER,\n",
    "       frequency              REAL,\n",
    "       quantity_products      INTEGER,\n",
    "       returns                INTEGER,\n",
    "       labels                 INTEGER \n",
    "    )\n",
    "\"\"\"\n",
    "\n",
    "with engine.connect().execution_options(autocommit=True) as conn:\n",
    "    query = conn.execute(text(query_create_table_insiders))         \n",
    "# df = pd.DataFrame(query.fetchall())\n",
    "\n",
    "# conn.execute(query_create_table_insiders)"
   ]
  },
  {
   "cell_type": "code",
   "execution_count": 80,
   "id": "28f94541",
   "metadata": {
    "ExecuteTime": {
     "end_time": "2023-03-01T22:59:26.104754Z",
     "start_time": "2023-03-01T22:59:24.732845Z"
    },
    "execution": {
     "iopub.execute_input": "2023-03-01T23:28:16.120902Z",
     "iopub.status.busy": "2023-03-01T23:28:16.120323Z",
     "iopub.status.idle": "2023-03-01T23:28:16.194840Z",
     "shell.execute_reply": "2023-03-01T23:28:16.193995Z"
    },
    "papermill": {
     "duration": 0.123306,
     "end_time": "2023-03-01T23:28:16.196872",
     "exception": false,
     "start_time": "2023-03-01T23:28:16.073566",
     "status": "completed"
    },
    "tags": []
   },
   "outputs": [],
   "source": [
    "# insert data\n",
    "# conn = create_engine('sqlite:///../src/data/insiders_db.sqlite')\n",
    "# conn = sqlalchemy.create_engine('sqlite:///insiders_db.sqlite')\n",
    "with engine.connect().execution_options(autocommit=True) as conn:\n",
    "    df92.to_sql('insiders', con = conn, if_exists = 'append', index=False)"
   ]
  },
  {
   "cell_type": "code",
   "execution_count": 81,
   "id": "7c4fd456",
   "metadata": {
    "ExecuteTime": {
     "end_time": "2023-03-01T21:50:26.412543Z",
     "start_time": "2023-03-01T21:50:24.759838Z"
    },
    "code_folding": [],
    "execution": {
     "iopub.execute_input": "2023-03-01T23:28:16.293067Z",
     "iopub.status.busy": "2023-03-01T23:28:16.290884Z",
     "iopub.status.idle": "2023-03-01T23:28:16.298075Z",
     "shell.execute_reply": "2023-03-01T23:28:16.297155Z"
    },
    "papermill": {
     "duration": 0.054025,
     "end_time": "2023-03-01T23:28:16.299953",
     "exception": false,
     "start_time": "2023-03-01T23:28:16.245928",
     "status": "completed"
    },
    "scrolled": false,
    "tags": []
   },
   "outputs": [],
   "source": [
    "# get query \n",
    "# query_collect = \"\"\"\n",
    "#     select * from insiders\n",
    "# \"\"\"\n",
    "# # database connection\n",
    "# conn = sqlite3.connect ('../data/insiders_db.sqlite')\n",
    "\n",
    "# read sql\n",
    "# df = pd.read_sql_query(query_collect,conn)\n",
    "# df.head()"
   ]
  },
  {
   "cell_type": "code",
   "execution_count": null,
   "id": "a8520996",
   "metadata": {
    "papermill": {
     "duration": 0.042271,
     "end_time": "2023-03-01T23:28:16.397679",
     "exception": false,
     "start_time": "2023-03-01T23:28:16.355408",
     "status": "completed"
    },
    "tags": []
   },
   "outputs": [],
   "source": []
  },
  {
   "cell_type": "code",
   "execution_count": null,
   "id": "a747c0c0",
   "metadata": {
    "ExecuteTime": {
     "end_time": "2023-03-01T21:20:17.607840Z",
     "start_time": "2023-03-01T21:20:17.277915Z"
    },
    "papermill": {
     "duration": 0.047629,
     "end_time": "2023-03-01T23:28:16.490047",
     "exception": false,
     "start_time": "2023-03-01T23:28:16.442418",
     "status": "completed"
    },
    "tags": []
   },
   "outputs": [],
   "source": []
  },
  {
   "cell_type": "code",
   "execution_count": 82,
   "id": "9eb19125",
   "metadata": {
    "ExecuteTime": {
     "end_time": "2023-03-01T21:14:56.391986Z",
     "start_time": "2023-03-01T21:14:56.388068Z"
    },
    "execution": {
     "iopub.execute_input": "2023-03-01T23:28:16.566574Z",
     "iopub.status.busy": "2023-03-01T23:28:16.566243Z",
     "iopub.status.idle": "2023-03-01T23:28:16.572378Z",
     "shell.execute_reply": "2023-03-01T23:28:16.570235Z"
    },
    "papermill": {
     "duration": 0.050419,
     "end_time": "2023-03-01T23:28:16.575396",
     "exception": false,
     "start_time": "2023-03-01T23:28:16.524977",
     "status": "completed"
    },
    "tags": []
   },
   "outputs": [],
   "source": [
    "# engine = sqlalchemy.create_engine('sqlite:///../data/insiders_db.sqlite')"
   ]
  },
  {
   "cell_type": "code",
   "execution_count": 83,
   "id": "3d1490c3",
   "metadata": {
    "ExecuteTime": {
     "end_time": "2023-03-01T21:18:17.034010Z",
     "start_time": "2023-03-01T21:18:17.030003Z"
    },
    "execution": {
     "iopub.execute_input": "2023-03-01T23:28:16.782969Z",
     "iopub.status.busy": "2023-03-01T23:28:16.782642Z",
     "iopub.status.idle": "2023-03-01T23:28:16.788128Z",
     "shell.execute_reply": "2023-03-01T23:28:16.786343Z"
    },
    "papermill": {
     "duration": 0.173296,
     "end_time": "2023-03-01T23:28:16.791389",
     "exception": false,
     "start_time": "2023-03-01T23:28:16.618093",
     "status": "completed"
    },
    "tags": []
   },
   "outputs": [],
   "source": [
    "# conn = create_engine('sqlite:///../data/insiders_db.sqlite').connect()\n",
    "# conn = engine.connect()\n",
    "# df = pd.read_sql_query(query_collect,conn)\n",
    "# df.head()"
   ]
  },
  {
   "cell_type": "code",
   "execution_count": 84,
   "id": "bebfdad3",
   "metadata": {
    "ExecuteTime": {
     "end_time": "2023-03-01T21:15:59.950549Z",
     "start_time": "2023-03-01T21:15:59.814915Z"
    },
    "execution": {
     "iopub.execute_input": "2023-03-01T23:28:16.963967Z",
     "iopub.status.busy": "2023-03-01T23:28:16.963727Z",
     "iopub.status.idle": "2023-03-01T23:28:16.967233Z",
     "shell.execute_reply": "2023-03-01T23:28:16.966250Z"
    },
    "papermill": {
     "duration": 0.100467,
     "end_time": "2023-03-01T23:28:16.970376",
     "exception": false,
     "start_time": "2023-03-01T23:28:16.869909",
     "status": "completed"
    },
    "tags": []
   },
   "outputs": [],
   "source": [
    "# from sqlalchemy.sql import text\n",
    "# sql = '''\n",
    "#     SELECT * FROM insiders;\n",
    "# '''\n",
    "# with engine.connect().execution_options(autocommit=True) as conn:\n",
    "#     query = conn.execute(text(sql))         \n",
    "# df = pd.DataFrame(query.fetchall())"
   ]
  },
  {
   "cell_type": "code",
   "execution_count": 85,
   "id": "29bed51a",
   "metadata": {
    "ExecuteTime": {
     "end_time": "2023-03-01T21:15:04.404358Z",
     "start_time": "2023-03-01T21:15:04.399003Z"
    },
    "execution": {
     "iopub.execute_input": "2023-03-01T23:28:17.535069Z",
     "iopub.status.busy": "2023-03-01T23:28:17.534735Z",
     "iopub.status.idle": "2023-03-01T23:28:17.538473Z",
     "shell.execute_reply": "2023-03-01T23:28:17.537559Z"
    },
    "papermill": {
     "duration": 0.114872,
     "end_time": "2023-03-01T23:28:17.541615",
     "exception": false,
     "start_time": "2023-03-01T23:28:17.426743",
     "status": "completed"
    },
    "tags": []
   },
   "outputs": [],
   "source": [
    "# engine.connect()"
   ]
  },
  {
   "cell_type": "code",
   "execution_count": 86,
   "id": "43bc6067",
   "metadata": {
    "ExecuteTime": {
     "end_time": "2023-03-01T21:16:05.120391Z",
     "start_time": "2023-03-01T21:16:05.108793Z"
    },
    "execution": {
     "iopub.execute_input": "2023-03-01T23:28:17.627865Z",
     "iopub.status.busy": "2023-03-01T23:28:17.626637Z",
     "iopub.status.idle": "2023-03-01T23:28:17.630997Z",
     "shell.execute_reply": "2023-03-01T23:28:17.630172Z"
    },
    "papermill": {
     "duration": 0.049386,
     "end_time": "2023-03-01T23:28:17.632501",
     "exception": false,
     "start_time": "2023-03-01T23:28:17.583115",
     "status": "completed"
    },
    "tags": []
   },
   "outputs": [],
   "source": [
    "# df.head()"
   ]
  }
 ],
 "metadata": {
  "hide_input": false,
  "kernelspec": {
   "display_name": "Python 3 (ipykernel)",
   "language": "python",
   "name": "python3"
  },
  "language_info": {
   "codemirror_mode": {
    "name": "ipython",
    "version": 3
   },
   "file_extension": ".py",
   "mimetype": "text/x-python",
   "name": "python",
   "nbconvert_exporter": "python",
   "pygments_lexer": "ipython3",
   "version": "3.10.8"
  },
  "papermill": {
   "default_parameters": {},
   "duration": 332.774194,
   "end_time": "2023-03-01T23:28:18.892968",
   "environment_variables": {},
   "exception": null,
   "input_path": "src/models/0.10-dhrt-insiders-clustering-deploy.ipynb",
   "output_path": "reports/0.10-dhrt-insiders-clustering-deploy-2023-03-01.ipynb",
   "parameters": {},
   "start_time": "2023-03-01T23:22:46.118774",
   "version": "2.4.0"
  },
  "toc": {
   "base_numbering": 1,
   "nav_menu": {},
   "number_sections": true,
   "sideBar": true,
   "skip_h1_title": false,
   "title_cell": "Table of Contents",
   "title_sidebar": "Contents",
   "toc_cell": false,
   "toc_position": {
    "height": "calc(100% - 180px)",
    "left": "10px",
    "top": "150px",
    "width": "303.542px"
   },
   "toc_section_display": true,
   "toc_window_display": false
  },
  "varInspector": {
   "cols": {
    "lenName": 16,
    "lenType": 16,
    "lenVar": 40
   },
   "kernels_config": {
    "python": {
     "delete_cmd_postfix": "",
     "delete_cmd_prefix": "del ",
     "library": "var_list.py",
     "varRefreshCmd": "print(var_dic_list())"
    },
    "r": {
     "delete_cmd_postfix": ") ",
     "delete_cmd_prefix": "rm(",
     "library": "var_list.r",
     "varRefreshCmd": "cat(var_dic_list()) "
    }
   },
   "types_to_exclude": [
    "module",
    "function",
    "builtin_function_or_method",
    "instance",
    "_Feature"
   ],
   "window_display": false
  }
 },
 "nbformat": 4,
 "nbformat_minor": 5
}