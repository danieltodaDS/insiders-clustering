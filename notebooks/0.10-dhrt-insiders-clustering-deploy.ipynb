{
 "cells": [
  {
   "cell_type": "markdown",
   "id": "1e0d345c",
   "metadata": {},
   "source": [
    " **PA005: High Value Customers Identification (Insiders)**"
   ]
  },
  {
   "cell_type": "markdown",
   "id": "b56ba9f9",
   "metadata": {},
   "source": [
    "# IMPORTS"
   ]
  },
  {
   "cell_type": "code",
   "execution_count": 1,
   "id": "2d234e41",
   "metadata": {
    "ExecuteTime": {
     "end_time": "2023-03-01T11:47:11.941480Z",
     "start_time": "2023-03-01T11:47:07.008834Z"
    }
   },
   "outputs": [
    {
     "name": "stderr",
     "output_type": "stream",
     "text": [
      "/home/daniel/miniconda3/envs/ds_em_clusterizacao/lib/python3.10/site-packages/tqdm/auto.py:22: TqdmWarning: IProgress not found. Please update jupyter and ipywidgets. See https://ipywidgets.readthedocs.io/en/stable/user_install.html\n",
      "  from .autonotebook import tqdm as notebook_tqdm\n"
     ]
    }
   ],
   "source": [
    "import re\n",
    "\n",
    "import pandas as pd\n",
    "import seaborn as sns\n",
    "import numpy as np\n",
    "import umap.umap_ as umap\n",
    "\n",
    "from plotly              import express       as px \n",
    "from sklearn             import cluster       as c \n",
    "from sklearn             import metrics       as m\n",
    "from sklearn             import preprocessing as pp\n",
    "from sklearn             import decomposition as dd\n",
    "from sklearn             import ensemble      as en\n",
    "from matplotlib          import pyplot        as plt \n",
    "from sklearn.manifold    import TSNE\n",
    "from sklearn             import manifold      as mn\n",
    "from sklearn             import mixture       as mx\n",
    "from sklearn.neighbors   import NearestNeighbors\n",
    "from scipy.cluster       import hierarchy     as hc\n",
    "        "
   ]
  },
  {
   "cell_type": "markdown",
   "id": "f412a646",
   "metadata": {
    "ExecuteTime": {
     "end_time": "2023-02-02T21:25:42.928537Z",
     "start_time": "2023-02-02T21:25:42.926142Z"
    }
   },
   "source": [
    "## Load data"
   ]
  },
  {
   "cell_type": "code",
   "execution_count": 126,
   "id": "f2956d80",
   "metadata": {
    "ExecuteTime": {
     "end_time": "2023-03-01T18:43:37.293242Z",
     "start_time": "2023-03-01T18:43:35.777698Z"
    }
   },
   "outputs": [
    {
     "name": "stdout",
     "output_type": "stream",
     "text": [
      "/home/daniel/repos/ds_em_clusterizacao/pa005_insiders_clustering/notebooks\r\n"
     ]
    }
   ],
   "source": [
    "!pwd\n"
   ]
  },
  {
   "cell_type": "code",
   "execution_count": 2,
   "id": "bad0a99e",
   "metadata": {
    "ExecuteTime": {
     "end_time": "2023-03-01T11:47:13.513981Z",
     "start_time": "2023-03-01T11:47:12.940263Z"
    }
   },
   "outputs": [],
   "source": [
    "path = '/home/daniel/repos/ds_em_clusterizacao/pa005_insiders_clustering/data/raw/ecommerce.csv'\n",
    "\n",
    "df_raw = pd.read_csv (path)"
   ]
  },
  {
   "cell_type": "markdown",
   "id": "a92da99c",
   "metadata": {},
   "source": [
    "## Data Cleaning"
   ]
  },
  {
   "cell_type": "code",
   "execution_count": 3,
   "id": "ad46ba28",
   "metadata": {
    "ExecuteTime": {
     "end_time": "2023-03-01T11:47:14.320498Z",
     "start_time": "2023-03-01T11:47:14.254551Z"
    }
   },
   "outputs": [],
   "source": [
    "df = df_raw.copy()\n",
    "\n",
    "df = df.drop(columns=['Unnamed: 8'], axis=1)"
   ]
  },
  {
   "cell_type": "code",
   "execution_count": 4,
   "id": "697863ba",
   "metadata": {
    "ExecuteTime": {
     "end_time": "2023-03-01T11:47:15.333355Z",
     "start_time": "2023-03-01T11:47:15.005122Z"
    }
   },
   "outputs": [
    {
     "data": {
      "text/html": [
       "<div>\n",
       "<style scoped>\n",
       "    .dataframe tbody tr th:only-of-type {\n",
       "        vertical-align: middle;\n",
       "    }\n",
       "\n",
       "    .dataframe tbody tr th {\n",
       "        vertical-align: top;\n",
       "    }\n",
       "\n",
       "    .dataframe thead th {\n",
       "        text-align: right;\n",
       "    }\n",
       "</style>\n",
       "<table border=\"1\" class=\"dataframe\">\n",
       "  <thead>\n",
       "    <tr style=\"text-align: right;\">\n",
       "      <th></th>\n",
       "      <th>InvoiceNo</th>\n",
       "      <th>StockCode</th>\n",
       "      <th>Description</th>\n",
       "      <th>Quantity</th>\n",
       "      <th>InvoiceDate</th>\n",
       "      <th>UnitPrice</th>\n",
       "      <th>CustomerID</th>\n",
       "      <th>Country</th>\n",
       "    </tr>\n",
       "  </thead>\n",
       "  <tbody>\n",
       "    <tr>\n",
       "      <th>0</th>\n",
       "      <td>536365</td>\n",
       "      <td>85123A</td>\n",
       "      <td>WHITE HANGING HEART T-LIGHT HOLDER</td>\n",
       "      <td>6</td>\n",
       "      <td>29-Nov-16</td>\n",
       "      <td>2.55</td>\n",
       "      <td>17850.0</td>\n",
       "      <td>United Kingdom</td>\n",
       "    </tr>\n",
       "    <tr>\n",
       "      <th>1</th>\n",
       "      <td>536365</td>\n",
       "      <td>71053</td>\n",
       "      <td>WHITE METAL LANTERN</td>\n",
       "      <td>6</td>\n",
       "      <td>29-Nov-16</td>\n",
       "      <td>3.39</td>\n",
       "      <td>17850.0</td>\n",
       "      <td>United Kingdom</td>\n",
       "    </tr>\n",
       "    <tr>\n",
       "      <th>2</th>\n",
       "      <td>536365</td>\n",
       "      <td>84406B</td>\n",
       "      <td>CREAM CUPID HEARTS COAT HANGER</td>\n",
       "      <td>8</td>\n",
       "      <td>29-Nov-16</td>\n",
       "      <td>2.75</td>\n",
       "      <td>17850.0</td>\n",
       "      <td>United Kingdom</td>\n",
       "    </tr>\n",
       "    <tr>\n",
       "      <th>3</th>\n",
       "      <td>536365</td>\n",
       "      <td>84029G</td>\n",
       "      <td>KNITTED UNION FLAG HOT WATER BOTTLE</td>\n",
       "      <td>6</td>\n",
       "      <td>29-Nov-16</td>\n",
       "      <td>3.39</td>\n",
       "      <td>17850.0</td>\n",
       "      <td>United Kingdom</td>\n",
       "    </tr>\n",
       "    <tr>\n",
       "      <th>4</th>\n",
       "      <td>536365</td>\n",
       "      <td>84029E</td>\n",
       "      <td>RED WOOLLY HOTTIE WHITE HEART.</td>\n",
       "      <td>6</td>\n",
       "      <td>29-Nov-16</td>\n",
       "      <td>3.39</td>\n",
       "      <td>17850.0</td>\n",
       "      <td>United Kingdom</td>\n",
       "    </tr>\n",
       "  </tbody>\n",
       "</table>\n",
       "</div>"
      ],
      "text/plain": [
       "  InvoiceNo StockCode                          Description  Quantity  \\\n",
       "0    536365    85123A   WHITE HANGING HEART T-LIGHT HOLDER         6   \n",
       "1    536365     71053                  WHITE METAL LANTERN         6   \n",
       "2    536365    84406B       CREAM CUPID HEARTS COAT HANGER         8   \n",
       "3    536365    84029G  KNITTED UNION FLAG HOT WATER BOTTLE         6   \n",
       "4    536365    84029E       RED WOOLLY HOTTIE WHITE HEART.         6   \n",
       "\n",
       "  InvoiceDate  UnitPrice  CustomerID         Country  \n",
       "0   29-Nov-16       2.55     17850.0  United Kingdom  \n",
       "1   29-Nov-16       3.39     17850.0  United Kingdom  \n",
       "2   29-Nov-16       2.75     17850.0  United Kingdom  \n",
       "3   29-Nov-16       3.39     17850.0  United Kingdom  \n",
       "4   29-Nov-16       3.39     17850.0  United Kingdom  "
      ]
     },
     "execution_count": 4,
     "metadata": {},
     "output_type": "execute_result"
    }
   ],
   "source": [
    "\n",
    "df.head()"
   ]
  },
  {
   "cell_type": "markdown",
   "id": "7cadc5a3",
   "metadata": {
    "ExecuteTime": {
     "end_time": "2023-02-02T17:44:43.119903Z",
     "start_time": "2023-02-02T17:44:43.116700Z"
    }
   },
   "source": [
    "# <span style=\"color: OrangeRed;\">DATA DESCRIPTION</span>\n",
    "<span style=\"color: OrangeRed;\">***PASSO 1***</span>"
   ]
  },
  {
   "cell_type": "code",
   "execution_count": 5,
   "id": "baa48595",
   "metadata": {
    "ExecuteTime": {
     "end_time": "2023-03-01T11:47:16.621925Z",
     "start_time": "2023-03-01T11:47:16.606210Z"
    }
   },
   "outputs": [],
   "source": [
    "df1 = df.copy()"
   ]
  },
  {
   "cell_type": "markdown",
   "id": "661b98a9",
   "metadata": {},
   "source": [
    "## Columns Description"
   ]
  },
  {
   "cell_type": "markdown",
   "id": "3e8c7231",
   "metadata": {},
   "source": [
    "|column|description|\n",
    "|:-----|:---------|\n",
    "|invoice_no|identificador de uma compra realizada no ecommerce|\n",
    "|stock_code|identificador unico do produto comprado|\n",
    "|description|descricao do produto|\n",
    "|quantity|quantidade|\n",
    "|invoice_date|data da compra|\n",
    "|unit_price|preço unitario do produto|\n",
    "|customer_id|identificador do comprador|\n",
    "|country|pais do comprador|"
   ]
  },
  {
   "cell_type": "markdown",
   "id": "f731ec13",
   "metadata": {
    "code_folding": []
   },
   "source": [
    "## Rename Columns"
   ]
  },
  {
   "cell_type": "code",
   "execution_count": 6,
   "id": "b2d3c697",
   "metadata": {
    "ExecuteTime": {
     "end_time": "2023-03-01T11:47:19.792642Z",
     "start_time": "2023-03-01T11:47:19.789041Z"
    }
   },
   "outputs": [],
   "source": [
    "new_columns = ['invoice_no', 'stock_code', 'description', 'quantity', 'invoice_date',\n",
    "       'unit_price', 'customer_id', 'country']\n",
    "\n",
    "df1.columns = new_columns"
   ]
  },
  {
   "cell_type": "markdown",
   "id": "f46c758a",
   "metadata": {},
   "source": [
    "## Data Dimensions"
   ]
  },
  {
   "cell_type": "code",
   "execution_count": 7,
   "id": "f6e074ea",
   "metadata": {
    "ExecuteTime": {
     "end_time": "2023-03-01T11:47:21.812270Z",
     "start_time": "2023-03-01T11:47:21.808104Z"
    },
    "scrolled": true
   },
   "outputs": [
    {
     "name": "stdout",
     "output_type": "stream",
     "text": [
      "Number of rows:541909\n",
      "Number of rows:8\n"
     ]
    }
   ],
   "source": [
    "print('Number of rows:{}'.format(df1.shape[0]))\n",
    "print('Number of rows:{}'.format(df1.shape[1]))"
   ]
  },
  {
   "cell_type": "markdown",
   "id": "d4d7f3b2",
   "metadata": {},
   "source": [
    "## Data Types"
   ]
  },
  {
   "cell_type": "code",
   "execution_count": 8,
   "id": "7ea62ba5",
   "metadata": {
    "ExecuteTime": {
     "end_time": "2023-03-01T11:47:23.053028Z",
     "start_time": "2023-03-01T11:47:23.046626Z"
    }
   },
   "outputs": [
    {
     "data": {
      "text/plain": [
       "invoice_no       object\n",
       "stock_code       object\n",
       "description      object\n",
       "quantity          int64\n",
       "invoice_date     object\n",
       "unit_price      float64\n",
       "customer_id     float64\n",
       "country          object\n",
       "dtype: object"
      ]
     },
     "execution_count": 8,
     "metadata": {},
     "output_type": "execute_result"
    }
   ],
   "source": [
    "df1.dtypes"
   ]
  },
  {
   "cell_type": "markdown",
   "id": "5b526249",
   "metadata": {},
   "source": [
    "## Check NA"
   ]
  },
  {
   "cell_type": "code",
   "execution_count": 9,
   "id": "e72715a0",
   "metadata": {
    "ExecuteTime": {
     "end_time": "2023-03-01T11:47:24.499196Z",
     "start_time": "2023-03-01T11:47:24.092445Z"
    },
    "scrolled": true
   },
   "outputs": [
    {
     "data": {
      "text/plain": [
       "invoice_no           0\n",
       "stock_code           0\n",
       "description       1454\n",
       "quantity             0\n",
       "invoice_date         0\n",
       "unit_price           0\n",
       "customer_id     135080\n",
       "country              0\n",
       "dtype: int64"
      ]
     },
     "execution_count": 9,
     "metadata": {},
     "output_type": "execute_result"
    }
   ],
   "source": [
    "df1.isna().sum()"
   ]
  },
  {
   "cell_type": "markdown",
   "id": "94813b3e",
   "metadata": {},
   "source": [
    "## Replace NA"
   ]
  },
  {
   "cell_type": "code",
   "execution_count": 10,
   "id": "7dd99f06",
   "metadata": {
    "ExecuteTime": {
     "end_time": "2023-03-01T11:47:26.122132Z",
     "start_time": "2023-03-01T11:47:25.552959Z"
    },
    "scrolled": true
   },
   "outputs": [
    {
     "name": "stdout",
     "output_type": "stream",
     "text": [
      "\u001b[1mMissing values:\u001b[0m \n",
      "\n",
      "invoice_no      0\n",
      "stock_code      0\n",
      "description     0\n",
      "quantity        0\n",
      "invoice_date    0\n",
      "unit_price      0\n",
      "country         0\n",
      "customer_id     0\n",
      "dtype: int64\n"
     ]
    }
   ],
   "source": [
    "# === customer_id ===\n",
    "# df1 = df1.dropna(subset=['customer_id'],axis=0)\n",
    "# print('Removed data from subset customer_id: {:.2f}%'.format(100*(1-(df1.shape[0]/df_raw.shape[0]))))\n",
    "\n",
    "# df separando missing e nao-missing\n",
    "df_missing = df1.loc[df1['customer_id'].isna(), :]\n",
    "df_not_missing = df1.loc[~df1['customer_id'].isna(), :]\n",
    " \n",
    "# selecionando invoice do missing no nao-missing, para encontrar correspondencia de customer_id\n",
    "# df_not_missing.loc[df_not_missing['invoice_no'].isin(df_missing['invoice_no']), :] #Out: []\n",
    "\n",
    "# Ultimo valor de de customer_id\n",
    "# df1['customer_id'].max() #Out: 18287\n",
    "\n",
    "# table of unique invoice that has customer_id missing\n",
    "invoice_missing = pd.DataFrame(df_missing['invoice_no'].drop_duplicates()).reset_index(drop=True)\n",
    "\n",
    "# Vector of values to assume sintetic 'customer_id' values\n",
    "invoice_missing['customer_id'] = np.arange(19000, (19000 + len(invoice_missing)), 1)\n",
    "\n",
    "# Merge to add sintetic values to orginal dataframe\n",
    "df1 = pd.merge(df1, invoice_missing, on='invoice_no', how='left')\n",
    "\n",
    "# Combine to aggregate into unique customer_id column\n",
    "df1['customer_id'] = df1['customer_id_x'].combine_first(df1['customer_id_y'])\n",
    "\n",
    "# Drop extra columns\n",
    "df1 = df1.drop(columns=['customer_id_x','customer_id_y'], axis=1)\n",
    "\n",
    "# ===description=== \n",
    "df1['description'] = df1['description'].fillna(0)\n",
    "\n",
    "#Print missings \n",
    "df1.head()\n",
    "print('\\033[1mMissing values:\\033[0m \\n\\n{}'.format(df1.isna().sum()))\n"
   ]
  },
  {
   "cell_type": "markdown",
   "id": "fc56ee11",
   "metadata": {},
   "source": [
    "## Change Dtypes"
   ]
  },
  {
   "cell_type": "code",
   "execution_count": 11,
   "id": "ef3c9f55",
   "metadata": {
    "ExecuteTime": {
     "end_time": "2023-03-01T11:47:27.429470Z",
     "start_time": "2023-03-01T11:47:27.423023Z"
    },
    "scrolled": true
   },
   "outputs": [
    {
     "data": {
      "text/plain": [
       "invoice_no       object\n",
       "stock_code       object\n",
       "description      object\n",
       "quantity          int64\n",
       "invoice_date     object\n",
       "unit_price      float64\n",
       "country          object\n",
       "customer_id     float64\n",
       "dtype: object"
      ]
     },
     "execution_count": 11,
     "metadata": {},
     "output_type": "execute_result"
    }
   ],
   "source": [
    "df1.dtypes"
   ]
  },
  {
   "cell_type": "code",
   "execution_count": 12,
   "id": "a990fd3a",
   "metadata": {
    "ExecuteTime": {
     "end_time": "2023-03-01T11:47:28.808039Z",
     "start_time": "2023-03-01T11:47:28.314938Z"
    }
   },
   "outputs": [],
   "source": [
    "# invoice_date     \n",
    "df1['invoice_date'] = pd.to_datetime(df1['invoice_date']).dt.strftime('%Y-%m-%d')\n",
    "df1['invoice_date'] = pd.to_datetime(df1['invoice_date'])\n",
    "\n",
    "# customer_id     \n",
    "df1['customer_id'] = df1['customer_id'].astype(int)"
   ]
  },
  {
   "cell_type": "code",
   "execution_count": 13,
   "id": "0246d631",
   "metadata": {
    "ExecuteTime": {
     "end_time": "2023-03-01T11:47:29.354742Z",
     "start_time": "2023-03-01T11:47:28.895346Z"
    },
    "scrolled": true
   },
   "outputs": [
    {
     "data": {
      "text/plain": [
       "invoice_no              object\n",
       "stock_code              object\n",
       "description             object\n",
       "quantity                 int64\n",
       "invoice_date    datetime64[ns]\n",
       "unit_price             float64\n",
       "country                 object\n",
       "customer_id              int64\n",
       "dtype: object"
      ]
     },
     "execution_count": 13,
     "metadata": {},
     "output_type": "execute_result"
    }
   ],
   "source": [
    "df1.dtypes"
   ]
  },
  {
   "cell_type": "markdown",
   "id": "6ce1b683",
   "metadata": {},
   "source": [
    "## Descriptive Statistics"
   ]
  },
  {
   "cell_type": "code",
   "execution_count": 14,
   "id": "4364d478",
   "metadata": {
    "ExecuteTime": {
     "end_time": "2023-03-01T11:47:30.263985Z",
     "start_time": "2023-03-01T11:47:30.201135Z"
    }
   },
   "outputs": [],
   "source": [
    "num_attributes = df1.select_dtypes(include=['int64','float64'])\n",
    "cat_attributes = df1.select_dtypes(exclude=['int64','float64','datetime64[ns]'])"
   ]
  },
  {
   "cell_type": "markdown",
   "id": "e3f89305",
   "metadata": {
    "ExecuteTime": {
     "end_time": "2023-02-07T18:31:47.521692Z",
     "start_time": "2023-02-07T18:31:47.519278Z"
    }
   },
   "source": [
    "### Numerical Attributes"
   ]
  },
  {
   "cell_type": "code",
   "execution_count": 15,
   "id": "e0f2c3f7",
   "metadata": {
    "ExecuteTime": {
     "end_time": "2023-03-01T11:47:32.003588Z",
     "start_time": "2023-03-01T11:47:31.891502Z"
    },
    "scrolled": true
   },
   "outputs": [
    {
     "data": {
      "text/html": [
       "<div>\n",
       "<style scoped>\n",
       "    .dataframe tbody tr th:only-of-type {\n",
       "        vertical-align: middle;\n",
       "    }\n",
       "\n",
       "    .dataframe tbody tr th {\n",
       "        vertical-align: top;\n",
       "    }\n",
       "\n",
       "    .dataframe thead th {\n",
       "        text-align: right;\n",
       "    }\n",
       "</style>\n",
       "<table border=\"1\" class=\"dataframe\">\n",
       "  <thead>\n",
       "    <tr style=\"text-align: right;\">\n",
       "      <th></th>\n",
       "      <th>attributes</th>\n",
       "      <th>min</th>\n",
       "      <th>max</th>\n",
       "      <th>range</th>\n",
       "      <th>mean</th>\n",
       "      <th>std</th>\n",
       "      <th>median</th>\n",
       "      <th>skew</th>\n",
       "      <th>kurtosis</th>\n",
       "    </tr>\n",
       "  </thead>\n",
       "  <tbody>\n",
       "    <tr>\n",
       "      <th>0</th>\n",
       "      <td>quantity</td>\n",
       "      <td>-80995.00</td>\n",
       "      <td>80995.0</td>\n",
       "      <td>161990.00</td>\n",
       "      <td>9.552250</td>\n",
       "      <td>218.081158</td>\n",
       "      <td>3.00</td>\n",
       "      <td>-0.264076</td>\n",
       "      <td>119769.160031</td>\n",
       "    </tr>\n",
       "    <tr>\n",
       "      <th>1</th>\n",
       "      <td>unit_price</td>\n",
       "      <td>-11062.06</td>\n",
       "      <td>38970.0</td>\n",
       "      <td>50032.06</td>\n",
       "      <td>4.611114</td>\n",
       "      <td>96.759853</td>\n",
       "      <td>2.08</td>\n",
       "      <td>186.506972</td>\n",
       "      <td>59005.719097</td>\n",
       "    </tr>\n",
       "    <tr>\n",
       "      <th>2</th>\n",
       "      <td>customer_id</td>\n",
       "      <td>12346.00</td>\n",
       "      <td>22709.0</td>\n",
       "      <td>10363.00</td>\n",
       "      <td>16688.840453</td>\n",
       "      <td>2911.411352</td>\n",
       "      <td>16249.00</td>\n",
       "      <td>0.487449</td>\n",
       "      <td>-0.804287</td>\n",
       "    </tr>\n",
       "  </tbody>\n",
       "</table>\n",
       "</div>"
      ],
      "text/plain": [
       "    attributes       min      max      range          mean          std  \\\n",
       "0     quantity -80995.00  80995.0  161990.00      9.552250   218.081158   \n",
       "1   unit_price -11062.06  38970.0   50032.06      4.611114    96.759853   \n",
       "2  customer_id  12346.00  22709.0   10363.00  16688.840453  2911.411352   \n",
       "\n",
       "     median        skew       kurtosis  \n",
       "0      3.00   -0.264076  119769.160031  \n",
       "1      2.08  186.506972   59005.719097  \n",
       "2  16249.00    0.487449      -0.804287  "
      ]
     },
     "execution_count": 15,
     "metadata": {},
     "output_type": "execute_result"
    }
   ],
   "source": [
    "# Central Tendency - mean, median\n",
    "c1 = pd.DataFrame(num_attributes.mean()).T\n",
    "c2 = pd.DataFrame(num_attributes.median()).T\n",
    "\n",
    "# Dispersion - min, max, range, std, skew, kurtosis\n",
    "d1 = pd.DataFrame(num_attributes.min()).T\n",
    "d2 = pd.DataFrame(num_attributes.max()).T\n",
    "d3 = pd.DataFrame(num_attributes.apply(lambda x: x.max()-x.min())).T\n",
    "d4 = pd.DataFrame(num_attributes.apply(lambda x: x.std())).T\n",
    "d5 = pd.DataFrame(num_attributes.apply(lambda x: x.skew())).T\n",
    "d6 = pd.DataFrame(num_attributes.apply(lambda x: x.kurtosis())).T\n",
    "\n",
    "descriptive_analysis = pd.concat([ d1, d2, d3, c1, d4, c2, d5, d6], axis= 0).T.reset_index()\n",
    "descriptive_analysis.columns = ['attributes','min','max', 'range','mean','std', 'median', 'skew', 'kurtosis']\n",
    "descriptive_analysis"
   ]
  },
  {
   "cell_type": "code",
   "execution_count": 16,
   "id": "90ef6a3a",
   "metadata": {
    "ExecuteTime": {
     "end_time": "2023-03-01T11:47:34.176069Z",
     "start_time": "2023-03-01T11:47:34.111231Z"
    }
   },
   "outputs": [
    {
     "name": "stdout",
     "output_type": "stream",
     "text": [
      "(2522, 8)\n"
     ]
    },
    {
     "data": {
      "text/html": [
       "<div>\n",
       "<style scoped>\n",
       "    .dataframe tbody tr th:only-of-type {\n",
       "        vertical-align: middle;\n",
       "    }\n",
       "\n",
       "    .dataframe tbody tr th {\n",
       "        vertical-align: top;\n",
       "    }\n",
       "\n",
       "    .dataframe thead th {\n",
       "        text-align: right;\n",
       "    }\n",
       "</style>\n",
       "<table border=\"1\" class=\"dataframe\">\n",
       "  <thead>\n",
       "    <tr style=\"text-align: right;\">\n",
       "      <th></th>\n",
       "      <th>invoice_no</th>\n",
       "      <th>stock_code</th>\n",
       "      <th>description</th>\n",
       "      <th>quantity</th>\n",
       "      <th>invoice_date</th>\n",
       "      <th>unit_price</th>\n",
       "      <th>country</th>\n",
       "      <th>customer_id</th>\n",
       "    </tr>\n",
       "  </thead>\n",
       "  <tbody>\n",
       "    <tr>\n",
       "      <th>299983</th>\n",
       "      <td>A563186</td>\n",
       "      <td>B</td>\n",
       "      <td>Adjust bad debt</td>\n",
       "      <td>1</td>\n",
       "      <td>2017-08-10</td>\n",
       "      <td>-11062.06</td>\n",
       "      <td>United Kingdom</td>\n",
       "      <td>21498</td>\n",
       "    </tr>\n",
       "    <tr>\n",
       "      <th>299984</th>\n",
       "      <td>A563187</td>\n",
       "      <td>B</td>\n",
       "      <td>Adjust bad debt</td>\n",
       "      <td>1</td>\n",
       "      <td>2017-08-10</td>\n",
       "      <td>-11062.06</td>\n",
       "      <td>United Kingdom</td>\n",
       "      <td>21499</td>\n",
       "    </tr>\n",
       "    <tr>\n",
       "      <th>290583</th>\n",
       "      <td>562386</td>\n",
       "      <td>84596L</td>\n",
       "      <td>0</td>\n",
       "      <td>-21</td>\n",
       "      <td>2017-08-02</td>\n",
       "      <td>0.00</td>\n",
       "      <td>United Kingdom</td>\n",
       "      <td>21453</td>\n",
       "    </tr>\n",
       "    <tr>\n",
       "      <th>285790</th>\n",
       "      <td>561924</td>\n",
       "      <td>22042</td>\n",
       "      <td>0</td>\n",
       "      <td>-197</td>\n",
       "      <td>2017-07-30</td>\n",
       "      <td>0.00</td>\n",
       "      <td>United Kingdom</td>\n",
       "      <td>21428</td>\n",
       "    </tr>\n",
       "    <tr>\n",
       "      <th>285886</th>\n",
       "      <td>561927</td>\n",
       "      <td>22740</td>\n",
       "      <td>?</td>\n",
       "      <td>-1060</td>\n",
       "      <td>2017-07-30</td>\n",
       "      <td>0.00</td>\n",
       "      <td>United Kingdom</td>\n",
       "      <td>21429</td>\n",
       "    </tr>\n",
       "    <tr>\n",
       "      <th>288156</th>\n",
       "      <td>562134</td>\n",
       "      <td>22722</td>\n",
       "      <td>0</td>\n",
       "      <td>1</td>\n",
       "      <td>2017-08-01</td>\n",
       "      <td>0.00</td>\n",
       "      <td>United Kingdom</td>\n",
       "      <td>21438</td>\n",
       "    </tr>\n",
       "    <tr>\n",
       "      <th>288157</th>\n",
       "      <td>562135</td>\n",
       "      <td>84847</td>\n",
       "      <td>0</td>\n",
       "      <td>1</td>\n",
       "      <td>2017-08-01</td>\n",
       "      <td>0.00</td>\n",
       "      <td>United Kingdom</td>\n",
       "      <td>21439</td>\n",
       "    </tr>\n",
       "    <tr>\n",
       "      <th>288519</th>\n",
       "      <td>562164</td>\n",
       "      <td>21257</td>\n",
       "      <td>?</td>\n",
       "      <td>-94</td>\n",
       "      <td>2017-08-01</td>\n",
       "      <td>0.00</td>\n",
       "      <td>United Kingdom</td>\n",
       "      <td>21440</td>\n",
       "    </tr>\n",
       "    <tr>\n",
       "      <th>288872</th>\n",
       "      <td>562212</td>\n",
       "      <td>21187</td>\n",
       "      <td>0</td>\n",
       "      <td>-97</td>\n",
       "      <td>2017-08-01</td>\n",
       "      <td>0.00</td>\n",
       "      <td>United Kingdom</td>\n",
       "      <td>21441</td>\n",
       "    </tr>\n",
       "    <tr>\n",
       "      <th>290639</th>\n",
       "      <td>562390</td>\n",
       "      <td>21246</td>\n",
       "      <td>0</td>\n",
       "      <td>-92</td>\n",
       "      <td>2017-08-02</td>\n",
       "      <td>0.00</td>\n",
       "      <td>United Kingdom</td>\n",
       "      <td>21454</td>\n",
       "    </tr>\n",
       "  </tbody>\n",
       "</table>\n",
       "</div>"
      ],
      "text/plain": [
       "       invoice_no stock_code      description  quantity invoice_date  \\\n",
       "299983    A563186          B  Adjust bad debt         1   2017-08-10   \n",
       "299984    A563187          B  Adjust bad debt         1   2017-08-10   \n",
       "290583     562386     84596L                0       -21   2017-08-02   \n",
       "285790     561924      22042                0      -197   2017-07-30   \n",
       "285886     561927      22740                ?     -1060   2017-07-30   \n",
       "288156     562134      22722                0         1   2017-08-01   \n",
       "288157     562135      84847                0         1   2017-08-01   \n",
       "288519     562164      21257                ?       -94   2017-08-01   \n",
       "288872     562212      21187                0       -97   2017-08-01   \n",
       "290639     562390      21246                0       -92   2017-08-02   \n",
       "\n",
       "        unit_price         country  customer_id  \n",
       "299983   -11062.06  United Kingdom        21498  \n",
       "299984   -11062.06  United Kingdom        21499  \n",
       "290583        0.00  United Kingdom        21453  \n",
       "285790        0.00  United Kingdom        21428  \n",
       "285886        0.00  United Kingdom        21429  \n",
       "288156        0.00  United Kingdom        21438  \n",
       "288157        0.00  United Kingdom        21439  \n",
       "288519        0.00  United Kingdom        21440  \n",
       "288872        0.00  United Kingdom        21441  \n",
       "290639        0.00  United Kingdom        21454  "
      ]
     },
     "execution_count": 16,
     "metadata": {},
     "output_type": "execute_result"
    }
   ],
   "source": [
    "# unit_price with anomalous values \n",
    "print(df1.loc[df1['unit_price']<0.02].shape)\n",
    "\n",
    "df1.loc[df1['unit_price']<0.02].sort_values('unit_price', ascending = True).head(10)"
   ]
  },
  {
   "cell_type": "markdown",
   "id": "50ba3c8f",
   "metadata": {
    "ExecuteTime": {
     "end_time": "2023-02-07T18:31:48.996714Z",
     "start_time": "2023-02-07T18:31:47.968060Z"
    }
   },
   "source": [
    "### Categorical Attributes"
   ]
  },
  {
   "cell_type": "code",
   "execution_count": 17,
   "id": "80d710be",
   "metadata": {
    "ExecuteTime": {
     "end_time": "2023-03-01T11:47:36.003375Z",
     "start_time": "2023-03-01T11:47:35.994023Z"
    },
    "scrolled": true
   },
   "outputs": [
    {
     "data": {
      "text/html": [
       "<div>\n",
       "<style scoped>\n",
       "    .dataframe tbody tr th:only-of-type {\n",
       "        vertical-align: middle;\n",
       "    }\n",
       "\n",
       "    .dataframe tbody tr th {\n",
       "        vertical-align: top;\n",
       "    }\n",
       "\n",
       "    .dataframe thead th {\n",
       "        text-align: right;\n",
       "    }\n",
       "</style>\n",
       "<table border=\"1\" class=\"dataframe\">\n",
       "  <thead>\n",
       "    <tr style=\"text-align: right;\">\n",
       "      <th></th>\n",
       "      <th>invoice_no</th>\n",
       "      <th>stock_code</th>\n",
       "      <th>description</th>\n",
       "      <th>country</th>\n",
       "    </tr>\n",
       "  </thead>\n",
       "  <tbody>\n",
       "    <tr>\n",
       "      <th>0</th>\n",
       "      <td>536365</td>\n",
       "      <td>85123A</td>\n",
       "      <td>WHITE HANGING HEART T-LIGHT HOLDER</td>\n",
       "      <td>United Kingdom</td>\n",
       "    </tr>\n",
       "    <tr>\n",
       "      <th>1</th>\n",
       "      <td>536365</td>\n",
       "      <td>71053</td>\n",
       "      <td>WHITE METAL LANTERN</td>\n",
       "      <td>United Kingdom</td>\n",
       "    </tr>\n",
       "    <tr>\n",
       "      <th>2</th>\n",
       "      <td>536365</td>\n",
       "      <td>84406B</td>\n",
       "      <td>CREAM CUPID HEARTS COAT HANGER</td>\n",
       "      <td>United Kingdom</td>\n",
       "    </tr>\n",
       "    <tr>\n",
       "      <th>3</th>\n",
       "      <td>536365</td>\n",
       "      <td>84029G</td>\n",
       "      <td>KNITTED UNION FLAG HOT WATER BOTTLE</td>\n",
       "      <td>United Kingdom</td>\n",
       "    </tr>\n",
       "    <tr>\n",
       "      <th>4</th>\n",
       "      <td>536365</td>\n",
       "      <td>84029E</td>\n",
       "      <td>RED WOOLLY HOTTIE WHITE HEART.</td>\n",
       "      <td>United Kingdom</td>\n",
       "    </tr>\n",
       "  </tbody>\n",
       "</table>\n",
       "</div>"
      ],
      "text/plain": [
       "  invoice_no stock_code                          description         country\n",
       "0     536365     85123A   WHITE HANGING HEART T-LIGHT HOLDER  United Kingdom\n",
       "1     536365      71053                  WHITE METAL LANTERN  United Kingdom\n",
       "2     536365     84406B       CREAM CUPID HEARTS COAT HANGER  United Kingdom\n",
       "3     536365     84029G  KNITTED UNION FLAG HOT WATER BOTTLE  United Kingdom\n",
       "4     536365     84029E       RED WOOLLY HOTTIE WHITE HEART.  United Kingdom"
      ]
     },
     "execution_count": 17,
     "metadata": {},
     "output_type": "execute_result"
    }
   ],
   "source": [
    "cat_attributes.head()\n"
   ]
  },
  {
   "cell_type": "markdown",
   "id": "2e8a27b8",
   "metadata": {},
   "source": [
    "#### Categorical attributes - Investigating"
   ]
  },
  {
   "cell_type": "markdown",
   "id": "620de64a",
   "metadata": {
    "ExecuteTime": {
     "end_time": "2023-02-08T17:39:33.096852Z",
     "start_time": "2023-02-08T17:39:33.092543Z"
    },
    "heading_collapsed": true
   },
   "source": [
    "##### Invoice no"
   ]
  },
  {
   "cell_type": "code",
   "execution_count": 35,
   "id": "597cbfe2",
   "metadata": {
    "ExecuteTime": {
     "end_time": "2023-02-14T12:01:23.367245Z",
     "start_time": "2023-02-14T12:01:22.873622Z"
    },
    "code_folding": [],
    "hidden": true,
    "scrolled": false
   },
   "outputs": [
    {
     "name": "stdout",
     "output_type": "stream",
     "text": [
      "invoice_no unicos que contem letras: 3839\n",
      "invoice_no unicos: 25900\n",
      "Linhas com invoices com letra no inicio: 9291\n",
      "Linhas com quantidades < 0: 10624\n"
     ]
    }
   ],
   "source": [
    "# problema: invoices com letras e numeros\n",
    "# df1['invoice_no'].astype(int)\n",
    "\n",
    "# identificacao:  counting anomalous invoice_no with a letter at beginning\n",
    "contain_letter = df1['invoice_no'].apply(lambda x: bool(re.search('[^0-9]+',x)))\n",
    "unique_invoice_letter = df1.loc[contain_letter,'invoice_no']\n",
    "print('invoice_no unicos que contem letras: {}'.format(unique_invoice_letter.drop_duplicates().count()))\n",
    "print('invoice_no unicos: {}'.format(df1['invoice_no'].unique().shape[0]))\n",
    "print('Linhas com invoices com letra no inicio: {}'.format(unique_invoice_letter.count()))\n",
    "print('Linhas com quantidades < 0: {}'.format(df1.loc[df1['quantity']<0,'invoice_no'].count()))"
   ]
  },
  {
   "cell_type": "code",
   "execution_count": 39,
   "id": "983b3139",
   "metadata": {
    "ExecuteTime": {
     "end_time": "2023-02-14T12:02:21.145315Z",
     "start_time": "2023-02-14T12:02:21.064618Z"
    },
    "hidden": true
   },
   "outputs": [
    {
     "data": {
      "text/plain": [
       "141       C536379\n",
       "154       C536383\n",
       "235       C536391\n",
       "236       C536391\n",
       "237       C536391\n",
       "238       C536391\n",
       "239       C536391\n",
       "240       C536391\n",
       "241       C536391\n",
       "939       C536506\n",
       "1441      C536543\n",
       "1442      C536543\n",
       "1973      C536548\n",
       "1974      C536548\n",
       "1975      C536548\n",
       "1976      C536548\n",
       "1977      C536548\n",
       "1978      C536548\n",
       "1979      C536548\n",
       "1980      C536548\n",
       "1981      C536548\n",
       "1982      C536548\n",
       "1983      C536548\n",
       "1984      C536548\n",
       "1985      C536548\n",
       "1986      C536548\n",
       "3170      C536606\n",
       "3338      C536622\n",
       "3410      C536625\n",
       "3693      C536642\n",
       "3911      C536734\n",
       "3912      C536734\n",
       "3919      C536737\n",
       "4287      C536757\n",
       "4288      C536758\n",
       "4306      C536760\n",
       "4307      C536760\n",
       "4836      C536807\n",
       "4837      C536807\n",
       "4853      C536812\n",
       "4854      C536812\n",
       "4855      C536812\n",
       "4856      C536812\n",
       "4857      C536812\n",
       "4858      C536812\n",
       "4876      C536814\n",
       "4877      C536814\n",
       "4878      C536814\n",
       "4879      C536814\n",
       "4880      C536814\n",
       "4881      C536815\n",
       "4882      C536815\n",
       "4883      C536816\n",
       "4884      C536817\n",
       "4885      C536817\n",
       "4886      C536818\n",
       "4904      C536820\n",
       "4905      C536820\n",
       "4906      C536820\n",
       "4907      C536820\n",
       "4931      C536822\n",
       "4932      C536822\n",
       "4937      C536825\n",
       "4938      C536825\n",
       "4939      C536826\n",
       "4940      C536826\n",
       "4941      C536827\n",
       "4942      C536828\n",
       "4943      C536828\n",
       "4944      C536829\n",
       "5232      C536850\n",
       "5233      C536850\n",
       "5234      C536850\n",
       "5235      C536850\n",
       "5236      C536850\n",
       "5259      C536853\n",
       "5260      C536854\n",
       "5261      C536854\n",
       "5262      C536854\n",
       "5263      C536855\n",
       "6781      C536978\n",
       "6782      C536979\n",
       "6783      C536979\n",
       "7278      C537024\n",
       "7437      C537039\n",
       "7438      C537039\n",
       "7439      C537039\n",
       "7520      C537043\n",
       "7521      C537043\n",
       "8316      C537132\n",
       "8317      C537132\n",
       "8318      C537132\n",
       "8319      C537132\n",
       "8320      C537132\n",
       "8321      C537132\n",
       "8685      C537143\n",
       "8952      C537157\n",
       "9038      C537164\n",
       "9493      C537203\n",
       "9494      C537203\n",
       "10194     C537232\n",
       "10204     C537234\n",
       "11502     C537251\n",
       "11503     C537251\n",
       "11504     C537251\n",
       "11505     C537251\n",
       "11506     C537251\n",
       "11507     C537251\n",
       "11508     C537251\n",
       "11509     C537251\n",
       "11510     C537251\n",
       "11511     C537251\n",
       "11512     C537251\n",
       "11513     C537251\n",
       "11514     C537251\n",
       "11515     C537251\n",
       "11516     C537251\n",
       "11517     C537251\n",
       "11518     C537251\n",
       "11519     C537251\n",
       "11520     C537251\n",
       "11521     C537251\n",
       "11799     C537314\n",
       "11800     C537320\n",
       "11813     C537333\n",
       "12402     C537373\n",
       "12455     C537379\n",
       "12538     C537383\n",
       "12539     C537383\n",
       "12540     C537383\n",
       "12823     C537398\n",
       "12946     C537402\n",
       "12947     C537402\n",
       "12948     C537402\n",
       "12949     C537402\n",
       "12950     C537402\n",
       "12951     C537402\n",
       "13009     C537406\n",
       "13010     C537406\n",
       "13011     C537406\n",
       "13012     C537406\n",
       "13019     C537408\n",
       "13020     C537408\n",
       "13042     C537413\n",
       "13052     C537414\n",
       "13053     C537414\n",
       "13054     C537416\n",
       "13055     C537417\n",
       "13265     C537431\n",
       "14022     C537444\n",
       "14023     C537445\n",
       "14332     C537530\n",
       "14333     C537530\n",
       "14334     C537530\n",
       "14435     C537572\n",
       "14436     C537581\n",
       "14437     C537581\n",
       "14497     C537596\n",
       "14498     C537597\n",
       "14514     C537600\n",
       "14524     C537602\n",
       "14525     C537602\n",
       "14526     C537602\n",
       "14527     C537602\n",
       "14528     C537602\n",
       "14529     C537602\n",
       "14530     C537602\n",
       "14531     C537602\n",
       "14532     C537602\n",
       "14533     C537602\n",
       "14534     C537602\n",
       "14535     C537602\n",
       "14536     C537602\n",
       "14537     C537602\n",
       "14716     C537610\n",
       "14717     C537611\n",
       "14728     C537613\n",
       "15016     C537630\n",
       "16232     C537644\n",
       "16313     C537647\n",
       "16356     C537651\n",
       "16357     C537652\n",
       "16424     C537656\n",
       "17075     C537677\n",
       "17134     C537684\n",
       "17135     C537684\n",
       "17352     C537746\n",
       "17353     C537746\n",
       "17354     C537746\n",
       "17388     C537756\n",
       "17389     C537756\n",
       "17390     C537756\n",
       "17453     C537763\n",
       "17986     C537788\n",
       "17987     C537788\n",
       "18132     C537797\n",
       "18133     C537797\n",
       "18134     C537797\n",
       "18135     C537798\n",
       "18196     C537805\n",
       "18197     C537805\n",
       "18198     C537805\n",
       "18199     C537805\n",
       "18200     C537805\n",
       "18201     C537805\n",
       "18202     C537805\n",
       "18203     C537805\n",
       "18204     C537805\n",
       "18232     C537807\n",
       "18233     C537807\n",
       "18234     C537807\n",
       "18235     C537807\n",
       "18246     C537812\n",
       "18247     C537812\n",
       "18255     C537814\n",
       "18351     C537820\n",
       "18352     C537821\n",
       "18974     C537824\n",
       "18975     C537824\n",
       "19101     C537832\n",
       "19102     C537832\n",
       "19103     C537832\n",
       "19105     C537834\n",
       "19106     C537834\n",
       "19107     C537834\n",
       "19108     C537835\n",
       "19124     C537838\n",
       "19348     C537853\n",
       "19349     C537853\n",
       "19350     C537853\n",
       "19351     C537853\n",
       "19352     C537853\n",
       "19390     C537856\n",
       "19391     C537856\n",
       "19392     C537857\n",
       "19430     C537860\n",
       "19431     C537860\n",
       "19432     C537860\n",
       "19433     C537860\n",
       "19434     C537860\n",
       "19435     C537860\n",
       "19436     C537860\n",
       "19437     C537860\n",
       "19438     C537860\n",
       "19439     C537860\n",
       "19440     C537860\n",
       "19441     C537860\n",
       "19442     C537860\n",
       "19443     C537860\n",
       "19444     C537860\n",
       "19445     C537860\n",
       "19446     C537860\n",
       "19447     C537860\n",
       "19448     C537860\n",
       "19449     C537860\n",
       "19450     C537860\n",
       "19802     C537893\n",
       "19803     C537893\n",
       "19804     C537893\n",
       "19994     C537998\n",
       "19995     C537998\n",
       "20438     C538052\n",
       "20507     C538059\n",
       "20508     C538059\n",
       "20509     C538059\n",
       "20510     C538059\n",
       "20511     C538059\n",
       "20512     C538059\n",
       "20513     C538059\n",
       "20514     C538059\n",
       "20515     C538059\n",
       "20516     C538059\n",
       "20517     C538059\n",
       "20518     C538059\n",
       "20519     C538059\n",
       "20520     C538059\n",
       "20523     C538062\n",
       "20524     C538062\n",
       "20525     C538062\n",
       "20526     C538062\n",
       "20527     C538062\n",
       "20576     C538066\n",
       "21350     C538075\n",
       "21465     C538081\n",
       "21466     C538082\n",
       "21467     C538083\n",
       "21468     C538083\n",
       "21469     C538084\n",
       "21470     C538084\n",
       "21471     C538085\n",
       "21472     C538085\n",
       "21473     C538085\n",
       "21516     C538088\n",
       "21517     C538089\n",
       "21519     C538091\n",
       "21623     C538098\n",
       "21624     C538099\n",
       "21625     C538099\n",
       "21626     C538100\n",
       "21628     C538102\n",
       "21629     C538103\n",
       "21656     C538105\n",
       "21657     C538105\n",
       "21697     C538109\n",
       "21698     C538109\n",
       "21699     C538110\n",
       "21700     C538111\n",
       "21701     C538112\n",
       "21702     C538112\n",
       "21719     C538114\n",
       "21720     C538115\n",
       "21721     C538115\n",
       "21722     C538115\n",
       "21723     C538115\n",
       "21745     C538118\n",
       "21746     C538118\n",
       "21747     C538118\n",
       "21748     C538119\n",
       "21749     C538119\n",
       "21750     C538119\n",
       "21753     C538121\n",
       "21754     C538122\n",
       "21755     C538123\n",
       "21756     C538123\n",
       "21757     C538123\n",
       "21758     C538124\n",
       "21759     C538124\n",
       "21760     C538124\n",
       "22344     C538164\n",
       "23241     C538189\n",
       "24135     C538314\n",
       "24158     C538341\n",
       "24159     C538341\n",
       "24160     C538341\n",
       "24161     C538341\n",
       "24162     C538341\n",
       "24163     C538341\n",
       "24164     C538341\n",
       "24165     C538341\n",
       "24166     C538341\n",
       "24167     C538341\n",
       "24168     C538341\n",
       "24169     C538341\n",
       "24170     C538341\n",
       "24171     C538341\n",
       "24172     C538341\n",
       "24173     C538341\n",
       "24174     C538341\n",
       "24175     C538341\n",
       "24176     C538341\n",
       "24177     C538341\n",
       "24178     C538341\n",
       "24179     C538341\n",
       "24180     C538341\n",
       "24181     C538341\n",
       "24182     C538341\n",
       "24183     C538341\n",
       "24184     C538341\n",
       "24185     C538341\n",
       "24186     C538341\n",
       "24187     C538341\n",
       "24188     C538341\n",
       "24189     C538341\n",
       "24190     C538341\n",
       "24191     C538341\n",
       "24192     C538341\n",
       "24193     C538341\n",
       "24194     C538341\n",
       "24195     C538341\n",
       "24196     C538341\n",
       "24214     C538344\n",
       "24911     C538350\n",
       "24912     C538350\n",
       "24913     C538350\n",
       "24914     C538350\n",
       "24915     C538350\n",
       "24916     C538350\n",
       "24917     C538350\n",
       "24918     C538350\n",
       "24919     C538350\n",
       "24920     C538350\n",
       "24921     C538350\n",
       "24922     C538350\n",
       "24923     C538350\n",
       "24924     C538350\n",
       "24925     C538350\n",
       "24926     C538350\n",
       "24927     C538350\n",
       "24928     C538350\n",
       "24929     C538350\n",
       "24930     C538350\n",
       "24931     C538350\n",
       "24932     C538350\n",
       "24933     C538350\n",
       "24934     C538350\n",
       "24935     C538350\n",
       "24936     C538350\n",
       "25208     C538357\n",
       "25243     C538362\n",
       "25551     C538372\n",
       "25552     C538372\n",
       "25553     C538372\n",
       "25554     C538373\n",
       "25606     C538375\n",
       "25607     C538376\n",
       "25608     C538376\n",
       "25609     C538377\n",
       "25610     C538377\n",
       "26055     C538463\n",
       "26056     C538463\n",
       "26149     C538500\n",
       "27329     C538530\n",
       "27380     C538531\n",
       "27389     C538536\n",
       "27993     C538595\n",
       "28147     C538628\n",
       "28148     C538628\n",
       "28306     C538632\n",
       "28560     C538642\n",
       "28561     C538642\n",
       "28562     C538643\n",
       "28563     C538643\n",
       "28601     C538647\n",
       "28602     C538647\n",
       "28605     C538650\n",
       "28606     C538650\n",
       "28607     C538650\n",
       "28958     C538670\n",
       "28992     C538680\n",
       "28993     C538681\n",
       "28994     C538682\n",
       "29015     C538684\n",
       "29016     C538684\n",
       "29017     C538684\n",
       "29019     C538686\n",
       "29048     C538690\n",
       "29049     C538690\n",
       "29050     C538691\n",
       "29051     C538692\n",
       "29052     C538692\n",
       "29053     C538693\n",
       "29054     C538693\n",
       "29055     C538693\n",
       "29056     C538694\n",
       "29057     C538695\n",
       "29058     C538696\n",
       "29062     C538698\n",
       "29063     C538699\n",
       "29064     C538700\n",
       "29065     C538701\n",
       "29066     C538702\n",
       "29067     C538703\n",
       "29068     C538704\n",
       "29069     C538705\n",
       "29070     C538705\n",
       "29203     C538711\n",
       "29204     C538712\n",
       "29205     C538713\n",
       "29206     C538713\n",
       "29252     C538717\n",
       "29254     C538718\n",
       "29256     C538720\n",
       "29278     C538723\n",
       "29279     C538723\n",
       "29280     C538723\n",
       "29281     C538725\n",
       "29282     C538726\n",
       "29283     C538734\n",
       "29346     C538742\n",
       "29347     C538745\n",
       "29348     C538749\n",
       "29355     C538755\n",
       "29356     C538763\n",
       "29357     C538768\n",
       "29358     C538768\n",
       "29359     C538771\n",
       "29407     C538794\n",
       "29436     C538798\n",
       "29523     C538802\n",
       "29524     C538802\n",
       "29525     C538803\n",
       "29526     C538803\n",
       "29527     C538803\n",
       "29528     C538804\n",
       "29529     C538805\n",
       "29530     C538806\n",
       "29676     C538813\n",
       "29943     C538833\n",
       "29944     C538833\n",
       "29945     C538833\n",
       "29946     C538833\n",
       "29947     C538833\n",
       "29948     C538834\n",
       "29949     C538834\n",
       "30078     C538847\n",
       "30556     C538874\n",
       "30557     C538874\n",
       "30558     C538874\n",
       "30559     C538874\n",
       "30569     C538876\n",
       "30972     C538882\n",
       "30973     C538882\n",
       "30974     C538882\n",
       "31004     C538887\n",
       "31019     C538889\n",
       "31074     C538891\n",
       "31075     C538891\n",
       "31134     C538897\n",
       "31135     C538897\n",
       "31136     C538898\n",
       "31210     C538904\n",
       "31464     C538971\n",
       "31589     C538997\n",
       "31590     C538997\n",
       "31663     C539003\n",
       "31935     C539031\n",
       "31936     C539031\n",
       "31937     C539031\n",
       "31938     C539031\n",
       "31939     C539031\n",
       "31940     C539031\n",
       "31964     C539035\n",
       "31982     C539037\n",
       "31983     C539037\n",
       "32368     C539054\n",
       "32369     C539054\n",
       "32370     C539054\n",
       "32371     C539055\n",
       "32373     C539057\n",
       "32374     C539058\n",
       "32375     C539059\n",
       "32382     C539063\n",
       "32383     C539063\n",
       "32384     C539065\n",
       "32385     C539066\n",
       "32386     C539066\n",
       "32387     C539067\n",
       "32388     C539067\n",
       "32389     C539067\n",
       "32390     C539068\n",
       "32391     C539069\n",
       "32392     C539069\n",
       "32397     C539071\n",
       "32398     C539071\n",
       "32399     C539071\n",
       "32400     C539072\n",
       "32401     C539072\n",
       "32402     C539073\n",
       "32574     C539090\n",
       "32630     C539097\n",
       "32660     C539100\n",
       "32695     C539104\n",
       "32722     C539110\n",
       "32751     C539114\n",
       "32869     C539191\n",
       "32870     "
      ]
     },
     "execution_count": 39,
     "metadata": {},
     "output_type": "execute_result"
    },
    {
     "data": {
      "text/html": [
       "<b>limit_output extension: Maximum message size of 10000 exceeded with 167269 characters</b>"
      ]
     },
     "metadata": {},
     "output_type": "display_data"
    }
   ],
   "source": [
    "unique_invoice_letter\n"
   ]
  },
  {
   "cell_type": "markdown",
   "id": "9d807369",
   "metadata": {
    "heading_collapsed": true
   },
   "source": [
    "##### Stock code"
   ]
  },
  {
   "cell_type": "code",
   "execution_count": 93,
   "id": "5a57ca28",
   "metadata": {
    "ExecuteTime": {
     "end_time": "2023-02-09T00:23:00.246689Z",
     "start_time": "2023-02-09T00:22:58.655607Z"
    },
    "hidden": true,
    "scrolled": false
   },
   "outputs": [
    {
     "name": "stdout",
     "output_type": "stream",
     "text": [
      "stock_code unicos com alguma letra: 1124\n",
      "stock_code que contem apenas letras: 12\n",
      "stock code all letters: ['POST' 'D' 'DOT' 'M' 'S' 'AMAZONFEE' 'm' 'DCGSSBOY' 'DCGSSGIRL' 'PADS'\n",
      " 'B' 'CRUK']\n"
     ]
    },
    {
     "data": {
      "text/html": [
       "<div>\n",
       "<style scoped>\n",
       "    .dataframe tbody tr th:only-of-type {\n",
       "        vertical-align: middle;\n",
       "    }\n",
       "\n",
       "    .dataframe tbody tr th {\n",
       "        vertical-align: top;\n",
       "    }\n",
       "\n",
       "    .dataframe thead th {\n",
       "        text-align: right;\n",
       "    }\n",
       "</style>\n",
       "<table border=\"1\" class=\"dataframe\">\n",
       "  <thead>\n",
       "    <tr style=\"text-align: right;\">\n",
       "      <th></th>\n",
       "      <th>invoice_no</th>\n",
       "      <th>stock_code</th>\n",
       "      <th>description</th>\n",
       "      <th>quantity</th>\n",
       "      <th>invoice_date</th>\n",
       "      <th>unit_price</th>\n",
       "      <th>country</th>\n",
       "      <th>customer_id</th>\n",
       "    </tr>\n",
       "  </thead>\n",
       "  <tbody>\n",
       "    <tr>\n",
       "      <th>45</th>\n",
       "      <td>536370</td>\n",
       "      <td>POST</td>\n",
       "      <td>POSTAGE</td>\n",
       "      <td>3</td>\n",
       "      <td>2016-11-29</td>\n",
       "      <td>18.00</td>\n",
       "      <td>France</td>\n",
       "      <td>12583</td>\n",
       "    </tr>\n",
       "    <tr>\n",
       "      <th>141</th>\n",
       "      <td>C536379</td>\n",
       "      <td>D</td>\n",
       "      <td>Discount</td>\n",
       "      <td>-1</td>\n",
       "      <td>2016-11-29</td>\n",
       "      <td>27.50</td>\n",
       "      <td>United Kingdom</td>\n",
       "      <td>14527</td>\n",
       "    </tr>\n",
       "    <tr>\n",
       "      <th>386</th>\n",
       "      <td>536403</td>\n",
       "      <td>POST</td>\n",
       "      <td>POSTAGE</td>\n",
       "      <td>1</td>\n",
       "      <td>2016-11-29</td>\n",
       "      <td>15.00</td>\n",
       "      <td>Netherlands</td>\n",
       "      <td>12791</td>\n",
       "    </tr>\n",
       "    <tr>\n",
       "      <th>1123</th>\n",
       "      <td>536527</td>\n",
       "      <td>POST</td>\n",
       "      <td>POSTAGE</td>\n",
       "      <td>1</td>\n",
       "      <td>2016-11-29</td>\n",
       "      <td>18.00</td>\n",
       "      <td>Germany</td>\n",
       "      <td>12662</td>\n",
       "    </tr>\n",
       "    <tr>\n",
       "      <th>1814</th>\n",
       "      <td>536544</td>\n",
       "      <td>DOT</td>\n",
       "      <td>DOTCOM POSTAGE</td>\n",
       "      <td>1</td>\n",
       "      <td>2016-11-29</td>\n",
       "      <td>569.77</td>\n",
       "      <td>United Kingdom</td>\n",
       "      <td>19001</td>\n",
       "    </tr>\n",
       "    <tr>\n",
       "      <th>2239</th>\n",
       "      <td>536569</td>\n",
       "      <td>M</td>\n",
       "      <td>Manual</td>\n",
       "      <td>1</td>\n",
       "      <td>2016-11-29</td>\n",
       "      <td>1.25</td>\n",
       "      <td>United Kingdom</td>\n",
       "      <td>16274</td>\n",
       "    </tr>\n",
       "    <tr>\n",
       "      <th>2250</th>\n",
       "      <td>536569</td>\n",
       "      <td>M</td>\n",
       "      <td>Manual</td>\n",
       "      <td>1</td>\n",
       "      <td>2016-11-29</td>\n",
       "      <td>18.95</td>\n",
       "      <td>United Kingdom</td>\n",
       "      <td>16274</td>\n",
       "    </tr>\n",
       "    <tr>\n",
       "      <th>3041</th>\n",
       "      <td>536592</td>\n",
       "      <td>DOT</td>\n",
       "      <td>DOTCOM POSTAGE</td>\n",
       "      <td>1</td>\n",
       "      <td>2016-11-29</td>\n",
       "      <td>607.49</td>\n",
       "      <td>United Kingdom</td>\n",
       "      <td>19014</td>\n",
       "    </tr>\n",
       "    <tr>\n",
       "      <th>5073</th>\n",
       "      <td>536840</td>\n",
       "      <td>POST</td>\n",
       "      <td>POSTAGE</td>\n",
       "      <td>1</td>\n",
       "      <td>2016-11-30</td>\n",
       "      <td>18.00</td>\n",
       "      <td>Germany</td>\n",
       "      <td>12738</td>\n",
       "    </tr>\n",
       "    <tr>\n",
       "      <th>5258</th>\n",
       "      <td>536852</td>\n",
       "      <td>POST</td>\n",
       "      <td>POSTAGE</td>\n",
       "      <td>1</td>\n",
       "      <td>2016-12-01</td>\n",
       "      <td>18.00</td>\n",
       "      <td>France</td>\n",
       "      <td>12686</td>\n",
       "    </tr>\n",
       "    <tr>\n",
       "      <th>5325</th>\n",
       "      <td>536858</td>\n",
       "      <td>POST</td>\n",
       "      <td>POSTAGE</td>\n",
       "      <td>2</td>\n",
       "      <td>2016-12-01</td>\n",
       "      <td>40.00</td>\n",
       "      <td>Switzerland</td>\n",
       "      <td>13520</td>\n",
       "    </tr>\n",
       "    <tr>\n",
       "      <th>5369</th>\n",
       "      <td>536861</td>\n",
       "      <td>POST</td>\n",
       "      <td>POSTAGE</td>\n",
       "      <td>3</td>\n",
       "      <td>2016-12-01</td>\n",
       "      <td>18.00</td>\n",
       "      <td>Germany</td>\n",
       "      <td>12427</td>\n",
       "    </tr>\n",
       "    <tr>\n",
       "      <th>5450</th>\n",
       "      <td>536862</td>\n",
       "      <td>DOT</td>\n",
       "      <td>DOTCOM POSTAGE</td>\n",
       "      <td>1</td>\n",
       "      <td>2016-12-01</td>\n",
       "      <td>254.43</td>\n",
       "      <td>United Kingdom</td>\n",
       "      <td>19023</td>\n",
       "    </tr>\n",
       "    <tr>\n",
       "      <th>5545</th>\n",
       "      <td>536864</td>\n",
       "      <td>DOT</td>\n",
       "      <td>DOTCOM POSTAGE</td>\n",
       "      <td>1</td>\n",
       "      <td>2016-12-01</td>\n",
       "      <td>121.06</td>\n",
       "      <td>United Kingdom</td>\n",
       "      <td>19024</td>\n",
       "    </tr>\n",
       "    <tr>\n",
       "      <th>5684</th>\n",
       "      <td>536865</td>\n",
       "      <td>M</td>\n",
       "      <td>Manual</td>\n",
       "      <td>1</td>\n",
       "      <td>2016-12-01</td>\n",
       "      <td>2.55</td>\n",
       "      <td>United Kingdom</td>\n",
       "      <td>19025</td>\n",
       "    </tr>\n",
       "    <tr>\n",
       "      <th>5685</th>\n",
       "      <td>536865</td>\n",
       "      <td>DOT</td>\n",
       "      <td>DOTCOM POSTAGE</td>\n",
       "      <td>1</td>\n",
       "      <td>2016-12-01</td>\n",
       "      <td>498.47</td>\n",
       "      <td>United Kingdom</td>\n",
       "      <td>19025</td>\n",
       "    </tr>\n",
       "    <tr>\n",
       "      <th>6165</th>\n",
       "      <td>536876</td>\n",
       "      <td>DOT</td>\n",
       "      <td>DOTCOM POSTAGE</td>\n",
       "      <td>1</td>\n",
       "      <td>2016-12-01</td>\n",
       "      <td>887.52</td>\n",
       "      <td>United Kingdom</td>\n",
       "      <td>19027</td>\n",
       "    </tr>\n",
       "    <tr>\n",
       "      <th>6602</th>\n",
       "      <td>536967</td>\n",
       "      <td>POST</td>\n",
       "      <td>POSTAGE</td>\n",
       "      <td>1</td>\n",
       "      <td>2016-12-01</td>\n",
       "      <td>18.00</td>\n",
       "      <td>Germany</td>\n",
       "      <td>12600</td>\n",
       "    </tr>\n",
       "    <tr>\n",
       "      <th>6676</th>\n",
       "      <td>536974</td>\n",
       "      <td>POST</td>\n",
       "      <td>POSTAGE</td>\n",
       "      <td>2</td>\n",
       "      <td>2016-12-01</td>\n",
       "      <td>18.00</td>\n",
       "      <td>France</td>\n",
       "      <td>12682</td>\n",
       "    </tr>\n",
       "    <tr>\n",
       "      <th>6798</th>\n",
       "      <td>536981</td>\n",
       "      <td>M</td>\n",
       "      <td>Manual</td>\n",
       "      <td>2</td>\n",
       "      <td>2016-12-01</td>\n",
       "      <td>0.85</td>\n",
       "      <td>United Kingdom</td>\n",
       "      <td>14723</td>\n",
       "    </tr>\n",
       "    <tr>\n",
       "      <th>6973</th>\n",
       "      <td>536983</td>\n",
       "      <td>POST</td>\n",
       "      <td>POSTAGE</td>\n",
       "      <td>1</td>\n",
       "      <td>2016-12-01</td>\n",
       "      <td>18.00</td>\n",
       "      <td>Germany</td>\n",
       "      <td>12712</td>\n",
       "    </tr>\n",
       "    <tr>\n",
       "      <th>7139</th>\n",
       "      <td>536990</td>\n",
       "      <td>POST</td>\n",
       "      <td>POSTAGE</td>\n",
       "      <td>1</td>\n",
       "      <td>2016-12-01</td>\n",
       "      <td>28.00</td>\n",
       "      <td>Portugal</td>\n",
       "      <td>12793</td>\n",
       "    </tr>\n",
       "    <tr>\n",
       "      <th>7237</th>\n",
       "      <td>537022</td>\n",
       "      <td>POST</td>\n",
       "      <td>POSTAGE</td>\n",
       "      <td>2</td>\n",
       "      <td>2016-12-01</td>\n",
       "      <td>28.00</td>\n",
       "      <td>Italy</td>\n",
       "      <td>12725</td>\n",
       "    </tr>\n",
       "    <tr>\n",
       "      <th>7290</th>\n",
       "      <td>537026</td>\n",
       "      <td>POST</td>\n",
       "      <td>POSTAGE</td>\n",
       "      <td>2</td>\n",
       "      <td>2016-12-01</td>\n",
       "      <td>18.00</td>\n",
       "      <td>Belgium</td>\n",
       "      <td>12395</td>\n",
       "    </tr>\n",
       "    <tr>\n",
       "      <th>7953</th>\n",
       "      <td>537065</td>\n",
       "      <td>POST</td>\n",
       "      <td>POSTAGE</td>\n",
       "      <td>9</td>\n",
       "      <td>2016-12-03</td>\n",
       "      <td>18.00</td>\n",
       "      <td>France</td>\n",
       "      <td>12567</td>\n",
       "    </tr>\n",
       "    <tr>\n",
       "      <th>7976</th>\n",
       "      <td>537077</td>\n",
       "      <td>M</td>\n",
       "      <td>Manual</td>\n",
       "      <td>12</td>\n",
       "      <td>2016-12-03</td>\n",
       "      <td>0.42</td>\n",
       "      <td>United Kingdom</td>\n",
       "      <td>17062</td>\n",
       "    </tr>\n",
       "    <tr>\n",
       "      <th>8530</th>\n",
       "      <td>537137</td>\n",
       "      <td>M</td>\n",
       "      <td>Manual</td>\n",
       "      <td>36</td>\n",
       "      <td>2016-12-03</td>\n",
       "      <td>0.85</td>\n",
       "      <td>United Kingdom</td>\n",
       "      <td>16327</td>\n",
       "    </tr>\n",
       "    <tr>\n",
       "      <th>8587</th>\n",
       "      <td>537140</td>\n",
       "      <td>M</td>\n",
       "      <td>Manual</td>\n",
       "      <td>1</td>\n",
       "      <td>2016-12-03</td>\n",
       "      <td>0.42</td>\n",
       "      <td>United Kingdom</td>\n",
       "      <td>12748</td>\n",
       "    </tr>\n",
       "    <tr>\n",
       "      <th>8588</th>\n",
       "      <td>537140</td>\n",
       "      <td>M</td>\n",
       "      <td>Manual</td>\n",
       "      <td>1</td>\n",
       "      <td>2016-12-03</td>\n",
       "      <td>0.85</td>\n",
       "      <td>United Kingdom</td>\n",
       "      <td>12748</td>\n",
       "    </tr>\n",
       "    <tr>\n",
       "      <th>9038</th>\n",
       "      <td>C537164</td>\n",
       "      <td>D</td>\n",
       "      <td>Discount</td>\n",
       "      <td>-1</td>\n",
       "      <td>2016-12-03</td>\n",
       "      <td>29.29</td>\n",
       "      <td>United Kingdom</td>\n",
       "      <td>14527</td>\n",
       "    </tr>\n",
       "    <tr>\n",
       "      <th>9300</th>\n",
       "      <td>537197</td>\n",
       "      <td>POST</td>\n",
       "      <td>POSTAGE</td>\n",
       "      <td>3</td>\n",
       "      <td>2016-12-03</td>\n",
       "      <td>18.00</td>\n",
       "      <td>Germany</td>\n",
       "      <td>12647</td>\n",
       "    </tr>\n",
       "    <tr>\n",
       "      <th>9305</th>\n",
       "      <td>537198</td>\n",
       "      <td>POST</td>\n",
       "      <td>POSTAGE</td>\n",
       "      <td>1</td>\n",
       "      <td>2016-12-03</td>\n",
       "      <td>18.00</td>\n",
       "      <td>Germany</td>\n",
       "      <td>12647</td>\n",
       "    </tr>\n",
       "    <tr>\n",
       "      <th>9326</th>\n",
       "      <td>537199</td>\n",
       "      <td>M</td>\n",
       "      <td>Manual</td>\n",
       "      <td>1</td>\n",
       "      <td>2016-12-03</td>\n",
       "      <td>0.65</td>\n",
       "      <td>United Kingdom</td>\n",
       "      <td>15894</td>\n",
       "    </tr>\n",
       "    <tr>\n",
       "      <th>9441</th>\n",
       "      <td>537201</td>\n",
       "      <td>POST</td>\n",
       "      <td>POSTAGE</td>\n",
       "      <td>6</td>\n",
       "      <td>2016-12-03</td>\n",
       "      <td>18.00</td>\n",
       "      <td>Germany</td>\n",
       "      <td>12472</td>\n",
       "    </tr>\n",
       "    <tr>\n",
       "      <th>9575</th>\n",
       "      <td>537208</td>\n",
       "      <td>M</td>\n",
       "      <td>Manual</td>\n",
       "      <td>4</td>\n",
       "      <td>2016-12-03</td>\n",
       "      <td>0.85</td>\n",
       "      <td>United Kingdom</td>\n",
       "      <td>15889</td>\n",
       "    </tr>\n",
       "    <tr>\n",
       "      <th>9734</th>\n",
       "      <td>537212</td>\n",
       "      <td>POST</td>\n",
       "      <td>POSTAGE</td>\n",
       "      <td>4</td>\n",
       "      <td>2016-12-03</td>\n",
       "      <td>18.00</td>\n",
       "      <td>Germany</td>\n",
       "      <td>12720</td>\n",
       "    </tr>\n",
       "    <tr>\n",
       "      <th>10113</th>\n",
       "      <td>537225</td>\n",
       "      <td>M</td>\n",
       "      <td>Manual</td>\n",
       "      <td>1</td>\n",
       "      <td>2016-12-03</td>\n",
       "      <td>1.00</td>\n",
       "      <td>United Kingdom</td>\n",
       "      <td>12748</td>\n",
       "    </tr>\n",
       "    <tr>\n",
       "      <th>10812</th>\n",
       "      <td>537237</td>\n",
       "      <td>DOT</td>\n",
       "      <td>DOTCOM POSTAGE</td>\n",
       "      <td>1</td>\n",
       "      <td>2016-12-04</td>\n",
       "      <td>863.74</td>\n",
       "      <td>United Kingdom</td>\n",
       "      <td>19069</td>\n",
       "    </tr>\n",
       "    <tr>\n",
       "      <th>11381</th>\n",
       "      <td>537240</td>\n",
       "      <td>DOT</td>\n",
       "      <td>DOTCOM POSTAGE</td>\n",
       "      <td>1</td>\n",
       "      <td>2016-12-04</td>\n",
       "      <td>940.87</td>\n",
       "      <td>United Kingdom</td>\n",
       "      <td>19070</td>\n",
       "    </tr>\n",
       "    <tr>\n",
       "      <th>11479</th>\n",
       "      <td>537246</td>\n",
       "      <td>POST</td>\n",
       "      <td>POSTAGE</td>\n",
       "      <td>1</td>\n",
       "      <td>2016-12-04</td>\n",
       "      <td>28.00</td>\n",
       "      <td>Portugal</td>\n",
       "      <td>12808</td>\n",
       "    </tr>\n",
       "    <tr>\n",
       "      <th>11501</th>\n",
       "      <td>537250</td>\n",
       "      <td>POST</td>\n",
       "      <td>POSTAGE</td>\n",
       "      <td>1</td>\n",
       "      <td>2016-12-04</td>\n",
       "      <td>18.00</td>\n",
       "      <td>Germany</td>\n",
       "      <td>12708</td>\n",
       "    </tr>\n",
       "    <tr>\n",
       "      <th>12423</th>\n",
       "      <td>537377</td>\n",
       "      <td>M</td>\n",
       "      <td>Manual</td>\n",
       "      <td>12</td>\n",
       "      <td>2016-12-04</td>\n",
       "      <td>0.19</td>\n",
       "      <td>United Kingdom</td>\n",
       "      <td>15882</td>\n",
       "    </tr>\n",
       "    <tr>\n",
       "      <th>12667</th>\n",
       "      <td>537392</td>\n",
       "      <td>M</td>\n",
       "      <td>Manual</td>\n",
       "      <td>5</td>\n",
       "      <td>2016-12-04</td>\n",
       "      <td>1.25</td>\n",
       "      <td>United Kin"
      ],
      "text/plain": [
       "       invoice_no stock_code                 description  quantity invoice_date  unit_price               country  customer_id\n",
       "45         536370       POST                     POSTAGE         3   2016-11-29       18.00                France        12583\n",
       "141       C536379          D                    Discount        -1   2016-11-29       27.50        United Kingdom        14527\n",
       "386        536403       POST                     POSTAGE         1   2016-11-29       15.00           Netherlands        12791\n",
       "1123       536527       POST                     POSTAGE         1   2016-11-29       18.00               Germany        12662\n",
       "1814       536544        DOT              DOTCOM POSTAGE         1   2016-11-29      569.77        United Kingdom        19001\n",
       "2239       536569          M                      Manual         1   2016-11-29        1.25        United Kingdom        16274\n",
       "2250       536569          M                      Manual         1   2016-11-29       18.95        United Kingdom        16274\n",
       "3041       536592        DOT              DOTCOM POSTAGE         1   2016-11-29      607.49        United Kingdom        19014\n",
       "5073       536840       POST                     POSTAGE         1   2016-11-30       18.00               Germany        12738\n",
       "5258       536852       POST                     POSTAGE         1   2016-12-01       18.00                France        12686\n",
       "5325       536858       POST                     POSTAGE         2   2016-12-01       40.00           Switzerland        13520\n",
       "5369       536861       POST                     POSTAGE         3   2016-12-01       18.00               Germany        12427\n",
       "5450       536862        DOT              DOTCOM POSTAGE         1   2016-12-01      254.43        United Kingdom        19023\n",
       "5545       536864        DOT              DOTCOM POSTAGE         1   2016-12-01      121.06        United Kingdom        19024\n",
       "5684       536865          M                      Manual         1   2016-12-01        2.55        United Kingdom        19025\n",
       "5685       536865        DOT              DOTCOM POSTAGE         1   2016-12-01      498.47        United Kingdom        19025\n",
       "6165       536876        DOT              DOTCOM POSTAGE         1   2016-12-01      887.52        United Kingdom        19027\n",
       "6602       536967       POST                     POSTAGE         1   2016-12-01       18.00               Germany        12600\n",
       "6676       536974       POST                     POSTAGE         2   2016-12-01       18.00                France        12682\n",
       "6798       536981          M                      Manual         2   2016-12-01        0.85        United Kingdom        14723\n",
       "6973       536983       POST                     POSTAGE         1   2016-12-01       18.00               Germany        12712\n",
       "7139       536990       POST                     POSTAGE         1   2016-12-01       28.00              Portugal        12793\n",
       "7237       537022       POST                     POSTAGE         2   2016-12-01       28.00                 Italy        12725\n",
       "7290       537026       POST                     POSTAGE         2   2016-12-01       18.00               Belgium        12395\n",
       "7953       537065       POST                     POSTAGE         9   2016-12-03       18.00                France        12567\n",
       "7976       537077          M                      Manual        12   2016-12-03        0.42        United Kingdom        17062\n",
       "8530       537137          M                      Manual        36   2016-12-03        0.85        United Kingdom        16327\n",
       "8587       537140          M                      Manual         1   2016-12-03        0.42        United Kingdom        12748\n",
       "8588       537140          M                      Manual         1   2016-12-03        0.85        United Kingdom        12748\n",
       "9038      C537164          D                    Discount        -1   2016-12-03       29.29        United Kingdom        14527\n",
       "9300       537197       POST                     POSTAGE         3   2016-12-03       18.00               Germany        12647\n",
       "9305       537198       POST                     POSTAGE         1   2016-12-03       18.00               Germany        12647\n",
       "9326       537199          M                      Manual         1   2016-12-03        0.65        United Kingdom        15894\n",
       "9441       537201       POST                     POSTAGE         6   2016-12-03       18.00               Germany        12472\n",
       "9575       537208          M                      Manual         4   2016-12-03        0.85        United Kingdom        15889\n",
       "9734       537212       POST                     POSTAGE         4   2016-12-03       18.00               Germany        12720\n",
       "10113      537225          M                      Manual         1   2016-12-03        1.00        United Kingdom        12748\n",
       "10812      537237        DOT              DOTCOM POSTAGE         1   2016-12-04      863.74        United Kingdom        19069\n",
       "11381      537240        DOT              DOTCOM POSTAGE         1   2016-12-04      940.87        United Kingdom        19070\n",
       "11479      537246       POST                     POSTAGE         1   2016-12-04       28.00              Portugal        12808\n",
       "11501      537250       POST                     POSTAGE         1   2016-12-04       18.00               Germany        12708\n",
       "12423      537377          M                      Manual        12   2016-12-04        0.19        United Kingdom        15882\n",
       "12667      537392          M                      Manual         5   2016-12-04        1.25        United Kingdom        17068\n",
       "12783      537396          M                      Manual         1   2016-12-04       35.00        United Kingdom        17223\n",
       "13052     C537414       POST                     POSTAGE        -1   2016-12-04        4.41        United Kingdom        16861\n",
       "13924      537434        DOT              DOTCOM POSTAGE         1   2016-12-04      950.99        United Kingdom        19084\n",
       "13954      537435          M                      Manual         2   2016-12-04        5.95        United Kingdom        17920\n",
       "14166      537463       POST                     POSTAGE         4   2016-12-05       18.00                France        12681\n",
       "14254      537468       POST                     POSTAGE         3   2016-12-05       18.00                France        12567\n",
       "14392      537534          M                      Manual         1   2016-12-05      924.59        United Kingdom        19098\n",
       "14436     C537581          S                     SAMPLES        -1   2016-12-05       12.95        United Kingdom        19100\n",
       "14437     C537581          S                     SAMPLES        -1   2016-12-05       52.00        United Kingdom        19100\n",
       "14472      537594       POST                     POSTAGE         5   2016-12-05       18.00               Germany        12647\n",
       "14498     C537597          D                    Discount        -1   2016-12-05      281.00        United Kingdom        15498\n",
       "14514     C537600  AMAZONFEE                  AMAZON FEE        -1   2016-12-05        1.00        United Kingdom        19101\n",
       "14716     C537610          M                      Manual        -1   2016-12-05      631.31        United Kingdom        19102\n",
       "14728     C537613          M                      Manual        -1   2016-12-05      313.78        United Kingdom        19103\n",
       "15016     C537630  AMAZONFEE                  AMAZON FEE        -1   2016-12-05    13541.33        United Kingdom        19105\n",
       "15017      537632  AMAZONFEE                  AMAZON FEE         1   2016-12-05    13541.33        United Kingdom        19106\n",
       "15650      537638        DOT              DOTCOM POSTAGE         1   2016-12-05      836.14        United Kingdom        19109\n",
       "15879      537641        DOT              DOTCOM POSTAGE         1   2016-12-05      229.74        United Kingdom        19112\n",
       "15985      537642        DOT              DOTCOM POSTAGE         1   2016-12-05      448.00        United Kingdom        19113\n",
       "16109      537643        DOT              DOTCOM POSTAGE         1   2016-12-05      593.15        United Kingdom        19114\n",
       "16231      537645        DOT              DOTCOM POSTAGE         1   2016-12-05      607.96        United Kingdom        19115\n",
       "16232     C537644  AMAZONFEE                  AMAZON FEE        -1   2016-12-05    13474.79        United Kingdom        19116\n",
       "16313     C537647  AMAZONFEE                  AMAZON FEE        -1   2016-12-05     5519.25        United Kingdom        19117\n",
       "16356     C537651  AMAZONFEE                  AMAZON FEE        -1   2016-12-05    13541.33        United Kingdom        19118\n",
       "16357     C537652  AMAZONFEE                  AMAZON FEE        -1   2016-12-05     6706.71        United Kingdom        19119\n",
       "16778      537666        DOT              DOTCOM POSTAGE         1   2016-12-05      701.95        United Kingdom        19121\n",
       "17046      537673       POST                     POSTAGE         7   2016-12-06       18.00               Germany        12709\n",
       "17290      537693       POST                     POSTAGE         1   2016-12-06       18.00                France        12441\n",
       "18136      537800          M                      Manual        12   2016-12-06        0.19        United Kingdom        12748\n",
       "18184      537804          M                      Manual        12   2016-12-06        2.95        United Kingdom        12748\n",
       "18186      537804          M                      Manual        12   2016-12-06        0.19        United Kingdom        12748\n",
       "18333      537818       POST                     POSTAGE         6   2016-12-06       28.00              Portugal        12766\n",
       "18541      537823        DOT              DOTCOM POSTAGE         1   2016-12-06      729.42        United Kingdom        19125\n",
       "19392     C537857          D   "
      ]
     },
     "execution_count": 93,
     "metadata": {},
     "output_type": "execute_result"
    },
    {
     "data": {
      "text/html": [
       "<b>limit_output extension: Maximum message size of 10000 exceeded with 605553 characters</b>"
      ]
     },
     "metadata": {},
     "output_type": "display_data"
    }
   ],
   "source": [
    "# stock_code that contain letter\n",
    "contain_letter = df1['stock_code'].apply(lambda x: bool(re.search('[^0-9]+',x)))\n",
    "unique_stock_letter = df1.loc[contain_letter,'stock_code'].drop_duplicates()\n",
    "print('stock_code unicos com alguma letra: {}'.format(unique_stock_letter.count()))\n",
    "\n",
    "# unique stock_code all letter\n",
    "all_letters = df1['stock_code'].apply(lambda x: bool(re.search('^[a-zA-Z]+$', x)))\n",
    "unique_stock_all_letter = df1.loc[all_letters,'stock_code'].drop_duplicates()\n",
    "print('stock_code que contem apenas letras: {}'.format(unique_stock_all_letter.count()))\n",
    "print('stock code all letters: {}'.format(unique_stock_all_letter.unique()))\n",
    "\n",
    "# identificação: linhas com stock_code somente letras \n",
    "df1.loc[df1['stock_code'].isin(unique_stock_all_letter)]"
   ]
  },
  {
   "cell_type": "markdown",
   "id": "2839bbe5",
   "metadata": {
    "hidden": true
   },
   "source": [
    "**Ação de limpeza:** dado que nao tenho conhecimento sobre esses valores com apenas letras, vou excluir nessa iteração"
   ]
  },
  {
   "cell_type": "markdown",
   "id": "50ed8c0b",
   "metadata": {
    "ExecuteTime": {
     "end_time": "2023-02-08T17:40:27.469700Z",
     "start_time": "2023-02-08T17:40:27.466978Z"
    },
    "heading_collapsed": true
   },
   "source": [
    "##### Description"
   ]
  },
  {
   "cell_type": "code",
   "execution_count": 35,
   "id": "a42ec1b1",
   "metadata": {
    "ExecuteTime": {
     "end_time": "2023-02-08T18:01:31.692618Z",
     "start_time": "2023-02-08T18:01:31.681009Z"
    },
    "hidden": true,
    "scrolled": true
   },
   "outputs": [
    {
     "data": {
      "text/html": [
       "<div>\n",
       "<style scoped>\n",
       "    .dataframe tbody tr th:only-of-type {\n",
       "        vertical-align: middle;\n",
       "    }\n",
       "\n",
       "    .dataframe tbody tr th {\n",
       "        vertical-align: top;\n",
       "    }\n",
       "\n",
       "    .dataframe thead th {\n",
       "        text-align: right;\n",
       "    }\n",
       "</style>\n",
       "<table border=\"1\" class=\"dataframe\">\n",
       "  <thead>\n",
       "    <tr style=\"text-align: right;\">\n",
       "      <th></th>\n",
       "      <th>invoice_no</th>\n",
       "      <th>stock_code</th>\n",
       "      <th>description</th>\n",
       "      <th>quantity</th>\n",
       "      <th>invoice_date</th>\n",
       "      <th>unit_price</th>\n",
       "      <th>customer_id</th>\n",
       "      <th>country</th>\n",
       "    </tr>\n",
       "  </thead>\n",
       "  <tbody>\n",
       "    <tr>\n",
       "      <th>0</th>\n",
       "      <td>536365</td>\n",
       "      <td>85123A</td>\n",
       "      <td>WHITE HANGING HEART T-LIGHT HOLDER</td>\n",
       "      <td>6</td>\n",
       "      <td>2016-11-29</td>\n",
       "      <td>2.55</td>\n",
       "      <td>17850</td>\n",
       "      <td>United Kingdom</td>\n",
       "    </tr>\n",
       "    <tr>\n",
       "      <th>1</th>\n",
       "      <td>536365</td>\n",
       "      <td>71053</td>\n",
       "      <td>WHITE METAL LANTERN</td>\n",
       "      <td>6</td>\n",
       "      <td>2016-11-29</td>\n",
       "      <td>3.39</td>\n",
       "      <td>17850</td>\n",
       "      <td>United Kingdom</td>\n",
       "    </tr>\n",
       "    <tr>\n",
       "      <th>2</th>\n",
       "      <td>536365</td>\n",
       "      <td>84406B</td>\n",
       "      <td>CREAM CUPID HEARTS COAT HANGER</td>\n",
       "      <td>8</td>\n",
       "      <td>2016-11-29</td>\n",
       "      <td>2.75</td>\n",
       "      <td>17850</td>\n",
       "      <td>United Kingdom</td>\n",
       "    </tr>\n",
       "    <tr>\n",
       "      <th>3</th>\n",
       "      <td>536365</td>\n",
       "      <td>84029G</td>\n",
       "      <td>KNITTED UNION FLAG HOT WATER BOTTLE</td>\n",
       "      <td>6</td>\n",
       "      <td>2016-11-29</td>\n",
       "      <td>3.39</td>\n",
       "      <td>17850</td>\n",
       "      <td>United Kingdom</td>\n",
       "    </tr>\n",
       "    <tr>\n",
       "      <th>4</th>\n",
       "      <td>536365</td>\n",
       "      <td>84029E</td>\n",
       "      <td>RED WOOLLY HOTTIE WHITE HEART.</td>\n",
       "      <td>6</td>\n",
       "      <td>2016-11-29</td>\n",
       "      <td>3.39</td>\n",
       "      <td>17850</td>\n",
       "      <td>United Kingdom</td>\n",
       "    </tr>\n",
       "  </tbody>\n",
       "</table>\n",
       "</div>"
      ],
      "text/plain": [
       "  invoice_no stock_code                          description  quantity invoice_date  unit_price  customer_id         country\n",
       "0     536365     85123A   WHITE HANGING HEART T-LIGHT HOLDER         6   2016-11-29        2.55        17850  United Kingdom\n",
       "1     536365      71053                  WHITE METAL LANTERN         6   2016-11-29        3.39        17850  United Kingdom\n",
       "2     536365     84406B       CREAM CUPID HEARTS COAT HANGER         8   2016-11-29        2.75        17850  United Kingdom\n",
       "3     536365     84029G  KNITTED UNION FLAG HOT WATER BOTTLE         6   2016-11-29        3.39        17850  United Kingdom\n",
       "4     536365     84029E       RED WOOLLY HOTTIE WHITE HEART.         6   2016-11-29        3.39        17850  United Kingdom"
      ]
     },
     "execution_count": 35,
     "metadata": {},
     "output_type": "execute_result"
    }
   ],
   "source": [
    "df1.head()"
   ]
  },
  {
   "cell_type": "markdown",
   "id": "11d40d49",
   "metadata": {
    "hidden": true
   },
   "source": [
    "**Ação:** enquanto nao sei como usar essa coluna para gerar alguma informação, vou exclui-la "
   ]
  },
  {
   "cell_type": "markdown",
   "id": "ecc2ef62",
   "metadata": {
    "ExecuteTime": {
     "end_time": "2023-02-08T17:40:38.015007Z",
     "start_time": "2023-02-08T17:40:38.012120Z"
    },
    "heading_collapsed": true
   },
   "source": [
    "##### Country"
   ]
  },
  {
   "cell_type": "code",
   "execution_count": 94,
   "id": "94fb0885",
   "metadata": {
    "ExecuteTime": {
     "end_time": "2023-02-09T00:24:08.730013Z",
     "start_time": "2023-02-09T00:24:08.700014Z"
    },
    "hidden": true
   },
   "outputs": [
    {
     "data": {
      "text/plain": [
       "array(['United Kingdom', 'France', 'Australia', 'Netherlands', 'Germany',\n",
       "       'Norway', 'EIRE', 'Switzerland', 'Spain', 'Poland', 'Portugal',\n",
       "       'Italy', 'Belgium', 'Lithuania', 'Japan', 'Iceland',\n",
       "       'Channel Islands', 'Denmark', 'Cyprus', 'Sweden', 'Austria',\n",
       "       'Israel', 'Finland', 'Bahrain', 'Greece', 'Hong Kong', 'Singapore',\n",
       "       'Lebanon', 'United Arab Emirates', 'Saudi Arabia',\n",
       "       'Czech Republic', 'Canada', 'Unspecified', 'Brazil', 'USA',\n",
       "       'European Community', 'Malta', 'RSA'], dtype=object)"
      ]
     },
     "execution_count": 94,
     "metadata": {},
     "output_type": "execute_result"
    }
   ],
   "source": [
    "df1['country'].unique()"
   ]
  },
  {
   "cell_type": "markdown",
   "id": "42e55827",
   "metadata": {
    "hidden": true
   },
   "source": [
    "Pontos que merecem atencao:<br>\n",
    "\n",
    "- United Kingdom corresponde a quase todo dataset\n",
    "- European Community aparece mesmo que os paises que se incluem nela aparecem separados \n",
    "- Unspecified"
   ]
  },
  {
   "cell_type": "code",
   "execution_count": 95,
   "id": "9c6a7f25",
   "metadata": {
    "ExecuteTime": {
     "end_time": "2023-02-09T00:24:15.629900Z",
     "start_time": "2023-02-09T00:24:15.530872Z"
    },
    "hidden": true
   },
   "outputs": [
    {
     "data": {
      "text/plain": [
       "United Kingdom         0.91\n",
       "Germany                0.02\n",
       "France                 0.02\n",
       "EIRE                   0.02\n",
       "Spain                  0.00\n",
       "Netherlands            0.00\n",
       "Belgium                0.00\n",
       "Switzerland            0.00\n",
       "Portugal               0.00\n",
       "Australia              0.00\n",
       "Norway                 0.00\n",
       "Italy                  0.00\n",
       "Channel Islands        0.00\n",
       "Finland                0.00\n",
       "Cyprus                 0.00\n",
       "Sweden                 0.00\n",
       "Unspecified            0.00\n",
       "Austria                0.00\n",
       "Denmark                0.00\n",
       "Japan                  0.00\n",
       "Poland                 0.00\n",
       "Israel                 0.00\n",
       "USA                    0.00\n",
       "Hong Kong              0.00\n",
       "Singapore              0.00\n",
       "Iceland                0.00\n",
       "Canada                 0.00\n",
       "Greece                 0.00\n",
       "Malta                  0.00\n",
       "United Arab Emirates   0.00\n",
       "European Community     0.00\n",
       "RSA                    0.00\n",
       "Lebanon                0.00\n",
       "Lithuania              0.00\n",
       "Brazil                 0.00\n",
       "Czech Republic         0.00\n",
       "Bahrain                0.00\n",
       "Saudi Arabia           0.00\n",
       "Name: country, dtype: float64"
      ]
     },
     "execution_count": 95,
     "metadata": {},
     "output_type": "execute_result"
    }
   ],
   "source": [
    "df1['country'].value_counts(normalize=True)"
   ]
  },
  {
   "cell_type": "code",
   "execution_count": 44,
   "id": "197265a0",
   "metadata": {
    "ExecuteTime": {
     "end_time": "2023-02-08T18:10:21.178690Z",
     "start_time": "2023-02-08T18:10:21.129830Z"
    },
    "hidden": true
   },
   "outputs": [
    {
     "data": {
      "text/html": [
       "<div>\n",
       "<style scoped>\n",
       "    .dataframe tbody tr th:only-of-type {\n",
       "        vertical-align: middle;\n",
       "    }\n",
       "\n",
       "    .dataframe tbody tr th {\n",
       "        vertical-align: top;\n",
       "    }\n",
       "\n",
       "    .dataframe thead th {\n",
       "        text-align: right;\n",
       "    }\n",
       "</style>\n",
       "<table border=\"1\" class=\"dataframe\">\n",
       "  <thead>\n",
       "    <tr style=\"text-align: right;\">\n",
       "      <th></th>\n",
       "      <th>country</th>\n",
       "      <th>customer_id</th>\n",
       "    </tr>\n",
       "  </thead>\n",
       "  <tbody>\n",
       "    <tr>\n",
       "      <th>35</th>\n",
       "      <td>United Kingdom</td>\n",
       "      <td>3950</td>\n",
       "    </tr>\n",
       "    <tr>\n",
       "      <th>14</th>\n",
       "      <td>Germany</td>\n",
       "      <td>95</td>\n",
       "    </tr>\n",
       "    <tr>\n",
       "      <th>13</th>\n",
       "      <td>France</td>\n",
       "      <td>87</td>\n",
       "    </tr>\n",
       "    <tr>\n",
       "      <th>30</th>\n",
       "      <td>Spain</td>\n",
       "      <td>31</td>\n",
       "    </tr>\n",
       "    <tr>\n",
       "      <th>3</th>\n",
       "      <td>Belgium</td>\n",
       "      <td>25</td>\n",
       "    </tr>\n",
       "    <tr>\n",
       "      <th>32</th>\n",
       "      <td>Switzerland</td>\n",
       "      <td>21</td>\n",
       "    </tr>\n",
       "    <tr>\n",
       "      <th>26</th>\n",
       "      <td>Portugal</td>\n",
       "      <td>19</td>\n",
       "    </tr>\n",
       "    <tr>\n",
       "      <th>18</th>\n",
       "      <td>Italy</td>\n",
       "      <td>15</td>\n",
       "    </tr>\n",
       "    <tr>\n",
       "      <th>12</th>\n",
       "      <td>Finland</td>\n",
       "      <td>12</td>\n",
       "    </tr>\n",
       "    <tr>\n",
       "      <th>1</th>\n",
       "      <td>Austria</td>\n",
       "      <td>11</td>\n",
       "    </tr>\n",
       "    <tr>\n",
       "      <th>24</th>\n",
       "      <td>Norway</td>\n",
       "      <td>10</td>\n",
       "    </tr>\n",
       "    <tr>\n",
       "      <th>23</th>\n",
       "      <td>Netherlands</td>\n",
       "      <td>9</td>\n",
       "    </tr>\n",
       "    <tr>\n",
       "      <th>0</th>\n",
       "      <td>Australia</td>\n",
       "      <td>9</td>\n",
       "    </tr>\n",
       "    <tr>\n",
       "      <th>9</th>\n",
       "      <td>Denmark</td>\n",
       "      <td>9</td>\n",
       "    </tr>\n",
       "    <tr>\n",
       "      <th>6</th>\n",
       "      <td>Channel Islands</td>\n",
       "      <td>9</td>\n",
       "    </tr>\n",
       "    <tr>\n",
       "      <th>7</th>\n",
       "      <td>Cyprus</td>\n",
       "      <td>8</td>\n",
       "    </tr>\n",
       "    <tr>\n",
       "      <th>31</th>\n",
       "      <td>Sweden</td>\n",
       "      <td>8</td>\n",
       "    </tr>\n",
       "    <tr>\n",
       "      <th>19</th>\n",
       "      <td>Japan</td>\n",
       "      <td>8</td>\n",
       "    </tr>\n",
       "    <tr>\n",
       "      <th>25</th>\n",
       "      <td>Poland</td>\n",
       "      <td>6</td>\n",
       "    </tr>\n",
       "    <tr>\n",
       "      <th>33</th>\n",
       "      <td>USA</td>\n",
       "      <td>4</td>\n",
       "    </tr>\n",
       "    <tr>\n",
       "      <th>5</th>\n",
       "      <td>Canada</td>\n",
       "      <td>4</td>\n",
       "    </tr>\n",
       "    <tr>\n",
       "      <th>36</th>\n",
       "      <td>Unspecified</td>\n",
       "      <td>4</td>\n",
       "    </tr>\n",
       "    <tr>\n",
       "      <th>17</th>\n",
       "      <td>Israel</td>\n",
       "      <td>4</td>\n",
       "    </tr>\n",
       "    <tr>\n",
       "      <th>15</th>\n",
       "      <td>Greece</td>\n",
       "      <td>4</td>\n",
       "    </tr>\n",
       "    <tr>\n",
       "      <th>10</th>\n",
       "      <td>EIRE</td>\n",
       "      <td>3</td>\n",
       "    </tr>\n",
       "    <tr>\n",
       "      <th>22</th>\n",
       "      <td>Malta</td>\n",
       "      <td>2</td>\n",
       "    </tr>\n",
       "    <tr>\n",
       "      <th>34</th>\n",
       "      <td>United Arab Emirates</td>\n",
       "      <td>2</td>\n",
       "    </tr>\n",
       "    <tr>\n",
       "      <th>2</th>\n",
       "      <td>Bahrain</td>\n",
       "      <td>2</td>\n",
       "    </tr>\n",
       "    <tr>\n",
       "      <th>8</th>\n",
       "      <td>Czech Republic</td>\n",
       "      <td>1</td>\n",
       "    </tr>\n",
       "    <tr>\n",
       "      <th>21</th>\n",
       "      <td>Lithuania</td>\n",
       "      <td>1</td>\n",
       "    </tr>\n",
       "    <tr>\n",
       "      <th>20</th>\n",
       "      <td>Lebanon</td>\n",
       "      <td>1</td>\n",
       "    </tr>\n",
       "    <tr>\n",
       "      <th>27</th>\n",
       "      <td>RSA</td>\n",
       "      <td>1</td>\n",
       "    </tr>\n",
       "    <tr>\n",
       "      <th>28</th>\n",
       "      <td>Saudi Arabia</td>\n",
       "      <td>1</td>\n",
       "    </tr>\n",
       "    <tr>\n",
       "      <th>29</th>\n",
       "      <td>Singapore</td>\n",
       "      <td>1</td>\n",
       "    </tr>\n",
       "    <tr>\n",
       "      <th>16</th>\n",
       "      <td>Iceland</td>\n",
       "      <td>1</td>\n",
       "    </tr>\n",
       "    <tr>\n",
       "      <th>4</th>\n",
       "      <td>Brazil</td>\n",
       "      <td>1</td>\n",
       "    </tr>\n",
       "    <tr>\n",
       "      <th>11</th>\n",
       "      <td>European Community</td>\n",
       "      <td>1</td>\n",
       "    </tr>\n",
       "  </tbody>\n",
       "</table>\n",
       "</div>"
      ],
      "text/plain": [
       "                 country  customer_id\n",
       "35        United Kingdom         3950\n",
       "14               Germany           95\n",
       "13                France           87\n",
       "30                 Spain           31\n",
       "3                Belgium           25\n",
       "32           Switzerland           21\n",
       "26              Portugal           19\n",
       "18                 Italy           15\n",
       "12               Finland           12\n",
       "1                Austria           11\n",
       "24                Norway           10\n",
       "23           Netherlands            9\n",
       "0              Australia            9\n",
       "9                Denmark            9\n",
       "6        Channel Islands            9\n",
       "7                 Cyprus            8\n",
       "31                Sweden            8\n",
       "19                 Japan            8\n",
       "25                Poland            6\n",
       "33                   USA            4\n",
       "5                 Canada            4\n",
       "36           Unspecified            4\n",
       "17                Israel            4\n",
       "15                Greece            4\n",
       "10                  EIRE            3\n",
       "22                 Malta            2\n",
       "34  United Arab Emirates            2\n",
       "2                Bahrain            2\n",
       "8         Czech Republic            1\n",
       "21             Lithuania            1\n",
       "20               Lebanon            1\n",
       "27                   RSA            1\n",
       "28          Saudi Arabia            1\n",
       "29             Singapore            1\n",
       "16               Iceland            1\n",
       "4                 Brazil            1\n",
       "11    European Community            1"
      ]
     },
     "execution_count": 44,
     "metadata": {},
     "output_type": "execute_result"
    }
   ],
   "source": [
    "# customers per country\n",
    "df1[['customer_id','country']].drop_duplicates().groupby('country').count().reset_index().sort_values('customer_id',ascending=False)"
   ]
  },
  {
   "cell_type": "markdown",
   "id": "15b5853c",
   "metadata": {
    "ExecuteTime": {
     "end_time": "2023-02-02T17:44:43.119903Z",
     "start_time": "2023-02-02T17:44:43.116700Z"
    }
   },
   "source": [
    "# <span style=\"color: OrangeRed;\">DATA FILTERING</span>\n",
    "<span style=\"color: OrangeRed;\">***PASSO 2*** </span>"
   ]
  },
  {
   "cell_type": "code",
   "execution_count": 18,
   "id": "709c7bee",
   "metadata": {
    "ExecuteTime": {
     "end_time": "2023-03-01T11:47:41.092463Z",
     "start_time": "2023-03-01T11:47:41.079188Z"
    }
   },
   "outputs": [],
   "source": [
    "df2 = df1.copy()"
   ]
  },
  {
   "cell_type": "code",
   "execution_count": 19,
   "id": "367a981b",
   "metadata": {
    "ExecuteTime": {
     "end_time": "2023-03-01T11:47:42.263776Z",
     "start_time": "2023-03-01T11:47:42.028552Z"
    },
    "code_folding": []
   },
   "outputs": [],
   "source": [
    "# === Categorical attributes === \n",
    "# stock_code\n",
    "df2 = df2.loc[~df2['stock_code'].isin(['POST', 'D', 'DOT', 'M', 'S', 'AMAZONFEE', 'm', 'DCGSSBOY', 'DCGSSGIRL', 'PADS','B', 'CRUK'])]\n",
    "\n",
    "# description\n",
    "df2 = df2.drop(columns = ['description'], axis=1)\n",
    "\n",
    "#country\n",
    "df2 = df2.loc[~df2['country'].isin(['Unspecified','European Community']), :]\n",
    "\n",
    "# bad customers\n",
    "df2 = df2[~df2['customer_id'].isin([16446]) ]\n",
    "\n",
    "\n",
    "# === Numerical attributes === \n",
    "# unit_price above 0.01\n",
    "df2 = df2.loc[df2['unit_price']>0.01]\n",
    "\n",
    "# quantity\n",
    "df_returns = df2.loc[df2['quantity']<0]\n",
    "df_purchase = df2.loc[df2['quantity']>0]\n",
    "\n",
    "\n",
    "\n"
   ]
  },
  {
   "cell_type": "markdown",
   "id": "b1171c0f",
   "metadata": {
    "ExecuteTime": {
     "end_time": "2023-02-02T17:44:43.119903Z",
     "start_time": "2023-02-02T17:44:43.116700Z"
    }
   },
   "source": [
    "# <span style=\"color: OrangeRed;\">FEATURE ENGINEERING</span>\n",
    "<span style=\"color: OrangeRed;\">***PASSO 3***</span>"
   ]
  },
  {
   "cell_type": "code",
   "execution_count": 20,
   "id": "e8da8f7f",
   "metadata": {
    "ExecuteTime": {
     "end_time": "2023-03-01T11:47:43.477010Z",
     "start_time": "2023-03-01T11:47:43.461622Z"
    }
   },
   "outputs": [],
   "source": [
    "df3 = df2.copy()"
   ]
  },
  {
   "cell_type": "markdown",
   "id": "ce3acfc3",
   "metadata": {},
   "source": [
    "## Feature Creation"
   ]
  },
  {
   "cell_type": "code",
   "execution_count": 21,
   "id": "c7b4a285",
   "metadata": {
    "ExecuteTime": {
     "end_time": "2023-03-01T11:47:44.835396Z",
     "start_time": "2023-03-01T11:47:44.819685Z"
    }
   },
   "outputs": [],
   "source": [
    "# dataframe of unique 'customer_id' to be merged with\n",
    "df_customers = df2.drop(columns= ['invoice_no', 'stock_code', 'quantity', 'invoice_date',\n",
    "                                  'unit_price', 'country'],axis=1).drop_duplicates(ignore_index=True)"
   ]
  },
  {
   "cell_type": "markdown",
   "id": "d8fcec61",
   "metadata": {
    "ExecuteTime": {
     "end_time": "2023-02-09T00:50:52.058492Z",
     "start_time": "2023-02-09T00:50:52.053044Z"
    }
   },
   "source": [
    "### Monetary - gross revenue by customers"
   ]
  },
  {
   "cell_type": "code",
   "execution_count": 22,
   "id": "b7afb5b4",
   "metadata": {
    "ExecuteTime": {
     "end_time": "2023-03-01T11:47:48.102479Z",
     "start_time": "2023-03-01T11:47:48.070802Z"
    },
    "scrolled": true
   },
   "outputs": [
    {
     "name": "stderr",
     "output_type": "stream",
     "text": [
      "/tmp/ipykernel_6636/3064971249.py:2: SettingWithCopyWarning: \n",
      "A value is trying to be set on a copy of a slice from a DataFrame.\n",
      "Try using .loc[row_indexer,col_indexer] = value instead\n",
      "\n",
      "See the caveats in the documentation: https://pandas.pydata.org/pandas-docs/stable/user_guide/indexing.html#returning-a-view-versus-a-copy\n",
      "  df_purchase['gross_revenue'] = df_purchase['unit_price']*df_purchase['quantity']\n"
     ]
    },
    {
     "data": {
      "text/plain": [
       "customer_id     0\n",
       "monetary       91\n",
       "dtype: int64"
      ]
     },
     "execution_count": 22,
     "metadata": {},
     "output_type": "execute_result"
    }
   ],
   "source": [
    "# monetary or LTV - gross revenue/customer\n",
    "df_purchase['gross_revenue'] = df_purchase['unit_price']*df_purchase['quantity']\n",
    "df_monetary = df_purchase.groupby('customer_id')['gross_revenue'].sum().reset_index()\n",
    "df_monetary = df_monetary.rename(columns = {'gross_revenue':'monetary'})\n",
    "\n",
    "df_customers = pd.merge(df_customers,df_monetary, on='customer_id', how='left')\n",
    "df_customers.isna().sum() # 91 linhas com quantity negativo "
   ]
  },
  {
   "cell_type": "markdown",
   "id": "186b506c",
   "metadata": {},
   "source": [
    "### Recency - days since last purchase"
   ]
  },
  {
   "cell_type": "code",
   "execution_count": 23,
   "id": "0f4c6442",
   "metadata": {
    "ExecuteTime": {
     "end_time": "2023-03-01T11:47:59.085532Z",
     "start_time": "2023-03-01T11:47:59.055251Z"
    }
   },
   "outputs": [
    {
     "data": {
      "text/plain": [
       "customer_id     0\n",
       "monetary       91\n",
       "recency        91\n",
       "dtype: int64"
      ]
     },
     "execution_count": 23,
     "metadata": {},
     "output_type": "execute_result"
    }
   ],
   "source": [
    "# recency - days since last purchase\n",
    "df_recency = df_purchase.groupby('customer_id')['invoice_date'].max().reset_index()\n",
    "df_recency['recency'] = (df_recency['invoice_date'].max() - df_recency['invoice_date']).dt.days\n",
    "df_recency = df_recency[['customer_id','recency']]\n",
    "df_recency.head()\n",
    "\n",
    "df_customers = pd.merge(df_customers,df_recency, on='customer_id', how='left')\n",
    "df_customers.head()\n",
    "df_customers.isna().sum()"
   ]
  },
  {
   "cell_type": "markdown",
   "id": "abeb566a",
   "metadata": {},
   "source": [
    "### Frequency - purchases/day"
   ]
  },
  {
   "cell_type": "code",
   "execution_count": 24,
   "id": "1348285f",
   "metadata": {
    "ExecuteTime": {
     "end_time": "2023-03-01T11:48:00.874825Z",
     "start_time": "2023-03-01T11:48:00.871848Z"
    }
   },
   "outputs": [],
   "source": [
    "# # frequency - purchases/month\n",
    "# df_purchase['year_month'] = df_purchase['invoice_date'].dt.strftime('%Y-%m')\n",
    "# df_frequency = df_purchase[['customer_id','year_month','invoice_no']].groupby(['customer_id','year_month']).nunique().reset_index()\n",
    "# df_frequency = df_frequency.groupby('customer_id')['invoice_no'].mean().reset_index()\n",
    "# df_frequency = df_frequency.rename (columns = {'invoice_no':'frequency'})\n",
    "# df_frequency.head()\n",
    "\n",
    "# df_customers = pd.merge(df_customers,df_frequency, on='customer_id', how='left')\n",
    "# df_customers.head()\n",
    "# df_customers.isna().sum()"
   ]
  },
  {
   "cell_type": "code",
   "execution_count": 25,
   "id": "2e5c06fe",
   "metadata": {
    "ExecuteTime": {
     "end_time": "2023-03-01T11:48:03.264931Z",
     "start_time": "2023-03-01T11:48:02.216929Z"
    }
   },
   "outputs": [
    {
     "data": {
      "text/plain": [
       "customer_id     0\n",
       "monetary       91\n",
       "recency        91\n",
       "frequency      91\n",
       "dtype: int64"
      ]
     },
     "execution_count": 25,
     "metadata": {},
     "output_type": "execute_result"
    }
   ],
   "source": [
    "# frequency - purchases/day\n",
    "df_aux = (df_purchase[['invoice_no','customer_id','invoice_date']].drop_duplicates().groupby('customer_id')\n",
    "                                                                           .aggregate (max_   = ('invoice_date','max'),\n",
    "                                                                                       min_   = ('invoice_date','min'), \n",
    "                                                                                       period = ('invoice_date', lambda x: (x.max()-x.min()).days + 1),\n",
    "                                                                                       invoice_no = ('invoice_no','count'))).reset_index()\n",
    "\n",
    "df_aux['frequency'] = df_aux.apply(lambda x: x['invoice_no']/x['period'] if x['period']!=0 else 0, axis=1)\n",
    "\n",
    "df_customers = pd.merge(df_customers, df_aux[['customer_id','frequency']], on='customer_id', how='left')\n",
    "df_customers.isna().sum()"
   ]
  },
  {
   "cell_type": "markdown",
   "id": "ebc66afe",
   "metadata": {},
   "source": [
    "### Quantity products - different stock_code by customer"
   ]
  },
  {
   "cell_type": "code",
   "execution_count": 26,
   "id": "67d540db",
   "metadata": {
    "ExecuteTime": {
     "end_time": "2023-03-01T11:50:54.067815Z",
     "start_time": "2023-03-01T11:50:53.977428Z"
    }
   },
   "outputs": [
    {
     "data": {
      "text/plain": [
       "customer_id           0\n",
       "monetary             91\n",
       "recency              91\n",
       "frequency            91\n",
       "quantity_products    91\n",
       "dtype: int64"
      ]
     },
     "execution_count": 26,
     "metadata": {},
     "output_type": "execute_result"
    }
   ],
   "source": [
    "df_products_purchased = df_purchase[['customer_id','stock_code']].groupby('customer_id').count().reset_index().rename(columns={'stock_code':'quantity_products'})\n",
    "df_customers = pd.merge(df_customers,df_products_purchased, on='customer_id', how='left')\n",
    "df_customers.isna().sum()"
   ]
  },
  {
   "cell_type": "markdown",
   "id": "ea5d4171",
   "metadata": {},
   "source": [
    "### Returns - number of returns"
   ]
  },
  {
   "cell_type": "code",
   "execution_count": 27,
   "id": "279c00e3",
   "metadata": {
    "ExecuteTime": {
     "end_time": "2023-03-01T11:50:55.804008Z",
     "start_time": "2023-03-01T11:50:55.792790Z"
    }
   },
   "outputs": [
    {
     "data": {
      "text/html": [
       "<div>\n",
       "<style scoped>\n",
       "    .dataframe tbody tr th:only-of-type {\n",
       "        vertical-align: middle;\n",
       "    }\n",
       "\n",
       "    .dataframe tbody tr th {\n",
       "        vertical-align: top;\n",
       "    }\n",
       "\n",
       "    .dataframe thead th {\n",
       "        text-align: right;\n",
       "    }\n",
       "</style>\n",
       "<table border=\"1\" class=\"dataframe\">\n",
       "  <thead>\n",
       "    <tr style=\"text-align: right;\">\n",
       "      <th></th>\n",
       "      <th>customer_id</th>\n",
       "      <th>quantity</th>\n",
       "    </tr>\n",
       "  </thead>\n",
       "  <tbody>\n",
       "    <tr>\n",
       "      <th>154</th>\n",
       "      <td>15311</td>\n",
       "      <td>-1</td>\n",
       "    </tr>\n",
       "    <tr>\n",
       "      <th>235</th>\n",
       "      <td>17548</td>\n",
       "      <td>-12</td>\n",
       "    </tr>\n",
       "    <tr>\n",
       "      <th>236</th>\n",
       "      <td>17548</td>\n",
       "      <td>-24</td>\n",
       "    </tr>\n",
       "    <tr>\n",
       "      <th>939</th>\n",
       "      <td>17897</td>\n",
       "      <td>-6</td>\n",
       "    </tr>\n",
       "    <tr>\n",
       "      <th>1441</th>\n",
       "      <td>17841</td>\n",
       "      <td>-1</td>\n",
       "    </tr>\n",
       "    <tr>\n",
       "      <th>...</th>\n",
       "      <td>...</td>\n",
       "      <td>...</td>\n",
       "    </tr>\n",
       "    <tr>\n",
       "      <th>540141</th>\n",
       "      <td>13599</td>\n",
       "      <td>-10</td>\n",
       "    </tr>\n",
       "    <tr>\n",
       "      <th>540176</th>\n",
       "      <td>17924</td>\n",
       "      <td>-4</td>\n",
       "    </tr>\n",
       "    <tr>\n",
       "      <th>540448</th>\n",
       "      <td>14397</td>\n",
       "      <td>-12</td>\n",
       "    </tr>\n",
       "    <tr>\n",
       "      <th>540449</th>\n",
       "      <td>14397</td>\n",
       "      <td>-11</td>\n",
       "    </tr>\n",
       "    <tr>\n",
       "      <th>541717</th>\n",
       "      <td>17315</td>\n",
       "      <td>-5</td>\n",
       "    </tr>\n",
       "  </tbody>\n",
       "</table>\n",
       "<p>3999 rows × 2 columns</p>\n",
       "</div>"
      ],
      "text/plain": [
       "        customer_id  quantity\n",
       "154           15311        -1\n",
       "235           17548       -12\n",
       "236           17548       -24\n",
       "939           17897        -6\n",
       "1441          17841        -1\n",
       "...             ...       ...\n",
       "540141        13599       -10\n",
       "540176        17924        -4\n",
       "540448        14397       -12\n",
       "540449        14397       -11\n",
       "541717        17315        -5\n",
       "\n",
       "[3999 rows x 2 columns]"
      ]
     },
     "execution_count": 27,
     "metadata": {},
     "output_type": "execute_result"
    }
   ],
   "source": [
    "df_returns[['customer_id','quantity']].drop_duplicates()"
   ]
  },
  {
   "cell_type": "code",
   "execution_count": 28,
   "id": "2833282d",
   "metadata": {
    "ExecuteTime": {
     "end_time": "2023-03-01T11:50:56.724763Z",
     "start_time": "2023-03-01T11:50:56.673662Z"
    },
    "scrolled": true
   },
   "outputs": [
    {
     "data": {
      "text/plain": [
       "customer_id           0\n",
       "monetary             91\n",
       "recency              91\n",
       "frequency            91\n",
       "quantity_products    91\n",
       "returns               0\n",
       "dtype: int64"
      ]
     },
     "execution_count": 28,
     "metadata": {},
     "output_type": "execute_result"
    }
   ],
   "source": [
    "# Number of returns \n",
    "df_returns = df_returns[['customer_id','quantity']].drop_duplicates().groupby('customer_id').sum().reset_index().rename(columns={'quantity':'returns'})\n",
    "df_returns['returns'] = df_returns['returns']*(-1)\n",
    "df_customers = pd.merge(df_customers, df_returns,how='left',on='customer_id')\n",
    "df_customers.loc[df_customers['returns'].isna(),'returns'] = 0\n",
    "df_customers.isna().sum()\n",
    "\n",
    "# first_purchase_at - min invoice_date"
   ]
  },
  {
   "cell_type": "code",
   "execution_count": 29,
   "id": "6c87014e",
   "metadata": {
    "ExecuteTime": {
     "end_time": "2023-03-01T11:50:58.226876Z",
     "start_time": "2023-03-01T11:50:58.000305Z"
    }
   },
   "outputs": [],
   "source": [
    "# path = '/home/daniel/repos/ds_em_clusterizacao/pa005_insiders_clustering/data/processed/'\n",
    "\n",
    "# df_customers.to_csv(path+'feature_engineering.csv', index=False)"
   ]
  },
  {
   "cell_type": "code",
   "execution_count": 30,
   "id": "8ce3c09f",
   "metadata": {
    "ExecuteTime": {
     "end_time": "2023-03-01T11:50:58.736659Z",
     "start_time": "2023-03-01T11:50:58.731986Z"
    }
   },
   "outputs": [
    {
     "data": {
      "text/plain": [
       "(5786, 6)"
      ]
     },
     "execution_count": 30,
     "metadata": {},
     "output_type": "execute_result"
    }
   ],
   "source": [
    "df_customers.shape"
   ]
  },
  {
   "cell_type": "markdown",
   "id": "dfb985e3",
   "metadata": {
    "ExecuteTime": {
     "end_time": "2023-02-02T17:44:43.119903Z",
     "start_time": "2023-02-02T17:44:43.116700Z"
    }
   },
   "source": [
    "#  <span style=\"color: OrangeRed;\">EXPLORATORY DATA ANALYSIS (EDA) PT1</span>\n",
    "<span style=\"color: OrangeRed;\">***PASSO 4*** </span>"
   ]
  },
  {
   "cell_type": "code",
   "execution_count": null,
   "id": "45d15171",
   "metadata": {
    "ExecuteTime": {
     "end_time": "2023-03-01T11:51:02.018978Z",
     "start_time": "2023-03-01T11:51:01.998719Z"
    }
   },
   "outputs": [],
   "source": [
    "#leitura do csv após feature engineering\n",
    "# path = '/home/daniel/repos/ds_em_clusterizacao/pa005_insiders_clustering/data/processed/'\n",
    "# df4 = pd.read_csv(path+'feature_engineering.csv')"
   ]
  },
  {
   "cell_type": "code",
   "execution_count": 128,
   "id": "e1f334c7",
   "metadata": {
    "ExecuteTime": {
     "end_time": "2023-03-01T18:56:22.109412Z",
     "start_time": "2023-03-01T18:56:22.097618Z"
    }
   },
   "outputs": [
    {
     "data": {
      "text/html": [
       "<div>\n",
       "<style scoped>\n",
       "    .dataframe tbody tr th:only-of-type {\n",
       "        vertical-align: middle;\n",
       "    }\n",
       "\n",
       "    .dataframe tbody tr th {\n",
       "        vertical-align: top;\n",
       "    }\n",
       "\n",
       "    .dataframe thead th {\n",
       "        text-align: right;\n",
       "    }\n",
       "</style>\n",
       "<table border=\"1\" class=\"dataframe\">\n",
       "  <thead>\n",
       "    <tr style=\"text-align: right;\">\n",
       "      <th></th>\n",
       "      <th>customer_id</th>\n",
       "      <th>monetary</th>\n",
       "      <th>recency</th>\n",
       "      <th>frequency</th>\n",
       "      <th>quantity_products</th>\n",
       "      <th>returns</th>\n",
       "    </tr>\n",
       "  </thead>\n",
       "  <tbody>\n",
       "    <tr>\n",
       "      <th>0</th>\n",
       "      <td>17850</td>\n",
       "      <td>5391.21</td>\n",
       "      <td>372.0</td>\n",
       "      <td>17.000000</td>\n",
       "      <td>297.0</td>\n",
       "      <td>21.0</td>\n",
       "    </tr>\n",
       "    <tr>\n",
       "      <th>1</th>\n",
       "      <td>13047</td>\n",
       "      <td>3232.59</td>\n",
       "      <td>56.0</td>\n",
       "      <td>0.028302</td>\n",
       "      <td>171.0</td>\n",
       "      <td>6.0</td>\n",
       "    </tr>\n",
       "    <tr>\n",
       "      <th>2</th>\n",
       "      <td>12583</td>\n",
       "      <td>6705.38</td>\n",
       "      <td>2.0</td>\n",
       "      <td>0.040323</td>\n",
       "      <td>232.0</td>\n",
       "      <td>50.0</td>\n",
       "    </tr>\n",
       "    <tr>\n",
       "      <th>3</th>\n",
       "      <td>13748</td>\n",
       "      <td>948.25</td>\n",
       "      <td>95.0</td>\n",
       "      <td>0.017921</td>\n",
       "      <td>28.0</td>\n",
       "      <td>0.0</td>\n",
       "    </tr>\n",
       "    <tr>\n",
       "      <th>4</th>\n",
       "      <td>15100</td>\n",
       "      <td>876.00</td>\n",
       "      <td>333.0</td>\n",
       "      <td>0.073171</td>\n",
       "      <td>3.0</td>\n",
       "      <td>22.0</td>\n",
       "    </tr>\n",
       "  </tbody>\n",
       "</table>\n",
       "</div>"
      ],
      "text/plain": [
       "   customer_id  monetary  recency  frequency  quantity_products  returns\n",
       "0        17850   5391.21    372.0  17.000000              297.0     21.0\n",
       "1        13047   3232.59     56.0   0.028302              171.0      6.0\n",
       "2        12583   6705.38      2.0   0.040323              232.0     50.0\n",
       "3        13748    948.25     95.0   0.017921               28.0      0.0\n",
       "4        15100    876.00    333.0   0.073171                3.0     22.0"
      ]
     },
     "execution_count": 128,
     "metadata": {},
     "output_type": "execute_result"
    }
   ],
   "source": [
    "# copy\n",
    "df4 = df_customers.copy()\n",
    "df4.head()"
   ]
  },
  {
   "cell_type": "code",
   "execution_count": 32,
   "id": "ef35089f",
   "metadata": {
    "ExecuteTime": {
     "end_time": "2023-03-01T11:51:02.946273Z",
     "start_time": "2023-03-01T11:51:02.941220Z"
    }
   },
   "outputs": [],
   "source": [
    "# df4 = df_customers.dropna().copy() \n",
    "df4 = df4.dropna().copy() \n",
    "# exclusao dos 91 clientes que nao possuem nenhuma compra, e 3013 que só fizeram uma compra e, por isso, nao tem media de recencia\n"
   ]
  },
  {
   "cell_type": "code",
   "execution_count": 33,
   "id": "af09ced1",
   "metadata": {
    "ExecuteTime": {
     "end_time": "2023-03-01T11:51:04.562997Z",
     "start_time": "2023-03-01T11:51:04.557225Z"
    },
    "scrolled": true
   },
   "outputs": [
    {
     "data": {
      "text/plain": [
       "(5695, 6)"
      ]
     },
     "execution_count": 33,
     "metadata": {},
     "output_type": "execute_result"
    }
   ],
   "source": [
    "df4.shape"
   ]
  },
  {
   "cell_type": "markdown",
   "id": "dd5a9708",
   "metadata": {},
   "source": [
    "## Estudo do espaço "
   ]
  },
  {
   "cell_type": "code",
   "execution_count": 38,
   "id": "acef0de4",
   "metadata": {
    "ExecuteTime": {
     "end_time": "2023-03-01T12:03:19.692369Z",
     "start_time": "2023-03-01T12:03:19.686974Z"
    }
   },
   "outputs": [],
   "source": [
    "# selected dataset without avg features\n",
    "cols_selected = ['customer_id','monetary', 'recency', 'frequency', 'quantity_products', 'returns']\n",
    "df43 = df4[cols_selected].drop(columns=['customer_id'], axis=1)"
   ]
  },
  {
   "cell_type": "code",
   "execution_count": 39,
   "id": "901ec51b",
   "metadata": {
    "ExecuteTime": {
     "end_time": "2023-03-01T12:03:20.660554Z",
     "start_time": "2023-03-01T12:03:20.631579Z"
    }
   },
   "outputs": [],
   "source": [
    "# MinMax Scaler\n",
    "mm = pp.MinMaxScaler()\n",
    "\n",
    "# Apply scalers\n",
    "df43[['monetary' ]]              = mm.fit_transform(df43[['monetary' ]])\n",
    "df43[['recency']]                = mm.fit_transform(df43[['recency']]) \n",
    "df43[['frequency']]              = mm.fit_transform(df43[['frequency']]) \n",
    "df43[['quantity_products']]      = mm.fit_transform(df43[['quantity_products']])\n",
    "df43[['returns']]                = mm.fit_transform(df43[['returns']]) \n",
    "\n",
    "X = df43.copy()"
   ]
  },
  {
   "cell_type": "code",
   "execution_count": 48,
   "id": "e582b7a6",
   "metadata": {
    "ExecuteTime": {
     "end_time": "2023-03-01T12:05:26.640501Z",
     "start_time": "2023-03-01T12:05:26.628863Z"
    }
   },
   "outputs": [
    {
     "data": {
      "text/html": [
       "<div>\n",
       "<style scoped>\n",
       "    .dataframe tbody tr th:only-of-type {\n",
       "        vertical-align: middle;\n",
       "    }\n",
       "\n",
       "    .dataframe tbody tr th {\n",
       "        vertical-align: top;\n",
       "    }\n",
       "\n",
       "    .dataframe thead th {\n",
       "        text-align: right;\n",
       "    }\n",
       "</style>\n",
       "<table border=\"1\" class=\"dataframe\">\n",
       "  <thead>\n",
       "    <tr style=\"text-align: right;\">\n",
       "      <th></th>\n",
       "      <th>monetary</th>\n",
       "      <th>recency</th>\n",
       "      <th>frequency</th>\n",
       "      <th>quantity_products</th>\n",
       "      <th>returns</th>\n",
       "    </tr>\n",
       "  </thead>\n",
       "  <tbody>\n",
       "    <tr>\n",
       "      <th>0</th>\n",
       "      <td>0.019312</td>\n",
       "      <td>0.997319</td>\n",
       "      <td>1.000000</td>\n",
       "      <td>0.037770</td>\n",
       "      <td>0.000283</td>\n",
       "    </tr>\n",
       "    <tr>\n",
       "      <th>1</th>\n",
       "      <td>0.011579</td>\n",
       "      <td>0.150134</td>\n",
       "      <td>0.001345</td>\n",
       "      <td>0.021692</td>\n",
       "      <td>0.000081</td>\n",
       "    </tr>\n",
       "    <tr>\n",
       "      <th>2</th>\n",
       "      <td>0.024020</td>\n",
       "      <td>0.005362</td>\n",
       "      <td>0.002052</td>\n",
       "      <td>0.029476</td>\n",
       "      <td>0.000674</td>\n",
       "    </tr>\n",
       "    <tr>\n",
       "      <th>3</th>\n",
       "      <td>0.003396</td>\n",
       "      <td>0.254692</td>\n",
       "      <td>0.000734</td>\n",
       "      <td>0.003445</td>\n",
       "      <td>0.000000</td>\n",
       "    </tr>\n",
       "    <tr>\n",
       "      <th>4</th>\n",
       "      <td>0.003137</td>\n",
       "      <td>0.892761</td>\n",
       "      <td>0.003985</td>\n",
       "      <td>0.000255</td>\n",
       "      <td>0.000296</td>\n",
       "    </tr>\n",
       "  </tbody>\n",
       "</table>\n",
       "</div>"
      ],
      "text/plain": [
       "   monetary   recency  frequency  quantity_products   returns\n",
       "0  0.019312  0.997319   1.000000           0.037770  0.000283\n",
       "1  0.011579  0.150134   0.001345           0.021692  0.000081\n",
       "2  0.024020  0.005362   0.002052           0.029476  0.000674\n",
       "3  0.003396  0.254692   0.000734           0.003445  0.000000\n",
       "4  0.003137  0.892761   0.003985           0.000255  0.000296"
      ]
     },
     "execution_count": 48,
     "metadata": {},
     "output_type": "execute_result"
    }
   ],
   "source": [
    "df43.head()"
   ]
  },
  {
   "cell_type": "markdown",
   "id": "04584307",
   "metadata": {
    "heading_collapsed": true
   },
   "source": [
    "### PCA\n"
   ]
  },
  {
   "cell_type": "code",
   "execution_count": 40,
   "id": "78fcc44e",
   "metadata": {
    "ExecuteTime": {
     "end_time": "2023-03-01T12:03:24.450589Z",
     "start_time": "2023-03-01T12:03:22.197675Z"
    },
    "hidden": true
   },
   "outputs": [
    {
     "data": {
      "image/png": "[encoded data removed]",
      "text/plain": [
       "<Figure size 640x480 with 1 Axes>"
      ]
     },
     "metadata": {},
     "output_type": "display_data"
    }
   ],
   "source": [
    "pca = dd.PCA(n_components = X.shape[1])\n",
    "\n",
    "principal_components = pca.fit_transform(X)\n",
    "\n",
    "# plot\n",
    "features = range(pca.n_components_)\n",
    "\n",
    "plt.bar(features, pca.explained_variance_ratio_, color = 'black')\n",
    "\n",
    "# to dataframe\n",
    "df_pca = pd.DataFrame(principal_components)"
   ]
  },
  {
   "cell_type": "code",
   "execution_count": 41,
   "id": "26e2995c",
   "metadata": {
    "ExecuteTime": {
     "end_time": "2023-03-01T12:03:28.108906Z",
     "start_time": "2023-03-01T12:03:28.104800Z"
    },
    "hidden": true,
    "scrolled": true
   },
   "outputs": [
    {
     "data": {
      "text/plain": [
       "(5695, 5)"
      ]
     },
     "execution_count": 41,
     "metadata": {},
     "output_type": "execute_result"
    }
   ],
   "source": [
    "df_pca.shape"
   ]
  },
  {
   "cell_type": "code",
   "execution_count": 42,
   "id": "225ddc35",
   "metadata": {
    "ExecuteTime": {
     "end_time": "2023-03-01T12:03:30.101135Z",
     "start_time": "2023-03-01T12:03:29.230049Z"
    },
    "hidden": true
   },
   "outputs": [
    {
     "data": {
      "text/plain": [
       "<AxesSubplot: xlabel='0', ylabel='1'>"
      ]
     },
     "execution_count": 42,
     "metadata": {},
     "output_type": "execute_result"
    },
    {
     "data": {
      "image/png": "[encoded data removed]",
      "text/plain": [
       "<Figure size 1500x800 with 1 Axes>"
      ]
     },
     "metadata": {},
     "output_type": "display_data"
    }
   ],
   "source": [
    "plt.figure(figsize=(15,8))\n",
    "sns.scatterplot(x=0, y=1, data= df_pca)"
   ]
  },
  {
   "cell_type": "markdown",
   "id": "973faad7",
   "metadata": {
    "heading_collapsed": true
   },
   "source": [
    "### UMAP"
   ]
  },
  {
   "cell_type": "code",
   "execution_count": 43,
   "id": "85c1ecfb",
   "metadata": {
    "ExecuteTime": {
     "end_time": "2023-03-01T12:03:55.600911Z",
     "start_time": "2023-03-01T12:03:31.729513Z"
    },
    "hidden": true
   },
   "outputs": [
    {
     "data": {
      "text/plain": [
       "<AxesSubplot: xlabel='embedding_x', ylabel='embedding_y'>"
      ]
     },
     "execution_count": 43,
     "metadata": {},
     "output_type": "execute_result"
    },
    {
     "data": {
      "image/png": "[encoded data removed]",
      "text/plain": [
       "<Figure size 640x480 with 1 Axes>"
      ]
     },
     "metadata": {},
     "output_type": "display_data"
    }
   ],
   "source": [
    "reducer = umap.UMAP (random_state=42) #n_neighbors quanto menor, ele foca mais nas estruturas locais em vez das globais\n",
    "embedding = reducer.fit_transform (X) #espaço projetado após reducao de dimensionalidade\n",
    "\n",
    "#embedding\n",
    "df_umap = pd.DataFrame()\n",
    "df_umap ['embedding_x'] = embedding[:, 0]\n",
    "df_umap ['embedding_y'] = embedding[:,1]\n",
    "\n",
    "# plot embeding\n",
    "sns.scatterplot(x='embedding_x', \n",
    "                y='embedding_y',\n",
    "                data = df_umap)\n",
    "\n"
   ]
  },
  {
   "cell_type": "markdown",
   "id": "c8427bba",
   "metadata": {
    "heading_collapsed": true
   },
   "source": [
    "### t-SNE\n"
   ]
  },
  {
   "cell_type": "code",
   "execution_count": 44,
   "id": "18c65170",
   "metadata": {
    "ExecuteTime": {
     "end_time": "2023-03-01T12:04:18.431490Z",
     "start_time": "2023-03-01T12:03:58.802646Z"
    },
    "hidden": true
   },
   "outputs": [
    {
     "data": {
      "text/plain": [
       "<AxesSubplot: xlabel='embedding_x', ylabel='embedding_y'>"
      ]
     },
     "execution_count": 44,
     "metadata": {},
     "output_type": "execute_result"
    },
    {
     "data": {
      "image/png": "[encoded data removed]",
      "text/plain": [
       "<Figure size 640x480 with 1 Axes>"
      ]
     },
     "metadata": {},
     "output_type": "display_data"
    }
   ],
   "source": [
    "reducer = TSNE (n_components =2, \n",
    "                     n_jobs=-1,\n",
    "                     random_state=42) #n_neighbors quanto menor, ele foca mais nas estruturas locais em vez das globais\n",
    "embedding = reducer.fit_transform (X) #espaço projetado após reducao de dimensionalidade\n",
    "\n",
    "#embedding\n",
    "df_tsne = pd.DataFrame()\n",
    "df_tsne ['embedding_x'] = embedding[:, 0]\n",
    "df_tsne ['embedding_y'] = embedding[:,1]\n",
    "\n",
    "# plot embeding\n",
    "sns.scatterplot(x='embedding_x', \n",
    "                y='embedding_y',\n",
    "                data = df_tsne)\n"
   ]
  },
  {
   "cell_type": "markdown",
   "id": "a5246f61",
   "metadata": {
    "heading_collapsed": true
   },
   "source": [
    "### Tree Based Embedding\n"
   ]
  },
  {
   "cell_type": "code",
   "execution_count": 49,
   "id": "514032d1",
   "metadata": {
    "ExecuteTime": {
     "end_time": "2023-03-01T12:06:00.881563Z",
     "start_time": "2023-03-01T12:05:45.837490Z"
    },
    "hidden": true
   },
   "outputs": [],
   "source": [
    "# Training dataset\n",
    "X = df43.drop(columns=['monetary'], axis=1)\n",
    "y = df43['monetary']\n",
    "\n",
    "\n",
    "# Model definition\n",
    "rf_model = en.RandomForestRegressor(n_estimators = 1000, random_state=42)\n",
    "\n",
    "# Model training\n",
    "rf_model.fit (X, y)\n",
    "\n",
    "# dataframe Leaf\n",
    "df_leaf = pd.DataFrame(rf_model.apply(X))\n",
    "\n"
   ]
  },
  {
   "cell_type": "code",
   "execution_count": 46,
   "id": "9758247c",
   "metadata": {
    "ExecuteTime": {
     "end_time": "2023-03-01T12:04:29.847999Z",
     "start_time": "2023-03-01T12:04:29.843162Z"
    },
    "hidden": true
   },
   "outputs": [],
   "source": [
    "# X.shape #Out: (2774, 100)\n",
    "# df_leaf.shape. #Out:(2774, 10) "
   ]
  },
  {
   "cell_type": "code",
   "execution_count": 50,
   "id": "a13a7af8",
   "metadata": {
    "ExecuteTime": {
     "end_time": "2023-03-01T12:06:16.779411Z",
     "start_time": "2023-03-01T12:06:05.476490Z"
    },
    "hidden": true,
    "scrolled": false
   },
   "outputs": [
    {
     "name": "stderr",
     "output_type": "stream",
     "text": [
      "/home/daniel/miniconda3/envs/ds_em_clusterizacao/lib/python3.10/site-packages/sklearn/manifold/_spectral_embedding.py:274: UserWarning: Graph is not fully connected, spectral embedding may not work as expected.\n",
      "  warnings.warn(\n"
     ]
    },
    {
     "data": {
      "text/plain": [
       "<AxesSubplot: xlabel='embedding_x', ylabel='embedding_y'>"
      ]
     },
     "execution_count": 50,
     "metadata": {},
     "output_type": "execute_result"
    },
    {
     "data": {
      "image/png": "[encoded data removed]",
      "text/plain": [
       "<Figure size 640x480 with 1 Axes>"
      ]
     },
     "metadata": {},
     "output_type": "display_data"
    }
   ],
   "source": [
    "reducer = umap.UMAP (random_state=42) #n_neighbors quanto menor, ele foca mais nas estruturas locais em vez das globais\n",
    "embedding = reducer.fit_transform (df_leaf) #espaço projetado após reducao de dimensionalidade\n",
    "\n",
    "#embedding\n",
    "df_tree = pd.DataFrame()\n",
    "df_tree ['embedding_x'] = embedding[:, 0]\n",
    "df_tree ['embedding_y'] = embedding[:,1]\n",
    "\n",
    "# plot embeding\n",
    "sns.scatterplot(x='embedding_x', \n",
    "                y='embedding_y',\n",
    "                data = df_tree)\n"
   ]
  },
  {
   "cell_type": "markdown",
   "id": "d4d0aedc",
   "metadata": {
    "ExecuteTime": {
     "end_time": "2023-02-02T17:44:43.119903Z",
     "start_time": "2023-02-02T17:44:43.116700Z"
    }
   },
   "source": [
    "# <span style=\"color: OrangeRed;\">DATA PREPARATION</span>\n",
    "<span style=\"color: OrangeRed;\">***PASSO 5*** </span>"
   ]
  },
  {
   "cell_type": "code",
   "execution_count": 89,
   "id": "46562246",
   "metadata": {
    "ExecuteTime": {
     "end_time": "2023-03-01T13:21:24.863245Z",
     "start_time": "2023-03-01T13:21:24.843163Z"
    }
   },
   "outputs": [],
   "source": [
    "# Espaço de embedding - Tree Based\n",
    "# df5 = df_tree.copy()\n",
    "\n",
    "# UMAP embedding\n",
    "df5 = df_umap.copy()\n",
    "# df5.to_csv('../data/processed/umap_embedding.csv', index=False)\n",
    "\n",
    "# # t-sne embedding\n",
    "# df5 = df_tsne.copy() \n"
   ]
  },
  {
   "cell_type": "markdown",
   "id": "e1fd47bf",
   "metadata": {
    "ExecuteTime": {
     "end_time": "2023-02-02T21:11:55.910187Z",
     "start_time": "2023-02-02T21:11:55.907974Z"
    }
   },
   "source": [
    "# <span style=\"color: OrangeRed;\">HYPERPARAMETER FINE-TUNNING </span>\n",
    "<span style=\"color: OrangeRed;\">***PASSO 7***</span>"
   ]
  },
  {
   "cell_type": "code",
   "execution_count": 80,
   "id": "69c2a2c4",
   "metadata": {
    "ExecuteTime": {
     "end_time": "2023-03-01T13:09:56.375490Z",
     "start_time": "2023-03-01T13:09:56.372643Z"
    },
    "scrolled": true
   },
   "outputs": [],
   "source": [
    "# Eapaço de embeding - Tree Based\n",
    "X = df5.copy()"
   ]
  },
  {
   "cell_type": "code",
   "execution_count": 71,
   "id": "a99bc160",
   "metadata": {
    "ExecuteTime": {
     "end_time": "2023-03-01T13:05:39.352097Z",
     "start_time": "2023-03-01T13:05:39.349468Z"
    }
   },
   "outputs": [],
   "source": [
    "# clusters = [2, 3, 4, 5, 6, 7]\n",
    "# List of clusters for embeding space \n",
    "clusters = np.arange(2, 26, 1)"
   ]
  },
  {
   "cell_type": "markdown",
   "id": "39ea096d",
   "metadata": {},
   "source": [
    "## K-Means"
   ]
  },
  {
   "cell_type": "code",
   "execution_count": 81,
   "id": "e0ba8329",
   "metadata": {
    "ExecuteTime": {
     "end_time": "2023-03-01T13:10:37.301733Z",
     "start_time": "2023-03-01T13:10:00.346135Z"
    },
    "code_folding": []
   },
   "outputs": [],
   "source": [
    "kmeans_list = []\n",
    "for k in  clusters:\n",
    "    # model name\n",
    "    kmeans_model = c.KMeans(n_init = 100,random_state=42, n_clusters = k )\n",
    "\n",
    "    # model training\n",
    "    kmeans_model.fit (X)\n",
    "\n",
    "    # model predict\n",
    "    labels = kmeans_model.predict(X)\n",
    "\n",
    "    # perfomance\n",
    "    sil_score = m.silhouette_score(X, labels, metric = 'euclidean')\n",
    "    \n",
    "    kmeans_list.append (sil_score)"
   ]
  },
  {
   "cell_type": "code",
   "execution_count": 82,
   "id": "f094d4d4",
   "metadata": {
    "ExecuteTime": {
     "end_time": "2023-03-01T13:11:05.030059Z",
     "start_time": "2023-03-01T13:11:04.778791Z"
    }
   },
   "outputs": [
    {
     "data": {
      "text/plain": [
       "Text(0, 0.5, 'Silhoette Score')"
      ]
     },
     "execution_count": 82,
     "metadata": {},
     "output_type": "execute_result"
    },
    {
     "data": {
      "image/png": "[encoded data removed]",
      "text/plain": [
       "<Figure size 640x480 with 1 Axes>"
      ]
     },
     "metadata": {},
     "output_type": "display_data"
    }
   ],
   "source": [
    "sns.lineplot(x = clusters, y = kmeans_list, markers='o', linestyle = '--', color = 'b' )\n",
    "plt.title('Silhouette Score x K')\n",
    "plt.xlabel ('K')\n",
    "plt.ylabel ('Silhoette Score')"
   ]
  },
  {
   "cell_type": "markdown",
   "id": "558836d9",
   "metadata": {
    "heading_collapsed": true
   },
   "source": [
    "## Gaussian Mixture Models"
   ]
  },
  {
   "cell_type": "code",
   "execution_count": 83,
   "id": "54f71408",
   "metadata": {
    "ExecuteTime": {
     "end_time": "2023-03-01T13:12:30.277199Z",
     "start_time": "2023-03-01T13:11:08.865303Z"
    },
    "hidden": true
   },
   "outputs": [],
   "source": [
    "gmm_list = []\n",
    "for k in clusters:\n",
    "    # model name\n",
    "    gmm_model = mx.GaussianMixture (n_init = 10, random_state=42, n_components = k)\n",
    "\n",
    "    # model training\n",
    "    gmm_model.fit(X)\n",
    "\n",
    "    # predict\n",
    "    labels_gmm = gmm_model.predict (X)\n",
    "\n",
    "    # performance\n",
    "    sil_score = m.silhouette_score(X, labels_gmm, metric='euclidean')\n",
    "    \n",
    "    gmm_list.append(sil_score)\n",
    "    \n",
    "    "
   ]
  },
  {
   "cell_type": "code",
   "execution_count": 84,
   "id": "3aaa3a22",
   "metadata": {
    "ExecuteTime": {
     "end_time": "2023-03-01T13:12:58.920311Z",
     "start_time": "2023-03-01T13:12:58.670715Z"
    },
    "hidden": true
   },
   "outputs": [
    {
     "data": {
      "text/plain": [
       "Text(0, 0.5, 'Silhoette Score')"
      ]
     },
     "execution_count": 84,
     "metadata": {},
     "output_type": "execute_result"
    },
    {
     "data": {
      "image/png": "[encoded data removed]",
      "text/plain": [
       "<Figure size 640x480 with 1 Axes>"
      ]
     },
     "metadata": {},
     "output_type": "display_data"
    }
   ],
   "source": [
    "sns.lineplot(x= clusters, y = gmm_list, markers='o', linestyle = '--', color = 'b' )\n",
    "plt.title('Silhouette Score x K')\n",
    "plt.xlabel ('K')\n",
    "plt.ylabel ('Silhoette Score')"
   ]
  },
  {
   "cell_type": "markdown",
   "id": "c31c5d91",
   "metadata": {},
   "source": [
    "## Hierarchical Clustering"
   ]
  },
  {
   "cell_type": "code",
   "execution_count": 85,
   "id": "3c3ebe40",
   "metadata": {
    "ExecuteTime": {
     "end_time": "2023-03-01T13:13:35.476406Z",
     "start_time": "2023-03-01T13:13:07.566940Z"
    },
    "code_folding": []
   },
   "outputs": [],
   "source": [
    "hc_list =[]\n",
    "for k in clusters:\n",
    "    # model definition and training\n",
    "    hc_model = hc.linkage(X, 'ward')\n",
    "\n",
    "    # model predict\n",
    "    labels = hc.fcluster (hc_model, k, criterion= 'maxclust') #se k é declarado, é necessario informar o criterio\n",
    "\n",
    "    # metrics\n",
    "    sil = m.silhouette_score(X, labels, metric='euclidean') # após a definicao dos labels é feito o calculo da soma das silhuetas\n",
    "    hc_list.append(sil)"
   ]
  },
  {
   "cell_type": "code",
   "execution_count": 86,
   "id": "d222f216",
   "metadata": {
    "ExecuteTime": {
     "end_time": "2023-03-01T13:14:32.012639Z",
     "start_time": "2023-03-01T13:14:31.816934Z"
    }
   },
   "outputs": [
    {
     "data": {
      "text/plain": [
       "[<matplotlib.lines.Line2D at 0x7f01972a3940>]"
      ]
     },
     "execution_count": 86,
     "metadata": {},
     "output_type": "execute_result"
    },
    {
     "data": {
      "image/png": "[encoded data removed]",
      "text/plain": [
       "<Figure size 640x480 with 1 Axes>"
      ]
     },
     "metadata": {},
     "output_type": "display_data"
    }
   ],
   "source": [
    "plt.plot(clusters, hc_list, marker='o', linestyle='--', color = 'b')"
   ]
  },
  {
   "cell_type": "code",
   "execution_count": 63,
   "id": "a1e8a36b",
   "metadata": {
    "ExecuteTime": {
     "end_time": "2023-03-01T12:18:31.353502Z",
     "start_time": "2023-03-01T12:18:30.562132Z"
    },
    "cell_style": "split"
   },
   "outputs": [
    {
     "data": {
      "text/html": [
       "<style type=\"text/css\">\n",
       "#T_286b9_row0_col23, #T_286b9_row1_col16, #T_286b9_row2_col21 {\n",
       "  background-color: lightgreen;\n",
       "}\n",
       "</style>\n",
       "<table id=\"T_286b9\">\n",
       "  <thead>\n",
       "    <tr>\n",
       "      <th class=\"blank level0\" >&nbsp;</th>\n",
       "      <th id=\"T_286b9_level0_col0\" class=\"col_heading level0 col0\" >2</th>\n",
       "      <th id=\"T_286b9_level0_col1\" class=\"col_heading level0 col1\" >3</th>\n",
       "      <th id=\"T_286b9_level0_col2\" class=\"col_heading level0 col2\" >4</th>\n",
       "      <th id=\"T_286b9_level0_col3\" class=\"col_heading level0 col3\" >5</th>\n",
       "      <th id=\"T_286b9_level0_col4\" class=\"col_heading level0 col4\" >6</th>\n",
       "      <th id=\"T_286b9_level0_col5\" class=\"col_heading level0 col5\" >7</th>\n",
       "      <th id=\"T_286b9_level0_col6\" class=\"col_heading level0 col6\" >8</th>\n",
       "      <th id=\"T_286b9_level0_col7\" class=\"col_heading level0 col7\" >9</th>\n",
       "      <th id=\"T_286b9_level0_col8\" class=\"col_heading level0 col8\" >10</th>\n",
       "      <th id=\"T_286b9_level0_col9\" class=\"col_heading level0 col9\" >11</th>\n",
       "      <th id=\"T_286b9_level0_col10\" class=\"col_heading level0 col10\" >12</th>\n",
       "      <th id=\"T_286b9_level0_col11\" class=\"col_heading level0 col11\" >13</th>\n",
       "      <th id=\"T_286b9_level0_col12\" class=\"col_heading level0 col12\" >14</th>\n",
       "      <th id=\"T_286b9_level0_col13\" class=\"col_heading level0 col13\" >15</th>\n",
       "      <th id=\"T_286b9_level0_col14\" class=\"col_heading level0 col14\" >16</th>\n",
       "      <th id=\"T_286b9_level0_col15\" class=\"col_heading level0 col15\" >17</th>\n",
       "      <th id=\"T_286b9_level0_col16\" class=\"col_heading level0 col16\" >18</th>\n",
       "      <th id=\"T_286b9_level0_col17\" class=\"col_heading level0 col17\" >19</th>\n",
       "      <th id=\"T_286b9_level0_col18\" class=\"col_heading level0 col18\" >20</th>\n",
       "      <th id=\"T_286b9_level0_col19\" class=\"col_heading level0 col19\" >21</th>\n",
       "      <th id=\"T_286b9_level0_col20\" class=\"col_heading level0 col20\" >22</th>\n",
       "      <th id=\"T_286b9_level0_col21\" class=\"col_heading level0 col21\" >23</th>\n",
       "      <th id=\"T_286b9_level0_col22\" class=\"col_heading level0 col22\" >24</th>\n",
       "      <th id=\"T_286b9_level0_col23\" class=\"col_heading level0 col23\" >25</th>\n",
       "    </tr>\n",
       "  </thead>\n",
       "  <tbody>\n",
       "    <tr>\n",
       "      <th id=\"T_286b9_level0_row0\" class=\"row_heading level0 row0\" >k-means</th>\n",
       "      <td id=\"T_286b9_row0_col0\" class=\"data row0 col0\" >0.392404</td>\n",
       "      <td id=\"T_286b9_row0_col1\" class=\"data row0 col1\" >0.402037</td>\n",
       "      <td id=\"T_286b9_row0_col2\" class=\"data row0 col2\" >0.395574</td>\n",
       "      <td id=\"T_286b9_row0_col3\" class=\"data row0 col3\" >0.389649</td>\n",
       "      <td id=\"T_286b9_row0_col4\" class=\"data row0 col4\" >0.409641</td>\n",
       "      <td id=\"T_286b9_row0_col5\" class=\"data row0 col5\" >0.402310</td>\n",
       "      <td id=\"T_286b9_row0_col6\" class=\"data row0 col6\" >0.417039</td>\n",
       "      <td id=\"T_286b9_row0_col7\" class=\"data row0 col7\" >0.428376</td>\n",
       "      <td id=\"T_286b9_row0_col8\" class=\"data row0 col8\" >0.430099</td>\n",
       "      <td id=\"T_286b9_row0_col9\" class=\"data row0 col9\" >0.442230</td>\n",
       "      <td id=\"T_286b9_row0_col10\" class=\"data row0 col10\" >0.456156</td>\n",
       "      <td id=\"T_286b9_row0_col11\" class=\"data row0 col11\" >0.464782</td>\n",
       "      <td id=\"T_286b9_row0_col12\" class=\"data row0 col12\" >0.487102</td>\n",
       "      <td id=\"T_286b9_row0_col13\" class=\"data row0 col13\" >0.503416</td>\n",
       "      <td id=\"T_286b9_row0_col14\" class=\"data row0 col14\" >0.512528</td>\n",
       "      <td id=\"T_286b9_row0_col15\" class=\"data row0 col15\" >0.512769</td>\n",
       "      <td id=\"T_286b9_row0_col16\" class=\"data row0 col16\" >0.515464</td>\n",
       "      <td id=\"T_286b9_row0_col17\" class=\"data row0 col17\" >0.519200</td>\n",
       "      <td id=\"T_286b9_row0_col18\" class=\"data row0 col18\" >0.523708</td>\n",
       "      <td id=\"T_286b9_row0_col19\" class=\"data row0 col19\" >0.527236</td>\n",
       "      <td id=\"T_286b9_row0_col20\" class=\"data row0 col20\" >0.519484</td>\n",
       "      <td id=\"T_286b9_row0_col21\" class=\"data row0 col21\" >0.516402</td>\n",
       "      <td id=\"T_286b9_row0_col22\" class=\"data row0 col22\" >0.526746</td>\n",
       "      <td id=\"T_286b9_row0_col23\" class=\"data row0 col23\" >0.533147</td>\n",
       "    </tr>\n",
       "    <tr>\n",
       "      <th id=\"T_286b9_level0_row1\" class=\"row_heading level0 row1\" >gmm</th>\n",
       "      <td id=\"T_286b9_row1_col0\" class=\"data row1 col0\" >0.392057</td>\n",
       "      <td id=\"T_286b9_row1_col1\" class=\"data row1 col1\" >0.398203</td>\n",
       "      <td id=\"T_286b9_row1_col2\" class=\"data row1 col2\" >0.346298</td>\n",
       "      <td id=\"T_286b9_row1_col3\" class=\"data row1 col3\" >0.335499</td>\n",
       "      <td id=\"T_286b9_row1_col4\" class=\"data row1 col4\" >0.343888</td>\n",
       "      <td id=\"T_286b9_row1_col5\" class=\"data row1 col5\" >0.340225</td>\n",
       "      <td id=\"T_286b9_row1_col6\" class=\"data row1 col6\" >0.334856</td>\n",
       "      <td id=\"T_286b9_row1_col7\" class=\"data row1 col7\" >0.339771</td>\n",
       "      <td id=\"T_286b9_row1_col8\" class=\"data row1 col8\" >0.268961</td>\n",
       "      <td id=\"T_286b9_row1_col9\" class=\"data row1 col9\" >0.297551</td>\n",
       "      <td id=\"T_286b9_row1_col10\" class=\"data row1 col10\" >0.275826</td>\n",
       "      <td id=\"T_286b9_row1_col11\" class=\"data row1 col11\" >0.304698</td>\n",
       "      <td id=\"T_286b9_row1_col12\" class=\"data row1 col12\" >0.287117</td>\n",
       "      <td id=\"T_286b9_row1_col13\" class=\"data row1 col13\" >0.407991</td>\n",
       "      <td id=\"T_286b9_row1_col14\" class=\"data row1 col14\" >0.403562</td>\n",
       "      <td id=\"T_286b9_row1_col15\" class=\"data row1 col15\" >0.399012</td>\n",
       "      <td id=\"T_286b9_row1_col16\" class=\"data row1 col16\" >0.459616</td>\n",
       "      <td id=\"T_286b9_row1_col17\" class=\"data row1 col17\" >0.397682</td>\n",
       "      <td id=\"T_286b9_row1_col18\" class=\"data row1 col18\" >0.443603</td>\n",
       "      <td id=\"T_286b9_row1_col19\" class=\"data row1 col19\" >0.430127</td>\n",
       "      <td id=\"T_286b9_row1_col20\" class=\"data row1 col20\" >0.427236</td>\n",
       "      <td id=\"T_286b9_row1_col21\" class=\"data row1 col21\" >0.424799</td>\n",
       "      <td id=\"T_286b9_row1_col22\" class=\"data row1 col22\" >0.431122</td>\n",
       "      <td id=\"T_286b9_row1_col23\" class=\"data row1 col23\" >0.445938</td>\n",
       "    </tr>\n",
       "    <tr>\n",
       "      <th id=\"T_286b9_level0_row2\" class=\"row_heading level0 row2\" >hc</th>\n",
       "      <td id=\"T_286b9_row2_col0\" class=\"data row2 col0\" >0.317114</td>\n",
       "      <td id=\"T_286b9_row2_col1\" class=\"data row2 col1\" >0.374844</td>\n",
       "      <td id=\"T_286b9_row2_col2\" class=\"data row2 col2\" >0.360483</td>\n",
       "      <td id=\"T_286b9_row2_col3\" class=\"data row2 col3\" >0.340389</td>\n",
       "      <td id=\"T_286b9_row2_col4\" class=\"data row2 col4\" >0.345589</td>\n",
       "      <td id=\"T_286b9_row2_col5\" class=\"data row2 col5\" >0.349445</td>\n",
       "      <td id=\"T_286b9_row2_col6\" class=\"data row2 col6\" >0.376907</td>\n",
       "      <td id=\"T_286b9_row2_col7\" class=\"data row2 col7\" >0.397279</td>\n",
       "      <td id=\"T_286b9_row2_col8\" class=\"data row2 col8\" >0.417840</td>\n",
       "      <td id=\"T_286b9_row2_col9\" class=\"data row2 col9\" >0.429472</td>\n",
       "      <td id=\"T_286b9_row2_col10\" class=\"data row2 col10\" >0.444505</td>\n",
       "      <td id=\"T_286b9_row2_col11\" class=\"data row2 col11\" >0.463262</td>\n",
       "      <td id=\"T_286b9_row2_col12\" class=\"data row2 col12\" >0.481471</td>\n",
       "      <td id=\"T_286b9_row2_col13\" class=\"data row2 col13\" >0.501011</td>\n",
       "      <td id=\"T_286b9_row2_col14\" class=\"data row2 col14\" >0.503741</td>\n",
       "      <td id=\"T_286b9_row2_col15\" class=\"data row2 col15\" >0.508890</td>\n",
       "      <td id=\"T_286b9_row2_col16\" class=\"data row2 col16\" >0.510214</td>\n",
       "      <td id=\"T_286b9_row2_col17\" class=\"data row2 col17\" >0.513416</td>\n",
       "      <td id=\"T_286b9_row2_col18\" class=\"data row2 col18\" >0.518874</td>\n",
       "      <td id=\"T_286b9_row2_col19\" class=\"data row2 col19\" >0.522579</td>\n",
       "      <td id=\"T_286b9_row2_col20\" class=\"data row2 col20\" >0.532527</td>\n",
       "      <td id=\"T_286b9_row2_col21\" class=\"data row2 col21\" >0.538669</td>\n",
       "      <td id=\"T_286b9_row2_col22\" class=\"data row2 col22\" >0.516431</td>\n",
       "      <td id=\"T_286b9_row2_col23\" class=\"data row2 col23\" >0.516685</td>\n",
       "    </tr>\n",
       "  </tbody>\n",
       "</table>\n"
      ],
      "text/plain": [
       "<pandas.io.formats.style.Styler at 0x7f0194e46ad0>"
      ]
     },
     "execution_count": 63,
     "metadata": {},
     "output_type": "execute_result"
    }
   ],
   "source": [
    "## Tree-based embedding - Results\n",
    "\n",
    "# results = pd.DataFrame(\n",
    "#     {'k-means': kmeans_list, \n",
    "#      'gmm'    : gmm_list, \n",
    "#      'hc'     : hc_list, \n",
    "#     }\n",
    "# ).T\n",
    "\n",
    "# results.columns = clusters\n",
    "# results.style.highlight_max(color = 'lightgreen', axis=1)"
   ]
  },
  {
   "cell_type": "code",
   "execution_count": 78,
   "id": "0fbf73cf",
   "metadata": {
    "ExecuteTime": {
     "end_time": "2023-03-01T13:14:35.596601Z",
     "start_time": "2023-03-01T13:14:35.577033Z"
    },
    "cell_style": "split"
   },
   "outputs": [
    {
     "data": {
      "text/html": [
       "<style type=\"text/css\">\n",
       "#T_47b45_row0_col22, #T_47b45_row1_col21, #T_47b45_row2_col23 {\n",
       "  background-color: lightgreen;\n",
       "}\n",
       "</style>\n",
       "<table id=\"T_47b45\">\n",
       "  <thead>\n",
       "    <tr>\n",
       "      <th class=\"blank level0\" >&nbsp;</th>\n",
       "      <th id=\"T_47b45_level0_col0\" class=\"col_heading level0 col0\" >2</th>\n",
       "      <th id=\"T_47b45_level0_col1\" class=\"col_heading level0 col1\" >3</th>\n",
       "      <th id=\"T_47b45_level0_col2\" class=\"col_heading level0 col2\" >4</th>\n",
       "      <th id=\"T_47b45_level0_col3\" class=\"col_heading level0 col3\" >5</th>\n",
       "      <th id=\"T_47b45_level0_col4\" class=\"col_heading level0 col4\" >6</th>\n",
       "      <th id=\"T_47b45_level0_col5\" class=\"col_heading level0 col5\" >7</th>\n",
       "      <th id=\"T_47b45_level0_col6\" class=\"col_heading level0 col6\" >8</th>\n",
       "      <th id=\"T_47b45_level0_col7\" class=\"col_heading level0 col7\" >9</th>\n",
       "      <th id=\"T_47b45_level0_col8\" class=\"col_heading level0 col8\" >10</th>\n",
       "      <th id=\"T_47b45_level0_col9\" class=\"col_heading level0 col9\" >11</th>\n",
       "      <th id=\"T_47b45_level0_col10\" class=\"col_heading level0 col10\" >12</th>\n",
       "      <th id=\"T_47b45_level0_col11\" class=\"col_heading level0 col11\" >13</th>\n",
       "      <th id=\"T_47b45_level0_col12\" class=\"col_heading level0 col12\" >14</th>\n",
       "      <th id=\"T_47b45_level0_col13\" class=\"col_heading level0 col13\" >15</th>\n",
       "      <th id=\"T_47b45_level0_col14\" class=\"col_heading level0 col14\" >16</th>\n",
       "      <th id=\"T_47b45_level0_col15\" class=\"col_heading level0 col15\" >17</th>\n",
       "      <th id=\"T_47b45_level0_col16\" class=\"col_heading level0 col16\" >18</th>\n",
       "      <th id=\"T_47b45_level0_col17\" class=\"col_heading level0 col17\" >19</th>\n",
       "      <th id=\"T_47b45_level0_col18\" class=\"col_heading level0 col18\" >20</th>\n",
       "      <th id=\"T_47b45_level0_col19\" class=\"col_heading level0 col19\" >21</th>\n",
       "      <th id=\"T_47b45_level0_col20\" class=\"col_heading level0 col20\" >22</th>\n",
       "      <th id=\"T_47b45_level0_col21\" class=\"col_heading level0 col21\" >23</th>\n",
       "      <th id=\"T_47b45_level0_col22\" class=\"col_heading level0 col22\" >24</th>\n",
       "      <th id=\"T_47b45_level0_col23\" class=\"col_heading level0 col23\" >25</th>\n",
       "    </tr>\n",
       "  </thead>\n",
       "  <tbody>\n",
       "    <tr>\n",
       "      <th id=\"T_47b45_level0_row0\" class=\"row_heading level0 row0\" >k-means</th>\n",
       "      <td id=\"T_47b45_row0_col0\" class=\"data row0 col0\" >0.417751</td>\n",
       "      <td id=\"T_47b45_row0_col1\" class=\"data row0 col1\" >0.477959</td>\n",
       "      <td id=\"T_47b45_row0_col2\" class=\"data row0 col2\" >0.489001</td>\n",
       "      <td id=\"T_47b45_row0_col3\" class=\"data row0 col3\" >0.482013</td>\n",
       "      <td id=\"T_47b45_row0_col4\" class=\"data row0 col4\" >0.467325</td>\n",
       "      <td id=\"T_47b45_row0_col5\" class=\"data row0 col5\" >0.504576</td>\n",
       "      <td id=\"T_47b45_row0_col6\" class=\"data row0 col6\" >0.505436</td>\n",
       "      <td id=\"T_47b45_row0_col7\" class=\"data row0 col7\" >0.505834</td>\n",
       "      <td id=\"T_47b45_row0_col8\" class=\"data row0 col8\" >0.520913</td>\n",
       "      <td id=\"T_47b45_row0_col9\" class=\"data row0 col9\" >0.522606</td>\n",
       "      <td id=\"T_47b45_row0_col10\" class=\"data row0 col10\" >0.533840</td>\n",
       "      <td id=\"T_47b45_row0_col11\" class=\"data row0 col11\" >0.520998</td>\n",
       "      <td id=\"T_47b45_row0_col12\" class=\"data row0 col12\" >0.527801</td>\n",
       "      <td id=\"T_47b45_row0_col13\" class=\"data row0 col13\" >0.536965</td>\n",
       "      <td id=\"T_47b45_row0_col14\" class=\"data row0 col14\" >0.554534</td>\n",
       "      <td id=\"T_47b45_row0_col15\" class=\"data row0 col15\" >0.563773</td>\n",
       "      <td id=\"T_47b45_row0_col16\" class=\"data row0 col16\" >0.559062</td>\n",
       "      <td id=\"T_47b45_row0_col17\" class=\"data row0 col17\" >0.564324</td>\n",
       "      <td id=\"T_47b45_row0_col18\" class=\"data row0 col18\" >0.559812</td>\n",
       "      <td id=\"T_47b45_row0_col19\" class=\"data row0 col19\" >0.560965</td>\n",
       "      <td id=\"T_47b45_row0_col20\" class=\"data row0 col20\" >0.570991</td>\n",
       "      <td id=\"T_47b45_row0_col21\" class=\"data row0 col21\" >0.593129</td>\n",
       "      <td id=\"T_47b45_row0_col22\" class=\"data row0 col22\" >0.601063</td>\n",
       "      <td id=\"T_47b45_row0_col23\" class=\"data row0 col23\" >0.597145</td>\n",
       "    </tr>\n",
       "    <tr>\n",
       "      <th id=\"T_47b45_level0_row1\" class=\"row_heading level0 row1\" >gmm</th>\n",
       "      <td id=\"T_47b45_row1_col0\" class=\"data row1 col0\" >0.412219</td>\n",
       "      <td id=\"T_47b45_row1_col1\" class=\"data row1 col1\" >0.471080</td>\n",
       "      <td id=\"T_47b45_row1_col2\" class=\"data row1 col2\" >0.450786</td>\n",
       "      <td id=\"T_47b45_row1_col3\" class=\"data row1 col3\" >0.404616</td>\n",
       "      <td id=\"T_47b45_row1_col4\" class=\"data row1 col4\" >0.472414</td>\n",
       "      <td id=\"T_47b45_row1_col5\" class=\"data row1 col5\" >0.403499</td>\n",
       "      <td id=\"T_47b45_row1_col6\" class=\"data row1 col6\" >0.451315</td>\n",
       "      <td id=\"T_47b45_row1_col7\" class=\"data row1 col7\" >0.437601</td>\n",
       "      <td id=\"T_47b45_row1_col8\" class=\"data row1 col8\" >0.440592</td>\n",
       "      <td id=\"T_47b45_row1_col9\" class=\"data row1 col9\" >0.446663</td>\n",
       "      <td id=\"T_47b45_row1_col10\" class=\"data row1 col10\" >0.499917</td>\n",
       "      <td id=\"T_47b45_row1_col11\" class=\"data row1 col11\" >0.507704</td>\n",
       "      <td id=\"T_47b45_row1_col12\" class=\"data row1 col12\" >0.498199</td>\n",
       "      <td id=\"T_47b45_row1_col13\" class=\"data row1 col13\" >0.480058</td>\n",
       "      <td id=\"T_47b45_row1_col14\" class=\"data row1 col14\" >0.500801</td>\n",
       "      <td id=\"T_47b45_row1_col15\" class=\"data row1 col15\" >0.521731</td>\n",
       "      <td id=\"T_47b45_row1_col16\" class=\"data row1 col16\" >0.503752</td>\n",
       "      <td id=\"T_47b45_row1_col17\" class=\"data row1 col17\" >0.466997</td>\n",
       "      <td id=\"T_47b45_row1_col18\" class=\"data row1 col18\" >0.516419</td>\n",
       "      <td id=\"T_47b45_row1_col19\" class=\"data row1 col19\" >0.541618</td>\n",
       "      <td id=\"T_47b45_row1_col20\" class=\"data row1 col20\" >0.532697</td>\n",
       "      <td id=\"T_47b45_row1_col21\" class=\"data row1 col21\" >0.566630</td>\n",
       "      <td id=\"T_47b45_row1_col22\" class=\"data row1 col22\" >0.563385</td>\n",
       "      <td id=\"T_47b45_row1_col23\" class=\"data row1 col23\" >0.508955</td>\n",
       "    </tr>\n",
       "    <tr>\n",
       "      <th id=\"T_47b45_level0_row2\" class=\"row_heading level0 row2\" >hc</th>\n",
       "      <td id=\"T_47b45_row2_col0\" class=\"data row2 col0\" >0.354396</td>\n",
       "      <td id=\"T_47b45_row2_col1\" class=\"data row2 col1\" >0.473584</td>\n",
       "      <td id=\"T_47b45_row2_col2\" class=\"data row2 col2\" >0.466133</td>\n",
       "      <td id=\"T_47b45_row2_col3\" class=\"data row2 col3\" >0.466146</td>\n",
       "      <td id=\"T_47b45_row2_col4\" class=\"data row2 col4\" >0.447782</td>\n",
       "      <td id=\"T_47b45_row2_col5\" class=\"data row2 col5\" >0.463224</td>\n",
       "      <td id=\"T_47b45_row2_col6\" class=\"data row2 col6\" >0.499471</td>\n",
       "      <td id=\"T_47b45_row2_col7\" class=\"data row2 col7\" >0.512096</td>\n",
       "      <td id=\"T_47b45_row2_col8\" class=\"data row2 col8\" >0.519100</td>\n",
       "      <td id=\"T_47b45_row2_col9\" class=\"data row2 col9\" >0.526672</td>\n",
       "      <td id=\"T_47b45_row2_col10\" class=\"data row2 col10\" >0.514613</td>\n",
       "      <td id=\"T_47b45_row2_col11\" class=\"data row2 col11\" >0.514309</td>\n",
       "      <td id=\"T_47b45_row2_col12\" class=\"data row2 col12\" >0.524532</td>\n",
       "      <td id=\"T_47b45_row2_col13\" class=\"data row2 col13\" >0.534485</td>\n",
       "      <td id=\"T_47b45_row2_col14\" class=\"data row2 col14\" >0.543872</td>\n",
       "      <td id=\"T_47b45_row2_col15\" class=\"data row2 col15\" >0.561505</td>\n",
       "      <td id=\"T_47b45_row2_col16\" class=\"data row2 col16\" >0.555517</td>\n",
       "      <td id=\"T_47b45_row2_col17\" class=\"data row2 col17\" >0.549056</td>\n",
       "      <td id=\"T_47b45_row2_col18\" class=\"data row2 col18\" >0.544567</td>\n",
       "      <td id=\"T_47b45_row2_col19\" class=\"data row2 col19\" >0.548052</td>\n",
       "      <td id=\"T_47b45_row2_col20\" class=\"data row2 col20\" >0.559047</td>\n",
       "      <td id=\"T_47b45_row2_col21\" class=\"data row2 col21\" >0.569136</td>\n",
       "      <td id=\"T_47b45_row2_col22\" class=\"data row2 col22\" >0.591128</td>\n",
       "      <td id=\"T_47b45_row2_col23\" class=\"data row2 col23\" >0.599324</td>\n",
       "    </tr>\n",
       "  </tbody>\n",
       "</table>\n"
      ],
      "text/plain": [
       "<pandas.io.formats.style.Styler at 0x7f018b4240a0>"
      ]
     },
     "execution_count": 78,
     "metadata": {},
     "output_type": "execute_result"
    }
   ],
   "source": [
    "## UMAP embedding - Results\n",
    "\n",
    "# results = pd.DataFrame(\n",
    "#     {'k-means': kmeans_list, \n",
    "#      'gmm'    : gmm_list, \n",
    "#      'hc'     : hc_list, \n",
    "#     }\n",
    "# ).T\n",
    "\n",
    "# results.columns = clusters\n",
    "# results.style.highlight_max(color = 'lightgreen', axis=1)"
   ]
  },
  {
   "cell_type": "code",
   "execution_count": 87,
   "id": "12b6d4ba",
   "metadata": {
    "ExecuteTime": {
     "end_time": "2023-03-01T13:14:35.596601Z",
     "start_time": "2023-03-01T13:14:35.577033Z"
    },
    "cell_style": "split"
   },
   "outputs": [
    {
     "data": {
      "text/html": [
       "<style type=\"text/css\">\n",
       "#T_5e0b8_row0_col22, #T_5e0b8_row1_col21, #T_5e0b8_row2_col22 {\n",
       "  background-color: lightgreen;\n",
       "}\n",
       "</style>\n",
       "<table id=\"T_5e0b8\">\n",
       "  <thead>\n",
       "    <tr>\n",
       "      <th class=\"blank level0\" >&nbsp;</th>\n",
       "      <th id=\"T_5e0b8_level0_col0\" class=\"col_heading level0 col0\" >2</th>\n",
       "      <th id=\"T_5e0b8_level0_col1\" class=\"col_heading level0 col1\" >3</th>\n",
       "      <th id=\"T_5e0b8_level0_col2\" class=\"col_heading level0 col2\" >4</th>\n",
       "      <th id=\"T_5e0b8_level0_col3\" class=\"col_heading level0 col3\" >5</th>\n",
       "      <th id=\"T_5e0b8_level0_col4\" class=\"col_heading level0 col4\" >6</th>\n",
       "      <th id=\"T_5e0b8_level0_col5\" class=\"col_heading level0 col5\" >7</th>\n",
       "      <th id=\"T_5e0b8_level0_col6\" class=\"col_heading level0 col6\" >8</th>\n",
       "      <th id=\"T_5e0b8_level0_col7\" class=\"col_heading level0 col7\" >9</th>\n",
       "      <th id=\"T_5e0b8_level0_col8\" class=\"col_heading level0 col8\" >10</th>\n",
       "      <th id=\"T_5e0b8_level0_col9\" class=\"col_heading level0 col9\" >11</th>\n",
       "      <th id=\"T_5e0b8_level0_col10\" class=\"col_heading level0 col10\" >12</th>\n",
       "      <th id=\"T_5e0b8_level0_col11\" class=\"col_heading level0 col11\" >13</th>\n",
       "      <th id=\"T_5e0b8_level0_col12\" class=\"col_heading level0 col12\" >14</th>\n",
       "      <th id=\"T_5e0b8_level0_col13\" class=\"col_heading level0 col13\" >15</th>\n",
       "      <th id=\"T_5e0b8_level0_col14\" class=\"col_heading level0 col14\" >16</th>\n",
       "      <th id=\"T_5e0b8_level0_col15\" class=\"col_heading level0 col15\" >17</th>\n",
       "      <th id=\"T_5e0b8_level0_col16\" class=\"col_heading level0 col16\" >18</th>\n",
       "      <th id=\"T_5e0b8_level0_col17\" class=\"col_heading level0 col17\" >19</th>\n",
       "      <th id=\"T_5e0b8_level0_col18\" class=\"col_heading level0 col18\" >20</th>\n",
       "      <th id=\"T_5e0b8_level0_col19\" class=\"col_heading level0 col19\" >21</th>\n",
       "      <th id=\"T_5e0b8_level0_col20\" class=\"col_heading level0 col20\" >22</th>\n",
       "      <th id=\"T_5e0b8_level0_col21\" class=\"col_heading level0 col21\" >23</th>\n",
       "      <th id=\"T_5e0b8_level0_col22\" class=\"col_heading level0 col22\" >24</th>\n",
       "      <th id=\"T_5e0b8_level0_col23\" class=\"col_heading level0 col23\" >25</th>\n",
       "    </tr>\n",
       "  </thead>\n",
       "  <tbody>\n",
       "    <tr>\n",
       "      <th id=\"T_5e0b8_level0_row0\" class=\"row_heading level0 row0\" >k-means</th>\n",
       "      <td id=\"T_5e0b8_row0_col0\" class=\"data row0 col0\" >0.351885</td>\n",
       "      <td id=\"T_5e0b8_row0_col1\" class=\"data row0 col1\" >0.391322</td>\n",
       "      <td id=\"T_5e0b8_row0_col2\" class=\"data row0 col2\" >0.411702</td>\n",
       "      <td id=\"T_5e0b8_row0_col3\" class=\"data row0 col3\" >0.404226</td>\n",
       "      <td id=\"T_5e0b8_row0_col4\" class=\"data row0 col4\" >0.406872</td>\n",
       "      <td id=\"T_5e0b8_row0_col5\" class=\"data row0 col5\" >0.424113</td>\n",
       "      <td id=\"T_5e0b8_row0_col6\" class=\"data row0 col6\" >0.424765</td>\n",
       "      <td id=\"T_5e0b8_row0_col7\" class=\"data row0 col7\" >0.435574</td>\n",
       "      <td id=\"T_5e0b8_row0_col8\" class=\"data row0 col8\" >0.434816</td>\n",
       "      <td id=\"T_5e0b8_row0_col9\" class=\"data row0 col9\" >0.442771</td>\n",
       "      <td id=\"T_5e0b8_row0_col10\" class=\"data row0 col10\" >0.450606</td>\n",
       "      <td id=\"T_5e0b8_row0_col11\" class=\"data row0 col11\" >0.448397</td>\n",
       "      <td id=\"T_5e0b8_row0_col12\" class=\"data row0 col12\" >0.448537</td>\n",
       "      <td id=\"T_5e0b8_row0_col13\" class=\"data row0 col13\" >0.453961</td>\n",
       "      <td id=\"T_5e0b8_row0_col14\" class=\"data row0 col14\" >0.465947</td>\n",
       "      <td id=\"T_5e0b8_row0_col15\" class=\"data row0 col15\" >0.457906</td>\n",
       "      <td id=\"T_5e0b8_row0_col16\" class=\"data row0 col16\" >0.459427</td>\n",
       "      <td id=\"T_5e0b8_row0_col17\" class=\"data row0 col17\" >0.472733</td>\n",
       "      <td id=\"T_5e0b8_row0_col18\" class=\"data row0 col18\" >0.479377</td>\n",
       "      <td id=\"T_5e0b8_row0_col19\" class=\"data row0 col19\" >0.482499</td>\n",
       "      <td id=\"T_5e0b8_row0_col20\" class=\"data row0 col20\" >0.485936</td>\n",
       "      <td id=\"T_5e0b8_row0_col21\" class=\"data row0 col21\" >0.490607</td>\n",
       "      <td id=\"T_5e0b8_row0_col22\" class=\"data row0 col22\" >0.494510</td>\n",
       "      <td id=\"T_5e0b8_row0_col23\" class=\"data row0 col23\" >0.491107</td>\n",
       "    </tr>\n",
       "    <tr>\n",
       "      <th id=\"T_5e0b8_level0_row1\" class=\"row_heading level0 row1\" >gmm</th>\n",
       "      <td id=\"T_5e0b8_row1_col0\" class=\"data row1 col0\" >0.353201</td>\n",
       "      <td id=\"T_5e0b8_row1_col1\" class=\"data row1 col1\" >0.372278</td>\n",
       "      <td id=\"T_5e0b8_row1_col2\" class=\"data row1 col2\" >0.377309</td>\n",
       "      <td id=\"T_5e0b8_row1_col3\" class=\"data row1 col3\" >0.352042</td>\n",
       "      <td id=\"T_5e0b8_row1_col4\" class=\"data row1 col4\" >0.360832</td>\n",
       "      <td id=\"T_5e0b8_row1_col5\" class=\"data row1 col5\" >0.332361</td>\n",
       "      <td id=\"T_5e0b8_row1_col6\" class=\"data row1 col6\" >0.303002</td>\n",
       "      <td id=\"T_5e0b8_row1_col7\" class=\"data row1 col7\" >0.336368</td>\n",
       "      <td id=\"T_5e0b8_row1_col8\" class=\"data row1 col8\" >0.315023</td>\n",
       "      <td id=\"T_5e0b8_row1_col9\" class=\"data row1 col9\" >0.322866</td>\n",
       "      <td id=\"T_5e0b8_row1_col10\" class=\"data row1 col10\" >0.309660</td>\n",
       "      <td id=\"T_5e0b8_row1_col11\" class=\"data row1 col11\" >0.301895</td>\n",
       "      <td id=\"T_5e0b8_row1_col12\" class=\"data row1 col12\" >0.330019</td>\n",
       "      <td id=\"T_5e0b8_row1_col13\" class=\"data row1 col13\" >0.366603</td>\n",
       "      <td id=\"T_5e0b8_row1_col14\" class=\"data row1 col14\" >0.365791</td>\n",
       "      <td id=\"T_5e0b8_row1_col15\" class=\"data row1 col15\" >0.319521</td>\n",
       "      <td id=\"T_5e0b8_row1_col16\" class=\"data row1 col16\" >0.370935</td>\n",
       "      <td id=\"T_5e0b8_row1_col17\" class=\"data row1 col17\" >0.371727</td>\n",
       "      <td id=\"T_5e0b8_row1_col18\" class=\"data row1 col18\" >0.395499</td>\n",
       "      <td id=\"T_5e0b8_row1_col19\" class=\"data row1 col19\" >0.406734</td>\n",
       "      <td id=\"T_5e0b8_row1_col20\" class=\"data row1 col20\" >0.386906</td>\n",
       "      <td id=\"T_5e0b8_row1_col21\" class=\"data row1 col21\" >0.426697</td>\n",
       "      <td id=\"T_5e0b8_row1_col22\" class=\"data row1 col22\" >0.379674</td>\n",
       "      <td id=\"T_5e0b8_row1_col23\" class=\"data row1 col23\" >0.401123</td>\n",
       "    </tr>\n",
       "    <tr>\n",
       "      <th id=\"T_5e0b8_level0_row2\" class=\"row_heading level0 row2\" >hc</th>\n",
       "      <td id=\"T_5e0b8_row2_col0\" class=\"data row2 col0\" >0.346775</td>\n",
       "      <td id=\"T_5e0b8_row2_col1\" class=\"data row2 col1\" >0.355787</td>\n",
       "      <td id=\"T_5e0b8_row2_col2\" class=\"data row2 col2\" >0.367733</td>\n",
       "      <td id=\"T_5e0b8_row2_col3\" class=\"data row2 col3\" >0.362862</td>\n",
       "      <td id=\"T_5e0b8_row2_col4\" class=\"data row2 col4\" >0.380762</td>\n",
       "      <td id=\"T_5e0b8_row2_col5\" class=\"data row2 col5\" >0.404812</td>\n",
       "      <td id=\"T_5e0b8_row2_col6\" class=\"data row2 col6\" >0.422991</td>\n",
       "      <td id=\"T_5e0b8_row2_col7\" class=\"data row2 col7\" >0.400831</td>\n",
       "      <td id=\"T_5e0b8_row2_col8\" class=\"data row2 col8\" >0.399613</td>\n",
       "      <td id=\"T_5e0b8_row2_col9\" class=\"data row2 col9\" >0.415228</td>\n",
       "      <td id=\"T_5e0b8_row2_col10\" class=\"data row2 col10\" >0.430987</td>\n",
       "      <td id=\"T_5e0b8_row2_col11\" class=\"data row2 col11\" >0.427243</td>\n",
       "      <td id=\"T_5e0b8_row2_col12\" class=\"data row2 col12\" >0.438386</td>\n",
       "      <td id=\"T_5e0b8_row2_col13\" class=\"data row2 col13\" >0.437438</td>\n",
       "      <td id=\"T_5e0b8_row2_col14\" class=\"data row2 col14\" >0.448504</td>\n",
       "      <td id=\"T_5e0b8_row2_col15\" class=\"data row2 col15\" >0.447978</td>\n",
       "      <td id=\"T_5e0b8_row2_col16\" class=\"data row2 col16\" >0.462569</td>\n",
       "      <td id=\"T_5e0b8_row2_col17\" class=\"data row2 col17\" >0.458990</td>\n",
       "      <td id=\"T_5e0b8_row2_col18\" class=\"data row2 col18\" >0.465089</td>\n",
       "      <td id=\"T_5e0b8_row2_col19\" class=\"data row2 col19\" >0.466495</td>\n",
       "      <td id=\"T_5e0b8_row2_col20\" class=\"data row2 col20\" >0.471508</td>\n",
       "      <td id=\"T_5e0b8_row2_col21\" class=\"data row2 col21\" >0.475126</td>\n",
       "      <td id=\"T_5e0b8_row2_col22\" class=\"data row2 col22\" >0.481666</td>\n",
       "      <td id=\"T_5e0b8_row2_col23\" class=\"data row2 col23\" >0.477690</td>\n",
       "    </tr>\n",
       "  </tbody>\n",
       "</table>\n"
      ],
      "text/plain": [
       "<pandas.io.formats.style.Styler at 0x7f018b3ed1b0>"
      ]
     },
     "execution_count": 87,
     "metadata": {},
     "output_type": "execute_result"
    }
   ],
   "source": [
    "## t-sne embedding - Results\n",
    "\n",
    "results = pd.DataFrame(\n",
    "    {'k-means': kmeans_list, \n",
    "     'gmm'    : gmm_list, \n",
    "     'hc'     : hc_list, \n",
    "    }\n",
    ").T\n",
    "\n",
    "results.columns = clusters\n",
    "results.style.highlight_max(color = 'lightgreen', axis=1)"
   ]
  },
  {
   "cell_type": "markdown",
   "id": "103865d1",
   "metadata": {
    "ExecuteTime": {
     "end_time": "2023-02-02T21:12:14.716990Z",
     "start_time": "2023-02-02T21:12:14.713314Z"
    }
   },
   "source": [
    "# <span style=\"color: OrangeRed;\">MODEL TRAINING</span>\n",
    "<span style=\"color: OrangeRed;\">***PASSO 8***</span>"
   ]
  },
  {
   "cell_type": "code",
   "execution_count": 90,
   "id": "588c5e7b",
   "metadata": {
    "ExecuteTime": {
     "end_time": "2023-03-01T13:21:48.866405Z",
     "start_time": "2023-03-01T13:21:48.852314Z"
    },
    "scrolled": true
   },
   "outputs": [
    {
     "data": {
      "text/html": [
       "<div>\n",
       "<style scoped>\n",
       "    .dataframe tbody tr th:only-of-type {\n",
       "        vertical-align: middle;\n",
       "    }\n",
       "\n",
       "    .dataframe tbody tr th {\n",
       "        vertical-align: top;\n",
       "    }\n",
       "\n",
       "    .dataframe thead th {\n",
       "        text-align: right;\n",
       "    }\n",
       "</style>\n",
       "<table border=\"1\" class=\"dataframe\">\n",
       "  <thead>\n",
       "    <tr style=\"text-align: right;\">\n",
       "      <th></th>\n",
       "      <th>embedding_x</th>\n",
       "      <th>embedding_y</th>\n",
       "    </tr>\n",
       "  </thead>\n",
       "  <tbody>\n",
       "    <tr>\n",
       "      <th>0</th>\n",
       "      <td>84.742142</td>\n",
       "      <td>14.261428</td>\n",
       "    </tr>\n",
       "    <tr>\n",
       "      <th>1</th>\n",
       "      <td>8.904477</td>\n",
       "      <td>37.210953</td>\n",
       "    </tr>\n",
       "    <tr>\n",
       "      <th>2</th>\n",
       "      <td>-48.264088</td>\n",
       "      <td>28.893105</td>\n",
       "    </tr>\n",
       "    <tr>\n",
       "      <th>3</th>\n",
       "      <td>-4.752115</td>\n",
       "      <td>74.759804</td>\n",
       "    </tr>\n",
       "    <tr>\n",
       "      <th>4</th>\n",
       "      <td>46.111950</td>\n",
       "      <td>16.976099</td>\n",
       "    </tr>\n",
       "  </tbody>\n",
       "</table>\n",
       "</div>"
      ],
      "text/plain": [
       "   embedding_x  embedding_y\n",
       "0    84.742142    14.261428\n",
       "1     8.904477    37.210953\n",
       "2   -48.264088    28.893105\n",
       "3    -4.752115    74.759804\n",
       "4    46.111950    16.976099"
      ]
     },
     "execution_count": 90,
     "metadata": {},
     "output_type": "execute_result"
    }
   ],
   "source": [
    "# Espaço de embedding RandomForest reduzida pelo UMAP\n",
    "X.head()"
   ]
  },
  {
   "cell_type": "markdown",
   "id": "2dd509d0",
   "metadata": {
    "ExecuteTime": {
     "end_time": "2023-02-06T17:20:04.434150Z",
     "start_time": "2023-02-06T17:20:04.430564Z"
    }
   },
   "source": [
    "## K-Means"
   ]
  },
  {
   "cell_type": "code",
   "execution_count": 93,
   "id": "749aa4b7",
   "metadata": {
    "ExecuteTime": {
     "end_time": "2023-03-01T13:23:00.285006Z",
     "start_time": "2023-03-01T13:22:59.893185Z"
    }
   },
   "outputs": [],
   "source": [
    "k = 8 \n",
    "# Instancing the model \n",
    "kmeans = c.KMeans(init = 'random', n_clusters=k, n_init = 100, max_iter=300, random_state=42)\n",
    "\n",
    "# Model Training\n",
    "kmeans.fit(X)\n",
    "\n",
    "# Labels\n",
    "labels = kmeans.labels_"
   ]
  },
  {
   "cell_type": "markdown",
   "id": "4aa8d129",
   "metadata": {},
   "source": [
    "## Gaussian Mixture Model "
   ]
  },
  {
   "cell_type": "code",
   "execution_count": 182,
   "id": "56e934fc",
   "metadata": {
    "ExecuteTime": {
     "end_time": "2023-02-23T20:08:44.715595Z",
     "start_time": "2023-02-23T20:08:44.598208Z"
    }
   },
   "outputs": [],
   "source": [
    "# # model name\n",
    "# gmm_model = mx.GaussianMixture (n_components = k, random_state =10)\n",
    "\n",
    "# # model training\n",
    "# gmm_model.fit(X)\n",
    "\n",
    "# # predict\n",
    "# labels = gmm_model.predict (X)  \n",
    "    "
   ]
  },
  {
   "cell_type": "markdown",
   "id": "348bb868",
   "metadata": {
    "ExecuteTime": {
     "end_time": "2023-02-06T17:20:20.962014Z",
     "start_time": "2023-02-06T17:20:20.959846Z"
    }
   },
   "source": [
    "## Cluster validation"
   ]
  },
  {
   "cell_type": "code",
   "execution_count": 94,
   "id": "b86094ce",
   "metadata": {
    "ExecuteTime": {
     "end_time": "2023-03-01T13:23:02.911167Z",
     "start_time": "2023-03-01T13:23:02.331208Z"
    }
   },
   "outputs": [
    {
     "name": "stdout",
     "output_type": "stream",
     "text": [
      "WSS value: 1946601.625\n",
      "Silhouette Score: 0.42472800612449646\n"
     ]
    }
   ],
   "source": [
    "# WSS (Within-cluester Sum of Square)\n",
    "print('WSS value: {}'.format(kmeans.inertia_))\n",
    "\n",
    "# Silhoute Score\n",
    "print('Silhouette Score: {}'.format (m.silhouette_score (X, labels, metric = 'euclidean')))"
   ]
  },
  {
   "cell_type": "markdown",
   "id": "33bf9314",
   "metadata": {
    "ExecuteTime": {
     "end_time": "2023-02-02T21:16:40.487919Z",
     "start_time": "2023-02-02T21:16:40.485800Z"
    }
   },
   "source": [
    "# <span style=\"color: OrangeRed;\">CLUSTER ANALYSIS</span>\n",
    "<span style=\"color: OrangeRed;\">***PASSO 9***</span>"
   ]
  },
  {
   "cell_type": "code",
   "execution_count": 95,
   "id": "db97d9e0",
   "metadata": {
    "ExecuteTime": {
     "end_time": "2023-03-01T17:23:08.645504Z",
     "start_time": "2023-03-01T17:23:08.634752Z"
    }
   },
   "outputs": [],
   "source": [
    "# df9 = df6.drop(columns = ['customer_id']).copy()\n",
    "\n",
    "# tabela de customers_ com label do cluster\n",
    "df92 = df4.copy()\n",
    "df92['labels'] = labels.tolist()\n",
    "# df9 = df4.copy()\n",
    "# df9['labels'] = labels.tolist()\n",
    "\n",
    "# embedding com label do cluster\n",
    "df9 = X.copy()\n",
    "df9['labels'] = labels.tolist()\n"
   ]
  },
  {
   "cell_type": "markdown",
   "id": "4d4d1ecb",
   "metadata": {},
   "source": [
    "## Visualization Inspection"
   ]
  },
  {
   "cell_type": "code",
   "execution_count": 142,
   "id": "d54acc4a",
   "metadata": {
    "ExecuteTime": {
     "end_time": "2023-02-23T19:38:46.146527Z",
     "start_time": "2023-02-23T19:38:45.453429Z"
    }
   },
   "outputs": [],
   "source": [
    "# fig = px.scatter_3d(df9, x='recency',y='frequency', z= 'monetary', color = 'labels')\n",
    "# fig.show()\n",
    "# Como a dimensionalidade esta >3 nao é possivel plotar os labels em torno dos eixos. "
   ]
  },
  {
   "cell_type": "code",
   "execution_count": 96,
   "id": "35a7b1b9",
   "metadata": {
    "ExecuteTime": {
     "end_time": "2023-03-01T17:23:13.973861Z",
     "start_time": "2023-03-01T17:23:13.098840Z"
    }
   },
   "outputs": [
    {
     "data": {
      "text/plain": [
       "<AxesSubplot: xlabel='embedding_x', ylabel='embedding_y'>"
      ]
     },
     "execution_count": 96,
     "metadata": {},
     "output_type": "execute_result"
    },
    {
     "data": {
      "image/png": "[encoded data removed]",
      "text/plain": [
       "<Figure size 640x480 with 1 Axes>"
      ]
     },
     "metadata": {},
     "output_type": "display_data"
    }
   ],
   "source": [
    "#ploting the embedding space + labels\n",
    "sns.scatterplot (x = 'embedding_x', y = 'embedding_y', data = df9, hue = 'labels', palette = 'deep')"
   ]
  },
  {
   "cell_type": "markdown",
   "id": "7c753ab2",
   "metadata": {},
   "source": [
    "## Cluster Profile"
   ]
  },
  {
   "cell_type": "code",
   "execution_count": 184,
   "id": "84d57100",
   "metadata": {
    "ExecuteTime": {
     "end_time": "2023-02-23T20:08:53.963657Z",
     "start_time": "2023-02-23T20:08:53.959986Z"
    }
   },
   "outputs": [],
   "source": [
    "# df_aux with the added labels to df6\n",
    "# df_aux = df6.copy()\n",
    "# df_aux['labels'] = labels.tolist()\n",
    "\n",
    "df_aux = df92.copy()"
   ]
  },
  {
   "cell_type": "code",
   "execution_count": 185,
   "id": "55756b7c",
   "metadata": {
    "ExecuteTime": {
     "end_time": "2023-02-23T20:08:58.154301Z",
     "start_time": "2023-02-23T20:08:58.107271Z"
    },
    "code_folding": [],
    "scrolled": false
   },
   "outputs": [
    {
     "data": {
      "text/html": [
       "<div>\n",
       "<style scoped>\n",
       "    .dataframe tbody tr th:only-of-type {\n",
       "        vertical-align: middle;\n",
       "    }\n",
       "\n",
       "    .dataframe tbody tr th {\n",
       "        vertical-align: top;\n",
       "    }\n",
       "\n",
       "    .dataframe thead th {\n",
       "        text-align: right;\n",
       "    }\n",
       "</style>\n",
       "<table border=\"1\" class=\"dataframe\">\n",
       "  <thead>\n",
       "    <tr style=\"text-align: right;\">\n",
       "      <th></th>\n",
       "      <th>labels</th>\n",
       "      <th>customer_id</th>\n",
       "      <th>perc_customer</th>\n",
       "      <th>monetary</th>\n",
       "      <th>recency</th>\n",
       "      <th>frequency</th>\n",
       "      <th>quantity_products</th>\n",
       "      <th>returns</th>\n",
       "    </tr>\n",
       "  </thead>\n",
       "  <tbody>\n",
       "    <tr>\n",
       "      <th>0</th>\n",
       "      <td>0</td>\n",
       "      <td>424</td>\n",
       "      <td>15.29</td>\n",
       "      <td>582.10</td>\n",
       "      <td>94.91</td>\n",
       "      <td>0.06</td>\n",
       "      <td>14.34</td>\n",
       "      <td>1.15</td>\n",
       "    </tr>\n",
       "    <tr>\n",
       "      <th>1</th>\n",
       "      <td>1</td>\n",
       "      <td>272</td>\n",
       "      <td>9.81</td>\n",
       "      <td>3138.30</td>\n",
       "      <td>33.38</td>\n",
       "      <td>0.05</td>\n",
       "      <td>183.97</td>\n",
       "      <td>25.05</td>\n",
       "    </tr>\n",
       "    <tr>\n",
       "      <th>2</th>\n",
       "      <td>2</td>\n",
       "      <td>194</td>\n",
       "      <td>7.00</td>\n",
       "      <td>894.07</td>\n",
       "      <td>64.64</td>\n",
       "      <td>0.04</td>\n",
       "      <td>29.45</td>\n",
       "      <td>2.16</td>\n",
       "    </tr>\n",
       "    <tr>\n",
       "      <th>3</th>\n",
       "      <td>3</td>\n",
       "      <td>421</td>\n",
       "      <td>15.18</td>\n",
       "      <td>2589.33</td>\n",
       "      <td>50.05</td>\n",
       "      <td>0.03</td>\n",
       "      <td>97.69</td>\n",
       "      <td>8.25</td>\n",
       "    </tr>\n",
       "    <tr>\n",
       "      <th>4</th>\n",
       "      <td>4</td>\n",
       "      <td>464</td>\n",
       "      <td>16.73</td>\n",
       "      <td>1210.98</td>\n",
       "      <td>58.92</td>\n",
       "      <td>0.03</td>\n",
       "      <td>57.60</td>\n",
       "      <td>4.40</td>\n",
       "    </tr>\n",
       "    <tr>\n",
       "      <th>5</th>\n",
       "      <td>5</td>\n",
       "      <td>355</td>\n",
       "      <td>12.80</td>\n",
       "      <td>11098.79</td>\n",
       "      <td>17.79</td>\n",
       "      <td>0.11</td>\n",
       "      <td>485.75</td>\n",
       "      <td>165.77</td>\n",
       "    </tr>\n",
       "    <tr>\n",
       "      <th>6</th>\n",
       "      <td>6</td>\n",
       "      <td>292</td>\n",
       "      <td>10.53</td>\n",
       "      <td>1000.00</td>\n",
       "      <td>84.58</td>\n",
       "      <td>0.04</td>\n",
       "      <td>35.67</td>\n",
       "      <td>9.86</td>\n",
       "    </tr>\n",
       "    <tr>\n",
       "      <th>7</th>\n",
       "      <td>7</td>\n",
       "      <td>351</td>\n",
       "      <td>12.66</td>\n",
       "      <td>2083.64</td>\n",
       "      <td>45.00</td>\n",
       "      <td>0.03</td>\n",
       "      <td>134.93</td>\n",
       "      <td>14.66</td>\n",
       "    </tr>\n",
       "  </tbody>\n",
       "</table>\n",
       "</div>"
      ],
      "text/plain": [
       "   labels  customer_id  perc_customer  monetary  recency  frequency  quantity_products  returns\n",
       "0       0          424          15.29    582.10    94.91       0.06              14.34     1.15\n",
       "1       1          272           9.81   3138.30    33.38       0.05             183.97    25.05\n",
       "2       2          194           7.00    894.07    64.64       0.04              29.45     2.16\n",
       "3       3          421          15.18   2589.33    50.05       0.03              97.69     8.25\n",
       "4       4          464          16.73   1210.98    58.92       0.03              57.60     4.40\n",
       "5       5          355          12.80  11098.79    17.79       0.11             485.75   165.77\n",
       "6       6          292          10.53   1000.00    84.58       0.04              35.67     9.86\n",
       "7       7          351          12.66   2083.64    45.00       0.03             134.93    14.66"
      ]
     },
     "execution_count": 185,
     "metadata": {},
     "output_type": "execute_result"
    }
   ],
   "source": [
    "# Number of customers\n",
    "df_cluster = df_aux[['customer_id', 'labels']].groupby('labels').count().reset_index()\n",
    "df_cluster['perc_customer'] = (df_cluster['customer_id']/df_cluster['customer_id'].sum())*100\n",
    "\n",
    "\n",
    "# Avg Monetary\n",
    "df_avg_monetary = df_aux[['monetary','labels']].groupby('labels').mean().reset_index()\n",
    "df_cluster = pd.merge(df_cluster, df_avg_monetary, how='inner', on = 'labels')\n",
    "\n",
    "\n",
    "# Avg  Recency \n",
    "df_avg_recency = df_aux[['recency','labels']].groupby('labels').mean().reset_index()\n",
    "df_cluster = pd.merge(df_cluster, df_avg_recency, how='inner', on = 'labels')\n",
    "\n",
    "\n",
    "# Avg Frequency\n",
    "df_avg_frequency = df_aux[['frequency','labels']].groupby('labels').mean().reset_index()\n",
    "df_cluster = pd.merge(df_cluster, df_avg_frequency, how='inner', on = 'labels')\n",
    "\n",
    "\n",
    "# Quantity products\n",
    "df_quantity_products = df_aux[['quantity_products','labels']].groupby('labels').mean().reset_index()\n",
    "df_cluster = pd.merge(df_cluster, df_quantity_products, how='inner', on = 'labels')\n",
    "\n",
    "\n",
    "# Returns\n",
    "df_returns = df_aux[['returns','labels']].groupby('labels').mean().reset_index()\n",
    "df_cluster = pd.merge(df_cluster, df_returns, how='inner', on = 'labels')\n",
    "\n",
    "# Avg Ticket\n",
    "# df_avg_ticket = df_aux[['labels','avg_ticket']].groupby('labels').mean().reset_index()\n",
    "# df_cluster = pd.merge(df_cluster,df_avg_ticket,how ='inner', on='labels')\n",
    "\n",
    "# Avg Basket\n",
    "# df_avg_basket = df_aux[['labels','avg_basket']].groupby('labels').mean().reset_index()\n",
    "# df_cluster = pd.merge(df_cluster,df_avg_basket,how ='inner', on='labels')\n",
    "\n",
    "df_cluster"
   ]
  },
  {
   "cell_type": "markdown",
   "id": "6b7d1dfb",
   "metadata": {},
   "source": [
    "### Cluster Profile "
   ]
  },
  {
   "cell_type": "code",
   "execution_count": 147,
   "id": "d7af7b20",
   "metadata": {
    "ExecuteTime": {
     "end_time": "2023-02-23T19:39:08.144081Z",
     "start_time": "2023-02-23T19:39:08.132620Z"
    }
   },
   "outputs": [
    {
     "data": {
      "text/html": [
       "<div>\n",
       "<style scoped>\n",
       "    .dataframe tbody tr th:only-of-type {\n",
       "        vertical-align: middle;\n",
       "    }\n",
       "\n",
       "    .dataframe tbody tr th {\n",
       "        vertical-align: top;\n",
       "    }\n",
       "\n",
       "    .dataframe thead th {\n",
       "        text-align: right;\n",
       "    }\n",
       "</style>\n",
       "<table border=\"1\" class=\"dataframe\">\n",
       "  <thead>\n",
       "    <tr style=\"text-align: right;\">\n",
       "      <th></th>\n",
       "      <th>labels</th>\n",
       "      <th>customer_id</th>\n",
       "      <th>perc_customer</th>\n",
       "      <th>monetary</th>\n",
       "      <th>recency</th>\n",
       "      <th>frequency</th>\n",
       "      <th>quantity_products</th>\n",
       "      <th>returns</th>\n",
       "    </tr>\n",
       "  </thead>\n",
       "  <tbody>\n",
       "    <tr>\n",
       "      <th>0</th>\n",
       "      <td>0</td>\n",
       "      <td>260</td>\n",
       "      <td>9.38</td>\n",
       "      <td>3142.41</td>\n",
       "      <td>33.46</td>\n",
       "      <td>0.04</td>\n",
       "      <td>184.55</td>\n",
       "      <td>26.19</td>\n",
       "    </tr>\n",
       "    <tr>\n",
       "      <th>1</th>\n",
       "      <td>1</td>\n",
       "      <td>101</td>\n",
       "      <td>3.64</td>\n",
       "      <td>1370.21</td>\n",
       "      <td>57.92</td>\n",
       "      <td>0.04</td>\n",
       "      <td>69.06</td>\n",
       "      <td>4.62</td>\n",
       "    </tr>\n",
       "    <tr>\n",
       "      <th>2</th>\n",
       "      <td>2</td>\n",
       "      <td>424</td>\n",
       "      <td>15.29</td>\n",
       "      <td>582.10</td>\n",
       "      <td>94.91</td>\n",
       "      <td>0.06</td>\n",
       "      <td>14.34</td>\n",
       "      <td>1.15</td>\n",
       "    </tr>\n",
       "    <tr>\n",
       "      <th>3</th>\n",
       "      <td>3</td>\n",
       "      <td>486</td>\n",
       "      <td>17.53</td>\n",
       "      <td>957.72</td>\n",
       "      <td>76.62</td>\n",
       "      <td>0.04</td>\n",
       "      <td>33.19</td>\n",
       "      <td>6.79</td>\n",
       "    </tr>\n",
       "    <tr>\n",
       "      <th>4</th>\n",
       "      <td>4</td>\n",
       "      <td>421</td>\n",
       "      <td>15.18</td>\n",
       "      <td>2589.33</td>\n",
       "      <td>50.05</td>\n",
       "      <td>0.03</td>\n",
       "      <td>97.69</td>\n",
       "      <td>8.25</td>\n",
       "    </tr>\n",
       "    <tr>\n",
       "      <th>5</th>\n",
       "      <td>5</td>\n",
       "      <td>355</td>\n",
       "      <td>12.80</td>\n",
       "      <td>11098.79</td>\n",
       "      <td>17.79</td>\n",
       "      <td>0.11</td>\n",
       "      <td>485.75</td>\n",
       "      <td>165.77</td>\n",
       "    </tr>\n",
       "    <tr>\n",
       "      <th>6</th>\n",
       "      <td>6</td>\n",
       "      <td>363</td>\n",
       "      <td>13.09</td>\n",
       "      <td>1166.68</td>\n",
       "      <td>59.20</td>\n",
       "      <td>0.03</td>\n",
       "      <td>54.42</td>\n",
       "      <td>4.34</td>\n",
       "    </tr>\n",
       "    <tr>\n",
       "      <th>7</th>\n",
       "      <td>7</td>\n",
       "      <td>363</td>\n",
       "      <td>13.09</td>\n",
       "      <td>2115.56</td>\n",
       "      <td>44.56</td>\n",
       "      <td>0.04</td>\n",
       "      <td>136.13</td>\n",
       "      <td>14.19</td>\n",
       "    </tr>\n",
       "  </tbody>\n",
       "</table>\n",
       "</div>"
      ],
      "text/plain": [
       "   labels  customer_id  perc_customer  monetary  recency  frequency  quantity_products  returns\n",
       "0       0          260           9.38   3142.41    33.46       0.04             184.55    26.19\n",
       "1       1          101           3.64   1370.21    57.92       0.04              69.06     4.62\n",
       "2       2          424          15.29    582.10    94.91       0.06              14.34     1.15\n",
       "3       3          486          17.53    957.72    76.62       0.04              33.19     6.79\n",
       "4       4          421          15.18   2589.33    50.05       0.03              97.69     8.25\n",
       "5       5          355          12.80  11098.79    17.79       0.11             485.75   165.77\n",
       "6       6          363          13.09   1166.68    59.20       0.03              54.42     4.34\n",
       "7       7          363          13.09   2115.56    44.56       0.04             136.13    14.19"
      ]
     },
     "execution_count": 147,
     "metadata": {},
     "output_type": "execute_result"
    }
   ],
   "source": [
    "df_cluster"
   ]
  },
  {
   "cell_type": "markdown",
   "id": "5fa1372a",
   "metadata": {},
   "source": [
    "**Cluster 5 - Candidato a INSIDERS**\n",
    "- Numero de customers: 355 (12.80%)\n",
    "- Faturamento medio: $ 11,098\n",
    "- Recencia media: 18 dias\n",
    "- Media de produto: 485 produtos por compra\n",
    "- Frequencia de compras por mes: 0.11 compras/dia\n",
    "    \n",
    "**Cluster 1 - ...**"
   ]
  },
  {
   "cell_type": "markdown",
   "id": "cdbab2ae",
   "metadata": {
    "ExecuteTime": {
     "end_time": "2023-02-02T17:44:43.119903Z",
     "start_time": "2023-02-02T17:44:43.116700Z"
    }
   },
   "source": [
    "#  <span style=\"color: OrangeRed;\">EXPLORATORY DATA ANALYSIS (EDA) PT2</span>\n",
    "<span style=\"color: OrangeRed;\">***PASSO 10*** </span>"
   ]
  },
  {
   "cell_type": "code",
   "execution_count": 97,
   "id": "4a0f8850",
   "metadata": {
    "ExecuteTime": {
     "end_time": "2023-03-01T17:24:26.335407Z",
     "start_time": "2023-03-01T17:24:26.331597Z"
    }
   },
   "outputs": [],
   "source": [
    "df10 = df92.copy()"
   ]
  },
  {
   "cell_type": "code",
   "execution_count": 98,
   "id": "106bad46",
   "metadata": {
    "ExecuteTime": {
     "end_time": "2023-03-01T17:24:38.212161Z",
     "start_time": "2023-03-01T17:24:38.198487Z"
    }
   },
   "outputs": [
    {
     "data": {
      "text/html": [
       "<div>\n",
       "<style scoped>\n",
       "    .dataframe tbody tr th:only-of-type {\n",
       "        vertical-align: middle;\n",
       "    }\n",
       "\n",
       "    .dataframe tbody tr th {\n",
       "        vertical-align: top;\n",
       "    }\n",
       "\n",
       "    .dataframe thead th {\n",
       "        text-align: right;\n",
       "    }\n",
       "</style>\n",
       "<table border=\"1\" class=\"dataframe\">\n",
       "  <thead>\n",
       "    <tr style=\"text-align: right;\">\n",
       "      <th></th>\n",
       "      <th>customer_id</th>\n",
       "      <th>monetary</th>\n",
       "      <th>recency</th>\n",
       "      <th>frequency</th>\n",
       "      <th>quantity_products</th>\n",
       "      <th>returns</th>\n",
       "      <th>labels</th>\n",
       "    </tr>\n",
       "  </thead>\n",
       "  <tbody>\n",
       "    <tr>\n",
       "      <th>0</th>\n",
       "      <td>17850</td>\n",
       "      <td>5391.21</td>\n",
       "      <td>372.0</td>\n",
       "      <td>17.000000</td>\n",
       "      <td>297.0</td>\n",
       "      <td>21.0</td>\n",
       "      <td>2</td>\n",
       "    </tr>\n",
       "    <tr>\n",
       "      <th>1</th>\n",
       "      <td>13047</td>\n",
       "      <td>3232.59</td>\n",
       "      <td>56.0</td>\n",
       "      <td>0.028302</td>\n",
       "      <td>171.0</td>\n",
       "      <td>6.0</td>\n",
       "      <td>7</td>\n",
       "    </tr>\n",
       "    <tr>\n",
       "      <th>2</th>\n",
       "      <td>12583</td>\n",
       "      <td>6705.38</td>\n",
       "      <td>2.0</td>\n",
       "      <td>0.040323</td>\n",
       "      <td>232.0</td>\n",
       "      <td>50.0</td>\n",
       "      <td>5</td>\n",
       "    </tr>\n",
       "    <tr>\n",
       "      <th>3</th>\n",
       "      <td>13748</td>\n",
       "      <td>948.25</td>\n",
       "      <td>95.0</td>\n",
       "      <td>0.017921</td>\n",
       "      <td>28.0</td>\n",
       "      <td>0.0</td>\n",
       "      <td>7</td>\n",
       "    </tr>\n",
       "    <tr>\n",
       "      <th>4</th>\n",
       "      <td>15100</td>\n",
       "      <td>876.00</td>\n",
       "      <td>333.0</td>\n",
       "      <td>0.073171</td>\n",
       "      <td>3.0</td>\n",
       "      <td>22.0</td>\n",
       "      <td>2</td>\n",
       "    </tr>\n",
       "  </tbody>\n",
       "</table>\n",
       "</div>"
      ],
      "text/plain": [
       "   customer_id  monetary  recency  frequency  quantity_products  returns  \\\n",
       "0        17850   5391.21    372.0  17.000000              297.0     21.0   \n",
       "1        13047   3232.59     56.0   0.028302              171.0      6.0   \n",
       "2        12583   6705.38      2.0   0.040323              232.0     50.0   \n",
       "3        13748    948.25     95.0   0.017921               28.0      0.0   \n",
       "4        15100    876.00    333.0   0.073171                3.0     22.0   \n",
       "\n",
       "   labels  \n",
       "0       2  \n",
       "1       7  \n",
       "2       5  \n",
       "3       7  \n",
       "4       2  "
      ]
     },
     "execution_count": 98,
     "metadata": {},
     "output_type": "execute_result"
    }
   ],
   "source": [
    "df10.head()"
   ]
  },
  {
   "cell_type": "markdown",
   "id": "2c38a877",
   "metadata": {},
   "source": [
    "# <span style=\"color: OrangeRed;\">DEPLOY TO PRODUCTION </span>\n",
    "<span style=\"color: OrangeRed;\">***PASSO 11***</span>"
   ]
  },
  {
   "cell_type": "code",
   "execution_count": 129,
   "id": "9114c4b8",
   "metadata": {
    "ExecuteTime": {
     "end_time": "2023-03-01T19:15:14.832152Z",
     "start_time": "2023-03-01T19:15:14.019463Z"
    }
   },
   "outputs": [],
   "source": [
    "#change dtypes\n",
    "df10['recency'] = df10['recency'].astype(int)\n",
    "df10['quantity_products'] = df10['quantity_products'].astype(int)\n",
    "df10['returns'] = df10['returns'].astype(int)"
   ]
  },
  {
   "cell_type": "code",
   "execution_count": 130,
   "id": "590b6141",
   "metadata": {
    "ExecuteTime": {
     "end_time": "2023-03-01T19:15:15.595456Z",
     "start_time": "2023-03-01T19:15:15.352850Z"
    }
   },
   "outputs": [],
   "source": [
    "from sqlalchemy import create_engine\n",
    "import sqlite3"
   ]
  },
  {
   "cell_type": "code",
   "execution_count": 131,
   "id": "c42d50bd",
   "metadata": {
    "ExecuteTime": {
     "end_time": "2023-03-01T19:15:16.283028Z",
     "start_time": "2023-03-01T19:15:16.279646Z"
    }
   },
   "outputs": [],
   "source": [
    "# Drop table\n",
    "# query_drop_table = \"\"\"\n",
    "#     drop table insiders \n",
    "# \"\"\"\n",
    "# conn = sqlite3.connect ('../src/data/insiders_db.sqlite')\n",
    "# conn.execute(query_drop_table)\n",
    "\n",
    "# database connection\n",
    "# conn = sqlite3.connect ('../src/data/insiders_db.sqlite')\n",
    "\n",
    "# create table \n",
    "# query_create_table_insiders = \"\"\"\n",
    "#     CREATE TABLE insiders (\n",
    "#        customer_id            INTEGER,\n",
    "#        monetary               REAL,\n",
    "#        recency                INTEGER,\n",
    "#        frequency              REAL,\n",
    "#        quantity_products      INTEGER,\n",
    "#        returns                INTEGER,\n",
    "#        labels                 INTEGER \n",
    "#     )\n",
    "# \"\"\"\n",
    "\n",
    "# conn.execute(query_create_table_insiders)"
   ]
  },
  {
   "cell_type": "code",
   "execution_count": 132,
   "id": "e09785c5",
   "metadata": {
    "ExecuteTime": {
     "end_time": "2023-03-01T19:15:18.163982Z",
     "start_time": "2023-03-01T19:15:17.312338Z"
    }
   },
   "outputs": [
    {
     "data": {
      "text/plain": [
       "5695"
      ]
     },
     "execution_count": 132,
     "metadata": {},
     "output_type": "execute_result"
    }
   ],
   "source": [
    "# insert data\n",
    "# conn = create_engine('sqlite:///../src/data/insiders_db.sqlite')\n",
    "conn = create_engine('sqlite:///../data/insiders_db.sqlite')\n",
    "df92.to_sql('insiders', con = conn, if_exists = 'append', index=False)"
   ]
  },
  {
   "cell_type": "code",
   "execution_count": 133,
   "id": "7c4fd456",
   "metadata": {
    "ExecuteTime": {
     "end_time": "2023-03-01T19:15:19.045352Z",
     "start_time": "2023-03-01T19:15:18.821083Z"
    }
   },
   "outputs": [
    {
     "data": {
      "text/html": [
       "<div>\n",
       "<style scoped>\n",
       "    .dataframe tbody tr th:only-of-type {\n",
       "        vertical-align: middle;\n",
       "    }\n",
       "\n",
       "    .dataframe tbody tr th {\n",
       "        vertical-align: top;\n",
       "    }\n",
       "\n",
       "    .dataframe thead th {\n",
       "        text-align: right;\n",
       "    }\n",
       "</style>\n",
       "<table border=\"1\" class=\"dataframe\">\n",
       "  <thead>\n",
       "    <tr style=\"text-align: right;\">\n",
       "      <th></th>\n",
       "      <th>customer_id</th>\n",
       "      <th>monetary</th>\n",
       "      <th>recency</th>\n",
       "      <th>frequency</th>\n",
       "      <th>quantity_products</th>\n",
       "      <th>returns</th>\n",
       "      <th>labels</th>\n",
       "    </tr>\n",
       "  </thead>\n",
       "  <tbody>\n",
       "    <tr>\n",
       "      <th>0</th>\n",
       "      <td>17850</td>\n",
       "      <td>5391.21</td>\n",
       "      <td>372</td>\n",
       "      <td>17.000000</td>\n",
       "      <td>297</td>\n",
       "      <td>21</td>\n",
       "      <td>2</td>\n",
       "    </tr>\n",
       "    <tr>\n",
       "      <th>1</th>\n",
       "      <td>13047</td>\n",
       "      <td>3232.59</td>\n",
       "      <td>56</td>\n",
       "      <td>0.028302</td>\n",
       "      <td>171</td>\n",
       "      <td>6</td>\n",
       "      <td>7</td>\n",
       "    </tr>\n",
       "    <tr>\n",
       "      <th>2</th>\n",
       "      <td>12583</td>\n",
       "      <td>6705.38</td>\n",
       "      <td>2</td>\n",
       "      <td>0.040323</td>\n",
       "      <td>232</td>\n",
       "      <td>50</td>\n",
       "      <td>5</td>\n",
       "    </tr>\n",
       "    <tr>\n",
       "      <th>3</th>\n",
       "      <td>13748</td>\n",
       "      <td>948.25</td>\n",
       "      <td>95</td>\n",
       "      <td>0.017921</td>\n",
       "      <td>28</td>\n",
       "      <td>0</td>\n",
       "      <td>7</td>\n",
       "    </tr>\n",
       "    <tr>\n",
       "      <th>4</th>\n",
       "      <td>15100</td>\n",
       "      <td>876.00</td>\n",
       "      <td>333</td>\n",
       "      <td>0.073171</td>\n",
       "      <td>3</td>\n",
       "      <td>22</td>\n",
       "      <td>2</td>\n",
       "    </tr>\n",
       "  </tbody>\n",
       "</table>\n",
       "</div>"
      ],
      "text/plain": [
       "   customer_id  monetary  recency  frequency  quantity_products  returns  \\\n",
       "0        17850   5391.21      372  17.000000                297       21   \n",
       "1        13047   3232.59       56   0.028302                171        6   \n",
       "2        12583   6705.38        2   0.040323                232       50   \n",
       "3        13748    948.25       95   0.017921                 28        0   \n",
       "4        15100    876.00      333   0.073171                  3       22   \n",
       "\n",
       "   labels  \n",
       "0       2  \n",
       "1       7  \n",
       "2       5  \n",
       "3       7  \n",
       "4       2  "
      ]
     },
     "execution_count": 133,
     "metadata": {},
     "output_type": "execute_result"
    }
   ],
   "source": [
    "# get query \n",
    "query_collect = \"\"\"\n",
    "    select * from insiders\n",
    "\"\"\"\n",
    "# database connection\n",
    "conn = sqlite3.connect ('../data/insiders_db.sqlite')\n",
    "\n",
    "# read sql\n",
    "df = pd.read_sql_query(query_collect,conn)\n",
    "df.head()"
   ]
  },
  {
   "cell_type": "code",
   "execution_count": null,
   "id": "29bed51a",
   "metadata": {},
   "outputs": [],
   "source": []
  },
  {
   "cell_type": "code",
   "execution_count": null,
   "id": "43bc6067",
   "metadata": {},
   "outputs": [],
   "source": []
  }
 ],
 "metadata": {
  "hide_input": false,
  "kernelspec": {
   "display_name": "Python 3 (ipykernel)",
   "language": "python",
   "name": "python3"
  },
  "language_info": {
   "codemirror_mode": {
    "name": "ipython",
    "version": 3
   },
   "file_extension": ".py",
   "mimetype": "text/x-python",
   "name": "python",
   "nbconvert_exporter": "python",
   "pygments_lexer": "ipython3",
   "version": "3.10.8"
  },
  "toc": {
   "base_numbering": 1,
   "nav_menu": {},
   "number_sections": true,
   "sideBar": true,
   "skip_h1_title": false,
   "title_cell": "Table of Contents",
   "title_sidebar": "Contents",
   "toc_cell": false,
   "toc_position": {
    "height": "calc(100% - 180px)",
    "left": "10px",
    "top": "150px",
    "width": "303.542px"
   },
   "toc_section_display": true,
   "toc_window_display": false
  },
  "varInspector": {
   "cols": {
    "lenName": 16,
    "lenType": 16,
    "lenVar": 40
   },
   "kernels_config": {
    "python": {
     "delete_cmd_postfix": "",
     "delete_cmd_prefix": "del ",
     "library": "var_list.py",
     "varRefreshCmd": "print(var_dic_list())"
    },
    "r": {
     "delete_cmd_postfix": ") ",
     "delete_cmd_prefix": "rm(",
     "library": "var_list.r",
     "varRefreshCmd": "cat(var_dic_list()) "
    }
   },
   "types_to_exclude": [
    "module",
    "function",
    "builtin_function_or_method",
    "instance",
    "_Feature"
   ],
   "window_display": false
  }
 },
 "nbformat": 4,
 "nbformat_minor": 5
}
