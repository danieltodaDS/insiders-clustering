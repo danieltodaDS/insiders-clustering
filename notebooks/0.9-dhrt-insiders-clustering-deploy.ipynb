{
 "cells": [
  {
   "cell_type": "markdown",
   "id": "1e0d345c",
   "metadata": {},
   "source": [
    " **PA005: High Value Customers Identification (Insiders)**"
   ]
  },
  {
   "cell_type": "code",
   "execution_count": 1,
   "id": "2d234e41",
   "metadata": {
    "ExecuteTime": {
     "end_time": "2023-02-24T13:00:15.945360Z",
     "start_time": "2023-02-24T13:00:11.084278Z"
    }
   },
   "outputs": [
    {
     "name": "stderr",
     "output_type": "stream",
     "text": [
      "/home/daniel/miniconda3/envs/ds_em_clusterizacao/lib/python3.10/site-packages/tqdm/auto.py:22: TqdmWarning: IProgress not found. Please update jupyter and ipywidgets. See https://ipywidgets.readthedocs.io/en/stable/user_install.html\n",
      "  from .autonotebook import tqdm as notebook_tqdm\n"
     ]
    }
   ],
   "source": [
    "import re\n",
    "\n",
    "import pandas as pd\n",
    "import seaborn as sns\n",
    "import numpy as np\n",
    "import umap.umap_ as umap\n",
    "\n",
    "\n",
    "from yellowbrick.cluster import KElbowVisualizer, SilhouetteVisualizer\n",
    "\n",
    "from plotly              import express       as px \n",
    "from sklearn             import cluster       as c \n",
    "from sklearn             import metrics       as m\n",
    "from sklearn             import preprocessing as pp\n",
    "from sklearn             import decomposition as dd\n",
    "from sklearn             import ensemble      as en\n",
    "from matplotlib          import pyplot        as plt \n",
    "from sklearn.manifold    import TSNE\n",
    "from sklearn             import manifold      as mn\n",
    "from sklearn             import mixture       as mx\n",
    "from sklearn.neighbors   import NearestNeighbors\n",
    "from scipy.cluster       import hierarchy     as hc\n",
    "        "
   ]
  },
  {
   "cell_type": "markdown",
   "id": "f412a646",
   "metadata": {
    "ExecuteTime": {
     "end_time": "2023-02-02T21:25:42.928537Z",
     "start_time": "2023-02-02T21:25:42.926142Z"
    }
   },
   "source": [
    "## Load data"
   ]
  },
  {
   "cell_type": "code",
   "execution_count": 2,
   "id": "bad0a99e",
   "metadata": {
    "ExecuteTime": {
     "end_time": "2023-02-24T13:00:17.629972Z",
     "start_time": "2023-02-24T13:00:17.065906Z"
    }
   },
   "outputs": [],
   "source": [
    "path = '../data/raw/ecommerce.csv'\n",
    "\n",
    "df_raw = pd.read_csv (path)"
   ]
  },
  {
   "cell_type": "markdown",
   "id": "a92da99c",
   "metadata": {},
   "source": [
    "## Data Cleaning"
   ]
  },
  {
   "cell_type": "code",
   "execution_count": 3,
   "id": "ad46ba28",
   "metadata": {
    "ExecuteTime": {
     "end_time": "2023-02-24T13:00:18.476605Z",
     "start_time": "2023-02-24T13:00:18.398753Z"
    }
   },
   "outputs": [],
   "source": [
    "df = df_raw.copy()\n",
    "\n",
    "df = df.drop(columns=['Unnamed: 8'], axis=1)"
   ]
  },
  {
   "cell_type": "code",
   "execution_count": 4,
   "id": "697863ba",
   "metadata": {
    "ExecuteTime": {
     "end_time": "2023-02-24T13:00:19.198196Z",
     "start_time": "2023-02-24T13:00:19.182686Z"
    },
    "scrolled": true
   },
   "outputs": [
    {
     "data": {
      "text/html": [
       "<div>\n",
       "<style scoped>\n",
       "    .dataframe tbody tr th:only-of-type {\n",
       "        vertical-align: middle;\n",
       "    }\n",
       "\n",
       "    .dataframe tbody tr th {\n",
       "        vertical-align: top;\n",
       "    }\n",
       "\n",
       "    .dataframe thead th {\n",
       "        text-align: right;\n",
       "    }\n",
       "</style>\n",
       "<table border=\"1\" class=\"dataframe\">\n",
       "  <thead>\n",
       "    <tr style=\"text-align: right;\">\n",
       "      <th></th>\n",
       "      <th>InvoiceNo</th>\n",
       "      <th>StockCode</th>\n",
       "      <th>Description</th>\n",
       "      <th>Quantity</th>\n",
       "      <th>InvoiceDate</th>\n",
       "      <th>UnitPrice</th>\n",
       "      <th>CustomerID</th>\n",
       "      <th>Country</th>\n",
       "    </tr>\n",
       "  </thead>\n",
       "  <tbody>\n",
       "    <tr>\n",
       "      <th>0</th>\n",
       "      <td>536365</td>\n",
       "      <td>85123A</td>\n",
       "      <td>WHITE HANGING HEART T-LIGHT HOLDER</td>\n",
       "      <td>6</td>\n",
       "      <td>29-Nov-16</td>\n",
       "      <td>2.55</td>\n",
       "      <td>17850.0</td>\n",
       "      <td>United Kingdom</td>\n",
       "    </tr>\n",
       "    <tr>\n",
       "      <th>1</th>\n",
       "      <td>536365</td>\n",
       "      <td>71053</td>\n",
       "      <td>WHITE METAL LANTERN</td>\n",
       "      <td>6</td>\n",
       "      <td>29-Nov-16</td>\n",
       "      <td>3.39</td>\n",
       "      <td>17850.0</td>\n",
       "      <td>United Kingdom</td>\n",
       "    </tr>\n",
       "    <tr>\n",
       "      <th>2</th>\n",
       "      <td>536365</td>\n",
       "      <td>84406B</td>\n",
       "      <td>CREAM CUPID HEARTS COAT HANGER</td>\n",
       "      <td>8</td>\n",
       "      <td>29-Nov-16</td>\n",
       "      <td>2.75</td>\n",
       "      <td>17850.0</td>\n",
       "      <td>United Kingdom</td>\n",
       "    </tr>\n",
       "    <tr>\n",
       "      <th>3</th>\n",
       "      <td>536365</td>\n",
       "      <td>84029G</td>\n",
       "      <td>KNITTED UNION FLAG HOT WATER BOTTLE</td>\n",
       "      <td>6</td>\n",
       "      <td>29-Nov-16</td>\n",
       "      <td>3.39</td>\n",
       "      <td>17850.0</td>\n",
       "      <td>United Kingdom</td>\n",
       "    </tr>\n",
       "    <tr>\n",
       "      <th>4</th>\n",
       "      <td>536365</td>\n",
       "      <td>84029E</td>\n",
       "      <td>RED WOOLLY HOTTIE WHITE HEART.</td>\n",
       "      <td>6</td>\n",
       "      <td>29-Nov-16</td>\n",
       "      <td>3.39</td>\n",
       "      <td>17850.0</td>\n",
       "      <td>United Kingdom</td>\n",
       "    </tr>\n",
       "  </tbody>\n",
       "</table>\n",
       "</div>"
      ],
      "text/plain": [
       "  InvoiceNo StockCode                          Description  Quantity  \\\n",
       "0    536365    85123A   WHITE HANGING HEART T-LIGHT HOLDER         6   \n",
       "1    536365     71053                  WHITE METAL LANTERN         6   \n",
       "2    536365    84406B       CREAM CUPID HEARTS COAT HANGER         8   \n",
       "3    536365    84029G  KNITTED UNION FLAG HOT WATER BOTTLE         6   \n",
       "4    536365    84029E       RED WOOLLY HOTTIE WHITE HEART.         6   \n",
       "\n",
       "  InvoiceDate  UnitPrice  CustomerID         Country  \n",
       "0   29-Nov-16       2.55     17850.0  United Kingdom  \n",
       "1   29-Nov-16       3.39     17850.0  United Kingdom  \n",
       "2   29-Nov-16       2.75     17850.0  United Kingdom  \n",
       "3   29-Nov-16       3.39     17850.0  United Kingdom  \n",
       "4   29-Nov-16       3.39     17850.0  United Kingdom  "
      ]
     },
     "execution_count": 4,
     "metadata": {},
     "output_type": "execute_result"
    }
   ],
   "source": [
    "df.head()"
   ]
  },
  {
   "cell_type": "markdown",
   "id": "7cadc5a3",
   "metadata": {
    "ExecuteTime": {
     "end_time": "2023-02-02T17:44:43.119903Z",
     "start_time": "2023-02-02T17:44:43.116700Z"
    }
   },
   "source": [
    "# <span style=\"color: OrangeRed;\">DATA DESCRIPTION</span>\n",
    "<span style=\"color: OrangeRed;\">***PASSO 1***</span>"
   ]
  },
  {
   "cell_type": "code",
   "execution_count": 5,
   "id": "baa48595",
   "metadata": {
    "ExecuteTime": {
     "end_time": "2023-02-24T13:00:20.517795Z",
     "start_time": "2023-02-24T13:00:20.502796Z"
    }
   },
   "outputs": [],
   "source": [
    "df1 = df.copy()"
   ]
  },
  {
   "cell_type": "markdown",
   "id": "661b98a9",
   "metadata": {},
   "source": [
    "## Columns Description"
   ]
  },
  {
   "cell_type": "markdown",
   "id": "3e8c7231",
   "metadata": {},
   "source": [
    "|column|description|\n",
    "|:-----|:---------|\n",
    "|invoice_no|identificador de uma compra realizada no ecommerce|\n",
    "|stock_code|identificador unico do produto comprado|\n",
    "|description|descricao do produto|\n",
    "|quantity|quantidade|\n",
    "|invoice_date|data da compra|\n",
    "|unit_price|preço unitario do produto|\n",
    "|customer_id|identificador do comprador|\n",
    "|country|pais do comprador|"
   ]
  },
  {
   "cell_type": "markdown",
   "id": "f731ec13",
   "metadata": {
    "code_folding": []
   },
   "source": [
    "## Rename Columns"
   ]
  },
  {
   "cell_type": "code",
   "execution_count": 6,
   "id": "b2d3c697",
   "metadata": {
    "ExecuteTime": {
     "end_time": "2023-02-24T13:00:22.811450Z",
     "start_time": "2023-02-24T13:00:22.807652Z"
    }
   },
   "outputs": [],
   "source": [
    "new_columns = ['invoice_no', 'stock_code', 'description', 'quantity', 'invoice_date',\n",
    "       'unit_price', 'customer_id', 'country']\n",
    "\n",
    "df1.columns = new_columns"
   ]
  },
  {
   "cell_type": "markdown",
   "id": "f46c758a",
   "metadata": {},
   "source": [
    "## Data Dimensions"
   ]
  },
  {
   "cell_type": "code",
   "execution_count": 7,
   "id": "f6e074ea",
   "metadata": {
    "ExecuteTime": {
     "end_time": "2023-02-24T13:00:24.023842Z",
     "start_time": "2023-02-24T13:00:24.017724Z"
    },
    "scrolled": true
   },
   "outputs": [
    {
     "name": "stdout",
     "output_type": "stream",
     "text": [
      "Number of rows:541909\n",
      "Number of rows:8\n"
     ]
    }
   ],
   "source": [
    "print('Number of rows:{}'.format(df1.shape[0]))\n",
    "print('Number of rows:{}'.format(df1.shape[1]))"
   ]
  },
  {
   "cell_type": "markdown",
   "id": "d4d7f3b2",
   "metadata": {},
   "source": [
    "## Data Types"
   ]
  },
  {
   "cell_type": "code",
   "execution_count": 8,
   "id": "7ea62ba5",
   "metadata": {
    "ExecuteTime": {
     "end_time": "2023-02-24T13:00:25.710224Z",
     "start_time": "2023-02-24T13:00:25.705374Z"
    }
   },
   "outputs": [
    {
     "data": {
      "text/plain": [
       "invoice_no       object\n",
       "stock_code       object\n",
       "description      object\n",
       "quantity          int64\n",
       "invoice_date     object\n",
       "unit_price      float64\n",
       "customer_id     float64\n",
       "country          object\n",
       "dtype: object"
      ]
     },
     "execution_count": 8,
     "metadata": {},
     "output_type": "execute_result"
    }
   ],
   "source": [
    "df1.dtypes"
   ]
  },
  {
   "cell_type": "markdown",
   "id": "5b526249",
   "metadata": {},
   "source": [
    "## Check NA"
   ]
  },
  {
   "cell_type": "code",
   "execution_count": 9,
   "id": "e72715a0",
   "metadata": {
    "ExecuteTime": {
     "end_time": "2023-02-24T13:00:27.359038Z",
     "start_time": "2023-02-24T13:00:27.018574Z"
    },
    "scrolled": true
   },
   "outputs": [
    {
     "data": {
      "text/plain": [
       "invoice_no           0\n",
       "stock_code           0\n",
       "description       1454\n",
       "quantity             0\n",
       "invoice_date         0\n",
       "unit_price           0\n",
       "customer_id     135080\n",
       "country              0\n",
       "dtype: int64"
      ]
     },
     "execution_count": 9,
     "metadata": {},
     "output_type": "execute_result"
    }
   ],
   "source": [
    "df1.isna().sum()"
   ]
  },
  {
   "cell_type": "markdown",
   "id": "94813b3e",
   "metadata": {},
   "source": [
    "## Replace NA"
   ]
  },
  {
   "cell_type": "code",
   "execution_count": 10,
   "id": "7dd99f06",
   "metadata": {
    "ExecuteTime": {
     "end_time": "2023-02-24T13:00:29.439178Z",
     "start_time": "2023-02-24T13:00:28.860965Z"
    },
    "scrolled": true
   },
   "outputs": [
    {
     "name": "stdout",
     "output_type": "stream",
     "text": [
      "\u001b[1mMissing values:\u001b[0m \n",
      "\n",
      "invoice_no      0\n",
      "stock_code      0\n",
      "description     0\n",
      "quantity        0\n",
      "invoice_date    0\n",
      "unit_price      0\n",
      "country         0\n",
      "customer_id     0\n",
      "dtype: int64\n"
     ]
    }
   ],
   "source": [
    "# === customer_id ===\n",
    "# df1 = df1.dropna(subset=['customer_id'],axis=0)\n",
    "# print('Removed data from subset customer_id: {:.2f}%'.format(100*(1-(df1.shape[0]/df_raw.shape[0]))))\n",
    "\n",
    "# df separando missing e nao-missing\n",
    "df_missing = df1.loc[df1['customer_id'].isna(), :]\n",
    "df_not_missing = df1.loc[~df1['customer_id'].isna(), :]\n",
    " \n",
    "# selecionando invoice do missing no nao-missing, para encontrar correspondencia de customer_id\n",
    "# df_not_missing.loc[df_not_missing['invoice_no'].isin(df_missing['invoice_no']), :] #Out: []\n",
    "\n",
    "# Ultimo valor de de customer_id\n",
    "# df1['customer_id'].max() #Out: 18287\n",
    "\n",
    "# table of unique invoice that has customer_id missing\n",
    "invoice_missing = pd.DataFrame(df_missing['invoice_no'].drop_duplicates()).reset_index(drop=True)\n",
    "\n",
    "# Vector of values to assume sintetic 'customer_id' values\n",
    "invoice_missing['customer_id'] = np.arange(19000, (19000 + len(invoice_missing)), 1)\n",
    "\n",
    "# Merge to add sintetic values to orginal dataframe\n",
    "df1 = pd.merge(df1, invoice_missing, on='invoice_no', how='left')\n",
    "\n",
    "# Combine to aggregate into unique customer_id column\n",
    "df1['customer_id'] = df1['customer_id_x'].combine_first(df1['customer_id_y'])\n",
    "\n",
    "# Drop extra columns\n",
    "df1 = df1.drop(columns=['customer_id_x','customer_id_y'], axis=1)\n",
    "\n",
    "# ===description=== \n",
    "df1['description'] = df1['description'].fillna(0)\n",
    "\n",
    "#Print missings \n",
    "df1.head()\n",
    "print('\\033[1mMissing values:\\033[0m \\n\\n{}'.format(df1.isna().sum()))\n"
   ]
  },
  {
   "cell_type": "markdown",
   "id": "fc56ee11",
   "metadata": {},
   "source": [
    "## Change Dtypes"
   ]
  },
  {
   "cell_type": "code",
   "execution_count": 11,
   "id": "ef3c9f55",
   "metadata": {
    "ExecuteTime": {
     "end_time": "2023-02-24T13:00:31.668003Z",
     "start_time": "2023-02-24T13:00:31.660562Z"
    },
    "scrolled": true
   },
   "outputs": [
    {
     "data": {
      "text/plain": [
       "invoice_no       object\n",
       "stock_code       object\n",
       "description      object\n",
       "quantity          int64\n",
       "invoice_date     object\n",
       "unit_price      float64\n",
       "country          object\n",
       "customer_id     float64\n",
       "dtype: object"
      ]
     },
     "execution_count": 11,
     "metadata": {},
     "output_type": "execute_result"
    }
   ],
   "source": [
    "df1.dtypes"
   ]
  },
  {
   "cell_type": "code",
   "execution_count": 12,
   "id": "a990fd3a",
   "metadata": {
    "ExecuteTime": {
     "end_time": "2023-02-24T13:00:33.603667Z",
     "start_time": "2023-02-24T13:00:33.097520Z"
    }
   },
   "outputs": [],
   "source": [
    "# invoice_date     \n",
    "df1['invoice_date'] = pd.to_datetime(df1['invoice_date']).dt.strftime('%Y-%m-%d')\n",
    "df1['invoice_date'] = pd.to_datetime(df1['invoice_date'])\n",
    "\n",
    "# customer_id     \n",
    "df1['customer_id'] = df1['customer_id'].astype(int)"
   ]
  },
  {
   "cell_type": "code",
   "execution_count": 13,
   "id": "0246d631",
   "metadata": {
    "ExecuteTime": {
     "end_time": "2023-02-24T13:00:34.136021Z",
     "start_time": "2023-02-24T13:00:34.111720Z"
    },
    "scrolled": true
   },
   "outputs": [
    {
     "data": {
      "text/plain": [
       "invoice_no              object\n",
       "stock_code              object\n",
       "description             object\n",
       "quantity                 int64\n",
       "invoice_date    datetime64[ns]\n",
       "unit_price             float64\n",
       "country                 object\n",
       "customer_id              int64\n",
       "dtype: object"
      ]
     },
     "execution_count": 13,
     "metadata": {},
     "output_type": "execute_result"
    }
   ],
   "source": [
    "df1.dtypes"
   ]
  },
  {
   "cell_type": "markdown",
   "id": "6ce1b683",
   "metadata": {},
   "source": [
    "## Descriptive Statistics"
   ]
  },
  {
   "cell_type": "code",
   "execution_count": 14,
   "id": "4364d478",
   "metadata": {
    "ExecuteTime": {
     "end_time": "2023-02-24T13:00:35.606189Z",
     "start_time": "2023-02-24T13:00:35.539290Z"
    }
   },
   "outputs": [],
   "source": [
    "num_attributes = df1.select_dtypes(include=['int64','float64'])\n",
    "cat_attributes = df1.select_dtypes(exclude=['int64','float64','datetime64[ns]'])"
   ]
  },
  {
   "cell_type": "markdown",
   "id": "e3f89305",
   "metadata": {
    "ExecuteTime": {
     "end_time": "2023-02-07T18:31:47.521692Z",
     "start_time": "2023-02-07T18:31:47.519278Z"
    }
   },
   "source": [
    "### Numerical Attributes"
   ]
  },
  {
   "cell_type": "code",
   "execution_count": 15,
   "id": "e0f2c3f7",
   "metadata": {
    "ExecuteTime": {
     "end_time": "2023-02-24T13:00:36.915557Z",
     "start_time": "2023-02-24T13:00:36.806541Z"
    },
    "scrolled": true
   },
   "outputs": [
    {
     "data": {
      "text/html": [
       "<div>\n",
       "<style scoped>\n",
       "    .dataframe tbody tr th:only-of-type {\n",
       "        vertical-align: middle;\n",
       "    }\n",
       "\n",
       "    .dataframe tbody tr th {\n",
       "        vertical-align: top;\n",
       "    }\n",
       "\n",
       "    .dataframe thead th {\n",
       "        text-align: right;\n",
       "    }\n",
       "</style>\n",
       "<table border=\"1\" class=\"dataframe\">\n",
       "  <thead>\n",
       "    <tr style=\"text-align: right;\">\n",
       "      <th></th>\n",
       "      <th>attributes</th>\n",
       "      <th>min</th>\n",
       "      <th>max</th>\n",
       "      <th>range</th>\n",
       "      <th>mean</th>\n",
       "      <th>std</th>\n",
       "      <th>median</th>\n",
       "      <th>skew</th>\n",
       "      <th>kurtosis</th>\n",
       "    </tr>\n",
       "  </thead>\n",
       "  <tbody>\n",
       "    <tr>\n",
       "      <th>0</th>\n",
       "      <td>quantity</td>\n",
       "      <td>-80995.00</td>\n",
       "      <td>80995.0</td>\n",
       "      <td>161990.00</td>\n",
       "      <td>9.552250</td>\n",
       "      <td>218.081158</td>\n",
       "      <td>3.00</td>\n",
       "      <td>-0.264076</td>\n",
       "      <td>119769.160031</td>\n",
       "    </tr>\n",
       "    <tr>\n",
       "      <th>1</th>\n",
       "      <td>unit_price</td>\n",
       "      <td>-11062.06</td>\n",
       "      <td>38970.0</td>\n",
       "      <td>50032.06</td>\n",
       "      <td>4.611114</td>\n",
       "      <td>96.759853</td>\n",
       "      <td>2.08</td>\n",
       "      <td>186.506972</td>\n",
       "      <td>59005.719097</td>\n",
       "    </tr>\n",
       "    <tr>\n",
       "      <th>2</th>\n",
       "      <td>customer_id</td>\n",
       "      <td>12346.00</td>\n",
       "      <td>22709.0</td>\n",
       "      <td>10363.00</td>\n",
       "      <td>16688.840453</td>\n",
       "      <td>2911.411352</td>\n",
       "      <td>16249.00</td>\n",
       "      <td>0.487449</td>\n",
       "      <td>-0.804287</td>\n",
       "    </tr>\n",
       "  </tbody>\n",
       "</table>\n",
       "</div>"
      ],
      "text/plain": [
       "    attributes       min      max      range          mean          std  \\\n",
       "0     quantity -80995.00  80995.0  161990.00      9.552250   218.081158   \n",
       "1   unit_price -11062.06  38970.0   50032.06      4.611114    96.759853   \n",
       "2  customer_id  12346.00  22709.0   10363.00  16688.840453  2911.411352   \n",
       "\n",
       "     median        skew       kurtosis  \n",
       "0      3.00   -0.264076  119769.160031  \n",
       "1      2.08  186.506972   59005.719097  \n",
       "2  16249.00    0.487449      -0.804287  "
      ]
     },
     "execution_count": 15,
     "metadata": {},
     "output_type": "execute_result"
    }
   ],
   "source": [
    "# Central Tendency - mean, median\n",
    "c1 = pd.DataFrame(num_attributes.mean()).T\n",
    "c2 = pd.DataFrame(num_attributes.median()).T\n",
    "\n",
    "# Dispersion - min, max, range, std, skew, kurtosis\n",
    "d1 = pd.DataFrame(num_attributes.min()).T\n",
    "d2 = pd.DataFrame(num_attributes.max()).T\n",
    "d3 = pd.DataFrame(num_attributes.apply(lambda x: x.max()-x.min())).T\n",
    "d4 = pd.DataFrame(num_attributes.apply(lambda x: x.std())).T\n",
    "d5 = pd.DataFrame(num_attributes.apply(lambda x: x.skew())).T\n",
    "d6 = pd.DataFrame(num_attributes.apply(lambda x: x.kurtosis())).T\n",
    "\n",
    "descriptive_analysis = pd.concat([ d1, d2, d3, c1, d4, c2, d5, d6], axis= 0).T.reset_index()\n",
    "descriptive_analysis.columns = ['attributes','min','max', 'range','mean','std', 'median', 'skew', 'kurtosis']\n",
    "descriptive_analysis"
   ]
  },
  {
   "cell_type": "markdown",
   "id": "50ba3c8f",
   "metadata": {
    "ExecuteTime": {
     "end_time": "2023-02-07T18:31:48.996714Z",
     "start_time": "2023-02-07T18:31:47.968060Z"
    }
   },
   "source": [
    "### Categorical Attributes"
   ]
  },
  {
   "cell_type": "code",
   "execution_count": 16,
   "id": "80d710be",
   "metadata": {
    "ExecuteTime": {
     "end_time": "2023-02-24T13:00:38.405140Z",
     "start_time": "2023-02-24T13:00:38.394979Z"
    },
    "scrolled": true
   },
   "outputs": [
    {
     "data": {
      "text/html": [
       "<div>\n",
       "<style scoped>\n",
       "    .dataframe tbody tr th:only-of-type {\n",
       "        vertical-align: middle;\n",
       "    }\n",
       "\n",
       "    .dataframe tbody tr th {\n",
       "        vertical-align: top;\n",
       "    }\n",
       "\n",
       "    .dataframe thead th {\n",
       "        text-align: right;\n",
       "    }\n",
       "</style>\n",
       "<table border=\"1\" class=\"dataframe\">\n",
       "  <thead>\n",
       "    <tr style=\"text-align: right;\">\n",
       "      <th></th>\n",
       "      <th>invoice_no</th>\n",
       "      <th>stock_code</th>\n",
       "      <th>description</th>\n",
       "      <th>country</th>\n",
       "    </tr>\n",
       "  </thead>\n",
       "  <tbody>\n",
       "    <tr>\n",
       "      <th>0</th>\n",
       "      <td>536365</td>\n",
       "      <td>85123A</td>\n",
       "      <td>WHITE HANGING HEART T-LIGHT HOLDER</td>\n",
       "      <td>United Kingdom</td>\n",
       "    </tr>\n",
       "    <tr>\n",
       "      <th>1</th>\n",
       "      <td>536365</td>\n",
       "      <td>71053</td>\n",
       "      <td>WHITE METAL LANTERN</td>\n",
       "      <td>United Kingdom</td>\n",
       "    </tr>\n",
       "    <tr>\n",
       "      <th>2</th>\n",
       "      <td>536365</td>\n",
       "      <td>84406B</td>\n",
       "      <td>CREAM CUPID HEARTS COAT HANGER</td>\n",
       "      <td>United Kingdom</td>\n",
       "    </tr>\n",
       "    <tr>\n",
       "      <th>3</th>\n",
       "      <td>536365</td>\n",
       "      <td>84029G</td>\n",
       "      <td>KNITTED UNION FLAG HOT WATER BOTTLE</td>\n",
       "      <td>United Kingdom</td>\n",
       "    </tr>\n",
       "    <tr>\n",
       "      <th>4</th>\n",
       "      <td>536365</td>\n",
       "      <td>84029E</td>\n",
       "      <td>RED WOOLLY HOTTIE WHITE HEART.</td>\n",
       "      <td>United Kingdom</td>\n",
       "    </tr>\n",
       "  </tbody>\n",
       "</table>\n",
       "</div>"
      ],
      "text/plain": [
       "  invoice_no stock_code                          description         country\n",
       "0     536365     85123A   WHITE HANGING HEART T-LIGHT HOLDER  United Kingdom\n",
       "1     536365      71053                  WHITE METAL LANTERN  United Kingdom\n",
       "2     536365     84406B       CREAM CUPID HEARTS COAT HANGER  United Kingdom\n",
       "3     536365     84029G  KNITTED UNION FLAG HOT WATER BOTTLE  United Kingdom\n",
       "4     536365     84029E       RED WOOLLY HOTTIE WHITE HEART.  United Kingdom"
      ]
     },
     "execution_count": 16,
     "metadata": {},
     "output_type": "execute_result"
    }
   ],
   "source": [
    "cat_attributes.head()\n"
   ]
  },
  {
   "cell_type": "markdown",
   "id": "2e8a27b8",
   "metadata": {},
   "source": [
    "#### Categorical attributes - Investigating"
   ]
  },
  {
   "cell_type": "markdown",
   "id": "620de64a",
   "metadata": {
    "ExecuteTime": {
     "end_time": "2023-02-08T17:39:33.096852Z",
     "start_time": "2023-02-08T17:39:33.092543Z"
    }
   },
   "source": [
    "##### Invoice no"
   ]
  },
  {
   "cell_type": "code",
   "execution_count": 17,
   "id": "597cbfe2",
   "metadata": {
    "ExecuteTime": {
     "end_time": "2023-02-24T13:00:41.305821Z",
     "start_time": "2023-02-24T13:00:40.815083Z"
    },
    "code_folding": [],
    "scrolled": false
   },
   "outputs": [
    {
     "name": "stdout",
     "output_type": "stream",
     "text": [
      "invoice_no unicos que contem letras: 3839\n",
      "invoice_no unicos: 25900\n",
      "Linhas com invoices com letra no inicio: 9291\n",
      "Linhas com quantidades < 0: 10624\n"
     ]
    }
   ],
   "source": [
    "# problema: invoices com letras e numeros\n",
    "# df1['invoice_no'].astype(int)\n",
    "\n",
    "# identificacao:  counting anomalous invoice_no with a letter at beginning\n",
    "contain_letter = df1['invoice_no'].apply(lambda x: bool(re.search('[^0-9]+',x)))\n",
    "unique_invoice_letter = df1.loc[contain_letter,'invoice_no']\n",
    "print('invoice_no unicos que contem letras: {}'.format(unique_invoice_letter.drop_duplicates().count()))\n",
    "print('invoice_no unicos: {}'.format(df1['invoice_no'].unique().shape[0]))\n",
    "print('Linhas com invoices com letra no inicio: {}'.format(unique_invoice_letter.count()))\n",
    "print('Linhas com quantidades < 0: {}'.format(df1.loc[df1['quantity']<0,'invoice_no'].count()))"
   ]
  },
  {
   "cell_type": "code",
   "execution_count": 18,
   "id": "983b3139",
   "metadata": {
    "ExecuteTime": {
     "end_time": "2023-02-24T13:00:41.576508Z",
     "start_time": "2023-02-24T13:00:41.568157Z"
    }
   },
   "outputs": [
    {
     "data": {
      "text/plain": [
       "141       C536379\n",
       "154       C536383\n",
       "235       C536391\n",
       "236       C536391\n",
       "237       C536391\n",
       "           ...   \n",
       "540449    C581490\n",
       "541541    C581499\n",
       "541715    C581568\n",
       "541716    C581569\n",
       "541717    C581569\n",
       "Name: invoice_no, Length: 9291, dtype: object"
      ]
     },
     "execution_count": 18,
     "metadata": {},
     "output_type": "execute_result"
    }
   ],
   "source": [
    "unique_invoice_letter\n"
   ]
  },
  {
   "cell_type": "markdown",
   "id": "9d807369",
   "metadata": {},
   "source": [
    "##### Stock code"
   ]
  },
  {
   "cell_type": "code",
   "execution_count": 19,
   "id": "5a57ca28",
   "metadata": {
    "ExecuteTime": {
     "end_time": "2023-02-24T13:00:44.096787Z",
     "start_time": "2023-02-24T13:00:43.110118Z"
    },
    "scrolled": false
   },
   "outputs": [
    {
     "name": "stdout",
     "output_type": "stream",
     "text": [
      "stock_code unicos com alguma letra: 1124\n",
      "stock_code que contem apenas letras: 12\n",
      "stock code all letters: ['POST' 'D' 'DOT' 'M' 'S' 'AMAZONFEE' 'm' 'DCGSSBOY' 'DCGSSGIRL' 'PADS'\n",
      " 'B' 'CRUK']\n"
     ]
    },
    {
     "data": {
      "text/html": [
       "<div>\n",
       "<style scoped>\n",
       "    .dataframe tbody tr th:only-of-type {\n",
       "        vertical-align: middle;\n",
       "    }\n",
       "\n",
       "    .dataframe tbody tr th {\n",
       "        vertical-align: top;\n",
       "    }\n",
       "\n",
       "    .dataframe thead th {\n",
       "        text-align: right;\n",
       "    }\n",
       "</style>\n",
       "<table border=\"1\" class=\"dataframe\">\n",
       "  <thead>\n",
       "    <tr style=\"text-align: right;\">\n",
       "      <th></th>\n",
       "      <th>invoice_no</th>\n",
       "      <th>stock_code</th>\n",
       "      <th>description</th>\n",
       "      <th>quantity</th>\n",
       "      <th>invoice_date</th>\n",
       "      <th>unit_price</th>\n",
       "      <th>country</th>\n",
       "      <th>customer_id</th>\n",
       "    </tr>\n",
       "  </thead>\n",
       "  <tbody>\n",
       "    <tr>\n",
       "      <th>45</th>\n",
       "      <td>536370</td>\n",
       "      <td>POST</td>\n",
       "      <td>POSTAGE</td>\n",
       "      <td>3</td>\n",
       "      <td>2016-11-29</td>\n",
       "      <td>18.00</td>\n",
       "      <td>France</td>\n",
       "      <td>12583</td>\n",
       "    </tr>\n",
       "    <tr>\n",
       "      <th>141</th>\n",
       "      <td>C536379</td>\n",
       "      <td>D</td>\n",
       "      <td>Discount</td>\n",
       "      <td>-1</td>\n",
       "      <td>2016-11-29</td>\n",
       "      <td>27.50</td>\n",
       "      <td>United Kingdom</td>\n",
       "      <td>14527</td>\n",
       "    </tr>\n",
       "    <tr>\n",
       "      <th>386</th>\n",
       "      <td>536403</td>\n",
       "      <td>POST</td>\n",
       "      <td>POSTAGE</td>\n",
       "      <td>1</td>\n",
       "      <td>2016-11-29</td>\n",
       "      <td>15.00</td>\n",
       "      <td>Netherlands</td>\n",
       "      <td>12791</td>\n",
       "    </tr>\n",
       "    <tr>\n",
       "      <th>1123</th>\n",
       "      <td>536527</td>\n",
       "      <td>POST</td>\n",
       "      <td>POSTAGE</td>\n",
       "      <td>1</td>\n",
       "      <td>2016-11-29</td>\n",
       "      <td>18.00</td>\n",
       "      <td>Germany</td>\n",
       "      <td>12662</td>\n",
       "    </tr>\n",
       "    <tr>\n",
       "      <th>1814</th>\n",
       "      <td>536544</td>\n",
       "      <td>DOT</td>\n",
       "      <td>DOTCOM POSTAGE</td>\n",
       "      <td>1</td>\n",
       "      <td>2016-11-29</td>\n",
       "      <td>569.77</td>\n",
       "      <td>United Kingdom</td>\n",
       "      <td>19001</td>\n",
       "    </tr>\n",
       "    <tr>\n",
       "      <th>...</th>\n",
       "      <td>...</td>\n",
       "      <td>...</td>\n",
       "      <td>...</td>\n",
       "      <td>...</td>\n",
       "      <td>...</td>\n",
       "      <td>...</td>\n",
       "      <td>...</td>\n",
       "      <td>...</td>\n",
       "    </tr>\n",
       "    <tr>\n",
       "      <th>541540</th>\n",
       "      <td>581498</td>\n",
       "      <td>DOT</td>\n",
       "      <td>DOTCOM POSTAGE</td>\n",
       "      <td>1</td>\n",
       "      <td>2017-12-07</td>\n",
       "      <td>1714.17</td>\n",
       "      <td>United Kingdom</td>\n",
       "      <td>22709</td>\n",
       "    </tr>\n",
       "    <tr>\n",
       "      <th>541541</th>\n",
       "      <td>C581499</td>\n",
       "      <td>M</td>\n",
       "      <td>Manual</td>\n",
       "      <td>-1</td>\n",
       "      <td>2017-12-07</td>\n",
       "      <td>224.69</td>\n",
       "      <td>United Kingdom</td>\n",
       "      <td>15498</td>\n",
       "    </tr>\n",
       "    <tr>\n",
       "      <th>541730</th>\n",
       "      <td>581570</td>\n",
       "      <td>POST</td>\n",
       "      <td>POSTAGE</td>\n",
       "      <td>1</td>\n",
       "      <td>2017-12-07</td>\n",
       "      <td>18.00</td>\n",
       "      <td>Germany</td>\n",
       "      <td>12662</td>\n",
       "    </tr>\n",
       "    <tr>\n",
       "      <th>541767</th>\n",
       "      <td>581574</td>\n",
       "      <td>POST</td>\n",
       "      <td>POSTAGE</td>\n",
       "      <td>2</td>\n",
       "      <td>2017-12-07</td>\n",
       "      <td>18.00</td>\n",
       "      <td>Germany</td>\n",
       "      <td>12526</td>\n",
       "    </tr>\n",
       "    <tr>\n",
       "      <th>541768</th>\n",
       "      <td>581578</td>\n",
       "      <td>POST</td>\n",
       "      <td>POSTAGE</td>\n",
       "      <td>3</td>\n",
       "      <td>2017-12-07</td>\n",
       "      <td>18.00</td>\n",
       "      <td>Germany</td>\n",
       "      <td>12713</td>\n",
       "    </tr>\n",
       "  </tbody>\n",
       "</table>\n",
       "<p>2759 rows × 8 columns</p>\n",
       "</div>"
      ],
      "text/plain": [
       "       invoice_no stock_code     description  quantity invoice_date  \\\n",
       "45         536370       POST         POSTAGE         3   2016-11-29   \n",
       "141       C536379          D        Discount        -1   2016-11-29   \n",
       "386        536403       POST         POSTAGE         1   2016-11-29   \n",
       "1123       536527       POST         POSTAGE         1   2016-11-29   \n",
       "1814       536544        DOT  DOTCOM POSTAGE         1   2016-11-29   \n",
       "...           ...        ...             ...       ...          ...   \n",
       "541540     581498        DOT  DOTCOM POSTAGE         1   2017-12-07   \n",
       "541541    C581499          M          Manual        -1   2017-12-07   \n",
       "541730     581570       POST         POSTAGE         1   2017-12-07   \n",
       "541767     581574       POST         POSTAGE         2   2017-12-07   \n",
       "541768     581578       POST         POSTAGE         3   2017-12-07   \n",
       "\n",
       "        unit_price         country  customer_id  \n",
       "45           18.00          France        12583  \n",
       "141          27.50  United Kingdom        14527  \n",
       "386          15.00     Netherlands        12791  \n",
       "1123         18.00         Germany        12662  \n",
       "1814        569.77  United Kingdom        19001  \n",
       "...            ...             ...          ...  \n",
       "541540     1714.17  United Kingdom        22709  \n",
       "541541      224.69  United Kingdom        15498  \n",
       "541730       18.00         Germany        12662  \n",
       "541767       18.00         Germany        12526  \n",
       "541768       18.00         Germany        12713  \n",
       "\n",
       "[2759 rows x 8 columns]"
      ]
     },
     "execution_count": 19,
     "metadata": {},
     "output_type": "execute_result"
    }
   ],
   "source": [
    "# stock_code that contain letter\n",
    "contain_letter = df1['stock_code'].apply(lambda x: bool(re.search('[^0-9]+',x)))\n",
    "unique_stock_letter = df1.loc[contain_letter,'stock_code'].drop_duplicates()\n",
    "print('stock_code unicos com alguma letra: {}'.format(unique_stock_letter.count()))\n",
    "\n",
    "# unique stock_code all letter\n",
    "all_letters = df1['stock_code'].apply(lambda x: bool(re.search('^[a-zA-Z]+$', x)))\n",
    "unique_stock_all_letter = df1.loc[all_letters,'stock_code'].drop_duplicates()\n",
    "print('stock_code que contem apenas letras: {}'.format(unique_stock_all_letter.count()))\n",
    "print('stock code all letters: {}'.format(unique_stock_all_letter.unique()))\n",
    "\n",
    "# identificação: linhas com stock_code somente letras \n",
    "df1.loc[df1['stock_code'].isin(unique_stock_all_letter)]"
   ]
  },
  {
   "cell_type": "markdown",
   "id": "2839bbe5",
   "metadata": {},
   "source": [
    "**Ação de limpeza:** dado que nao tenho conhecimento sobre esses valores com apenas letras, vou excluir nessa iteração"
   ]
  },
  {
   "cell_type": "markdown",
   "id": "50ed8c0b",
   "metadata": {
    "ExecuteTime": {
     "end_time": "2023-02-08T17:40:27.469700Z",
     "start_time": "2023-02-08T17:40:27.466978Z"
    }
   },
   "source": [
    "##### Description"
   ]
  },
  {
   "cell_type": "code",
   "execution_count": 20,
   "id": "a42ec1b1",
   "metadata": {
    "ExecuteTime": {
     "end_time": "2023-02-24T13:00:47.488780Z",
     "start_time": "2023-02-24T13:00:47.478968Z"
    },
    "scrolled": true
   },
   "outputs": [
    {
     "data": {
      "text/html": [
       "<div>\n",
       "<style scoped>\n",
       "    .dataframe tbody tr th:only-of-type {\n",
       "        vertical-align: middle;\n",
       "    }\n",
       "\n",
       "    .dataframe tbody tr th {\n",
       "        vertical-align: top;\n",
       "    }\n",
       "\n",
       "    .dataframe thead th {\n",
       "        text-align: right;\n",
       "    }\n",
       "</style>\n",
       "<table border=\"1\" class=\"dataframe\">\n",
       "  <thead>\n",
       "    <tr style=\"text-align: right;\">\n",
       "      <th></th>\n",
       "      <th>invoice_no</th>\n",
       "      <th>stock_code</th>\n",
       "      <th>description</th>\n",
       "      <th>quantity</th>\n",
       "      <th>invoice_date</th>\n",
       "      <th>unit_price</th>\n",
       "      <th>country</th>\n",
       "      <th>customer_id</th>\n",
       "    </tr>\n",
       "  </thead>\n",
       "  <tbody>\n",
       "    <tr>\n",
       "      <th>0</th>\n",
       "      <td>536365</td>\n",
       "      <td>85123A</td>\n",
       "      <td>WHITE HANGING HEART T-LIGHT HOLDER</td>\n",
       "      <td>6</td>\n",
       "      <td>2016-11-29</td>\n",
       "      <td>2.55</td>\n",
       "      <td>United Kingdom</td>\n",
       "      <td>17850</td>\n",
       "    </tr>\n",
       "    <tr>\n",
       "      <th>1</th>\n",
       "      <td>536365</td>\n",
       "      <td>71053</td>\n",
       "      <td>WHITE METAL LANTERN</td>\n",
       "      <td>6</td>\n",
       "      <td>2016-11-29</td>\n",
       "      <td>3.39</td>\n",
       "      <td>United Kingdom</td>\n",
       "      <td>17850</td>\n",
       "    </tr>\n",
       "    <tr>\n",
       "      <th>2</th>\n",
       "      <td>536365</td>\n",
       "      <td>84406B</td>\n",
       "      <td>CREAM CUPID HEARTS COAT HANGER</td>\n",
       "      <td>8</td>\n",
       "      <td>2016-11-29</td>\n",
       "      <td>2.75</td>\n",
       "      <td>United Kingdom</td>\n",
       "      <td>17850</td>\n",
       "    </tr>\n",
       "    <tr>\n",
       "      <th>3</th>\n",
       "      <td>536365</td>\n",
       "      <td>84029G</td>\n",
       "      <td>KNITTED UNION FLAG HOT WATER BOTTLE</td>\n",
       "      <td>6</td>\n",
       "      <td>2016-11-29</td>\n",
       "      <td>3.39</td>\n",
       "      <td>United Kingdom</td>\n",
       "      <td>17850</td>\n",
       "    </tr>\n",
       "    <tr>\n",
       "      <th>4</th>\n",
       "      <td>536365</td>\n",
       "      <td>84029E</td>\n",
       "      <td>RED WOOLLY HOTTIE WHITE HEART.</td>\n",
       "      <td>6</td>\n",
       "      <td>2016-11-29</td>\n",
       "      <td>3.39</td>\n",
       "      <td>United Kingdom</td>\n",
       "      <td>17850</td>\n",
       "    </tr>\n",
       "  </tbody>\n",
       "</table>\n",
       "</div>"
      ],
      "text/plain": [
       "  invoice_no stock_code                          description  quantity  \\\n",
       "0     536365     85123A   WHITE HANGING HEART T-LIGHT HOLDER         6   \n",
       "1     536365      71053                  WHITE METAL LANTERN         6   \n",
       "2     536365     84406B       CREAM CUPID HEARTS COAT HANGER         8   \n",
       "3     536365     84029G  KNITTED UNION FLAG HOT WATER BOTTLE         6   \n",
       "4     536365     84029E       RED WOOLLY HOTTIE WHITE HEART.         6   \n",
       "\n",
       "  invoice_date  unit_price         country  customer_id  \n",
       "0   2016-11-29        2.55  United Kingdom        17850  \n",
       "1   2016-11-29        3.39  United Kingdom        17850  \n",
       "2   2016-11-29        2.75  United Kingdom        17850  \n",
       "3   2016-11-29        3.39  United Kingdom        17850  \n",
       "4   2016-11-29        3.39  United Kingdom        17850  "
      ]
     },
     "execution_count": 20,
     "metadata": {},
     "output_type": "execute_result"
    }
   ],
   "source": [
    "df1.head()"
   ]
  },
  {
   "cell_type": "markdown",
   "id": "11d40d49",
   "metadata": {},
   "source": [
    "**Ação:** enquanto nao sei como usar essa coluna para gerar alguma informação, vou exclui-la "
   ]
  },
  {
   "cell_type": "markdown",
   "id": "ecc2ef62",
   "metadata": {
    "ExecuteTime": {
     "end_time": "2023-02-08T17:40:38.015007Z",
     "start_time": "2023-02-08T17:40:38.012120Z"
    }
   },
   "source": [
    "##### Country"
   ]
  },
  {
   "cell_type": "code",
   "execution_count": 21,
   "id": "94fb0885",
   "metadata": {
    "ExecuteTime": {
     "end_time": "2023-02-24T13:00:49.310010Z",
     "start_time": "2023-02-24T13:00:49.278611Z"
    }
   },
   "outputs": [
    {
     "data": {
      "text/plain": [
       "array(['United Kingdom', 'France', 'Australia', 'Netherlands', 'Germany',\n",
       "       'Norway', 'EIRE', 'Switzerland', 'Spain', 'Poland', 'Portugal',\n",
       "       'Italy', 'Belgium', 'Lithuania', 'Japan', 'Iceland',\n",
       "       'Channel Islands', 'Denmark', 'Cyprus', 'Sweden', 'Austria',\n",
       "       'Israel', 'Finland', 'Bahrain', 'Greece', 'Hong Kong', 'Singapore',\n",
       "       'Lebanon', 'United Arab Emirates', 'Saudi Arabia',\n",
       "       'Czech Republic', 'Canada', 'Unspecified', 'Brazil', 'USA',\n",
       "       'European Community', 'Malta', 'RSA'], dtype=object)"
      ]
     },
     "execution_count": 21,
     "metadata": {},
     "output_type": "execute_result"
    }
   ],
   "source": [
    "df1['country'].unique()"
   ]
  },
  {
   "cell_type": "markdown",
   "id": "42e55827",
   "metadata": {},
   "source": [
    "Pontos que merecem atencao:<br>\n",
    "\n",
    "- United Kingdom corresponde a quase todo dataset\n",
    "- European Community aparece mesmo que os paises que se incluem nela aparecem separados \n",
    "- Unspecified"
   ]
  },
  {
   "cell_type": "code",
   "execution_count": 22,
   "id": "9c6a7f25",
   "metadata": {
    "ExecuteTime": {
     "end_time": "2023-02-24T13:00:50.456747Z",
     "start_time": "2023-02-24T13:00:50.392526Z"
    }
   },
   "outputs": [
    {
     "data": {
      "text/plain": [
       "United Kingdom          0.914320\n",
       "Germany                 0.017521\n",
       "France                  0.015790\n",
       "EIRE                    0.015124\n",
       "Spain                   0.004674\n",
       "Netherlands             0.004375\n",
       "Belgium                 0.003818\n",
       "Switzerland             0.003694\n",
       "Portugal                0.002803\n",
       "Australia               0.002323\n",
       "Norway                  0.002004\n",
       "Italy                   0.001482\n",
       "Channel Islands         0.001399\n",
       "Finland                 0.001283\n",
       "Cyprus                  0.001148\n",
       "Sweden                  0.000853\n",
       "Unspecified             0.000823\n",
       "Austria                 0.000740\n",
       "Denmark                 0.000718\n",
       "Japan                   0.000661\n",
       "Poland                  0.000629\n",
       "Israel                  0.000548\n",
       "USA                     0.000537\n",
       "Hong Kong               0.000531\n",
       "Singapore               0.000423\n",
       "Iceland                 0.000336\n",
       "Canada                  0.000279\n",
       "Greece                  0.000269\n",
       "Malta                   0.000234\n",
       "United Arab Emirates    0.000125\n",
       "European Community      0.000113\n",
       "RSA                     0.000107\n",
       "Lebanon                 0.000083\n",
       "Lithuania               0.000065\n",
       "Brazil                  0.000059\n",
       "Czech Republic          0.000055\n",
       "Bahrain                 0.000035\n",
       "Saudi Arabia            0.000018\n",
       "Name: country, dtype: float64"
      ]
     },
     "execution_count": 22,
     "metadata": {},
     "output_type": "execute_result"
    }
   ],
   "source": [
    "df1['country'].value_counts(normalize=True)"
   ]
  },
  {
   "cell_type": "code",
   "execution_count": 23,
   "id": "197265a0",
   "metadata": {
    "ExecuteTime": {
     "end_time": "2023-02-24T13:00:51.613691Z",
     "start_time": "2023-02-24T13:00:51.544672Z"
    }
   },
   "outputs": [
    {
     "data": {
      "text/html": [
       "<div>\n",
       "<style scoped>\n",
       "    .dataframe tbody tr th:only-of-type {\n",
       "        vertical-align: middle;\n",
       "    }\n",
       "\n",
       "    .dataframe tbody tr th {\n",
       "        vertical-align: top;\n",
       "    }\n",
       "\n",
       "    .dataframe thead th {\n",
       "        text-align: right;\n",
       "    }\n",
       "</style>\n",
       "<table border=\"1\" class=\"dataframe\">\n",
       "  <thead>\n",
       "    <tr style=\"text-align: right;\">\n",
       "      <th></th>\n",
       "      <th>country</th>\n",
       "      <th>customer_id</th>\n",
       "    </tr>\n",
       "  </thead>\n",
       "  <tbody>\n",
       "    <tr>\n",
       "      <th>36</th>\n",
       "      <td>United Kingdom</td>\n",
       "      <td>7587</td>\n",
       "    </tr>\n",
       "    <tr>\n",
       "      <th>14</th>\n",
       "      <td>Germany</td>\n",
       "      <td>95</td>\n",
       "    </tr>\n",
       "    <tr>\n",
       "      <th>13</th>\n",
       "      <td>France</td>\n",
       "      <td>90</td>\n",
       "    </tr>\n",
       "    <tr>\n",
       "      <th>10</th>\n",
       "      <td>EIRE</td>\n",
       "      <td>44</td>\n",
       "    </tr>\n",
       "    <tr>\n",
       "      <th>31</th>\n",
       "      <td>Spain</td>\n",
       "      <td>31</td>\n",
       "    </tr>\n",
       "    <tr>\n",
       "      <th>3</th>\n",
       "      <td>Belgium</td>\n",
       "      <td>25</td>\n",
       "    </tr>\n",
       "    <tr>\n",
       "      <th>33</th>\n",
       "      <td>Switzerland</td>\n",
       "      <td>24</td>\n",
       "    </tr>\n",
       "    <tr>\n",
       "      <th>27</th>\n",
       "      <td>Portugal</td>\n",
       "      <td>20</td>\n",
       "    </tr>\n",
       "    <tr>\n",
       "      <th>19</th>\n",
       "      <td>Italy</td>\n",
       "      <td>15</td>\n",
       "    </tr>\n",
       "    <tr>\n",
       "      <th>16</th>\n",
       "      <td>Hong Kong</td>\n",
       "      <td>15</td>\n",
       "    </tr>\n",
       "    <tr>\n",
       "      <th>12</th>\n",
       "      <td>Finland</td>\n",
       "      <td>12</td>\n",
       "    </tr>\n",
       "    <tr>\n",
       "      <th>1</th>\n",
       "      <td>Austria</td>\n",
       "      <td>11</td>\n",
       "    </tr>\n",
       "    <tr>\n",
       "      <th>25</th>\n",
       "      <td>Norway</td>\n",
       "      <td>10</td>\n",
       "    </tr>\n",
       "    <tr>\n",
       "      <th>24</th>\n",
       "      <td>Netherlands</td>\n",
       "      <td>9</td>\n",
       "    </tr>\n",
       "    <tr>\n",
       "      <th>0</th>\n",
       "      <td>Australia</td>\n",
       "      <td>9</td>\n",
       "    </tr>\n",
       "    <tr>\n",
       "      <th>37</th>\n",
       "      <td>Unspecified</td>\n",
       "      <td>9</td>\n",
       "    </tr>\n",
       "    <tr>\n",
       "      <th>9</th>\n",
       "      <td>Denmark</td>\n",
       "      <td>9</td>\n",
       "    </tr>\n",
       "    <tr>\n",
       "      <th>6</th>\n",
       "      <td>Channel Islands</td>\n",
       "      <td>9</td>\n",
       "    </tr>\n",
       "    <tr>\n",
       "      <th>7</th>\n",
       "      <td>Cyprus</td>\n",
       "      <td>8</td>\n",
       "    </tr>\n",
       "    <tr>\n",
       "      <th>32</th>\n",
       "      <td>Sweden</td>\n",
       "      <td>8</td>\n",
       "    </tr>\n",
       "    <tr>\n",
       "      <th>20</th>\n",
       "      <td>Japan</td>\n",
       "      <td>8</td>\n",
       "    </tr>\n",
       "    <tr>\n",
       "      <th>18</th>\n",
       "      <td>Israel</td>\n",
       "      <td>7</td>\n",
       "    </tr>\n",
       "    <tr>\n",
       "      <th>26</th>\n",
       "      <td>Poland</td>\n",
       "      <td>6</td>\n",
       "    </tr>\n",
       "    <tr>\n",
       "      <th>5</th>\n",
       "      <td>Canada</td>\n",
       "      <td>4</td>\n",
       "    </tr>\n",
       "    <tr>\n",
       "      <th>34</th>\n",
       "      <td>USA</td>\n",
       "      <td>4</td>\n",
       "    </tr>\n",
       "    <tr>\n",
       "      <th>2</th>\n",
       "      <td>Bahrain</td>\n",
       "      <td>4</td>\n",
       "    </tr>\n",
       "    <tr>\n",
       "      <th>15</th>\n",
       "      <td>Greece</td>\n",
       "      <td>4</td>\n",
       "    </tr>\n",
       "    <tr>\n",
       "      <th>23</th>\n",
       "      <td>Malta</td>\n",
       "      <td>2</td>\n",
       "    </tr>\n",
       "    <tr>\n",
       "      <th>35</th>\n",
       "      <td>United Arab Emirates</td>\n",
       "      <td>2</td>\n",
       "    </tr>\n",
       "    <tr>\n",
       "      <th>8</th>\n",
       "      <td>Czech Republic</td>\n",
       "      <td>1</td>\n",
       "    </tr>\n",
       "    <tr>\n",
       "      <th>22</th>\n",
       "      <td>Lithuania</td>\n",
       "      <td>1</td>\n",
       "    </tr>\n",
       "    <tr>\n",
       "      <th>11</th>\n",
       "      <td>European Community</td>\n",
       "      <td>1</td>\n",
       "    </tr>\n",
       "    <tr>\n",
       "      <th>21</th>\n",
       "      <td>Lebanon</td>\n",
       "      <td>1</td>\n",
       "    </tr>\n",
       "    <tr>\n",
       "      <th>28</th>\n",
       "      <td>RSA</td>\n",
       "      <td>1</td>\n",
       "    </tr>\n",
       "    <tr>\n",
       "      <th>29</th>\n",
       "      <td>Saudi Arabia</td>\n",
       "      <td>1</td>\n",
       "    </tr>\n",
       "    <tr>\n",
       "      <th>30</th>\n",
       "      <td>Singapore</td>\n",
       "      <td>1</td>\n",
       "    </tr>\n",
       "    <tr>\n",
       "      <th>17</th>\n",
       "      <td>Iceland</td>\n",
       "      <td>1</td>\n",
       "    </tr>\n",
       "    <tr>\n",
       "      <th>4</th>\n",
       "      <td>Brazil</td>\n",
       "      <td>1</td>\n",
       "    </tr>\n",
       "  </tbody>\n",
       "</table>\n",
       "</div>"
      ],
      "text/plain": [
       "                 country  customer_id\n",
       "36        United Kingdom         7587\n",
       "14               Germany           95\n",
       "13                France           90\n",
       "10                  EIRE           44\n",
       "31                 Spain           31\n",
       "3                Belgium           25\n",
       "33           Switzerland           24\n",
       "27              Portugal           20\n",
       "19                 Italy           15\n",
       "16             Hong Kong           15\n",
       "12               Finland           12\n",
       "1                Austria           11\n",
       "25                Norway           10\n",
       "24           Netherlands            9\n",
       "0              Australia            9\n",
       "37           Unspecified            9\n",
       "9                Denmark            9\n",
       "6        Channel Islands            9\n",
       "7                 Cyprus            8\n",
       "32                Sweden            8\n",
       "20                 Japan            8\n",
       "18                Israel            7\n",
       "26                Poland            6\n",
       "5                 Canada            4\n",
       "34                   USA            4\n",
       "2                Bahrain            4\n",
       "15                Greece            4\n",
       "23                 Malta            2\n",
       "35  United Arab Emirates            2\n",
       "8         Czech Republic            1\n",
       "22             Lithuania            1\n",
       "11    European Community            1\n",
       "21               Lebanon            1\n",
       "28                   RSA            1\n",
       "29          Saudi Arabia            1\n",
       "30             Singapore            1\n",
       "17               Iceland            1\n",
       "4                 Brazil            1"
      ]
     },
     "execution_count": 23,
     "metadata": {},
     "output_type": "execute_result"
    }
   ],
   "source": [
    "# customers per country\n",
    "df1[['customer_id','country']].drop_duplicates().groupby('country').count().reset_index().sort_values('customer_id',ascending=False)"
   ]
  },
  {
   "cell_type": "markdown",
   "id": "15b5853c",
   "metadata": {
    "ExecuteTime": {
     "end_time": "2023-02-02T17:44:43.119903Z",
     "start_time": "2023-02-02T17:44:43.116700Z"
    }
   },
   "source": [
    "# <span style=\"color: OrangeRed;\">DATA FILTERING</span>\n",
    "<span style=\"color: OrangeRed;\">***PASSO 2*** </span>"
   ]
  },
  {
   "cell_type": "code",
   "execution_count": 58,
   "id": "709c7bee",
   "metadata": {
    "ExecuteTime": {
     "end_time": "2023-02-24T13:10:39.156540Z",
     "start_time": "2023-02-24T13:10:39.137354Z"
    }
   },
   "outputs": [],
   "source": [
    "df2 = df1.copy()"
   ]
  },
  {
   "cell_type": "code",
   "execution_count": 59,
   "id": "367a981b",
   "metadata": {
    "ExecuteTime": {
     "end_time": "2023-02-24T13:10:40.085948Z",
     "start_time": "2023-02-24T13:10:39.845537Z"
    },
    "code_folding": []
   },
   "outputs": [],
   "source": [
    "# === Categorical attributes === \n",
    "# stock_code\n",
    "df2 = df2.loc[~df2['stock_code'].isin(['POST', 'D', 'DOT', 'M', 'S', 'AMAZONFEE', 'm', 'DCGSSBOY', 'DCGSSGIRL', 'PADS','B', 'CRUK'])]\n",
    "\n",
    "# description\n",
    "df2 = df2.drop(columns = ['description'], axis=1)\n",
    "\n",
    "#country\n",
    "df2 = df2.loc[~df2['country'].isin(['Unspecified','European Community']), :]\n",
    "\n",
    "# bad customers\n",
    "df2 = df2[~df2['customer_id'].isin([16446]) ]\n",
    "\n",
    "\n",
    "# === Numerical attributes === \n",
    "# unit_price above 0.01\n",
    "df2 = df2.loc[df2['unit_price']>0.01]\n",
    "\n",
    "# quantity\n",
    "df_returns = df2.loc[df2['quantity']<0]\n",
    "df_purchase = df2.loc[df2['quantity']>0]\n",
    "\n",
    "\n",
    "\n"
   ]
  },
  {
   "cell_type": "markdown",
   "id": "b1171c0f",
   "metadata": {
    "ExecuteTime": {
     "end_time": "2023-02-02T17:44:43.119903Z",
     "start_time": "2023-02-02T17:44:43.116700Z"
    }
   },
   "source": [
    "# <span style=\"color: OrangeRed;\">FEATURE ENGINEERING</span>\n",
    "<span style=\"color: OrangeRed;\">***PASSO 3***</span>"
   ]
  },
  {
   "cell_type": "code",
   "execution_count": 60,
   "id": "e8da8f7f",
   "metadata": {
    "ExecuteTime": {
     "end_time": "2023-02-24T13:10:41.311706Z",
     "start_time": "2023-02-24T13:10:41.297090Z"
    }
   },
   "outputs": [],
   "source": [
    "df3 = df2.copy()"
   ]
  },
  {
   "cell_type": "markdown",
   "id": "ce3acfc3",
   "metadata": {},
   "source": [
    "## Feature Creation"
   ]
  },
  {
   "cell_type": "code",
   "execution_count": 61,
   "id": "c7b4a285",
   "metadata": {
    "ExecuteTime": {
     "end_time": "2023-02-24T13:10:42.515849Z",
     "start_time": "2023-02-24T13:10:42.505041Z"
    }
   },
   "outputs": [],
   "source": [
    "# dataframe of unique 'customer_id' to be merged with\n",
    "df_customers = df2.drop(columns= ['invoice_no', 'stock_code', 'quantity', 'invoice_date',\n",
    "                                  'unit_price', 'country'],axis=1).drop_duplicates(ignore_index=True)"
   ]
  },
  {
   "cell_type": "markdown",
   "id": "d8fcec61",
   "metadata": {
    "ExecuteTime": {
     "end_time": "2023-02-09T00:50:52.058492Z",
     "start_time": "2023-02-09T00:50:52.053044Z"
    }
   },
   "source": [
    "### Monetary - gross revenue by customers"
   ]
  },
  {
   "cell_type": "code",
   "execution_count": 62,
   "id": "b7afb5b4",
   "metadata": {
    "ExecuteTime": {
     "end_time": "2023-02-24T13:10:44.098759Z",
     "start_time": "2023-02-24T13:10:44.072512Z"
    },
    "scrolled": true
   },
   "outputs": [
    {
     "name": "stderr",
     "output_type": "stream",
     "text": [
      "/tmp/ipykernel_6557/3064971249.py:2: SettingWithCopyWarning: \n",
      "A value is trying to be set on a copy of a slice from a DataFrame.\n",
      "Try using .loc[row_indexer,col_indexer] = value instead\n",
      "\n",
      "See the caveats in the documentation: https://pandas.pydata.org/pandas-docs/stable/user_guide/indexing.html#returning-a-view-versus-a-copy\n",
      "  df_purchase['gross_revenue'] = df_purchase['unit_price']*df_purchase['quantity']\n"
     ]
    },
    {
     "data": {
      "text/plain": [
       "customer_id     0\n",
       "monetary       91\n",
       "dtype: int64"
      ]
     },
     "execution_count": 62,
     "metadata": {},
     "output_type": "execute_result"
    }
   ],
   "source": [
    "# monetary or LTV - gross revenue/customer\n",
    "df_purchase['gross_revenue'] = df_purchase['unit_price']*df_purchase['quantity']\n",
    "df_monetary = df_purchase.groupby('customer_id')['gross_revenue'].sum().reset_index()\n",
    "df_monetary = df_monetary.rename(columns = {'gross_revenue':'monetary'})\n",
    "\n",
    "df_customers = pd.merge(df_customers,df_monetary, on='customer_id', how='left')\n",
    "df_customers.isna().sum() # 91 linhas com quantity negativo "
   ]
  },
  {
   "cell_type": "markdown",
   "id": "186b506c",
   "metadata": {},
   "source": [
    "### Recency - days since last purchase"
   ]
  },
  {
   "cell_type": "code",
   "execution_count": 63,
   "id": "0f4c6442",
   "metadata": {
    "ExecuteTime": {
     "end_time": "2023-02-24T13:10:45.804759Z",
     "start_time": "2023-02-24T13:10:45.780587Z"
    }
   },
   "outputs": [
    {
     "data": {
      "text/plain": [
       "customer_id     0\n",
       "monetary       91\n",
       "recency        91\n",
       "dtype: int64"
      ]
     },
     "execution_count": 63,
     "metadata": {},
     "output_type": "execute_result"
    }
   ],
   "source": [
    "# recency - days since last purchase\n",
    "df_recency = df_purchase.groupby('customer_id')['invoice_date'].max().reset_index()\n",
    "df_recency['recency'] = (df_recency['invoice_date'].max() - df_recency['invoice_date']).dt.days\n",
    "df_recency = df_recency[['customer_id','recency']]\n",
    "df_recency.head()\n",
    "\n",
    "df_customers = pd.merge(df_customers,df_recency, on='customer_id', how='left')\n",
    "df_customers.head()\n",
    "df_customers.isna().sum()"
   ]
  },
  {
   "cell_type": "markdown",
   "id": "abeb566a",
   "metadata": {},
   "source": [
    "### Frequency - purchases/day"
   ]
  },
  {
   "cell_type": "code",
   "execution_count": 64,
   "id": "1348285f",
   "metadata": {
    "ExecuteTime": {
     "end_time": "2023-02-24T13:10:47.264767Z",
     "start_time": "2023-02-24T13:10:47.261448Z"
    }
   },
   "outputs": [],
   "source": [
    "# # frequency - purchases/month\n",
    "# df_purchase['year_month'] = df_purchase['invoice_date'].dt.strftime('%Y-%m')\n",
    "# df_frequency = df_purchase[['customer_id','year_month','invoice_no']].groupby(['customer_id','year_month']).nunique().reset_index()\n",
    "# df_frequency = df_frequency.groupby('customer_id')['invoice_no'].mean().reset_index()\n",
    "# df_frequency = df_frequency.rename (columns = {'invoice_no':'frequency'})\n",
    "# df_frequency.head()\n",
    "\n",
    "# df_customers = pd.merge(df_customers,df_frequency, on='customer_id', how='left')\n",
    "# df_customers.head()\n",
    "# df_customers.isna().sum()"
   ]
  },
  {
   "cell_type": "code",
   "execution_count": 65,
   "id": "2e5c06fe",
   "metadata": {
    "ExecuteTime": {
     "end_time": "2023-02-24T13:10:49.693439Z",
     "start_time": "2023-02-24T13:10:48.647527Z"
    }
   },
   "outputs": [
    {
     "data": {
      "text/plain": [
       "customer_id     0\n",
       "monetary       91\n",
       "recency        91\n",
       "frequency      91\n",
       "dtype: int64"
      ]
     },
     "execution_count": 65,
     "metadata": {},
     "output_type": "execute_result"
    }
   ],
   "source": [
    "# frequency - purchases/day\n",
    "df_aux = (df_purchase[['invoice_no','customer_id','invoice_date']].drop_duplicates().groupby('customer_id')\n",
    "                                                                           .aggregate (max_   = ('invoice_date','max'),\n",
    "                                                                                       min_   = ('invoice_date','min'), \n",
    "                                                                                       period = ('invoice_date', lambda x: (x.max()-x.min()).days + 1),\n",
    "                                                                                       invoice_no = ('invoice_no','count'))).reset_index()\n",
    "\n",
    "df_aux['frequency'] = df_aux.apply(lambda x: x['invoice_no']/x['period'] if x['period']!=0 else 0, axis=1)\n",
    "\n",
    "df_customers = pd.merge(df_customers, df_aux[['customer_id','frequency']], on='customer_id', how='left')\n",
    "df_customers.isna().sum()"
   ]
  },
  {
   "cell_type": "markdown",
   "id": "ebc66afe",
   "metadata": {},
   "source": [
    "### Quantity products - different stock_code by customer"
   ]
  },
  {
   "cell_type": "code",
   "execution_count": 66,
   "id": "67d540db",
   "metadata": {
    "ExecuteTime": {
     "end_time": "2023-02-24T13:10:54.171374Z",
     "start_time": "2023-02-24T13:10:54.046194Z"
    }
   },
   "outputs": [
    {
     "data": {
      "text/plain": [
       "customer_id           0\n",
       "monetary             91\n",
       "recency              91\n",
       "frequency            91\n",
       "quantity_products    91\n",
       "dtype: int64"
      ]
     },
     "execution_count": 66,
     "metadata": {},
     "output_type": "execute_result"
    }
   ],
   "source": [
    "df_products_purchased = df_purchase[['customer_id','stock_code']].groupby('customer_id').count().reset_index().rename(columns={'stock_code':'quantity_products'})\n",
    "df_customers = pd.merge(df_customers,df_products_purchased, on='customer_id', how='left')\n",
    "df_customers.isna().sum()"
   ]
  },
  {
   "cell_type": "markdown",
   "id": "ea5d4171",
   "metadata": {},
   "source": [
    "### Returns - number of returns"
   ]
  },
  {
   "cell_type": "code",
   "execution_count": 67,
   "id": "2833282d",
   "metadata": {
    "ExecuteTime": {
     "end_time": "2023-02-24T13:10:58.223398Z",
     "start_time": "2023-02-24T13:10:58.204934Z"
    },
    "scrolled": false
   },
   "outputs": [
    {
     "data": {
      "text/plain": [
       "customer_id           0\n",
       "monetary             91\n",
       "recency              91\n",
       "frequency            91\n",
       "quantity_products    91\n",
       "returns               0\n",
       "dtype: int64"
      ]
     },
     "execution_count": 67,
     "metadata": {},
     "output_type": "execute_result"
    }
   ],
   "source": [
    "# Number of returns \n",
    "df_returns = df_returns[['customer_id','quantity']].drop_duplicates().groupby('customer_id').sum().reset_index().rename(columns={'quantity':'returns'})\n",
    "df_returns['returns'] = df_returns['returns']*(-1)\n",
    "df_customers = pd.merge(df_customers, df_returns,how='left',on='customer_id')\n",
    "df_customers.loc[df_customers['returns'].isna(),'returns'] = 0\n",
    "df_customers.isna().sum()\n",
    "\n",
    "# first_purchase_at - min invoice_date"
   ]
  },
  {
   "cell_type": "code",
   "execution_count": null,
   "id": "06c99706",
   "metadata": {},
   "outputs": [],
   "source": []
  },
  {
   "cell_type": "code",
   "execution_count": 68,
   "id": "50c18c3d",
   "metadata": {
    "ExecuteTime": {
     "end_time": "2023-02-24T13:11:01.579077Z",
     "start_time": "2023-02-24T13:11:01.517014Z"
    }
   },
   "outputs": [
    {
     "data": {
      "text/plain": [
       "customer_id           0\n",
       "monetary             91\n",
       "recency              91\n",
       "frequency            91\n",
       "quantity_products    91\n",
       "returns               0\n",
       "invoice_no           91\n",
       "dtype: int64"
      ]
     },
     "execution_count": 68,
     "metadata": {},
     "output_type": "execute_result"
    }
   ],
   "source": [
    "### Invoice no - quantity of invoice_no by customers\n",
    "df_quantity_purchased = df_purchase[['customer_id','invoice_no']].drop_duplicates().groupby('customer_id').count().reset_index()\n",
    "df_customers = pd.merge(df_customers,df_quantity_purchased, on='customer_id', how='left')\n",
    "df_customers.isna().sum()"
   ]
  },
  {
   "cell_type": "code",
   "execution_count": 69,
   "id": "cfa95002",
   "metadata": {
    "ExecuteTime": {
     "end_time": "2023-02-24T13:11:03.300664Z",
     "start_time": "2023-02-24T13:11:03.269138Z"
    }
   },
   "outputs": [
    {
     "data": {
      "text/plain": [
       "customer_id           0\n",
       "monetary             91\n",
       "recency              91\n",
       "frequency            91\n",
       "quantity_products    91\n",
       "returns               0\n",
       "invoice_no           91\n",
       "quantity_items       91\n",
       "dtype: int64"
      ]
     },
     "execution_count": 69,
     "metadata": {},
     "output_type": "execute_result"
    }
   ],
   "source": [
    "### Quantity items - total quantity of items  \n",
    "df_items_purchased = df_purchase[['customer_id','quantity']].groupby('customer_id').sum().reset_index().rename(columns={'quantity':'quantity_items'})\n",
    "df_customers = pd.merge(df_customers,df_items_purchased, on='customer_id', how='left')\n",
    "df_customers.isna().sum()"
   ]
  },
  {
   "cell_type": "code",
   "execution_count": 70,
   "id": "ee090ce8",
   "metadata": {
    "ExecuteTime": {
     "end_time": "2023-02-24T13:11:05.297123Z",
     "start_time": "2023-02-24T13:11:05.211786Z"
    }
   },
   "outputs": [
    {
     "data": {
      "text/plain": [
       "customer_id           0\n",
       "monetary             91\n",
       "recency              91\n",
       "frequency            91\n",
       "quantity_products    91\n",
       "returns               0\n",
       "invoice_no           91\n",
       "quantity_items       91\n",
       "avg_ticket           91\n",
       "dtype: int64"
      ]
     },
     "execution_count": 70,
     "metadata": {},
     "output_type": "execute_result"
    }
   ],
   "source": [
    "### Avg ticket - average ticket\n",
    "# average ticket - gross revenue / count distinct invoice no\n",
    "df_avg_ticket = df_purchase.groupby('customer_id').aggregate({'invoice_no':'nunique','gross_revenue':'sum'}).reset_index()\n",
    "df_avg_ticket ['avg_ticket'] = df_avg_ticket['gross_revenue']/df_avg_ticket['invoice_no']\n",
    "df_avg_ticket = df_avg_ticket.rename ( columns={'invoice_no':'purchases','gross_revenue':'monetary'})\n",
    "df_avg_ticket = df_avg_ticket[['customer_id','avg_ticket']].copy()\n",
    "\n",
    "df_customers = pd.merge(df_customers,df_avg_ticket, on='customer_id', how='left')\n",
    "df_customers.isna().sum()"
   ]
  },
  {
   "cell_type": "code",
   "execution_count": 71,
   "id": "83344bb4",
   "metadata": {
    "ExecuteTime": {
     "end_time": "2023-02-24T13:11:08.703558Z",
     "start_time": "2023-02-24T13:11:08.260797Z"
    }
   },
   "outputs": [
    {
     "data": {
      "text/plain": [
       "customer_id             0\n",
       "monetary               91\n",
       "recency                91\n",
       "frequency              91\n",
       "quantity_products      91\n",
       "returns                 0\n",
       "invoice_no             91\n",
       "quantity_items         91\n",
       "avg_ticket             91\n",
       "avg_recency          3013\n",
       "dtype: int64"
      ]
     },
     "execution_count": 71,
     "metadata": {},
     "output_type": "execute_result"
    }
   ],
   "source": [
    "### Avg recency - average recency days\n",
    "df_aux = df_purchase[['customer_id','invoice_date']].drop_duplicates().sort_values(['customer_id','invoice_date'], ascending=[False,False]).reset_index(drop=True)\n",
    "\n",
    "df_aux['next_customer_id'] = df_aux['customer_id'].shift()\n",
    "df_aux['next_invoice_date'] = df_aux['invoice_date'].shift()\n",
    "\n",
    "df_aux['avg_recency'] = df_aux.apply(lambda x: (x['next_invoice_date'] - x['invoice_date']).days if x['next_customer_id'] == x['customer_id'] else np.nan, axis=1)\n",
    "\n",
    "df_aux = df_aux.drop(['next_customer_id','next_invoice_date','invoice_date'], axis=1).dropna()\n",
    "\n",
    "df_aux = df_aux.groupby('customer_id').mean().reset_index()\n",
    "\n",
    "df_customers = pd.merge(df_customers, df_aux, on ='customer_id',how='left')\n",
    "df_customers.isna().sum()"
   ]
  },
  {
   "cell_type": "code",
   "execution_count": null,
   "id": "4dede283",
   "metadata": {},
   "outputs": [],
   "source": []
  },
  {
   "cell_type": "code",
   "execution_count": null,
   "id": "d4d3b074",
   "metadata": {},
   "outputs": [],
   "source": []
  },
  {
   "cell_type": "code",
   "execution_count": 72,
   "id": "8ce3c09f",
   "metadata": {
    "ExecuteTime": {
     "end_time": "2023-02-24T13:11:13.314569Z",
     "start_time": "2023-02-24T13:11:13.310151Z"
    }
   },
   "outputs": [
    {
     "data": {
      "text/plain": [
       "(5786, 10)"
      ]
     },
     "execution_count": 72,
     "metadata": {},
     "output_type": "execute_result"
    }
   ],
   "source": [
    "df_customers.shape"
   ]
  },
  {
   "cell_type": "markdown",
   "id": "dfb985e3",
   "metadata": {
    "ExecuteTime": {
     "end_time": "2023-02-02T17:44:43.119903Z",
     "start_time": "2023-02-02T17:44:43.116700Z"
    }
   },
   "source": [
    "#  <span style=\"color: OrangeRed;\">EXPLORATORY DATA ANALYSIS (EDA) PT1</span>\n",
    "<span style=\"color: OrangeRed;\">***PASSO 4*** </span>"
   ]
  },
  {
   "cell_type": "code",
   "execution_count": 73,
   "id": "ef35089f",
   "metadata": {
    "ExecuteTime": {
     "end_time": "2023-02-24T13:11:15.356766Z",
     "start_time": "2023-02-24T13:11:15.350945Z"
    }
   },
   "outputs": [],
   "source": [
    "df4 = df_customers.dropna().copy() "
   ]
  },
  {
   "cell_type": "code",
   "execution_count": 74,
   "id": "af09ced1",
   "metadata": {
    "ExecuteTime": {
     "end_time": "2023-02-24T13:11:16.327049Z",
     "start_time": "2023-02-24T13:11:15.941611Z"
    },
    "scrolled": true
   },
   "outputs": [
    {
     "data": {
      "text/plain": [
       "(2773, 10)"
      ]
     },
     "execution_count": 74,
     "metadata": {},
     "output_type": "execute_result"
    }
   ],
   "source": [
    "df4.shape"
   ]
  },
  {
   "cell_type": "markdown",
   "id": "dd5a9708",
   "metadata": {},
   "source": [
    "## Estudo do espaço "
   ]
  },
  {
   "cell_type": "code",
   "execution_count": 75,
   "id": "acef0de4",
   "metadata": {
    "ExecuteTime": {
     "end_time": "2023-02-24T13:11:20.720410Z",
     "start_time": "2023-02-24T13:11:20.715736Z"
    }
   },
   "outputs": [],
   "source": [
    "# selected dataset without avg features\n",
    "cols_selected = ['customer_id','monetary', 'recency', 'frequency', 'quantity_products', 'returns']\n",
    "df43 = df4[cols_selected].copy()"
   ]
  },
  {
   "cell_type": "code",
   "execution_count": 76,
   "id": "901ec51b",
   "metadata": {
    "ExecuteTime": {
     "end_time": "2023-02-24T13:11:21.689321Z",
     "start_time": "2023-02-24T13:11:21.666275Z"
    }
   },
   "outputs": [],
   "source": [
    "# MinMax Scaler\n",
    "mm = pp.MinMaxScaler()\n",
    "\n",
    "# Apply scalers\n",
    "df43[['monetary' ]]              = mm.fit_transform(df43[['monetary' ]])\n",
    "df43[['recency']]                = mm.fit_transform(df43[['recency']]) \n",
    "df43[['frequency']]              = mm.fit_transform(df43[['frequency']]) \n",
    "df43[['quantity_products']]      = mm.fit_transform(df43[['quantity_products']])\n",
    "df43[['returns']]                = mm.fit_transform(df43[['returns']]) \n",
    "\n"
   ]
  },
  {
   "cell_type": "markdown",
   "id": "a5246f61",
   "metadata": {},
   "source": [
    "### Tree Based Embedding\n"
   ]
  },
  {
   "cell_type": "code",
   "execution_count": 77,
   "id": "514032d1",
   "metadata": {
    "ExecuteTime": {
     "end_time": "2023-02-24T13:11:24.050295Z",
     "start_time": "2023-02-24T13:11:22.950389Z"
    }
   },
   "outputs": [],
   "source": [
    "# Training dataset\n",
    "X = df43.drop(columns=['customer_id','monetary'], axis=1)\n",
    "y = df43['monetary']\n",
    "\n",
    "\n",
    "# Model definition\n",
    "rf_model = en.RandomForestRegressor(n_estimators = 100, random_state=42)\n",
    "\n",
    "# Model training\n",
    "rf_model.fit (X, y)\n",
    "\n",
    "# dataframe Leaf\n",
    "df_leaf = pd.DataFrame(rf_model.apply(X))\n",
    "\n"
   ]
  },
  {
   "cell_type": "code",
   "execution_count": 78,
   "id": "a13a7af8",
   "metadata": {
    "ExecuteTime": {
     "end_time": "2023-02-24T13:11:35.534791Z",
     "start_time": "2023-02-24T13:11:24.875425Z"
    },
    "scrolled": false
   },
   "outputs": [],
   "source": [
    "# UMAP Reducer \n",
    "reducer = umap.UMAP (random_state=42) #n_neighbors quanto menor, ele foca mais nas estruturas locais em vez das globais\n",
    "embedding = reducer.fit_transform (df_leaf) #espaço projetado após reducao de dimensionalidade\n",
    "\n",
    "#embedding\n",
    "df_tree = pd.DataFrame()\n",
    "df_tree ['embedding_x'] = embedding[:, 0]\n",
    "df_tree ['embedding_y'] = embedding[:,1]"
   ]
  },
  {
   "cell_type": "code",
   "execution_count": 79,
   "id": "65cdb4a3",
   "metadata": {
    "ExecuteTime": {
     "end_time": "2023-02-24T13:11:37.485757Z",
     "start_time": "2023-02-24T13:11:37.247763Z"
    },
    "code_folding": []
   },
   "outputs": [
    {
     "data": {
      "text/plain": [
       "<AxesSubplot: xlabel='embedding_x', ylabel='embedding_y'>"
      ]
     },
     "execution_count": 79,
     "metadata": {},
     "output_type": "execute_result"
    },
    {
     "data": {
      "image/png": "[encoded data removed]",
      "text/plain": [
       "<Figure size 800x550 with 1 Axes>"
      ]
     },
     "metadata": {},
     "output_type": "display_data"
    }
   ],
   "source": [
    "# plot embeding\n",
    "sns.scatterplot(x='embedding_x', \n",
    "                y='embedding_y',\n",
    "                data = df_tree)\n"
   ]
  },
  {
   "cell_type": "markdown",
   "id": "d108c907",
   "metadata": {
    "ExecuteTime": {
     "end_time": "2023-02-02T17:44:43.119903Z",
     "start_time": "2023-02-02T17:44:43.116700Z"
    }
   },
   "source": [
    "# <span style=\"color: OrangeRed;\">FEATURE SELECTION</span>\n",
    "<span style=\"color: OrangeRed;\">***PASSO 6*** </span>"
   ]
  },
  {
   "cell_type": "code",
   "execution_count": 80,
   "id": "7066aa4b",
   "metadata": {
    "ExecuteTime": {
     "end_time": "2023-02-24T13:11:40.163102Z",
     "start_time": "2023-02-24T13:11:40.158765Z"
    }
   },
   "outputs": [],
   "source": [
    "# Espaço de embedding - Tree Based \n",
    "df6 = df_tree.copy()"
   ]
  },
  {
   "cell_type": "markdown",
   "id": "103865d1",
   "metadata": {
    "ExecuteTime": {
     "end_time": "2023-02-02T21:12:14.716990Z",
     "start_time": "2023-02-02T21:12:14.713314Z"
    }
   },
   "source": [
    "# <span style=\"color: OrangeRed;\">MODEL TRAINING</span>\n",
    "<span style=\"color: OrangeRed;\">***PASSO 8***</span>"
   ]
  },
  {
   "cell_type": "markdown",
   "id": "4aa8d129",
   "metadata": {},
   "source": [
    "## Gaussian Mixture Model "
   ]
  },
  {
   "cell_type": "code",
   "execution_count": 81,
   "id": "56e934fc",
   "metadata": {
    "ExecuteTime": {
     "end_time": "2023-02-24T13:13:40.755600Z",
     "start_time": "2023-02-24T13:11:41.782466Z"
    }
   },
   "outputs": [],
   "source": [
    "# k definition\n",
    "k=8\n",
    "\n",
    "# model name\n",
    "gmm_model = mx.GaussianMixture (n_components = k, n_init= 300, random_state = 42)\n",
    "\n",
    "# model training\n",
    "gmm_model.fit(X)\n",
    "\n",
    "# predict\n",
    "labels = gmm_model.predict (X)  \n",
    "    "
   ]
  },
  {
   "cell_type": "markdown",
   "id": "348bb868",
   "metadata": {
    "ExecuteTime": {
     "end_time": "2023-02-06T17:20:20.962014Z",
     "start_time": "2023-02-06T17:20:20.959846Z"
    }
   },
   "source": [
    "## Cluster validation"
   ]
  },
  {
   "cell_type": "code",
   "execution_count": 82,
   "id": "b86094ce",
   "metadata": {
    "ExecuteTime": {
     "end_time": "2023-02-24T13:17:40.309688Z",
     "start_time": "2023-02-24T13:17:39.930985Z"
    }
   },
   "outputs": [
    {
     "name": "stdout",
     "output_type": "stream",
     "text": [
      "Silhouette Score: 0.05740500591888421\n"
     ]
    }
   ],
   "source": [
    "# Silhoute Score\n",
    "print('Silhouette Score: {}'.format (m.silhouette_score (X, labels, metric = 'euclidean')))"
   ]
  },
  {
   "cell_type": "markdown",
   "id": "33bf9314",
   "metadata": {
    "ExecuteTime": {
     "end_time": "2023-02-02T21:16:40.487919Z",
     "start_time": "2023-02-02T21:16:40.485800Z"
    }
   },
   "source": [
    "# <span style=\"color: OrangeRed;\">CLUSTER ANALYSIS</span>\n",
    "<span style=\"color: OrangeRed;\">***PASSO 9***</span>"
   ]
  },
  {
   "cell_type": "code",
   "execution_count": 98,
   "id": "db97d9e0",
   "metadata": {
    "ExecuteTime": {
     "end_time": "2023-02-24T14:19:10.946771Z",
     "start_time": "2023-02-24T14:19:10.939987Z"
    }
   },
   "outputs": [],
   "source": [
    "# tabela de customers_ com label do cluster\n",
    "cols_selected = ['customer_id','monetary', 'recency', 'frequency', 'quantity_products', 'returns']\n",
    "df92 = df4[cols_selected].copy()\n",
    "df92['labels'] = labels.tolist()"
   ]
  },
  {
   "cell_type": "markdown",
   "id": "7c753ab2",
   "metadata": {},
   "source": [
    "## Cluster Profile"
   ]
  },
  {
   "cell_type": "code",
   "execution_count": 99,
   "id": "84d57100",
   "metadata": {
    "ExecuteTime": {
     "end_time": "2023-02-24T14:19:11.812457Z",
     "start_time": "2023-02-24T14:19:11.790620Z"
    }
   },
   "outputs": [],
   "source": [
    "#change dtypes\n",
    "df92['recency'] = df92['recency'].astype(int)\n",
    "df92['quantity_products'] = df92['quantity_products'].astype(int)\n",
    "df92['returns'] = df92['returns'].astype(int)"
   ]
  },
  {
   "cell_type": "code",
   "execution_count": 100,
   "id": "8af0294c",
   "metadata": {
    "ExecuteTime": {
     "end_time": "2023-02-24T14:19:12.315872Z",
     "start_time": "2023-02-24T14:19:12.264618Z"
    },
    "code_folding": []
   },
   "outputs": [
    {
     "data": {
      "text/html": [
       "<div>\n",
       "<style scoped>\n",
       "    .dataframe tbody tr th:only-of-type {\n",
       "        vertical-align: middle;\n",
       "    }\n",
       "\n",
       "    .dataframe tbody tr th {\n",
       "        vertical-align: top;\n",
       "    }\n",
       "\n",
       "    .dataframe thead th {\n",
       "        text-align: right;\n",
       "    }\n",
       "</style>\n",
       "<table border=\"1\" class=\"dataframe\">\n",
       "  <thead>\n",
       "    <tr style=\"text-align: right;\">\n",
       "      <th></th>\n",
       "      <th>labels</th>\n",
       "      <th>customer_id</th>\n",
       "      <th>perc_customer</th>\n",
       "      <th>monetary</th>\n",
       "      <th>recency</th>\n",
       "      <th>frequency</th>\n",
       "      <th>quantity_products</th>\n",
       "      <th>returns</th>\n",
       "    </tr>\n",
       "  </thead>\n",
       "  <tbody>\n",
       "    <tr>\n",
       "      <th>0</th>\n",
       "      <td>0</td>\n",
       "      <td>612</td>\n",
       "      <td>22.069960</td>\n",
       "      <td>2834.181830</td>\n",
       "      <td>9.810458</td>\n",
       "      <td>0.041834</td>\n",
       "      <td>167.130719</td>\n",
       "      <td>5.697712</td>\n",
       "    </tr>\n",
       "    <tr>\n",
       "      <th>1</th>\n",
       "      <td>1</td>\n",
       "      <td>152</td>\n",
       "      <td>5.481428</td>\n",
       "      <td>1421.115329</td>\n",
       "      <td>114.861842</td>\n",
       "      <td>0.117163</td>\n",
       "      <td>125.092105</td>\n",
       "      <td>1.348684</td>\n",
       "    </tr>\n",
       "    <tr>\n",
       "      <th>2</th>\n",
       "      <td>2</td>\n",
       "      <td>1083</td>\n",
       "      <td>39.055175</td>\n",
       "      <td>1395.067295</td>\n",
       "      <td>33.306556</td>\n",
       "      <td>0.021256</td>\n",
       "      <td>71.188366</td>\n",
       "      <td>3.432133</td>\n",
       "    </tr>\n",
       "    <tr>\n",
       "      <th>3</th>\n",
       "      <td>3</td>\n",
       "      <td>601</td>\n",
       "      <td>21.673278</td>\n",
       "      <td>903.075408</td>\n",
       "      <td>142.489185</td>\n",
       "      <td>0.027789</td>\n",
       "      <td>39.216306</td>\n",
       "      <td>2.349418</td>\n",
       "    </tr>\n",
       "    <tr>\n",
       "      <th>4</th>\n",
       "      <td>4</td>\n",
       "      <td>23</td>\n",
       "      <td>0.829427</td>\n",
       "      <td>1370.011739</td>\n",
       "      <td>132.217391</td>\n",
       "      <td>1.609231</td>\n",
       "      <td>67.434783</td>\n",
       "      <td>5.173913</td>\n",
       "    </tr>\n",
       "    <tr>\n",
       "      <th>5</th>\n",
       "      <td>5</td>\n",
       "      <td>42</td>\n",
       "      <td>1.514605</td>\n",
       "      <td>47235.472857</td>\n",
       "      <td>4.904762</td>\n",
       "      <td>0.143803</td>\n",
       "      <td>1235.809524</td>\n",
       "      <td>283.976190</td>\n",
       "    </tr>\n",
       "    <tr>\n",
       "      <th>6</th>\n",
       "      <td>6</td>\n",
       "      <td>53</td>\n",
       "      <td>1.911287</td>\n",
       "      <td>9410.917736</td>\n",
       "      <td>105.641509</td>\n",
       "      <td>0.045841</td>\n",
       "      <td>78.339623</td>\n",
       "      <td>935.433962</td>\n",
       "    </tr>\n",
       "    <tr>\n",
       "      <th>7</th>\n",
       "      <td>7</td>\n",
       "      <td>207</td>\n",
       "      <td>7.464840</td>\n",
       "      <td>6623.161691</td>\n",
       "      <td>14.816425</td>\n",
       "      <td>0.044638</td>\n",
       "      <td>388.086957</td>\n",
       "      <td>46.685990</td>\n",
       "    </tr>\n",
       "  </tbody>\n",
       "</table>\n",
       "</div>"
      ],
      "text/plain": [
       "   labels  customer_id  perc_customer      monetary     recency  frequency  \\\n",
       "0       0          612      22.069960   2834.181830    9.810458   0.041834   \n",
       "1       1          152       5.481428   1421.115329  114.861842   0.117163   \n",
       "2       2         1083      39.055175   1395.067295   33.306556   0.021256   \n",
       "3       3          601      21.673278    903.075408  142.489185   0.027789   \n",
       "4       4           23       0.829427   1370.011739  132.217391   1.609231   \n",
       "5       5           42       1.514605  47235.472857    4.904762   0.143803   \n",
       "6       6           53       1.911287   9410.917736  105.641509   0.045841   \n",
       "7       7          207       7.464840   6623.161691   14.816425   0.044638   \n",
       "\n",
       "   quantity_products     returns  \n",
       "0         167.130719    5.697712  \n",
       "1         125.092105    1.348684  \n",
       "2          71.188366    3.432133  \n",
       "3          39.216306    2.349418  \n",
       "4          67.434783    5.173913  \n",
       "5        1235.809524  283.976190  \n",
       "6          78.339623  935.433962  \n",
       "7         388.086957   46.685990  "
      ]
     },
     "execution_count": 100,
     "metadata": {},
     "output_type": "execute_result"
    }
   ],
   "source": [
    "# Number of customers\n",
    "df_cluster = df92[['customer_id', 'labels']].groupby('labels').count().reset_index()\n",
    "df_cluster['perc_customer'] = (df_cluster['customer_id']/df_cluster['customer_id'].sum())*100\n",
    "\n",
    "\n",
    "# Avg Monetary\n",
    "df_avg_monetary = df92[['monetary','labels']].groupby('labels').mean().reset_index()\n",
    "df_cluster = pd.merge(df_cluster, df_avg_monetary, how='inner', on = 'labels')\n",
    "\n",
    "\n",
    "# Avg  Recency \n",
    "df_avg_recency = df92[['recency','labels']].groupby('labels').mean().reset_index()\n",
    "df_cluster = pd.merge(df_cluster, df_avg_recency, how='inner', on = 'labels')\n",
    "\n",
    "\n",
    "# Avg Frequency\n",
    "df_avg_frequency = df92[['frequency','labels']].groupby('labels').mean().reset_index()\n",
    "df_cluster = pd.merge(df_cluster, df_avg_frequency, how='inner', on = 'labels')\n",
    "\n",
    "\n",
    "# Quantity products\n",
    "df_quantity_products = df92[['quantity_products','labels']].groupby('labels').mean().reset_index()\n",
    "df_cluster = pd.merge(df_cluster, df_quantity_products, how='inner', on = 'labels')\n",
    "\n",
    "\n",
    "# Returns\n",
    "df_returns = df92[['returns','labels']].groupby('labels').mean().reset_index()\n",
    "df_cluster = pd.merge(df_cluster, df_returns, how='inner', on = 'labels')\n",
    "\n",
    "# Avg Ticket\n",
    "# df_avg_ticket = df_aux[['labels','avg_ticket']].groupby('labels').mean().reset_index()\n",
    "# df_cluster = pd.merge(df_cluster,df_avg_ticket,how ='inner', on='labels')\n",
    "\n",
    "# Avg Basket\n",
    "# df_avg_basket = df_aux[['labels','avg_basket']].groupby('labels').mean().reset_index()\n",
    "# df_cluster = pd.merge(df_cluster,df_avg_basket,how ='inner', on='labels')\n",
    "\n",
    "df_cluster"
   ]
  },
  {
   "cell_type": "markdown",
   "id": "6b7d1dfb",
   "metadata": {},
   "source": [
    "### Cluster Profile "
   ]
  },
  {
   "cell_type": "code",
   "execution_count": 101,
   "id": "d7af7b20",
   "metadata": {
    "ExecuteTime": {
     "end_time": "2023-02-24T14:19:13.484105Z",
     "start_time": "2023-02-24T14:19:13.472634Z"
    },
    "scrolled": true
   },
   "outputs": [
    {
     "data": {
      "text/html": [
       "<div>\n",
       "<style scoped>\n",
       "    .dataframe tbody tr th:only-of-type {\n",
       "        vertical-align: middle;\n",
       "    }\n",
       "\n",
       "    .dataframe tbody tr th {\n",
       "        vertical-align: top;\n",
       "    }\n",
       "\n",
       "    .dataframe thead th {\n",
       "        text-align: right;\n",
       "    }\n",
       "</style>\n",
       "<table border=\"1\" class=\"dataframe\">\n",
       "  <thead>\n",
       "    <tr style=\"text-align: right;\">\n",
       "      <th></th>\n",
       "      <th>labels</th>\n",
       "      <th>customer_id</th>\n",
       "      <th>perc_customer</th>\n",
       "      <th>monetary</th>\n",
       "      <th>recency</th>\n",
       "      <th>frequency</th>\n",
       "      <th>quantity_products</th>\n",
       "      <th>returns</th>\n",
       "    </tr>\n",
       "  </thead>\n",
       "  <tbody>\n",
       "    <tr>\n",
       "      <th>0</th>\n",
       "      <td>0</td>\n",
       "      <td>612</td>\n",
       "      <td>22.069960</td>\n",
       "      <td>2834.181830</td>\n",
       "      <td>9.810458</td>\n",
       "      <td>0.041834</td>\n",
       "      <td>167.130719</td>\n",
       "      <td>5.697712</td>\n",
       "    </tr>\n",
       "    <tr>\n",
       "      <th>1</th>\n",
       "      <td>1</td>\n",
       "      <td>152</td>\n",
       "      <td>5.481428</td>\n",
       "      <td>1421.115329</td>\n",
       "      <td>114.861842</td>\n",
       "      <td>0.117163</td>\n",
       "      <td>125.092105</td>\n",
       "      <td>1.348684</td>\n",
       "    </tr>\n",
       "    <tr>\n",
       "      <th>2</th>\n",
       "      <td>2</td>\n",
       "      <td>1083</td>\n",
       "      <td>39.055175</td>\n",
       "      <td>1395.067295</td>\n",
       "      <td>33.306556</td>\n",
       "      <td>0.021256</td>\n",
       "      <td>71.188366</td>\n",
       "      <td>3.432133</td>\n",
       "    </tr>\n",
       "    <tr>\n",
       "      <th>3</th>\n",
       "      <td>3</td>\n",
       "      <td>601</td>\n",
       "      <td>21.673278</td>\n",
       "      <td>903.075408</td>\n",
       "      <td>142.489185</td>\n",
       "      <td>0.027789</td>\n",
       "      <td>39.216306</td>\n",
       "      <td>2.349418</td>\n",
       "    </tr>\n",
       "    <tr>\n",
       "      <th>4</th>\n",
       "      <td>4</td>\n",
       "      <td>23</td>\n",
       "      <td>0.829427</td>\n",
       "      <td>1370.011739</td>\n",
       "      <td>132.217391</td>\n",
       "      <td>1.609231</td>\n",
       "      <td>67.434783</td>\n",
       "      <td>5.173913</td>\n",
       "    </tr>\n",
       "    <tr>\n",
       "      <th>5</th>\n",
       "      <td>5</td>\n",
       "      <td>42</td>\n",
       "      <td>1.514605</td>\n",
       "      <td>47235.472857</td>\n",
       "      <td>4.904762</td>\n",
       "      <td>0.143803</td>\n",
       "      <td>1235.809524</td>\n",
       "      <td>283.976190</td>\n",
       "    </tr>\n",
       "    <tr>\n",
       "      <th>6</th>\n",
       "      <td>6</td>\n",
       "      <td>53</td>\n",
       "      <td>1.911287</td>\n",
       "      <td>9410.917736</td>\n",
       "      <td>105.641509</td>\n",
       "      <td>0.045841</td>\n",
       "      <td>78.339623</td>\n",
       "      <td>935.433962</td>\n",
       "    </tr>\n",
       "    <tr>\n",
       "      <th>7</th>\n",
       "      <td>7</td>\n",
       "      <td>207</td>\n",
       "      <td>7.464840</td>\n",
       "      <td>6623.161691</td>\n",
       "      <td>14.816425</td>\n",
       "      <td>0.044638</td>\n",
       "      <td>388.086957</td>\n",
       "      <td>46.685990</td>\n",
       "    </tr>\n",
       "  </tbody>\n",
       "</table>\n",
       "</div>"
      ],
      "text/plain": [
       "   labels  customer_id  perc_customer      monetary     recency  frequency  \\\n",
       "0       0          612      22.069960   2834.181830    9.810458   0.041834   \n",
       "1       1          152       5.481428   1421.115329  114.861842   0.117163   \n",
       "2       2         1083      39.055175   1395.067295   33.306556   0.021256   \n",
       "3       3          601      21.673278    903.075408  142.489185   0.027789   \n",
       "4       4           23       0.829427   1370.011739  132.217391   1.609231   \n",
       "5       5           42       1.514605  47235.472857    4.904762   0.143803   \n",
       "6       6           53       1.911287   9410.917736  105.641509   0.045841   \n",
       "7       7          207       7.464840   6623.161691   14.816425   0.044638   \n",
       "\n",
       "   quantity_products     returns  \n",
       "0         167.130719    5.697712  \n",
       "1         125.092105    1.348684  \n",
       "2          71.188366    3.432133  \n",
       "3          39.216306    2.349418  \n",
       "4          67.434783    5.173913  \n",
       "5        1235.809524  283.976190  \n",
       "6          78.339623  935.433962  \n",
       "7         388.086957   46.685990  "
      ]
     },
     "execution_count": 101,
     "metadata": {},
     "output_type": "execute_result"
    }
   ],
   "source": [
    "df_cluster"
   ]
  },
  {
   "cell_type": "code",
   "execution_count": 102,
   "id": "40d5d351",
   "metadata": {
    "ExecuteTime": {
     "end_time": "2023-02-24T14:19:14.727097Z",
     "start_time": "2023-02-24T14:19:14.415297Z"
    }
   },
   "outputs": [],
   "source": [
    "# Cluster Insider\n",
    "# Cluster \n",
    "# Cluster\n",
    "# Cluster\n",
    "# Cluster\n",
    "# Cluster\n",
    "# Cluster\n",
    "# Cluster"
   ]
  },
  {
   "cell_type": "markdown",
   "id": "5fa1372a",
   "metadata": {},
   "source": [
    "**Cluster 5 - Candidato a INSIDERS**\n",
    "- Numero de customers: 355 (12.80%)\n",
    "- Faturamento medio: $ 11,098\n",
    "- Recencia media: 18 dias\n",
    "- Media de produto: 485 produtos por compra\n",
    "- Frequencia de compras por mes: 0.11 compras/dia\n",
    "    \n",
    "**Cluster 1 - ...**"
   ]
  },
  {
   "cell_type": "markdown",
   "id": "2c38a877",
   "metadata": {},
   "source": [
    "# <span style=\"color: OrangeRed;\">DEPLOY TO PRODUCTION </span>\n",
    "<span style=\"color: OrangeRed;\">***PASSO 11***</span>"
   ]
  },
  {
   "cell_type": "code",
   "execution_count": 103,
   "id": "318f1908",
   "metadata": {
    "ExecuteTime": {
     "end_time": "2023-02-24T14:19:16.524924Z",
     "start_time": "2023-02-24T14:19:16.519128Z"
    }
   },
   "outputs": [
    {
     "data": {
      "text/plain": [
       "customer_id            int64\n",
       "monetary             float64\n",
       "recency                int64\n",
       "frequency            float64\n",
       "quantity_products      int64\n",
       "returns                int64\n",
       "labels                 int64\n",
       "dtype: object"
      ]
     },
     "execution_count": 103,
     "metadata": {},
     "output_type": "execute_result"
    }
   ],
   "source": [
    "df92.dtypes"
   ]
  },
  {
   "cell_type": "markdown",
   "id": "aeed9017",
   "metadata": {},
   "source": [
    "## Insert into SQLITE"
   ]
  },
  {
   "cell_type": "code",
   "execution_count": 130,
   "id": "a79cd0b7",
   "metadata": {
    "ExecuteTime": {
     "end_time": "2023-02-24T15:23:40.340189Z",
     "start_time": "2023-02-24T15:23:40.337652Z"
    }
   },
   "outputs": [],
   "source": [
    "import sqlite3\n",
    "from sqlalchemy import create_engine"
   ]
  },
  {
   "cell_type": "code",
   "execution_count": 123,
   "id": "c7bed8b6",
   "metadata": {
    "ExecuteTime": {
     "end_time": "2023-02-24T14:55:55.506993Z",
     "start_time": "2023-02-24T14:55:55.502050Z"
    }
   },
   "outputs": [
    {
     "data": {
      "text/plain": [
       "<function sqlalchemy.sql._elements_constructors.text(text: 'str') -> 'TextClause'>"
      ]
     },
     "execution_count": 123,
     "metadata": {},
     "output_type": "execute_result"
    }
   ],
   "source": [
    "text"
   ]
  },
  {
   "cell_type": "code",
   "execution_count": 106,
   "id": "6ee33795",
   "metadata": {
    "ExecuteTime": {
     "end_time": "2023-02-24T14:27:27.922481Z",
     "start_time": "2023-02-24T14:27:27.919280Z"
    }
   },
   "outputs": [],
   "source": [
    "# query to create table\n",
    "query_create_table_insiders = \"\"\"\n",
    "    CREATE TABLE insiders (\n",
    "       customer_id            INTEGER,\n",
    "       monetary               REAL,\n",
    "       recency                INTEGER,\n",
    "       frequency              REAL,\n",
    "       quantity_products      INTEGER,\n",
    "       returns                INTEGER,\n",
    "       labels                 INTEGER \n",
    "    )\n",
    "\"\"\"\n",
    "\n",
    "conn = sqlite3.connect ('/home/daniel/repos/ds_em_clusterizacao/pa005_insiders_clustering/src/data/insiders_db.sqlite')\n",
    "\n",
    "conn.execute(query_create_table_insiders)\n",
    "\n",
    "conn.commit()\n",
    "\n",
    "conn.close()"
   ]
  },
  {
   "cell_type": "code",
   "execution_count": 115,
   "id": "932f6017",
   "metadata": {
    "ExecuteTime": {
     "end_time": "2023-02-24T14:40:41.262489Z",
     "start_time": "2023-02-24T14:40:40.875298Z"
    }
   },
   "outputs": [
    {
     "data": {
      "text/plain": [
       "2773"
      ]
     },
     "execution_count": 115,
     "metadata": {},
     "output_type": "execute_result"
    }
   ],
   "source": [
    "# insert data\n",
    "conn = create_engine('sqlite:///../src/data/insiders_db.sqlite')\n",
    "df92.to_sql('insiders', con = conn, if_exists = 'append', index=False)\n"
   ]
  },
  {
   "cell_type": "code",
   "execution_count": 129,
   "id": "d36f3f5d",
   "metadata": {
    "ExecuteTime": {
     "end_time": "2023-02-24T15:23:33.223100Z",
     "start_time": "2023-02-24T15:23:33.198714Z"
    }
   },
   "outputs": [
    {
     "data": {
      "text/html": [
       "<div>\n",
       "<style scoped>\n",
       "    .dataframe tbody tr th:only-of-type {\n",
       "        vertical-align: middle;\n",
       "    }\n",
       "\n",
       "    .dataframe tbody tr th {\n",
       "        vertical-align: top;\n",
       "    }\n",
       "\n",
       "    .dataframe thead th {\n",
       "        text-align: right;\n",
       "    }\n",
       "</style>\n",
       "<table border=\"1\" class=\"dataframe\">\n",
       "  <thead>\n",
       "    <tr style=\"text-align: right;\">\n",
       "      <th></th>\n",
       "      <th>customer_id</th>\n",
       "      <th>monetary</th>\n",
       "      <th>recency</th>\n",
       "      <th>frequency</th>\n",
       "      <th>quantity_products</th>\n",
       "      <th>returns</th>\n",
       "      <th>labels</th>\n",
       "    </tr>\n",
       "  </thead>\n",
       "  <tbody>\n",
       "    <tr>\n",
       "      <th>0</th>\n",
       "      <td>17850</td>\n",
       "      <td>5391.21</td>\n",
       "      <td>372</td>\n",
       "      <td>17.000000</td>\n",
       "      <td>297</td>\n",
       "      <td>21</td>\n",
       "      <td>4</td>\n",
       "    </tr>\n",
       "    <tr>\n",
       "      <th>1</th>\n",
       "      <td>13047</td>\n",
       "      <td>3232.59</td>\n",
       "      <td>56</td>\n",
       "      <td>0.028302</td>\n",
       "      <td>171</td>\n",
       "      <td>6</td>\n",
       "      <td>2</td>\n",
       "    </tr>\n",
       "    <tr>\n",
       "      <th>2</th>\n",
       "      <td>12583</td>\n",
       "      <td>6705.38</td>\n",
       "      <td>2</td>\n",
       "      <td>0.040323</td>\n",
       "      <td>232</td>\n",
       "      <td>50</td>\n",
       "      <td>7</td>\n",
       "    </tr>\n",
       "    <tr>\n",
       "      <th>3</th>\n",
       "      <td>13748</td>\n",
       "      <td>948.25</td>\n",
       "      <td>95</td>\n",
       "      <td>0.017921</td>\n",
       "      <td>28</td>\n",
       "      <td>0</td>\n",
       "      <td>3</td>\n",
       "    </tr>\n",
       "    <tr>\n",
       "      <th>4</th>\n",
       "      <td>15100</td>\n",
       "      <td>876.00</td>\n",
       "      <td>333</td>\n",
       "      <td>0.073171</td>\n",
       "      <td>3</td>\n",
       "      <td>22</td>\n",
       "      <td>3</td>\n",
       "    </tr>\n",
       "  </tbody>\n",
       "</table>\n",
       "</div>"
      ],
      "text/plain": [
       "   customer_id  monetary  recency  frequency  quantity_products  returns  \\\n",
       "0        17850   5391.21      372  17.000000                297       21   \n",
       "1        13047   3232.59       56   0.028302                171        6   \n",
       "2        12583   6705.38        2   0.040323                232       50   \n",
       "3        13748    948.25       95   0.017921                 28        0   \n",
       "4        15100    876.00      333   0.073171                  3       22   \n",
       "\n",
       "   labels  \n",
       "0       4  \n",
       "1       2  \n",
       "2       7  \n",
       "3       3  \n",
       "4       3  "
      ]
     },
     "execution_count": 129,
     "metadata": {},
     "output_type": "execute_result"
    }
   ],
   "source": [
    "# consulting database\n",
    "query = \"\"\"\n",
    "    SELECT * FROM insiders\n",
    "\"\"\"\n",
    "\n",
    "conn = sqlite3.connect ('/home/daniel/repos/ds_em_clusterizacao/pa005_insiders_clustering/src/data/insiders_db.sqlite')\n",
    "\n",
    "df = pd.read_sql_query(query, con = conn)\n",
    "\n",
    "df.head()"
   ]
  }
 ],
 "metadata": {
  "hide_input": false,
  "kernelspec": {
   "display_name": "Python 3 (ipykernel)",
   "language": "python",
   "name": "python3"
  },
  "language_info": {
   "codemirror_mode": {
    "name": "ipython",
    "version": 3
   },
   "file_extension": ".py",
   "mimetype": "text/x-python",
   "name": "python",
   "nbconvert_exporter": "python",
   "pygments_lexer": "ipython3",
   "version": "3.10.8"
  },
  "toc": {
   "base_numbering": 1,
   "nav_menu": {},
   "number_sections": true,
   "sideBar": true,
   "skip_h1_title": false,
   "title_cell": "Table of Contents",
   "title_sidebar": "Contents",
   "toc_cell": false,
   "toc_position": {
    "height": "calc(100% - 180px)",
    "left": "10px",
    "top": "150px",
    "width": "303.542px"
   },
   "toc_section_display": true,
   "toc_window_display": false
  },
  "varInspector": {
   "cols": {
    "lenName": 16,
    "lenType": 16,
    "lenVar": 40
   },
   "kernels_config": {
    "python": {
     "delete_cmd_postfix": "",
     "delete_cmd_prefix": "del ",
     "library": "var_list.py",
     "varRefreshCmd": "print(var_dic_list())"
    },
    "r": {
     "delete_cmd_postfix": ") ",
     "delete_cmd_prefix": "rm(",
     "library": "var_list.r",
     "varRefreshCmd": "cat(var_dic_list()) "
    }
   },
   "types_to_exclude": [
    "module",
    "function",
    "builtin_function_or_method",
    "instance",
    "_Feature"
   ],
   "window_display": false
  }
 },
 "nbformat": 4,
 "nbformat_minor": 5
}
