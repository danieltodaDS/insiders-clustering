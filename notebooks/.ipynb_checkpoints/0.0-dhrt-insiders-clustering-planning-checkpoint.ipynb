{
 "cells": [
  {
   "cell_type": "markdown",
   "id": "1e0d345c",
   "metadata": {},
   "source": [
    "# PA005: High Value Customers Identification (Insiders)"
   ]
  },
  {
   "cell_type": "markdown",
   "id": "92f56563",
   "metadata": {
    "ExecuteTime": {
     "end_time": "2023-02-02T16:39:56.100250Z",
     "start_time": "2023-02-02T16:39:56.095934Z"
    }
   },
   "source": [
    "## Planejamento da solucao (IOT) \n"
   ]
  },
  {
   "cell_type": "markdown",
   "id": "1e008e46",
   "metadata": {},
   "source": [
    "### Input"
   ]
  },
  {
   "cell_type": "markdown",
   "id": "b4b374ef",
   "metadata": {},
   "source": [
    "1. Problema de negocio\n",
    "    - Selecionar os clientes mais valiosos para integrar programa de fidelizacao \n",
    "    \n",
    "    \n",
    "2. Conjunto de dados\n",
    "    - Vendas de um e-commerce online, durante o periodo de um ano"
   ]
  },
  {
   "cell_type": "markdown",
   "id": "4731ade6",
   "metadata": {},
   "source": [
    "### Output"
   ]
  },
  {
   "cell_type": "markdown",
   "id": "34b7cb2c",
   "metadata": {
    "ExecuteTime": {
     "end_time": "2023-02-02T16:45:01.221100Z",
     "start_time": "2023-02-02T16:45:01.176296Z"
    }
   },
   "source": [
    "1. Indicação dos clientes que farao parte dos Insiders\n",
    "    - Lista: \n",
    "             |client ID |is_insider |\n",
    "             |1203      | yes       |\n",
    "             |...       |...        |\n",
    "             \n",
    "            \n",
    "2. Relatorio com as perguntas de negocio\n",
    "    - Quem sao as pessoas elegiveis para participar do programa?\n",
    "    - Quantos clientes farao parte do grupo?\n",
    "    - Quais as principais caracteristicas desses clientes?\n",
    "    - Qual a porcentagem de contribuicao do faturamento vinda dos insiders?\n",
    "    - Qual a expectativa de faturamento desse grupo para os proximos meses?\n",
    "    - Quais as condicoes para uma pessoa ser elegivel ao Insiders?\n",
    "    - Quais as condicoes para uma pessoa ser removida do Insiders?\n",
    "    - Qual a garantia que o programa Insiders é melhor que o restante da base?\n",
    "    - Quais ações o time de marketing pode realizar para aumentar o faturamento? \n"
   ]
  },
  {
   "cell_type": "markdown",
   "id": "e971e8ee",
   "metadata": {},
   "source": [
    "### Tasks"
   ]
  },
  {
   "cell_type": "markdown",
   "id": "3980d329",
   "metadata": {
    "ExecuteTime": {
     "end_time": "2023-02-02T16:49:55.797941Z",
     "start_time": "2023-02-02T16:49:55.782231Z"
    }
   },
   "source": [
    "1.  Quem sao as pessoas elegiveis para participar do programa?\n",
    "    - o que é ser elegivel? o que sao clientes de maior valor? \n",
    "    - Faturamento:\n",
    "        - Alto ticket medio\n",
    "        - Alto LTV\n",
    "        - Baixa Recencia\n",
    "        - Alto basket size\n",
    "        - Baixa probabilidade de churn\n",
    "        - Alta previsao LTV\n",
    "        - Alta propensao de compra\n",
    "        \n",
    "    - Custo:\n",
    "        - Baixa taxa de devolucao \n",
    "    \n",
    "    - Baixa taxa de devolucao\n",
    "        - Media das avaliações\n",
    "        \n",
    "        \n",
    "2.  Quantos clientes farao parte do grupo?\n",
    "    - % do nro total de clientes farão parte do insiders \n",
    "    \n",
    "    \n",
    "3.  Quais as principais caracteristicas desses clientes?\n",
    "    - Escrever caracteristicas do cliente:\n",
    "        - Idade\n",
    "        - Localizacao\n",
    "    \n",
    "    - Escrever caracteristicas do consumo:\n",
    "        - Atributos da clusterizacao\n",
    "        \n",
    "        \n",
    "        \n",
    "4.  Qual a porcentagem de contribuicao do faturamento vinda dos insiders?\n",
    "    - Faturamento total da emprea\n",
    "    - Faturamento do grupo Insiders\n",
    "    \n",
    "\n",
    "5.  Qual a expectativa de faturamento desse grupo para os proximos meses?\n",
    "    - LTV do grupo Insiders\n",
    "    - Analise de cohort\n",
    "    \n",
    "    \n",
    "6.  Quais as condicoes para uma pessoa ser elegivel ao Insiders?\n",
    "    - Definir a periodicidade que o modelo sera atualizado \n",
    "    - Para ser elegivel a pessoa precisa parecer com uma pessoa do grupo de Insiders\n",
    "    \n",
    "    \n",
    "7.  Quais as condicoes para uma pessoa ser removida do Insiders?\n",
    "    - Definir a periodicidade que o modelo sera atualizado  \n",
    "    - Para deixar de ser elegivel a pessoa deve deixar de ser parecida com o grupo dos Insiders\n",
    "    \n",
    "    \n",
    "8.  Qual a garantia que o programa Insiders é melhor que o restante da base?\n",
    "    - Teste A/B\n",
    "    - Teste A/B Bayesiano\n",
    "    - Teste de hipotese\n",
    "\n",
    "\n",
    "9.  Quais ações o time de marketing pode realizar para aumentar o faturamento? \n",
    "    - Desconto\n",
    "    - preferencia de compra\n",
    "    - frete\n",
    "    - visita a empresa\n"
   ]
  },
  {
   "cell_type": "markdown",
   "id": "e4450362",
   "metadata": {
    "ExecuteTime": {
     "end_time": "2023-02-02T17:19:46.068964Z",
     "start_time": "2023-02-02T17:19:46.063370Z"
    }
   },
   "source": [
    "## Benchmark de solucoes"
   ]
  },
  {
   "cell_type": "markdown",
   "id": "5f194fbc",
   "metadata": {
    "ExecuteTime": {
     "end_time": "2023-02-02T17:20:26.231321Z",
     "start_time": "2023-02-02T17:20:26.228693Z"
    }
   },
   "source": [
    "### Desk research"
   ]
  },
  {
   "cell_type": "markdown",
   "id": "c68a4e62",
   "metadata": {},
   "source": [
    "- Modelo RFM"
   ]
  },
  {
   "cell_type": "code",
   "execution_count": null,
   "id": "d1ecc755",
   "metadata": {},
   "outputs": [],
   "source": []
  },
  {
   "cell_type": "code",
   "execution_count": null,
   "id": "81853b53",
   "metadata": {},
   "outputs": [],
   "source": []
  },
  {
   "cell_type": "code",
   "execution_count": null,
   "id": "2e20842d",
   "metadata": {},
   "outputs": [],
   "source": []
  }
 ],
 "metadata": {
  "hide_input": false,
  "kernelspec": {
   "display_name": "Python [conda env:ds_em_clusterizacao] *",
   "language": "python",
   "name": "conda-env-ds_em_clusterizacao-py"
  },
  "language_info": {
   "codemirror_mode": {
    "name": "ipython",
    "version": 3
   },
   "file_extension": ".py",
   "mimetype": "text/x-python",
   "name": "python",
   "nbconvert_exporter": "python",
   "pygments_lexer": "ipython3",
   "version": "3.11.0"
  },
  "toc": {
   "base_numbering": 1,
   "nav_menu": {},
   "number_sections": true,
   "sideBar": true,
   "skip_h1_title": false,
   "title_cell": "Table of Contents",
   "title_sidebar": "Contents",
   "toc_cell": false,
   "toc_position": {},
   "toc_section_display": true,
   "toc_window_display": false
  },
  "varInspector": {
   "cols": {
    "lenName": 16,
    "lenType": 16,
    "lenVar": 40
   },
   "kernels_config": {
    "python": {
     "delete_cmd_postfix": "",
     "delete_cmd_prefix": "del ",
     "library": "var_list.py",
     "varRefreshCmd": "print(var_dic_list())"
    },
    "r": {
     "delete_cmd_postfix": ") ",
     "delete_cmd_prefix": "rm(",
     "library": "var_list.r",
     "varRefreshCmd": "cat(var_dic_list()) "
    }
   },
   "types_to_exclude": [
    "module",
    "function",
    "builtin_function_or_method",
    "instance",
    "_Feature"
   ],
   "window_display": false
  }
 },
 "nbformat": 4,
 "nbformat_minor": 5
}
